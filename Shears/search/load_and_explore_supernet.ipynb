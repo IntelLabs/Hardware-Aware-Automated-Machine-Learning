{
 "cells": [
  {
   "cell_type": "markdown",
   "source": [
    "<h1 style=\"font-size: 22px; line-height: 100%; text-align: center; background-color: rgb(36, 24, 142); color: white; border: 4px solid rgb(36, 24, 142); border-radius: 10px;\">\n",
    "Sub-network Exploration with BootstrapNAS\n",
    "</h1>\n",
    "\n",
    "This notebook demonstrates how to load the Shears super-network and extract particular subnetworks so that users can apply their own search solutions to find high-performing subnetworks. We will use an existing super-network from our released models - [shears-llama-7b-50-math-super](https://huggingface.co/IntelLabs/shears-llama-7b-50-math-super)."
   ],
   "metadata": {
    "collapsed": false,
    "pycharm": {
     "name": "#%% md\n"
    }
   }
  },
  {
   "cell_type": "markdown",
   "source": [
    "<h3 style=\"text-align: center; background-color: rgb(36, 24, 142); color: white; border: 4px solid rgb(36, 24, 142);\n",
    "border-radius: 25px;\">Imports and Settings\n",
    "</h3>"
   ],
   "metadata": {
    "collapsed": false,
    "pycharm": {
     "name": "#%% md\n"
    }
   }
  },
  {
   "cell_type": "code",
   "execution_count": null,
   "metadata": {
    "pycharm": {
     "name": "#%%\n",
     "is_executing": true
    }
   },
   "outputs": [],
   "source": [
    "import os\n",
    "import torch\n",
    "from peft import PeftModel\n",
    "from search.supernet import ShearsSuperNet\n",
    "from transformers import AutoModelForCausalLM\n",
    "\n",
    "from nncf import NNCFConfig\n",
    "from nncf.experimental.torch.nas.bootstrapNAS.elasticity.elasticity_dim import ElasticityDim\n",
    "from nncf.experimental.torch.nas.bootstrapNAS.elasticity.multi_elasticity_handler import SubnetConfig\n",
    "\n",
    "device = torch.device(\"cuda\" if torch.cuda.is_available() else \"cpu\")\n",
    "print(f\"Using {device} device\")\n",
    "\n",
    "SHEARS_PATH = \"./shears-llama-7b-50-math-super\"\n",
    "BASE_MODEL_PATH = f\"{SHEARS_PATH}/base_model\"\n",
    "ADAPTER_MODEL_PATH = f\"{SHEARS_PATH}/adapter_model\"\n",
    "NNCF_CONFIG = \"../nncf_config/unified_math/nncf_shears_llama_7b_sparsity50.json\"\n"
   ]
  },
  {
   "cell_type": "markdown",
   "source": [
    "<h3 style=\"text-align: center; background-color: rgb(36, 24, 142); color: white; border: 4px solid rgb(36, 24, 142);\n",
    "border-radius: 25px;\">Loading an existing super-network\n",
    "</h3>"
   ],
   "metadata": {
    "collapsed": false,
    "pycharm": {
     "name": "#%% md\n"
    }
   }
  },
  {
   "cell_type": "code",
   "execution_count": null,
   "metadata": {
    "pycharm": {
     "name": "#%%\n"
    }
   },
   "outputs": [],
   "source": [
    "base_model = AutoModelForCausalLM.from_pretrained(BASE_MODEL_PATH,trust_remote_code=True)\n",
    "model = PeftModel.from_pretrained(base_model, ADAPTER_MODEL_PATH)\n",
    "nncf_config = NNCFConfig.from_json(NNCF_CONFIG)\n",
    "supernet = ShearsSuperNet.from_checkpoint(model, nncf_config, supernet_elasticity_path=None, supernet_weights_path=None)"
   ]
  },
  {
   "cell_type": "markdown",
   "metadata": {
    "pycharm": {
     "name": "#%% md\n"
    }
   },
   "source": [
    "<h3 style=\"text-align: center; background-color: rgb(36, 24, 142); color: white; border: 4px solid rgb(36, 24, 142);\n",
    "border-radius: 25px;\">Explore the Search Space\n",
    "</h3>\n",
    "\n"
   ]
  },
  {
   "cell_type": "code",
   "execution_count": null,
   "metadata": {
    "pycharm": {
     "name": "#%%\n"
    }
   },
   "outputs": [],
   "source": [
    "supernet.get_search_space()"
   ]
  },
  {
   "cell_type": "markdown",
   "source": [
    "<h3 style=\"text-align: center; background-color: rgb(36, 24, 142); color: white; border: 4px solid rgb(36, 24, 142);\n",
    "border-radius: 25px;\">Sample sub-networks\n",
    "</h3>"
   ],
   "metadata": {
    "collapsed": false,
    "pycharm": {
     "name": "#%% md\n"
    }
   }
  },
  {
   "cell_type": "code",
   "execution_count": null,
   "metadata": {
    "pycharm": {
     "name": "#%%\n"
    }
   },
   "outputs": [],
   "source": [
    "# maximal subnetwork\n",
    "supernet.activate_maximal_subnet()\n",
    "supernet.get_active_config()\n",
    "supernet.get_macs_for_active_config()"
   ]
  },
  {
   "cell_type": "code",
   "execution_count": null,
   "metadata": {
    "pycharm": {
     "name": "#%%\n"
    }
   },
   "outputs": [],
   "source": [
    "# heuristic subnetwork\n",
    "supernet.activate_heuristic_subnet()\n",
    "supernet.get_active_config()\n",
    "supernet.get_macs_for_active_config()"
   ]
  },
  {
   "cell_type": "code",
   "execution_count": null,
   "metadata": {
    "pycharm": {
     "name": "#%%\n"
    }
   },
   "outputs": [],
   "source": [
    "# minimal subnetwork\n",
    "supernet.activate_minimal_subnet()\n",
    "supernet.get_active_config()\n",
    "supernet.get_macs_for_active_config()"
   ]
  },
  {
   "cell_type": "code",
   "execution_count": null,
   "metadata": {
    "pycharm": {
     "name": "#%%\n"
    }
   },
   "outputs": [],
   "source": [
    "# random subnetwork\n",
    "import random\n",
    "subnet_config = SubnetConfig()\n",
    "search_space = supernet.get_search_space()\n",
    "subnet_config[ElasticityDim.WIDTH] = {i: random.choice(space) for i, space in search_space[ElasticityDim.WIDTH.value].items()}\n",
    "\n",
    "supernet.activate_config(subnet_config)\n",
    "supernet.get_active_config()\n",
    "supernet.get_macs_for_active_config()\n",
    "\n",
    "# extract and save the active sub-adapter\n",
    "supernet.extract_and_save_active_sub_adapter(super_adapter_dir=ADAPTER_MODEL_PATH, sub_adapter_dir=os.path.join(ADAPTER_MODEL_PATH, \"sub_adapter\"))\n"
   ]
  }
 ],
 "metadata": {
  "kernelspec": {
   "display_name": "pytorch2_0",
   "language": "python",
   "name": "pytorch2_0"
  },
  "language_info": {
   "codemirror_mode": {
    "name": "ipython",
    "version": 3
   },
   "file_extension": ".py",
   "mimetype": "text/x-python",
   "name": "python",
   "nbconvert_exporter": "python",
   "pygments_lexer": "ipython3",
   "version": "3.11.4"
  }
 },
 "nbformat": 4,
 "nbformat_minor": 1
}