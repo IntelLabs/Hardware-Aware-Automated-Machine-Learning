{
 "cells": [
  {
   "attachments": {},
   "cell_type": "markdown",
   "metadata": {
    "pycharm": {
     "name": "#%%\n"
    }
   },
   "source": [
    "<h1 style=\"font-size: 22px; line-height: 100%; text-align: center; background-color: rgb(36, 24, 142); color: white; border: 4px solid rgb(36, 24, 142); border-radius: 10px;\">\n",
    "External Sub-network Search with BootstrapNAS and DyNAS-T\n",
    "</h1>\n",
    "\n",
    "This notebook demonstrates how to use an external search solution to find high-performing subnetworks in NNCF's [BootstrapNAS](https://github.com/openvinotoolkit/nncf/tree/develop/examples/experimental/torch/classification). We will use an existing super-network generated from ResNet-50.  "
   ]
  },
  {
   "attachments": {},
   "cell_type": "markdown",
   "metadata": {
    "pycharm": {
     "name": "#%% md\n"
    }
   },
   "source": [
    "<h3 style=\"text-align: center; background-color: rgb(36, 24, 142); color: white; border: 4px solid rgb(36, 24, 142);\n",
    "border-radius: 25px;\">Imports and Settings\n",
    "</h3>"
   ]
  },
  {
   "cell_type": "code",
   "execution_count": 2,
   "metadata": {
    "pycharm": {
     "name": "#%%\n"
    }
   },
   "outputs": [
    {
     "name": "stdout",
     "output_type": "stream",
     "text": [
      "['/localdisk/maciej/code/dynast_bootstrapnas_integration/hardware_aware_automated_machine_learning/examples/bootstrapNAS/third_party_search', '/localdisk/maciej/miniconda3/envs/bnas_new/lib/python39.zip', '/localdisk/maciej/miniconda3/envs/bnas_new/lib/python3.9', '/localdisk/maciej/miniconda3/envs/bnas_new/lib/python3.9/lib-dynload', '', '/localdisk/maciej/miniconda3/envs/bnas_new/lib/python3.9/site-packages', '..', '/localdisk/maciej/code/dynast_bootstrapnas_integration/nncf/']\n",
      "Imported PyTorch and NNCF\n",
      "Using cuda device\n"
     ]
    }
   ],
   "source": [
    "import sys\n",
    "import os\n",
    "sys.path.append('..')\n",
    "sys.path.append('/localdisk/maciej/code/dynast_bootstrapnas_integration/nncf/')\n",
    "print(sys.path)\n",
    "\n",
    "from imports_bnas import * # Import NNCF, PyTorch and other required packages.\n",
    "import os\n",
    "from examples.common.sample_config import SampleConfig  # Have to append path to NNCF to this import to work.\n",
    "from nncf.experimental.torch.nas.bootstrapNAS.search.supernet import TrainedSuperNet\n",
    "from nncf.experimental.torch.nas.bootstrapNAS.elasticity.multi_elasticity_handler import SubnetConfig\n",
    "from nncf.experimental.torch.nas.bootstrapNAS.elasticity.elasticity_dim import ElasticityDim\n",
    "\n",
    "torch.manual_seed(0)\n",
    "device = torch.device(\"cuda\" if torch.cuda.is_available() else \"cpu\")\n",
    "print(f\"Using {device} device\")\n",
    "\n",
    "MODEL_DIR = Path(\"../../../models/supernets/cifar10/resnet50\")\n",
    "OUTPUT_DIR = Path(\"output\")\n",
    "DATA_DIR = Path(\"data\")\n",
    "BASE_MODEL_NAME = \"resnet-50\"\n",
    "\n",
    "fp32_pth_path, model_onnx_path, supernet_onnx_path, subnet_onnx_path = create_folders_demo(BASE_MODEL_NAME + '_external_search')\n"
   ]
  },
  {
   "attachments": {},
   "cell_type": "markdown",
   "metadata": {
    "pycharm": {
     "name": "#%% md\n"
    }
   },
   "source": [
    "<h3 style=\"text-align: center; background-color: rgb(36, 24, 142); color: white; border: 4px solid rgb(36, 24, 142);\n",
    "border-radius: 25px;\">Loading an existing super-network\n",
    "</h3>"
   ]
  },
  {
   "cell_type": "code",
   "execution_count": 3,
   "metadata": {
    "pycharm": {
     "name": "#%%\n"
    }
   },
   "outputs": [
    {
     "name": "stdout",
     "output_type": "stream",
     "text": [
      "../../../models/supernets/cifar10/resnet50\n"
     ]
    }
   ],
   "source": [
    "model = resnet50_cifar10()\n",
    "config = SampleConfig.from_json(os.path.join(MODEL_DIR, 'config.json'))\n",
    "config.device = device\n",
    "print(MODEL_DIR)\n",
    "supernet = TrainedSuperNet.from_checkpoint(model, config, os.path.join(MODEL_DIR, 'elasticity.pth'), os.path.join(MODEL_DIR, 'supernet_weights.pth'))"
   ]
  },
  {
   "attachments": {},
   "cell_type": "markdown",
   "metadata": {
    "pycharm": {
     "name": "#%% md\n"
    }
   },
   "source": [
    "<h3 style=\"text-align: center; background-color: rgb(36, 24, 142); color: white; border: 4px solid rgb(36, 24, 142);\n",
    "border-radius: 25px;\">Explore the Search Space\n",
    "</h3>\n",
    "\n"
   ]
  },
  {
   "cell_type": "code",
   "execution_count": 4,
   "metadata": {
    "pycharm": {
     "name": "#%%\n"
    }
   },
   "outputs": [
    {
     "data": {
      "text/plain": [
       "{'width': {0: [256, 200, 152, 128],\n",
       "  1: [512, 408, 304, 256],\n",
       "  2: [1024, 816, 608, 512],\n",
       "  3: [2048, 1632, 1224, 1024],\n",
       "  4: [64, 48, 32],\n",
       "  5: [64, 48, 32],\n",
       "  6: [64, 48, 32],\n",
       "  7: [64, 48, 32],\n",
       "  8: [64, 48, 32],\n",
       "  9: [64, 48, 32],\n",
       "  10: [64, 48, 32],\n",
       "  11: [128, 96, 72, 64],\n",
       "  12: [128, 96, 72, 64],\n",
       "  13: [128, 96, 72, 64],\n",
       "  14: [128, 96, 72, 64],\n",
       "  15: [128, 96, 72, 64],\n",
       "  16: [128, 96, 72, 64],\n",
       "  17: [128, 96, 72, 64],\n",
       "  18: [128, 96, 72, 64],\n",
       "  19: [256, 200, 152, 128],\n",
       "  20: [256, 200, 152, 128],\n",
       "  21: [256, 200, 152, 128],\n",
       "  22: [256, 200, 152, 128],\n",
       "  23: [256, 200, 152, 128],\n",
       "  24: [256, 200, 152, 128],\n",
       "  25: [256, 200, 152, 128],\n",
       "  26: [256, 200, 152, 128],\n",
       "  27: [256, 200, 152, 128],\n",
       "  28: [256, 200, 152, 128],\n",
       "  29: [256, 200, 152, 128],\n",
       "  30: [256, 200, 152, 128],\n",
       "  31: [512, 408, 304, 256],\n",
       "  32: [512, 408, 304, 256],\n",
       "  33: [512, 408, 304, 256],\n",
       "  34: [512, 408, 304, 256],\n",
       "  35: [512, 408, 304, 256],\n",
       "  36: [512, 408, 304, 256]},\n",
       " 'depth': [[0],\n",
       "  [2],\n",
       "  [4],\n",
       "  [5],\n",
       "  [0, 2],\n",
       "  [0, 4],\n",
       "  [0, 5],\n",
       "  [1, 2],\n",
       "  [2, 4],\n",
       "  [2, 5],\n",
       "  [3, 4],\n",
       "  [4, 5],\n",
       "  [0, 1, 2],\n",
       "  [0, 2, 4],\n",
       "  [0, 2, 5],\n",
       "  [0, 3, 4],\n",
       "  [0, 4, 5],\n",
       "  [1, 2, 4],\n",
       "  [1, 2, 5],\n",
       "  [2, 3, 4],\n",
       "  [2, 4, 5],\n",
       "  [3, 4, 5],\n",
       "  [0, 1, 2, 4],\n",
       "  [0, 1, 2, 5],\n",
       "  [0, 2, 3, 4],\n",
       "  [0, 2, 4, 5],\n",
       "  [0, 3, 4, 5],\n",
       "  [1, 2, 3, 4],\n",
       "  [1, 2, 4, 5],\n",
       "  [2, 3, 4, 5],\n",
       "  [0, 1, 2, 3, 4],\n",
       "  [0, 1, 2, 4, 5],\n",
       "  [0, 2, 3, 4, 5],\n",
       "  [1, 2, 3, 4, 5],\n",
       "  [0, 1, 2, 3, 4, 5],\n",
       "  []]}"
      ]
     },
     "execution_count": 4,
     "metadata": {},
     "output_type": "execute_result"
    }
   ],
   "source": [
    "supernet.get_search_space()"
   ]
  },
  {
   "attachments": {},
   "cell_type": "markdown",
   "metadata": {
    "pycharm": {
     "name": "#%% md\n"
    }
   },
   "source": [
    "<h3 style=\"text-align: center; background-color: rgb(36, 24, 142); color: white; border: 4px solid rgb(36, 24, 142);\n",
    "border-radius: 25px;\">Data Loaders for validation and batchnorm adaptation\n",
    "</h3>"
   ]
  },
  {
   "cell_type": "code",
   "execution_count": 5,
   "metadata": {
    "pycharm": {
     "name": "#%%\n"
    }
   },
   "outputs": [],
   "source": [
    "DATASET_DIR = DATA_DIR / \"cifar10\"\n",
    "\n",
    "batch_size_val = 1000\n",
    "batch_size = 64\n",
    "train_loader, val_loader = create_cifar10_dataloader(DATASET_DIR, batch_size, batch_size_val, device)"
   ]
  },
  {
   "attachments": {},
   "cell_type": "markdown",
   "metadata": {
    "pycharm": {
     "name": "#%% md\n"
    }
   },
   "source": [
    "<h3 style=\"text-align: center; background-color: rgb(36, 24, 142); color: white; border: 4px solid rgb(36, 24, 142);\n",
    "border-radius: 25px;\">Sample sub-networks to implement your own algorithm\n",
    "</h3>\n"
   ]
  },
  {
   "cell_type": "code",
   "execution_count": 6,
   "metadata": {
    "pycharm": {
     "name": "#%%\n"
    }
   },
   "outputs": [
    {
     "name": "stdout",
     "output_type": "stream",
     "text": [
      "Test: [ 0/10]\tTime 1.673 (1.673)\tLoss 0.546 (0.546)\tAcc@1 86.90 (86.90)\tAcc@5 98.10 (98.10)\n",
      " * Acc@1 87.950 Acc@5 98.420\n"
     ]
    },
    {
     "data": {
      "text/plain": [
       "tensor(87.9500, device='cuda:0')"
      ]
     },
     "execution_count": 6,
     "metadata": {},
     "output_type": "execute_result"
    }
   ],
   "source": [
    "# Implement your function to validate \n",
    "def acc_top1(model):\n",
    "    from bootstrapnas_utils import validate\n",
    "    model.eval()\n",
    "    model.to(device)\n",
    "    model_top1_acc, _, _ = validate(model, val_loader) \n",
    "    return model_top1_acc\n",
    "\n",
    "supernet.activate_maximal_subnet()\n",
    "supernet.eval_active_subnet(acc_top1)"
   ]
  },
  {
   "cell_type": "code",
   "execution_count": 7,
   "metadata": {
    "pycharm": {
     "name": "#%%\n"
    }
   },
   "outputs": [
    {
     "name": "stdout",
     "output_type": "stream",
     "text": [
      "Test: [ 0/10]\tTime 0.591 (0.591)\tLoss 0.546 (0.546)\tAcc@1 86.90 (86.90)\tAcc@5 98.10 (98.10)\n",
      " * Acc@1 87.950 Acc@5 98.420\n"
     ]
    },
    {
     "data": {
      "text/plain": [
       "tensor(87.9500, device='cuda:0')"
      ]
     },
     "execution_count": 7,
     "metadata": {},
     "output_type": "execute_result"
    }
   ],
   "source": [
    "subnet_config = SubnetConfig()\n",
    "subnet_config[ElasticityDim.DEPTH] = [1]\n",
    "\n",
    "supernet.eval_subnet(subnet_config, acc_top1)"
   ]
  },
  {
   "cell_type": "code",
   "execution_count": 8,
   "metadata": {
    "pycharm": {
     "name": "#%%\n"
    }
   },
   "outputs": [
    {
     "data": {
      "text/plain": [
       "325.799936"
      ]
     },
     "execution_count": 8,
     "metadata": {},
     "output_type": "execute_result"
    }
   ],
   "source": [
    "supernet.activate_config(supernet.get_search_space())\n",
    "supernet.get_macs_for_active_config()"
   ]
  },
  {
   "cell_type": "code",
   "execution_count": 9,
   "metadata": {
    "pycharm": {
     "name": "#%%\n"
    }
   },
   "outputs": [
    {
     "data": {
      "text/plain": [
       "325.799936"
      ]
     },
     "execution_count": 9,
     "metadata": {},
     "output_type": "execute_result"
    }
   ],
   "source": [
    "supernet.activate_config(supernet.get_search_space())\n",
    "supernet.get_macs_for_active_config()"
   ]
  },
  {
   "cell_type": "code",
   "execution_count": 10,
   "metadata": {
    "pycharm": {
     "name": "#%%\n"
    }
   },
   "outputs": [
    {
     "data": {
      "text/plain": [
       "272.32256"
      ]
     },
     "execution_count": 10,
     "metadata": {},
     "output_type": "execute_result"
    }
   ],
   "source": [
    "subnet_config[ElasticityDim.DEPTH] = [0]\n",
    "subnet_config[ElasticityDim.WIDTH] = {2: 512}\n",
    "\n",
    "supernet.activate_config(subnet_config)\n",
    "supernet.get_macs_for_active_config()"
   ]
  },
  {
   "cell_type": "code",
   "execution_count": 11,
   "metadata": {
    "pycharm": {
     "name": "#%%\n"
    }
   },
   "outputs": [
    {
     "data": {
      "text/plain": [
       "OrderedDict([(<ElasticityDim.WIDTH: 'width'>,\n",
       "              {0: 256,\n",
       "               1: 512,\n",
       "               2: 512,\n",
       "               3: 2048,\n",
       "               4: 64,\n",
       "               5: 64,\n",
       "               6: 64,\n",
       "               7: 64,\n",
       "               8: 64,\n",
       "               9: 64,\n",
       "               10: 64,\n",
       "               11: 128,\n",
       "               12: 128,\n",
       "               13: 128,\n",
       "               14: 128,\n",
       "               15: 128,\n",
       "               16: 128,\n",
       "               17: 128,\n",
       "               18: 128,\n",
       "               19: 256,\n",
       "               20: 256,\n",
       "               21: 256,\n",
       "               22: 256,\n",
       "               23: 256,\n",
       "               24: 256,\n",
       "               25: 256,\n",
       "               26: 256,\n",
       "               27: 256,\n",
       "               28: 256,\n",
       "               29: 256,\n",
       "               30: 256,\n",
       "               31: 512,\n",
       "               32: 512,\n",
       "               33: 512,\n",
       "               34: 512,\n",
       "               35: 512,\n",
       "               36: 512}),\n",
       "             (<ElasticityDim.DEPTH: 'depth'>, [0])])"
      ]
     },
     "execution_count": 11,
     "metadata": {},
     "output_type": "execute_result"
    }
   ],
   "source": [
    "supernet.get_active_config()"
   ]
  },
  {
   "cell_type": "code",
   "execution_count": 12,
   "metadata": {
    "pycharm": {
     "name": "#%%\n"
    }
   },
   "outputs": [
    {
     "name": "stdout",
     "output_type": "stream",
     "text": [
      "Test: [ 0/10]\tTime 0.571 (0.571)\tLoss 0.473 (0.473)\tAcc@1 88.90 (88.90)\tAcc@5 98.40 (98.40)\n",
      " * Acc@1 89.510 Acc@5 98.680\n"
     ]
    },
    {
     "data": {
      "text/plain": [
       "tensor(89.5100, device='cuda:0')"
      ]
     },
     "execution_count": 12,
     "metadata": {},
     "output_type": "execute_result"
    }
   ],
   "source": [
    "supernet.eval_subnet(subnet_config, acc_top1)"
   ]
  },
  {
   "attachments": {},
   "cell_type": "markdown",
   "metadata": {
    "pycharm": {
     "name": "#%% md\n"
    }
   },
   "source": [
    "<h3 style=\"text-align: center; background-color: rgb(36, 24, 142); color: white; border: 4px solid rgb(36, 24, 142);\n",
    "border-radius: 25px;\">Search using DyNAS-t\n",
    "</h3>\n",
    "TODO\n",
    "\n"
   ]
  },
  {
   "cell_type": "code",
   "execution_count": 13,
   "metadata": {
    "pycharm": {
     "name": "#%%\n"
    }
   },
   "outputs": [
    {
     "name": "stdout",
     "output_type": "stream",
     "text": [
      "The autoreload extension is already loaded. To reload it, use:\n",
      "  %reload_ext autoreload\n"
     ]
    },
    {
     "name": "stderr",
     "output_type": "stream",
     "text": [
      "[06-27 12:34:18 MainProcess #58826] INFO  dynast_manager.py:44 - ========================================\n",
      "[06-27 12:34:18 MainProcess #58826] INFO  dynast_manager.py:45 - Starting Dynamic NAS Toolkit (DyNAS-T)\n",
      "[06-27 12:34:18 MainProcess #58826] INFO  dynast_manager.py:46 - ========================================\n",
      "[06-27 12:34:18 MainProcess #58826] INFO  dynast_manager.py:72 - ----------------------------------------\n",
      "[06-27 12:34:18 MainProcess #58826] INFO  dynast_manager.py:73 - DyNAS Parameter Inputs:\n",
      "[06-27 12:34:18 MainProcess #58826] INFO  dynast_manager.py:75 - search_tactic: linas\n",
      "[06-27 12:34:18 MainProcess #58826] INFO  dynast_manager.py:75 - results_path: bootstrapnas_resnet50_cifar10_linas_test_nb_1.csv\n",
      "[06-27 12:34:18 MainProcess #58826] INFO  dynast_manager.py:75 - num_evals: 250\n",
      "[06-27 12:34:18 MainProcess #58826] INFO  dynast_manager.py:75 - population: 50\n",
      "[06-27 12:34:18 MainProcess #58826] INFO  dynast_manager.py:75 - seed: 42\n",
      "[06-27 12:34:18 MainProcess #58826] INFO  dynast_manager.py:75 - supernet: bootstrapnas_image_classification\n",
      "[06-27 12:34:18 MainProcess #58826] INFO  dynast_manager.py:75 - test_fraction: 1.0\n",
      "[06-27 12:34:18 MainProcess #58826] INFO  dynast_manager.py:75 - optimization_metrics: ['accuracy_top1', 'macs']\n",
      "[06-27 12:34:18 MainProcess #58826] INFO  dynast_manager.py:75 - measurements: ['accuracy_top1', 'macs']\n",
      "[06-27 12:34:18 MainProcess #58826] INFO  dynast_manager.py:75 - batch_size: 64\n",
      "[06-27 12:34:18 MainProcess #58826] INFO  dynast_manager.py:75 - dataset_path: data/cifar10\n",
      "[06-27 12:34:18 MainProcess #58826] INFO  dynast_manager.py:75 - bootstrapnas_supernetwork: <nncf.experimental.torch.nas.bootstrapNAS.search.supernet.TrainedSuperNet object at 0x7fda9db194c0>\n",
      "[06-27 12:34:18 MainProcess #58826] INFO  dynast_manager.py:75 - device: cuda\n",
      "[06-27 12:34:18 MainProcess #58826] INFO  dynast_manager.py:75 - verbose: False\n",
      "[06-27 12:34:18 MainProcess #58826] INFO  dynast_manager.py:75 - metric_eval_fns: {'accuracy_top1': <function accuracy_top1_fn at 0x7fda97c7e670>}\n",
      "[06-27 12:34:18 MainProcess #58826] INFO  dynast_manager.py:76 - ----------------------------------------\n",
      "[06-27 12:34:18 MainProcess #58826] INFO  dynast_manager.py:91 - Initializing DyNAS LINAS algorithm object.\n",
      "[06-27 12:34:18 MainProcess #58826] INFO  search_tactic.py:176 - Results csv file header ordering will be: ['Sub-network', 'Date', 'Model Parameters', 'Latency (ms)', 'MACs', 'Top-1 Acc (%)']\n",
      "[06-27 12:34:18 MainProcess #58826] INFO  evaluation_interface.py:49 - (Re)Formatted results file: bootstrapnas_resnet50_cifar10_linas_test_nb_1.csv\n",
      "[06-27 12:34:18 MainProcess #58826] INFO  evaluation_interface.py:50 - csv file header: ['Sub-network', 'Date', 'Model Parameters', 'Latency (ms)', 'MACs', 'Top-1 Acc (%)']\n",
      "[06-27 12:34:18 MainProcess #58826] INFO  search_tactic.py:363 - Starting LINAS loop 1 of 5.\n",
      "[06-27 12:34:18 MainProcess #58826] INFO  search_tactic.py:367 - Evaluating subnetwork 1/50 in loop 1 of 5\n",
      "[06-27 12:34:18 MainProcess #58826] INFO  __init__.py:76 - > Calling validation_dataloader\n"
     ]
    },
    {
     "name": "stdout",
     "output_type": "stream",
     "text": [
      "{'batch_size': 64,\n",
      " 'batch_size_val': 2000,\n",
      " 'bootstrapNAS': {'search': {'algorithm': 'DyNAS-T',\n",
      "                             'batchnorm_adaptation': {'num_bn_adaptation_samples': 6000},\n",
      "                             'num_evals': 1,\n",
      "                             'population': 1,\n",
      "                             'ref_acc': 93.65,\n",
      "                             'search_tactic': 'random'},\n",
      "                  'training': {'algorithm': 'progressive_shrinking',\n",
      "                               'batchnorm_adaptation': {'num_bn_adaptation_samples': 1500},\n",
      "                               'elasticity': {'available_elasticity_dims': ['width',\n",
      "                                                                            'depth'],\n",
      "                                              'depth': {'mode': 'manual',\n",
      "                                                        'skipped_blocks': [['ResNet/Sequential[layer1]/Bottleneck[1]/ReLU[relu]/relu__2',\n",
      "                                                                            'ResNet/Sequential[layer1]/Bottleneck[2]/ReLU[relu]/relu__2'],\n",
      "                                                                           ['ResNet/Sequential[layer2]/Bottleneck[1]/ReLU[relu]/relu__2',\n",
      "                                                                            'ResNet/Sequential[layer2]/Bottleneck[2]/ReLU[relu]/relu__2'],\n",
      "                                                                           ['ResNet/Sequential[layer2]/Bottleneck[2]/ReLU[relu]/relu__2',\n",
      "                                                                            'ResNet/Sequential[layer2]/Bottleneck[3]/ReLU[relu]/relu__2'],\n",
      "                                                                           ['ResNet/Sequential[layer3]/Bottleneck[3]/ReLU[relu]/relu__2',\n",
      "                                                                            'ResNet/Sequential[layer3]/Bottleneck[4]/ReLU[relu]/relu__2'],\n",
      "                                                                           ['ResNet/Sequential[layer3]/Bottleneck[4]/ReLU[relu]/relu__2',\n",
      "                                                                            'ResNet/Sequential[layer3]/Bottleneck[5]/ReLU[relu]/relu__2'],\n",
      "                                                                           ['ResNet/Sequential[layer4]/Bottleneck[1]/ReLU[relu]/relu__2',\n",
      "                                                                            'ResNet/Sequential[layer4]/Bottleneck[2]/ReLU[relu]/relu__2']]},\n",
      "                                              'width': {'max_num_widths': 4,\n",
      "                                                        'min_out_channels': 32,\n",
      "                                                        'width_multipliers': [1,\n",
      "                                                                              0.8,\n",
      "                                                                              0.6,\n",
      "                                                                              0.5],\n",
      "                                                        'width_step': 32}},\n",
      "                               'progressivity_of_elasticity': ['depth',\n",
      "                                                               'width'],\n",
      "                               'schedule': {'list_stage_descriptions': [{'depth_indicator': 2,\n",
      "                                                                         'epochs': 125,\n",
      "                                                                         'epochs_lr': 125,\n",
      "                                                                         'init_lr': 0.00025,\n",
      "                                                                         'reorg_weights': True,\n",
      "                                                                         'train_dims': ['depth',\n",
      "                                                                                        'width'],\n",
      "                                                                         'width_indicator': 4}]}}},\n",
      " 'dataset': 'cifar10',\n",
      " 'device': device(type='cuda'),\n",
      " 'input_info': {'sample_size': [1, 3, 32, 32]},\n",
      " 'model': 'resnet50_cifar10',\n",
      " 'multiprocessing_distributed': False,\n",
      " 'num_classes': 10,\n",
      " 'optimizer': {'base_lr': 0.00025,\n",
      "               'label_smoothing': 0.1,\n",
      "               'momentum': 0.9,\n",
      "               'nesterov': True,\n",
      "               'no_decay_keys': 'bn#bias',\n",
      "               'type': 'sgd',\n",
      "               'weight_decay': 3e-07}}\n",
      "Files already downloaded and verified\n"
     ]
    },
    {
     "name": "stderr",
     "output_type": "stream",
     "text": [
      "[06-27 12:34:19 MainProcess #58826] INFO  __init__.py:81 - > Finished validation_dataloader in 0.7167 s\n",
      "[06-27 12:34:20 MainProcess #58826] INFO  bootstrapnas_interface.py:90 - Using custom accuracy_top1 metric evaluation function.\n",
      "[06-27 12:34:26 MainProcess #58826] INFO  __init__.py:76 - > Calling validate_classification\n",
      "[06-27 12:34:27 MainProcess #58826] INFO  __init__.py:81 - > Finished validate_classification in 1.5901 s\n",
      "[06-27 12:34:27 MainProcess #58826] INFO  bootstrapnas_interface.py:108 - Validation accuracy: 92.98%\n",
      "[06-27 12:34:28 MainProcess #58826] INFO  __init__.py:76 - > Calling get_macs\n",
      "[06-27 12:34:29 MainProcess #58826] INFO  __init__.py:81 - > Finished get_macs in 0.8732 s\n",
      "[06-27 12:34:29 MainProcess #58826] INFO  search_tactic.py:367 - Evaluating subnetwork 2/50 in loop 1 of 5\n",
      "[06-27 12:34:29 MainProcess #58826] INFO  __init__.py:76 - > Calling validation_dataloader\n"
     ]
    },
    {
     "name": "stdout",
     "output_type": "stream",
     "text": [
      "Files already downloaded and verified\n"
     ]
    },
    {
     "name": "stderr",
     "output_type": "stream",
     "text": [
      "[06-27 12:34:29 MainProcess #58826] INFO  __init__.py:81 - > Finished validation_dataloader in 0.7184 s\n",
      "[06-27 12:34:30 MainProcess #58826] INFO  bootstrapnas_interface.py:90 - Using custom accuracy_top1 metric evaluation function.\n",
      "[06-27 12:34:37 MainProcess #58826] INFO  __init__.py:76 - > Calling validate_classification\n",
      "[06-27 12:34:38 MainProcess #58826] INFO  __init__.py:81 - > Finished validate_classification in 1.5981 s\n",
      "[06-27 12:34:38 MainProcess #58826] INFO  bootstrapnas_interface.py:108 - Validation accuracy: 93.70%\n",
      "[06-27 12:34:39 MainProcess #58826] INFO  __init__.py:76 - > Calling get_macs\n",
      "[06-27 12:34:40 MainProcess #58826] INFO  __init__.py:81 - > Finished get_macs in 0.9726 s\n",
      "[06-27 12:34:40 MainProcess #58826] INFO  search_tactic.py:367 - Evaluating subnetwork 3/50 in loop 1 of 5\n",
      "[06-27 12:34:40 MainProcess #58826] INFO  __init__.py:76 - > Calling validation_dataloader\n"
     ]
    },
    {
     "name": "stdout",
     "output_type": "stream",
     "text": [
      "Files already downloaded and verified\n"
     ]
    },
    {
     "name": "stderr",
     "output_type": "stream",
     "text": [
      "[06-27 12:34:41 MainProcess #58826] INFO  __init__.py:81 - > Finished validation_dataloader in 0.7371 s\n",
      "[06-27 12:34:41 MainProcess #58826] INFO  bootstrapnas_interface.py:90 - Using custom accuracy_top1 metric evaluation function.\n",
      "[06-27 12:34:48 MainProcess #58826] INFO  __init__.py:76 - > Calling validate_classification\n",
      "[06-27 12:34:49 MainProcess #58826] INFO  __init__.py:81 - > Finished validate_classification in 1.5496 s\n",
      "[06-27 12:34:49 MainProcess #58826] INFO  bootstrapnas_interface.py:108 - Validation accuracy: 93.00%\n",
      "[06-27 12:34:50 MainProcess #58826] INFO  __init__.py:76 - > Calling get_macs\n",
      "[06-27 12:34:51 MainProcess #58826] INFO  __init__.py:81 - > Finished get_macs in 0.9792 s\n",
      "[06-27 12:34:51 MainProcess #58826] INFO  search_tactic.py:367 - Evaluating subnetwork 4/50 in loop 1 of 5\n",
      "[06-27 12:34:51 MainProcess #58826] INFO  __init__.py:76 - > Calling validation_dataloader\n"
     ]
    },
    {
     "name": "stdout",
     "output_type": "stream",
     "text": [
      "Files already downloaded and verified\n"
     ]
    },
    {
     "name": "stderr",
     "output_type": "stream",
     "text": [
      "[06-27 12:34:52 MainProcess #58826] INFO  __init__.py:81 - > Finished validation_dataloader in 0.7629 s\n",
      "[06-27 12:34:53 MainProcess #58826] INFO  bootstrapnas_interface.py:90 - Using custom accuracy_top1 metric evaluation function.\n",
      "[06-27 12:34:58 MainProcess #58826] INFO  __init__.py:76 - > Calling validate_classification\n",
      "[06-27 12:34:59 MainProcess #58826] INFO  __init__.py:81 - > Finished validate_classification in 1.4405 s\n",
      "[06-27 12:34:59 MainProcess #58826] INFO  bootstrapnas_interface.py:108 - Validation accuracy: 93.14%\n",
      "[06-27 12:35:00 MainProcess #58826] INFO  __init__.py:76 - > Calling get_macs\n",
      "[06-27 12:35:01 MainProcess #58826] INFO  __init__.py:81 - > Finished get_macs in 0.7774 s\n",
      "[06-27 12:35:01 MainProcess #58826] INFO  search_tactic.py:367 - Evaluating subnetwork 5/50 in loop 1 of 5\n",
      "[06-27 12:35:01 MainProcess #58826] INFO  __init__.py:76 - > Calling validation_dataloader\n"
     ]
    },
    {
     "name": "stdout",
     "output_type": "stream",
     "text": [
      "Files already downloaded and verified\n"
     ]
    },
    {
     "name": "stderr",
     "output_type": "stream",
     "text": [
      "[06-27 12:35:02 MainProcess #58826] INFO  __init__.py:81 - > Finished validation_dataloader in 0.7264 s\n",
      "[06-27 12:35:03 MainProcess #58826] INFO  bootstrapnas_interface.py:90 - Using custom accuracy_top1 metric evaluation function.\n",
      "[06-27 12:35:09 MainProcess #58826] INFO  __init__.py:76 - > Calling validate_classification\n",
      "[06-27 12:35:11 MainProcess #58826] INFO  __init__.py:81 - > Finished validate_classification in 1.5600 s\n",
      "[06-27 12:35:11 MainProcess #58826] INFO  bootstrapnas_interface.py:108 - Validation accuracy: 93.35%\n",
      "[06-27 12:35:11 MainProcess #58826] INFO  __init__.py:76 - > Calling get_macs\n",
      "[06-27 12:35:12 MainProcess #58826] INFO  __init__.py:81 - > Finished get_macs in 0.9589 s\n",
      "[06-27 12:35:12 MainProcess #58826] INFO  search_tactic.py:367 - Evaluating subnetwork 6/50 in loop 1 of 5\n",
      "[06-27 12:35:12 MainProcess #58826] INFO  __init__.py:76 - > Calling validation_dataloader\n"
     ]
    },
    {
     "name": "stdout",
     "output_type": "stream",
     "text": [
      "Files already downloaded and verified\n"
     ]
    },
    {
     "name": "stderr",
     "output_type": "stream",
     "text": [
      "[06-27 12:35:13 MainProcess #58826] INFO  __init__.py:81 - > Finished validation_dataloader in 0.7222 s\n",
      "[06-27 12:35:14 MainProcess #58826] INFO  bootstrapnas_interface.py:90 - Using custom accuracy_top1 metric evaluation function.\n",
      "[06-27 12:35:20 MainProcess #58826] INFO  __init__.py:76 - > Calling validate_classification\n",
      "[06-27 12:35:21 MainProcess #58826] INFO  __init__.py:81 - > Finished validate_classification in 1.4093 s\n",
      "[06-27 12:35:21 MainProcess #58826] INFO  bootstrapnas_interface.py:108 - Validation accuracy: 93.22%\n",
      "[06-27 12:35:22 MainProcess #58826] INFO  __init__.py:76 - > Calling get_macs\n",
      "[06-27 12:35:23 MainProcess #58826] INFO  __init__.py:81 - > Finished get_macs in 0.8944 s\n",
      "[06-27 12:35:23 MainProcess #58826] INFO  search_tactic.py:367 - Evaluating subnetwork 7/50 in loop 1 of 5\n",
      "[06-27 12:35:23 MainProcess #58826] INFO  __init__.py:76 - > Calling validation_dataloader\n"
     ]
    },
    {
     "name": "stdout",
     "output_type": "stream",
     "text": [
      "Files already downloaded and verified\n"
     ]
    },
    {
     "name": "stderr",
     "output_type": "stream",
     "text": [
      "[06-27 12:35:23 MainProcess #58826] INFO  __init__.py:81 - > Finished validation_dataloader in 0.7442 s\n",
      "[06-27 12:35:24 MainProcess #58826] INFO  bootstrapnas_interface.py:90 - Using custom accuracy_top1 metric evaluation function.\n",
      "[06-27 12:35:30 MainProcess #58826] INFO  __init__.py:76 - > Calling validate_classification\n",
      "[06-27 12:35:32 MainProcess #58826] INFO  __init__.py:81 - > Finished validate_classification in 1.4904 s\n",
      "[06-27 12:35:32 MainProcess #58826] INFO  bootstrapnas_interface.py:108 - Validation accuracy: 93.27%\n",
      "[06-27 12:35:32 MainProcess #58826] INFO  __init__.py:76 - > Calling get_macs\n",
      "[06-27 12:35:33 MainProcess #58826] INFO  __init__.py:81 - > Finished get_macs in 0.8319 s\n",
      "[06-27 12:35:33 MainProcess #58826] INFO  search_tactic.py:367 - Evaluating subnetwork 8/50 in loop 1 of 5\n",
      "[06-27 12:35:33 MainProcess #58826] INFO  __init__.py:76 - > Calling validation_dataloader\n"
     ]
    },
    {
     "name": "stdout",
     "output_type": "stream",
     "text": [
      "Files already downloaded and verified\n"
     ]
    },
    {
     "name": "stderr",
     "output_type": "stream",
     "text": [
      "[06-27 12:35:34 MainProcess #58826] INFO  __init__.py:81 - > Finished validation_dataloader in 0.7276 s\n",
      "[06-27 12:35:34 MainProcess #58826] INFO  bootstrapnas_interface.py:90 - Using custom accuracy_top1 metric evaluation function.\n",
      "[06-27 12:35:40 MainProcess #58826] INFO  __init__.py:76 - > Calling validate_classification\n",
      "[06-27 12:35:42 MainProcess #58826] INFO  __init__.py:81 - > Finished validate_classification in 1.4641 s\n",
      "[06-27 12:35:42 MainProcess #58826] INFO  bootstrapnas_interface.py:108 - Validation accuracy: 93.39%\n",
      "[06-27 12:35:43 MainProcess #58826] INFO  __init__.py:76 - > Calling get_macs\n",
      "[06-27 12:35:44 MainProcess #58826] INFO  __init__.py:81 - > Finished get_macs in 0.9208 s\n",
      "[06-27 12:35:44 MainProcess #58826] INFO  search_tactic.py:367 - Evaluating subnetwork 9/50 in loop 1 of 5\n",
      "[06-27 12:35:44 MainProcess #58826] INFO  __init__.py:76 - > Calling validation_dataloader\n"
     ]
    },
    {
     "name": "stdout",
     "output_type": "stream",
     "text": [
      "Files already downloaded and verified\n"
     ]
    },
    {
     "name": "stderr",
     "output_type": "stream",
     "text": [
      "[06-27 12:35:44 MainProcess #58826] INFO  __init__.py:81 - > Finished validation_dataloader in 0.7366 s\n",
      "[06-27 12:35:45 MainProcess #58826] INFO  bootstrapnas_interface.py:90 - Using custom accuracy_top1 metric evaluation function.\n",
      "[06-27 12:35:51 MainProcess #58826] INFO  __init__.py:76 - > Calling validate_classification\n",
      "[06-27 12:35:53 MainProcess #58826] INFO  __init__.py:81 - > Finished validate_classification in 1.5169 s\n",
      "[06-27 12:35:53 MainProcess #58826] INFO  bootstrapnas_interface.py:108 - Validation accuracy: 93.42%\n",
      "[06-27 12:35:54 MainProcess #58826] INFO  __init__.py:76 - > Calling get_macs\n",
      "[06-27 12:35:55 MainProcess #58826] INFO  __init__.py:81 - > Finished get_macs in 0.8880 s\n",
      "[06-27 12:35:55 MainProcess #58826] INFO  search_tactic.py:367 - Evaluating subnetwork 10/50 in loop 1 of 5\n",
      "[06-27 12:35:55 MainProcess #58826] INFO  __init__.py:76 - > Calling validation_dataloader\n"
     ]
    },
    {
     "name": "stdout",
     "output_type": "stream",
     "text": [
      "Files already downloaded and verified\n"
     ]
    },
    {
     "name": "stderr",
     "output_type": "stream",
     "text": [
      "[06-27 12:35:55 MainProcess #58826] INFO  __init__.py:81 - > Finished validation_dataloader in 0.7289 s\n",
      "[06-27 12:35:56 MainProcess #58826] INFO  bootstrapnas_interface.py:90 - Using custom accuracy_top1 metric evaluation function.\n",
      "[06-27 12:36:03 MainProcess #58826] INFO  __init__.py:76 - > Calling validate_classification\n",
      "[06-27 12:36:04 MainProcess #58826] INFO  __init__.py:81 - > Finished validate_classification in 1.5121 s\n",
      "[06-27 12:36:04 MainProcess #58826] INFO  bootstrapnas_interface.py:108 - Validation accuracy: 93.57%\n",
      "[06-27 12:36:05 MainProcess #58826] INFO  __init__.py:76 - > Calling get_macs\n",
      "[06-27 12:36:06 MainProcess #58826] INFO  __init__.py:81 - > Finished get_macs in 1.2392 s\n",
      "[06-27 12:36:06 MainProcess #58826] INFO  search_tactic.py:367 - Evaluating subnetwork 11/50 in loop 1 of 5\n",
      "[06-27 12:36:06 MainProcess #58826] INFO  __init__.py:76 - > Calling validation_dataloader\n"
     ]
    },
    {
     "name": "stdout",
     "output_type": "stream",
     "text": [
      "Files already downloaded and verified\n"
     ]
    },
    {
     "name": "stderr",
     "output_type": "stream",
     "text": [
      "[06-27 12:36:07 MainProcess #58826] INFO  __init__.py:81 - > Finished validation_dataloader in 0.7219 s\n",
      "[06-27 12:36:08 MainProcess #58826] INFO  bootstrapnas_interface.py:90 - Using custom accuracy_top1 metric evaluation function.\n",
      "[06-27 12:36:15 MainProcess #58826] INFO  __init__.py:76 - > Calling validate_classification\n",
      "[06-27 12:36:16 MainProcess #58826] INFO  __init__.py:81 - > Finished validate_classification in 1.7010 s\n",
      "[06-27 12:36:16 MainProcess #58826] INFO  bootstrapnas_interface.py:108 - Validation accuracy: 93.62%\n",
      "[06-27 12:36:17 MainProcess #58826] INFO  __init__.py:76 - > Calling get_macs\n",
      "[06-27 12:36:18 MainProcess #58826] INFO  __init__.py:81 - > Finished get_macs in 1.0323 s\n",
      "[06-27 12:36:18 MainProcess #58826] INFO  search_tactic.py:367 - Evaluating subnetwork 12/50 in loop 1 of 5\n",
      "[06-27 12:36:18 MainProcess #58826] INFO  __init__.py:76 - > Calling validation_dataloader\n"
     ]
    },
    {
     "name": "stdout",
     "output_type": "stream",
     "text": [
      "Files already downloaded and verified\n"
     ]
    },
    {
     "name": "stderr",
     "output_type": "stream",
     "text": [
      "[06-27 12:36:19 MainProcess #58826] INFO  __init__.py:81 - > Finished validation_dataloader in 0.7333 s\n",
      "[06-27 12:36:20 MainProcess #58826] INFO  bootstrapnas_interface.py:90 - Using custom accuracy_top1 metric evaluation function.\n",
      "[06-27 12:36:27 MainProcess #58826] INFO  __init__.py:76 - > Calling validate_classification\n",
      "[06-27 12:36:28 MainProcess #58826] INFO  __init__.py:81 - > Finished validate_classification in 1.5720 s\n",
      "[06-27 12:36:28 MainProcess #58826] INFO  bootstrapnas_interface.py:108 - Validation accuracy: 93.43%\n",
      "[06-27 12:36:29 MainProcess #58826] INFO  __init__.py:76 - > Calling get_macs\n",
      "[06-27 12:36:30 MainProcess #58826] INFO  __init__.py:81 - > Finished get_macs in 0.9693 s\n",
      "[06-27 12:36:30 MainProcess #58826] INFO  search_tactic.py:367 - Evaluating subnetwork 13/50 in loop 1 of 5\n",
      "[06-27 12:36:30 MainProcess #58826] INFO  __init__.py:76 - > Calling validation_dataloader\n"
     ]
    },
    {
     "name": "stdout",
     "output_type": "stream",
     "text": [
      "Files already downloaded and verified\n"
     ]
    },
    {
     "name": "stderr",
     "output_type": "stream",
     "text": [
      "[06-27 12:36:30 MainProcess #58826] INFO  __init__.py:81 - > Finished validation_dataloader in 0.7277 s\n",
      "[06-27 12:36:31 MainProcess #58826] INFO  bootstrapnas_interface.py:90 - Using custom accuracy_top1 metric evaluation function.\n",
      "[06-27 12:36:37 MainProcess #58826] INFO  __init__.py:76 - > Calling validate_classification\n",
      "[06-27 12:36:38 MainProcess #58826] INFO  __init__.py:81 - > Finished validate_classification in 1.5059 s\n",
      "[06-27 12:36:38 MainProcess #58826] INFO  bootstrapnas_interface.py:108 - Validation accuracy: 92.90%\n",
      "[06-27 12:36:39 MainProcess #58826] INFO  __init__.py:76 - > Calling get_macs\n",
      "[06-27 12:36:40 MainProcess #58826] INFO  __init__.py:81 - > Finished get_macs in 0.8575 s\n",
      "[06-27 12:36:40 MainProcess #58826] INFO  search_tactic.py:367 - Evaluating subnetwork 14/50 in loop 1 of 5\n",
      "[06-27 12:36:40 MainProcess #58826] INFO  __init__.py:76 - > Calling validation_dataloader\n"
     ]
    },
    {
     "name": "stdout",
     "output_type": "stream",
     "text": [
      "Files already downloaded and verified\n"
     ]
    },
    {
     "name": "stderr",
     "output_type": "stream",
     "text": [
      "[06-27 12:36:41 MainProcess #58826] INFO  __init__.py:81 - > Finished validation_dataloader in 0.7295 s\n",
      "[06-27 12:36:41 MainProcess #58826] INFO  bootstrapnas_interface.py:90 - Using custom accuracy_top1 metric evaluation function.\n",
      "[06-27 12:36:48 MainProcess #58826] INFO  __init__.py:76 - > Calling validate_classification\n",
      "[06-27 12:36:49 MainProcess #58826] INFO  __init__.py:81 - > Finished validate_classification in 1.6751 s\n",
      "[06-27 12:36:49 MainProcess #58826] INFO  bootstrapnas_interface.py:108 - Validation accuracy: 93.19%\n",
      "[06-27 12:36:50 MainProcess #58826] INFO  __init__.py:76 - > Calling get_macs\n",
      "[06-27 12:36:51 MainProcess #58826] INFO  __init__.py:81 - > Finished get_macs in 0.9914 s\n",
      "[06-27 12:36:51 MainProcess #58826] INFO  search_tactic.py:367 - Evaluating subnetwork 15/50 in loop 1 of 5\n",
      "[06-27 12:36:51 MainProcess #58826] INFO  __init__.py:76 - > Calling validation_dataloader\n"
     ]
    },
    {
     "name": "stdout",
     "output_type": "stream",
     "text": [
      "Files already downloaded and verified\n"
     ]
    },
    {
     "name": "stderr",
     "output_type": "stream",
     "text": [
      "[06-27 12:36:51 MainProcess #58826] INFO  __init__.py:81 - > Finished validation_dataloader in 0.7212 s\n",
      "[06-27 12:36:52 MainProcess #58826] INFO  bootstrapnas_interface.py:90 - Using custom accuracy_top1 metric evaluation function.\n",
      "[06-27 12:37:01 MainProcess #58826] INFO  __init__.py:76 - > Calling validate_classification\n",
      "[06-27 12:37:03 MainProcess #58826] INFO  __init__.py:81 - > Finished validate_classification in 2.7508 s\n",
      "[06-27 12:37:03 MainProcess #58826] INFO  bootstrapnas_interface.py:108 - Validation accuracy: 93.07%\n",
      "[06-27 12:37:05 MainProcess #58826] INFO  __init__.py:76 - > Calling get_macs\n",
      "[06-27 12:37:05 MainProcess #58826] INFO  __init__.py:81 - > Finished get_macs in 0.7999 s\n",
      "[06-27 12:37:05 MainProcess #58826] INFO  search_tactic.py:367 - Evaluating subnetwork 16/50 in loop 1 of 5\n",
      "[06-27 12:37:05 MainProcess #58826] INFO  __init__.py:76 - > Calling validation_dataloader\n"
     ]
    },
    {
     "name": "stdout",
     "output_type": "stream",
     "text": [
      "Files already downloaded and verified\n"
     ]
    },
    {
     "name": "stderr",
     "output_type": "stream",
     "text": [
      "[06-27 12:37:06 MainProcess #58826] INFO  __init__.py:81 - > Finished validation_dataloader in 0.7589 s\n",
      "[06-27 12:37:07 MainProcess #58826] INFO  bootstrapnas_interface.py:90 - Using custom accuracy_top1 metric evaluation function.\n",
      "[06-27 12:37:14 MainProcess #58826] INFO  __init__.py:76 - > Calling validate_classification\n",
      "[06-27 12:37:15 MainProcess #58826] INFO  __init__.py:81 - > Finished validate_classification in 1.4569 s\n",
      "[06-27 12:37:15 MainProcess #58826] INFO  bootstrapnas_interface.py:108 - Validation accuracy: 93.15%\n",
      "[06-27 12:37:16 MainProcess #58826] INFO  __init__.py:76 - > Calling get_macs\n",
      "[06-27 12:37:17 MainProcess #58826] INFO  __init__.py:81 - > Finished get_macs in 1.0432 s\n",
      "[06-27 12:37:17 MainProcess #58826] INFO  search_tactic.py:367 - Evaluating subnetwork 17/50 in loop 1 of 5\n",
      "[06-27 12:37:17 MainProcess #58826] INFO  __init__.py:76 - > Calling validation_dataloader\n"
     ]
    },
    {
     "name": "stdout",
     "output_type": "stream",
     "text": [
      "Files already downloaded and verified\n"
     ]
    },
    {
     "name": "stderr",
     "output_type": "stream",
     "text": [
      "[06-27 12:37:18 MainProcess #58826] INFO  __init__.py:81 - > Finished validation_dataloader in 0.7535 s\n",
      "[06-27 12:37:19 MainProcess #58826] INFO  bootstrapnas_interface.py:90 - Using custom accuracy_top1 metric evaluation function.\n",
      "[06-27 12:37:25 MainProcess #58826] INFO  __init__.py:76 - > Calling validate_classification\n",
      "[06-27 12:37:26 MainProcess #58826] INFO  __init__.py:81 - > Finished validate_classification in 1.5330 s\n",
      "[06-27 12:37:26 MainProcess #58826] INFO  bootstrapnas_interface.py:108 - Validation accuracy: 93.16%\n",
      "[06-27 12:37:27 MainProcess #58826] INFO  __init__.py:76 - > Calling get_macs\n",
      "[06-27 12:37:28 MainProcess #58826] INFO  __init__.py:81 - > Finished get_macs in 0.9216 s\n",
      "[06-27 12:37:28 MainProcess #58826] INFO  search_tactic.py:367 - Evaluating subnetwork 18/50 in loop 1 of 5\n",
      "[06-27 12:37:28 MainProcess #58826] INFO  __init__.py:76 - > Calling validation_dataloader\n"
     ]
    },
    {
     "name": "stdout",
     "output_type": "stream",
     "text": [
      "Files already downloaded and verified\n"
     ]
    },
    {
     "name": "stderr",
     "output_type": "stream",
     "text": [
      "[06-27 12:37:29 MainProcess #58826] INFO  __init__.py:81 - > Finished validation_dataloader in 0.7289 s\n",
      "[06-27 12:37:30 MainProcess #58826] INFO  bootstrapnas_interface.py:90 - Using custom accuracy_top1 metric evaluation function.\n",
      "[06-27 12:37:36 MainProcess #58826] INFO  __init__.py:76 - > Calling validate_classification\n",
      "[06-27 12:37:37 MainProcess #58826] INFO  __init__.py:81 - > Finished validate_classification in 1.4076 s\n",
      "[06-27 12:37:37 MainProcess #58826] INFO  bootstrapnas_interface.py:108 - Validation accuracy: 93.08%\n",
      "[06-27 12:37:38 MainProcess #58826] INFO  __init__.py:76 - > Calling get_macs\n",
      "[06-27 12:37:39 MainProcess #58826] INFO  __init__.py:81 - > Finished get_macs in 0.8692 s\n",
      "[06-27 12:37:39 MainProcess #58826] INFO  search_tactic.py:367 - Evaluating subnetwork 19/50 in loop 1 of 5\n",
      "[06-27 12:37:39 MainProcess #58826] INFO  __init__.py:76 - > Calling validation_dataloader\n"
     ]
    },
    {
     "name": "stdout",
     "output_type": "stream",
     "text": [
      "Files already downloaded and verified\n"
     ]
    },
    {
     "name": "stderr",
     "output_type": "stream",
     "text": [
      "[06-27 12:37:40 MainProcess #58826] INFO  __init__.py:81 - > Finished validation_dataloader in 0.7324 s\n",
      "[06-27 12:37:40 MainProcess #58826] INFO  bootstrapnas_interface.py:90 - Using custom accuracy_top1 metric evaluation function.\n",
      "[06-27 12:37:47 MainProcess #58826] INFO  __init__.py:76 - > Calling validate_classification\n",
      "[06-27 12:37:48 MainProcess #58826] INFO  __init__.py:81 - > Finished validate_classification in 1.5594 s\n",
      "[06-27 12:37:48 MainProcess #58826] INFO  bootstrapnas_interface.py:108 - Validation accuracy: 93.37%\n",
      "[06-27 12:37:49 MainProcess #58826] INFO  __init__.py:76 - > Calling get_macs\n",
      "[06-27 12:37:50 MainProcess #58826] INFO  __init__.py:81 - > Finished get_macs in 0.8374 s\n",
      "[06-27 12:37:50 MainProcess #58826] INFO  search_tactic.py:367 - Evaluating subnetwork 20/50 in loop 1 of 5\n",
      "[06-27 12:37:50 MainProcess #58826] INFO  __init__.py:76 - > Calling validation_dataloader\n"
     ]
    },
    {
     "name": "stdout",
     "output_type": "stream",
     "text": [
      "Files already downloaded and verified\n"
     ]
    },
    {
     "name": "stderr",
     "output_type": "stream",
     "text": [
      "[06-27 12:37:50 MainProcess #58826] INFO  __init__.py:81 - > Finished validation_dataloader in 0.7210 s\n",
      "[06-27 12:37:51 MainProcess #58826] INFO  bootstrapnas_interface.py:90 - Using custom accuracy_top1 metric evaluation function.\n",
      "[06-27 12:37:57 MainProcess #58826] INFO  __init__.py:76 - > Calling validate_classification\n",
      "[06-27 12:37:59 MainProcess #58826] INFO  __init__.py:81 - > Finished validate_classification in 1.6752 s\n",
      "[06-27 12:37:59 MainProcess #58826] INFO  bootstrapnas_interface.py:108 - Validation accuracy: 93.13%\n",
      "[06-27 12:38:00 MainProcess #58826] INFO  __init__.py:76 - > Calling get_macs\n",
      "[06-27 12:38:00 MainProcess #58826] INFO  __init__.py:81 - > Finished get_macs in 0.8604 s\n",
      "[06-27 12:38:00 MainProcess #58826] INFO  search_tactic.py:367 - Evaluating subnetwork 21/50 in loop 1 of 5\n",
      "[06-27 12:38:00 MainProcess #58826] INFO  __init__.py:76 - > Calling validation_dataloader\n"
     ]
    },
    {
     "name": "stdout",
     "output_type": "stream",
     "text": [
      "Files already downloaded and verified\n"
     ]
    },
    {
     "name": "stderr",
     "output_type": "stream",
     "text": [
      "[06-27 12:38:01 MainProcess #58826] INFO  __init__.py:81 - > Finished validation_dataloader in 0.7165 s\n",
      "[06-27 12:38:02 MainProcess #58826] INFO  bootstrapnas_interface.py:90 - Using custom accuracy_top1 metric evaluation function.\n",
      "[06-27 12:38:08 MainProcess #58826] INFO  __init__.py:76 - > Calling validate_classification\n",
      "[06-27 12:38:10 MainProcess #58826] INFO  __init__.py:81 - > Finished validate_classification in 1.4410 s\n",
      "[06-27 12:38:10 MainProcess #58826] INFO  bootstrapnas_interface.py:108 - Validation accuracy: 93.63%\n",
      "[06-27 12:38:10 MainProcess #58826] INFO  __init__.py:76 - > Calling get_macs\n",
      "[06-27 12:38:11 MainProcess #58826] INFO  __init__.py:81 - > Finished get_macs in 0.9410 s\n",
      "[06-27 12:38:11 MainProcess #58826] INFO  search_tactic.py:367 - Evaluating subnetwork 22/50 in loop 1 of 5\n",
      "[06-27 12:38:11 MainProcess #58826] INFO  __init__.py:76 - > Calling validation_dataloader\n"
     ]
    },
    {
     "name": "stdout",
     "output_type": "stream",
     "text": [
      "Files already downloaded and verified\n"
     ]
    },
    {
     "name": "stderr",
     "output_type": "stream",
     "text": [
      "[06-27 12:38:12 MainProcess #58826] INFO  __init__.py:81 - > Finished validation_dataloader in 0.7787 s\n",
      "[06-27 12:38:13 MainProcess #58826] INFO  bootstrapnas_interface.py:90 - Using custom accuracy_top1 metric evaluation function.\n",
      "[06-27 12:38:19 MainProcess #58826] INFO  __init__.py:76 - > Calling validate_classification\n",
      "[06-27 12:38:21 MainProcess #58826] INFO  __init__.py:81 - > Finished validate_classification in 1.4901 s\n",
      "[06-27 12:38:21 MainProcess #58826] INFO  bootstrapnas_interface.py:108 - Validation accuracy: 92.91%\n",
      "[06-27 12:38:21 MainProcess #58826] INFO  __init__.py:76 - > Calling get_macs\n",
      "[06-27 12:38:23 MainProcess #58826] INFO  __init__.py:81 - > Finished get_macs in 1.2473 s\n",
      "[06-27 12:38:23 MainProcess #58826] INFO  search_tactic.py:367 - Evaluating subnetwork 23/50 in loop 1 of 5\n",
      "[06-27 12:38:23 MainProcess #58826] INFO  __init__.py:76 - > Calling validation_dataloader\n"
     ]
    },
    {
     "name": "stdout",
     "output_type": "stream",
     "text": [
      "Files already downloaded and verified\n"
     ]
    },
    {
     "name": "stderr",
     "output_type": "stream",
     "text": [
      "[06-27 12:38:23 MainProcess #58826] INFO  __init__.py:81 - > Finished validation_dataloader in 0.7184 s\n",
      "[06-27 12:38:24 MainProcess #58826] INFO  bootstrapnas_interface.py:90 - Using custom accuracy_top1 metric evaluation function.\n",
      "[06-27 12:38:30 MainProcess #58826] INFO  __init__.py:76 - > Calling validate_classification\n",
      "[06-27 12:38:31 MainProcess #58826] INFO  __init__.py:81 - > Finished validate_classification in 1.3227 s\n",
      "[06-27 12:38:31 MainProcess #58826] INFO  bootstrapnas_interface.py:108 - Validation accuracy: 93.05%\n",
      "[06-27 12:38:32 MainProcess #58826] INFO  __init__.py:76 - > Calling get_macs\n",
      "[06-27 12:38:32 MainProcess #58826] INFO  __init__.py:81 - > Finished get_macs in 0.7724 s\n",
      "[06-27 12:38:32 MainProcess #58826] INFO  search_tactic.py:367 - Evaluating subnetwork 24/50 in loop 1 of 5\n",
      "[06-27 12:38:32 MainProcess #58826] INFO  __init__.py:76 - > Calling validation_dataloader\n"
     ]
    },
    {
     "name": "stdout",
     "output_type": "stream",
     "text": [
      "Files already downloaded and verified\n"
     ]
    },
    {
     "name": "stderr",
     "output_type": "stream",
     "text": [
      "[06-27 12:38:33 MainProcess #58826] INFO  __init__.py:81 - > Finished validation_dataloader in 0.7175 s\n",
      "[06-27 12:38:34 MainProcess #58826] INFO  bootstrapnas_interface.py:90 - Using custom accuracy_top1 metric evaluation function.\n",
      "[06-27 12:38:39 MainProcess #58826] INFO  __init__.py:76 - > Calling validate_classification\n",
      "[06-27 12:38:41 MainProcess #58826] INFO  __init__.py:81 - > Finished validate_classification in 1.4473 s\n",
      "[06-27 12:38:41 MainProcess #58826] INFO  bootstrapnas_interface.py:108 - Validation accuracy: 92.77%\n",
      "[06-27 12:38:41 MainProcess #58826] INFO  __init__.py:76 - > Calling get_macs\n",
      "[06-27 12:38:42 MainProcess #58826] INFO  __init__.py:81 - > Finished get_macs in 0.8508 s\n",
      "[06-27 12:38:42 MainProcess #58826] INFO  search_tactic.py:367 - Evaluating subnetwork 25/50 in loop 1 of 5\n",
      "[06-27 12:38:42 MainProcess #58826] INFO  __init__.py:76 - > Calling validation_dataloader\n"
     ]
    },
    {
     "name": "stdout",
     "output_type": "stream",
     "text": [
      "Files already downloaded and verified\n"
     ]
    },
    {
     "name": "stderr",
     "output_type": "stream",
     "text": [
      "[06-27 12:38:43 MainProcess #58826] INFO  __init__.py:81 - > Finished validation_dataloader in 0.7471 s\n",
      "[06-27 12:38:44 MainProcess #58826] INFO  bootstrapnas_interface.py:90 - Using custom accuracy_top1 metric evaluation function.\n",
      "[06-27 12:38:50 MainProcess #58826] INFO  __init__.py:76 - > Calling validate_classification\n",
      "[06-27 12:38:52 MainProcess #58826] INFO  __init__.py:81 - > Finished validate_classification in 1.5447 s\n",
      "[06-27 12:38:52 MainProcess #58826] INFO  bootstrapnas_interface.py:108 - Validation accuracy: 93.29%\n",
      "[06-27 12:38:52 MainProcess #58826] INFO  __init__.py:76 - > Calling get_macs\n",
      "[06-27 12:38:53 MainProcess #58826] INFO  __init__.py:81 - > Finished get_macs in 0.8771 s\n",
      "[06-27 12:38:53 MainProcess #58826] INFO  search_tactic.py:367 - Evaluating subnetwork 26/50 in loop 1 of 5\n",
      "[06-27 12:38:53 MainProcess #58826] INFO  __init__.py:76 - > Calling validation_dataloader\n"
     ]
    },
    {
     "name": "stdout",
     "output_type": "stream",
     "text": [
      "Files already downloaded and verified\n"
     ]
    },
    {
     "name": "stderr",
     "output_type": "stream",
     "text": [
      "[06-27 12:38:54 MainProcess #58826] INFO  __init__.py:81 - > Finished validation_dataloader in 0.7197 s\n",
      "[06-27 12:38:55 MainProcess #58826] INFO  bootstrapnas_interface.py:90 - Using custom accuracy_top1 metric evaluation function.\n",
      "[06-27 12:39:00 MainProcess #58826] INFO  __init__.py:76 - > Calling validate_classification\n",
      "[06-27 12:39:02 MainProcess #58826] INFO  __init__.py:81 - > Finished validate_classification in 1.3939 s\n",
      "[06-27 12:39:02 MainProcess #58826] INFO  bootstrapnas_interface.py:108 - Validation accuracy: 93.20%\n",
      "[06-27 12:39:03 MainProcess #58826] INFO  __init__.py:76 - > Calling get_macs\n",
      "[06-27 12:39:03 MainProcess #58826] INFO  __init__.py:81 - > Finished get_macs in 0.8711 s\n",
      "[06-27 12:39:03 MainProcess #58826] INFO  search_tactic.py:367 - Evaluating subnetwork 27/50 in loop 1 of 5\n",
      "[06-27 12:39:03 MainProcess #58826] INFO  __init__.py:76 - > Calling validation_dataloader\n"
     ]
    },
    {
     "name": "stdout",
     "output_type": "stream",
     "text": [
      "Files already downloaded and verified\n"
     ]
    },
    {
     "name": "stderr",
     "output_type": "stream",
     "text": [
      "[06-27 12:39:04 MainProcess #58826] INFO  __init__.py:81 - > Finished validation_dataloader in 0.7412 s\n",
      "[06-27 12:39:05 MainProcess #58826] INFO  bootstrapnas_interface.py:90 - Using custom accuracy_top1 metric evaluation function.\n",
      "[06-27 12:39:11 MainProcess #58826] INFO  __init__.py:76 - > Calling validate_classification\n",
      "[06-27 12:39:12 MainProcess #58826] INFO  __init__.py:81 - > Finished validate_classification in 1.5444 s\n",
      "[06-27 12:39:12 MainProcess #58826] INFO  bootstrapnas_interface.py:108 - Validation accuracy: 92.81%\n",
      "[06-27 12:39:13 MainProcess #58826] INFO  __init__.py:76 - > Calling get_macs\n",
      "[06-27 12:39:14 MainProcess #58826] INFO  __init__.py:81 - > Finished get_macs in 0.7573 s\n",
      "[06-27 12:39:14 MainProcess #58826] INFO  search_tactic.py:367 - Evaluating subnetwork 28/50 in loop 1 of 5\n",
      "[06-27 12:39:14 MainProcess #58826] INFO  __init__.py:76 - > Calling validation_dataloader\n"
     ]
    },
    {
     "name": "stdout",
     "output_type": "stream",
     "text": [
      "Files already downloaded and verified\n"
     ]
    },
    {
     "name": "stderr",
     "output_type": "stream",
     "text": [
      "[06-27 12:39:14 MainProcess #58826] INFO  __init__.py:81 - > Finished validation_dataloader in 0.7172 s\n",
      "[06-27 12:39:15 MainProcess #58826] INFO  bootstrapnas_interface.py:90 - Using custom accuracy_top1 metric evaluation function.\n",
      "[06-27 12:39:21 MainProcess #58826] INFO  __init__.py:76 - > Calling validate_classification\n",
      "[06-27 12:39:23 MainProcess #58826] INFO  __init__.py:81 - > Finished validate_classification in 1.5786 s\n",
      "[06-27 12:39:23 MainProcess #58826] INFO  bootstrapnas_interface.py:108 - Validation accuracy: 93.47%\n",
      "[06-27 12:39:24 MainProcess #58826] INFO  __init__.py:76 - > Calling get_macs\n",
      "[06-27 12:39:24 MainProcess #58826] INFO  __init__.py:81 - > Finished get_macs in 0.9352 s\n",
      "[06-27 12:39:24 MainProcess #58826] INFO  search_tactic.py:367 - Evaluating subnetwork 29/50 in loop 1 of 5\n",
      "[06-27 12:39:24 MainProcess #58826] INFO  __init__.py:76 - > Calling validation_dataloader\n"
     ]
    },
    {
     "name": "stdout",
     "output_type": "stream",
     "text": [
      "Files already downloaded and verified\n"
     ]
    },
    {
     "name": "stderr",
     "output_type": "stream",
     "text": [
      "[06-27 12:39:25 MainProcess #58826] INFO  __init__.py:81 - > Finished validation_dataloader in 0.7374 s\n",
      "[06-27 12:39:26 MainProcess #58826] INFO  bootstrapnas_interface.py:90 - Using custom accuracy_top1 metric evaluation function.\n",
      "[06-27 12:39:33 MainProcess #58826] INFO  __init__.py:76 - > Calling validate_classification\n",
      "[06-27 12:39:34 MainProcess #58826] INFO  __init__.py:81 - > Finished validate_classification in 1.5969 s\n",
      "[06-27 12:39:34 MainProcess #58826] INFO  bootstrapnas_interface.py:108 - Validation accuracy: 93.68%\n",
      "[06-27 12:39:35 MainProcess #58826] INFO  __init__.py:76 - > Calling get_macs\n",
      "[06-27 12:39:36 MainProcess #58826] INFO  __init__.py:81 - > Finished get_macs in 0.9290 s\n",
      "[06-27 12:39:36 MainProcess #58826] INFO  search_tactic.py:367 - Evaluating subnetwork 30/50 in loop 1 of 5\n",
      "[06-27 12:39:36 MainProcess #58826] INFO  __init__.py:76 - > Calling validation_dataloader\n"
     ]
    },
    {
     "name": "stdout",
     "output_type": "stream",
     "text": [
      "Files already downloaded and verified\n"
     ]
    },
    {
     "name": "stderr",
     "output_type": "stream",
     "text": [
      "[06-27 12:39:37 MainProcess #58826] INFO  __init__.py:81 - > Finished validation_dataloader in 0.7173 s\n",
      "[06-27 12:39:38 MainProcess #58826] INFO  bootstrapnas_interface.py:90 - Using custom accuracy_top1 metric evaluation function.\n",
      "[06-27 12:39:44 MainProcess #58826] INFO  __init__.py:76 - > Calling validate_classification\n",
      "[06-27 12:39:46 MainProcess #58826] INFO  __init__.py:81 - > Finished validate_classification in 1.5748 s\n",
      "[06-27 12:39:46 MainProcess #58826] INFO  bootstrapnas_interface.py:108 - Validation accuracy: 93.62%\n",
      "[06-27 12:39:47 MainProcess #58826] INFO  __init__.py:76 - > Calling get_macs\n",
      "[06-27 12:39:48 MainProcess #58826] INFO  __init__.py:81 - > Finished get_macs in 0.9200 s\n",
      "[06-27 12:39:48 MainProcess #58826] INFO  search_tactic.py:367 - Evaluating subnetwork 31/50 in loop 1 of 5\n",
      "[06-27 12:39:48 MainProcess #58826] INFO  __init__.py:76 - > Calling validation_dataloader\n"
     ]
    },
    {
     "name": "stdout",
     "output_type": "stream",
     "text": [
      "Files already downloaded and verified\n"
     ]
    },
    {
     "name": "stderr",
     "output_type": "stream",
     "text": [
      "[06-27 12:39:48 MainProcess #58826] INFO  __init__.py:81 - > Finished validation_dataloader in 0.7350 s\n",
      "[06-27 12:39:49 MainProcess #58826] INFO  bootstrapnas_interface.py:90 - Using custom accuracy_top1 metric evaluation function.\n",
      "[06-27 12:39:55 MainProcess #58826] INFO  __init__.py:76 - > Calling validate_classification\n",
      "[06-27 12:39:57 MainProcess #58826] INFO  __init__.py:81 - > Finished validate_classification in 1.5248 s\n",
      "[06-27 12:39:57 MainProcess #58826] INFO  bootstrapnas_interface.py:108 - Validation accuracy: 93.43%\n",
      "[06-27 12:39:58 MainProcess #58826] INFO  __init__.py:76 - > Calling get_macs\n",
      "[06-27 12:39:58 MainProcess #58826] INFO  __init__.py:81 - > Finished get_macs in 0.9379 s\n",
      "[06-27 12:39:58 MainProcess #58826] INFO  search_tactic.py:367 - Evaluating subnetwork 32/50 in loop 1 of 5\n",
      "[06-27 12:39:58 MainProcess #58826] INFO  __init__.py:76 - > Calling validation_dataloader\n"
     ]
    },
    {
     "name": "stdout",
     "output_type": "stream",
     "text": [
      "Files already downloaded and verified\n"
     ]
    },
    {
     "name": "stderr",
     "output_type": "stream",
     "text": [
      "[06-27 12:39:59 MainProcess #58826] INFO  __init__.py:81 - > Finished validation_dataloader in 0.7242 s\n",
      "[06-27 12:40:00 MainProcess #58826] INFO  bootstrapnas_interface.py:90 - Using custom accuracy_top1 metric evaluation function.\n",
      "[06-27 12:40:06 MainProcess #58826] INFO  __init__.py:76 - > Calling validate_classification\n",
      "[06-27 12:40:08 MainProcess #58826] INFO  __init__.py:81 - > Finished validate_classification in 1.4696 s\n",
      "[06-27 12:40:08 MainProcess #58826] INFO  bootstrapnas_interface.py:108 - Validation accuracy: 93.42%\n",
      "[06-27 12:40:08 MainProcess #58826] INFO  __init__.py:76 - > Calling get_macs\n",
      "[06-27 12:40:09 MainProcess #58826] INFO  __init__.py:81 - > Finished get_macs in 0.8537 s\n",
      "[06-27 12:40:09 MainProcess #58826] INFO  search_tactic.py:367 - Evaluating subnetwork 33/50 in loop 1 of 5\n",
      "[06-27 12:40:09 MainProcess #58826] INFO  __init__.py:76 - > Calling validation_dataloader\n"
     ]
    },
    {
     "name": "stdout",
     "output_type": "stream",
     "text": [
      "Files already downloaded and verified\n"
     ]
    },
    {
     "name": "stderr",
     "output_type": "stream",
     "text": [
      "[06-27 12:40:10 MainProcess #58826] INFO  __init__.py:81 - > Finished validation_dataloader in 0.7206 s\n",
      "[06-27 12:40:11 MainProcess #58826] INFO  bootstrapnas_interface.py:90 - Using custom accuracy_top1 metric evaluation function.\n",
      "[06-27 12:40:17 MainProcess #58826] INFO  __init__.py:76 - > Calling validate_classification\n",
      "[06-27 12:40:19 MainProcess #58826] INFO  __init__.py:81 - > Finished validate_classification in 1.6586 s\n",
      "[06-27 12:40:19 MainProcess #58826] INFO  bootstrapnas_interface.py:108 - Validation accuracy: 93.47%\n",
      "[06-27 12:40:20 MainProcess #58826] INFO  __init__.py:76 - > Calling get_macs\n",
      "[06-27 12:40:21 MainProcess #58826] INFO  __init__.py:81 - > Finished get_macs in 0.9333 s\n",
      "[06-27 12:40:21 MainProcess #58826] INFO  search_tactic.py:367 - Evaluating subnetwork 34/50 in loop 1 of 5\n",
      "[06-27 12:40:21 MainProcess #58826] INFO  __init__.py:76 - > Calling validation_dataloader\n"
     ]
    },
    {
     "name": "stdout",
     "output_type": "stream",
     "text": [
      "Files already downloaded and verified\n"
     ]
    },
    {
     "name": "stderr",
     "output_type": "stream",
     "text": [
      "[06-27 12:40:21 MainProcess #58826] INFO  __init__.py:81 - > Finished validation_dataloader in 0.7242 s\n",
      "[06-27 12:40:22 MainProcess #58826] INFO  bootstrapnas_interface.py:90 - Using custom accuracy_top1 metric evaluation function.\n",
      "[06-27 12:40:27 MainProcess #58826] INFO  __init__.py:76 - > Calling validate_classification\n",
      "[06-27 12:40:29 MainProcess #58826] INFO  __init__.py:81 - > Finished validate_classification in 1.4493 s\n",
      "[06-27 12:40:29 MainProcess #58826] INFO  bootstrapnas_interface.py:108 - Validation accuracy: 92.86%\n",
      "[06-27 12:40:29 MainProcess #58826] INFO  __init__.py:76 - > Calling get_macs\n",
      "[06-27 12:40:30 MainProcess #58826] INFO  __init__.py:81 - > Finished get_macs in 1.0141 s\n",
      "[06-27 12:40:30 MainProcess #58826] INFO  search_tactic.py:367 - Evaluating subnetwork 35/50 in loop 1 of 5\n",
      "[06-27 12:40:30 MainProcess #58826] INFO  __init__.py:76 - > Calling validation_dataloader\n"
     ]
    },
    {
     "name": "stdout",
     "output_type": "stream",
     "text": [
      "Files already downloaded and verified\n"
     ]
    },
    {
     "name": "stderr",
     "output_type": "stream",
     "text": [
      "[06-27 12:40:31 MainProcess #58826] INFO  __init__.py:81 - > Finished validation_dataloader in 0.7262 s\n",
      "[06-27 12:40:31 MainProcess #58826] INFO  bootstrapnas_interface.py:90 - Using custom accuracy_top1 metric evaluation function.\n",
      "[06-27 12:40:37 MainProcess #58826] INFO  __init__.py:76 - > Calling validate_classification\n",
      "[06-27 12:40:39 MainProcess #58826] INFO  __init__.py:81 - > Finished validate_classification in 1.4424 s\n",
      "[06-27 12:40:39 MainProcess #58826] INFO  bootstrapnas_interface.py:108 - Validation accuracy: 92.92%\n",
      "[06-27 12:40:39 MainProcess #58826] INFO  __init__.py:76 - > Calling get_macs\n",
      "[06-27 12:40:40 MainProcess #58826] INFO  __init__.py:81 - > Finished get_macs in 0.8117 s\n",
      "[06-27 12:40:40 MainProcess #58826] INFO  search_tactic.py:367 - Evaluating subnetwork 36/50 in loop 1 of 5\n",
      "[06-27 12:40:40 MainProcess #58826] INFO  __init__.py:76 - > Calling validation_dataloader\n"
     ]
    },
    {
     "name": "stdout",
     "output_type": "stream",
     "text": [
      "Files already downloaded and verified\n"
     ]
    },
    {
     "name": "stderr",
     "output_type": "stream",
     "text": [
      "[06-27 12:40:41 MainProcess #58826] INFO  __init__.py:81 - > Finished validation_dataloader in 0.7233 s\n",
      "[06-27 12:40:42 MainProcess #58826] INFO  bootstrapnas_interface.py:90 - Using custom accuracy_top1 metric evaluation function.\n",
      "[06-27 12:40:48 MainProcess #58826] INFO  __init__.py:76 - > Calling validate_classification\n",
      "[06-27 12:40:49 MainProcess #58826] INFO  __init__.py:81 - > Finished validate_classification in 1.4850 s\n",
      "[06-27 12:40:49 MainProcess #58826] INFO  bootstrapnas_interface.py:108 - Validation accuracy: 93.41%\n",
      "[06-27 12:40:50 MainProcess #58826] INFO  __init__.py:76 - > Calling get_macs\n",
      "[06-27 12:40:50 MainProcess #58826] INFO  __init__.py:81 - > Finished get_macs in 0.8072 s\n",
      "[06-27 12:40:50 MainProcess #58826] INFO  search_tactic.py:367 - Evaluating subnetwork 37/50 in loop 1 of 5\n",
      "[06-27 12:40:50 MainProcess #58826] INFO  __init__.py:76 - > Calling validation_dataloader\n"
     ]
    },
    {
     "name": "stdout",
     "output_type": "stream",
     "text": [
      "Files already downloaded and verified\n"
     ]
    },
    {
     "name": "stderr",
     "output_type": "stream",
     "text": [
      "[06-27 12:40:51 MainProcess #58826] INFO  __init__.py:81 - > Finished validation_dataloader in 0.7287 s\n",
      "[06-27 12:40:52 MainProcess #58826] INFO  bootstrapnas_interface.py:90 - Using custom accuracy_top1 metric evaluation function.\n",
      "[06-27 12:40:58 MainProcess #58826] INFO  __init__.py:76 - > Calling validate_classification\n",
      "[06-27 12:40:59 MainProcess #58826] INFO  __init__.py:81 - > Finished validate_classification in 1.5654 s\n",
      "[06-27 12:40:59 MainProcess #58826] INFO  bootstrapnas_interface.py:108 - Validation accuracy: 92.89%\n",
      "[06-27 12:41:00 MainProcess #58826] INFO  __init__.py:76 - > Calling get_macs\n",
      "[06-27 12:41:01 MainProcess #58826] INFO  __init__.py:81 - > Finished get_macs in 0.8090 s\n",
      "[06-27 12:41:01 MainProcess #58826] INFO  search_tactic.py:367 - Evaluating subnetwork 38/50 in loop 1 of 5\n",
      "[06-27 12:41:01 MainProcess #58826] INFO  __init__.py:76 - > Calling validation_dataloader\n"
     ]
    },
    {
     "name": "stdout",
     "output_type": "stream",
     "text": [
      "Files already downloaded and verified\n"
     ]
    },
    {
     "name": "stderr",
     "output_type": "stream",
     "text": [
      "[06-27 12:41:01 MainProcess #58826] INFO  __init__.py:81 - > Finished validation_dataloader in 0.7153 s\n",
      "[06-27 12:41:02 MainProcess #58826] INFO  bootstrapnas_interface.py:90 - Using custom accuracy_top1 metric evaluation function.\n",
      "[06-27 12:41:08 MainProcess #58826] INFO  __init__.py:76 - > Calling validate_classification\n",
      "[06-27 12:41:09 MainProcess #58826] INFO  __init__.py:81 - > Finished validate_classification in 1.4789 s\n",
      "[06-27 12:41:09 MainProcess #58826] INFO  bootstrapnas_interface.py:108 - Validation accuracy: 92.91%\n",
      "[06-27 12:41:10 MainProcess #58826] INFO  __init__.py:76 - > Calling get_macs\n",
      "[06-27 12:41:11 MainProcess #58826] INFO  __init__.py:81 - > Finished get_macs in 0.8160 s\n",
      "[06-27 12:41:11 MainProcess #58826] INFO  search_tactic.py:367 - Evaluating subnetwork 39/50 in loop 1 of 5\n",
      "[06-27 12:41:11 MainProcess #58826] INFO  __init__.py:76 - > Calling validation_dataloader\n"
     ]
    },
    {
     "name": "stdout",
     "output_type": "stream",
     "text": [
      "Files already downloaded and verified\n"
     ]
    },
    {
     "name": "stderr",
     "output_type": "stream",
     "text": [
      "[06-27 12:41:11 MainProcess #58826] INFO  __init__.py:81 - > Finished validation_dataloader in 0.7390 s\n",
      "[06-27 12:41:12 MainProcess #58826] INFO  bootstrapnas_interface.py:90 - Using custom accuracy_top1 metric evaluation function.\n",
      "[06-27 12:41:19 MainProcess #58826] INFO  __init__.py:76 - > Calling validate_classification\n",
      "[06-27 12:41:22 MainProcess #58826] INFO  __init__.py:81 - > Finished validate_classification in 2.8362 s\n",
      "[06-27 12:41:22 MainProcess #58826] INFO  bootstrapnas_interface.py:108 - Validation accuracy: 93.52%\n",
      "[06-27 12:41:23 MainProcess #58826] INFO  __init__.py:76 - > Calling get_macs\n",
      "[06-27 12:41:24 MainProcess #58826] INFO  __init__.py:81 - > Finished get_macs in 1.0150 s\n",
      "[06-27 12:41:24 MainProcess #58826] INFO  search_tactic.py:367 - Evaluating subnetwork 40/50 in loop 1 of 5\n",
      "[06-27 12:41:24 MainProcess #58826] INFO  __init__.py:76 - > Calling validation_dataloader\n"
     ]
    },
    {
     "name": "stdout",
     "output_type": "stream",
     "text": [
      "Files already downloaded and verified\n"
     ]
    },
    {
     "name": "stderr",
     "output_type": "stream",
     "text": [
      "[06-27 12:41:25 MainProcess #58826] INFO  __init__.py:81 - > Finished validation_dataloader in 0.7912 s\n",
      "[06-27 12:41:25 MainProcess #58826] INFO  bootstrapnas_interface.py:90 - Using custom accuracy_top1 metric evaluation function.\n",
      "[06-27 12:41:35 MainProcess #58826] INFO  __init__.py:76 - > Calling validate_classification\n",
      "[06-27 12:41:38 MainProcess #58826] INFO  __init__.py:81 - > Finished validate_classification in 2.7137 s\n",
      "[06-27 12:41:38 MainProcess #58826] INFO  bootstrapnas_interface.py:108 - Validation accuracy: 93.31%\n",
      "[06-27 12:41:38 MainProcess #58826] INFO  __init__.py:76 - > Calling get_macs\n",
      "[06-27 12:41:39 MainProcess #58826] INFO  __init__.py:81 - > Finished get_macs in 1.1795 s\n",
      "[06-27 12:41:39 MainProcess #58826] INFO  search_tactic.py:367 - Evaluating subnetwork 41/50 in loop 1 of 5\n",
      "[06-27 12:41:39 MainProcess #58826] INFO  __init__.py:76 - > Calling validation_dataloader\n"
     ]
    },
    {
     "name": "stdout",
     "output_type": "stream",
     "text": [
      "Files already downloaded and verified\n"
     ]
    },
    {
     "name": "stderr",
     "output_type": "stream",
     "text": [
      "[06-27 12:41:40 MainProcess #58826] INFO  __init__.py:81 - > Finished validation_dataloader in 0.7186 s\n",
      "[06-27 12:41:41 MainProcess #58826] INFO  bootstrapnas_interface.py:90 - Using custom accuracy_top1 metric evaluation function.\n",
      "[06-27 12:41:47 MainProcess #58826] INFO  __init__.py:76 - > Calling validate_classification\n",
      "[06-27 12:41:49 MainProcess #58826] INFO  __init__.py:81 - > Finished validate_classification in 1.4578 s\n",
      "[06-27 12:41:49 MainProcess #58826] INFO  bootstrapnas_interface.py:108 - Validation accuracy: 93.01%\n",
      "[06-27 12:41:49 MainProcess #58826] INFO  __init__.py:76 - > Calling get_macs\n",
      "[06-27 12:41:50 MainProcess #58826] INFO  __init__.py:81 - > Finished get_macs in 0.8532 s\n",
      "[06-27 12:41:50 MainProcess #58826] INFO  search_tactic.py:367 - Evaluating subnetwork 42/50 in loop 1 of 5\n",
      "[06-27 12:41:50 MainProcess #58826] INFO  __init__.py:76 - > Calling validation_dataloader\n"
     ]
    },
    {
     "name": "stdout",
     "output_type": "stream",
     "text": [
      "Files already downloaded and verified\n"
     ]
    },
    {
     "name": "stderr",
     "output_type": "stream",
     "text": [
      "[06-27 12:41:51 MainProcess #58826] INFO  __init__.py:81 - > Finished validation_dataloader in 0.7376 s\n",
      "[06-27 12:41:52 MainProcess #58826] INFO  bootstrapnas_interface.py:90 - Using custom accuracy_top1 metric evaluation function.\n",
      "[06-27 12:41:57 MainProcess #58826] INFO  __init__.py:76 - > Calling validate_classification\n",
      "[06-27 12:41:59 MainProcess #58826] INFO  __init__.py:81 - > Finished validate_classification in 1.4983 s\n",
      "[06-27 12:41:59 MainProcess #58826] INFO  bootstrapnas_interface.py:108 - Validation accuracy: 93.21%\n",
      "[06-27 12:42:00 MainProcess #58826] INFO  __init__.py:76 - > Calling get_macs\n",
      "[06-27 12:42:01 MainProcess #58826] INFO  __init__.py:81 - > Finished get_macs in 0.8088 s\n",
      "[06-27 12:42:01 MainProcess #58826] INFO  search_tactic.py:367 - Evaluating subnetwork 43/50 in loop 1 of 5\n",
      "[06-27 12:42:01 MainProcess #58826] INFO  __init__.py:76 - > Calling validation_dataloader\n"
     ]
    },
    {
     "name": "stdout",
     "output_type": "stream",
     "text": [
      "Files already downloaded and verified\n"
     ]
    },
    {
     "name": "stderr",
     "output_type": "stream",
     "text": [
      "[06-27 12:42:01 MainProcess #58826] INFO  __init__.py:81 - > Finished validation_dataloader in 0.7168 s\n",
      "[06-27 12:42:02 MainProcess #58826] INFO  bootstrapnas_interface.py:90 - Using custom accuracy_top1 metric evaluation function.\n",
      "[06-27 12:42:09 MainProcess #58826] INFO  __init__.py:76 - > Calling validate_classification\n",
      "[06-27 12:42:11 MainProcess #58826] INFO  __init__.py:81 - > Finished validate_classification in 1.7518 s\n",
      "[06-27 12:42:11 MainProcess #58826] INFO  bootstrapnas_interface.py:108 - Validation accuracy: 93.69%\n",
      "[06-27 12:42:11 MainProcess #58826] INFO  __init__.py:76 - > Calling get_macs\n",
      "[06-27 12:42:12 MainProcess #58826] INFO  __init__.py:81 - > Finished get_macs in 1.0453 s\n",
      "[06-27 12:42:12 MainProcess #58826] INFO  search_tactic.py:367 - Evaluating subnetwork 44/50 in loop 1 of 5\n",
      "[06-27 12:42:12 MainProcess #58826] INFO  __init__.py:76 - > Calling validation_dataloader\n"
     ]
    },
    {
     "name": "stdout",
     "output_type": "stream",
     "text": [
      "Files already downloaded and verified\n"
     ]
    },
    {
     "name": "stderr",
     "output_type": "stream",
     "text": [
      "[06-27 12:42:13 MainProcess #58826] INFO  __init__.py:81 - > Finished validation_dataloader in 0.7331 s\n",
      "[06-27 12:42:14 MainProcess #58826] INFO  bootstrapnas_interface.py:90 - Using custom accuracy_top1 metric evaluation function.\n",
      "[06-27 12:42:20 MainProcess #58826] INFO  __init__.py:76 - > Calling validate_classification\n",
      "[06-27 12:42:22 MainProcess #58826] INFO  __init__.py:81 - > Finished validate_classification in 1.4928 s\n",
      "[06-27 12:42:22 MainProcess #58826] INFO  bootstrapnas_interface.py:108 - Validation accuracy: 93.18%\n",
      "[06-27 12:42:22 MainProcess #58826] INFO  __init__.py:76 - > Calling get_macs\n",
      "[06-27 12:42:23 MainProcess #58826] INFO  __init__.py:81 - > Finished get_macs in 0.9075 s\n",
      "[06-27 12:42:23 MainProcess #58826] INFO  search_tactic.py:367 - Evaluating subnetwork 45/50 in loop 1 of 5\n",
      "[06-27 12:42:23 MainProcess #58826] INFO  __init__.py:76 - > Calling validation_dataloader\n"
     ]
    },
    {
     "name": "stdout",
     "output_type": "stream",
     "text": [
      "Files already downloaded and verified\n"
     ]
    },
    {
     "name": "stderr",
     "output_type": "stream",
     "text": [
      "[06-27 12:42:24 MainProcess #58826] INFO  __init__.py:81 - > Finished validation_dataloader in 0.7217 s\n",
      "[06-27 12:42:25 MainProcess #58826] INFO  bootstrapnas_interface.py:90 - Using custom accuracy_top1 metric evaluation function.\n",
      "[06-27 12:42:31 MainProcess #58826] INFO  __init__.py:76 - > Calling validate_classification\n",
      "[06-27 12:42:33 MainProcess #58826] INFO  __init__.py:81 - > Finished validate_classification in 1.4537 s\n",
      "[06-27 12:42:33 MainProcess #58826] INFO  bootstrapnas_interface.py:108 - Validation accuracy: 93.57%\n",
      "[06-27 12:42:33 MainProcess #58826] INFO  __init__.py:76 - > Calling get_macs\n",
      "[06-27 12:42:34 MainProcess #58826] INFO  __init__.py:81 - > Finished get_macs in 0.9123 s\n",
      "[06-27 12:42:34 MainProcess #58826] INFO  search_tactic.py:367 - Evaluating subnetwork 46/50 in loop 1 of 5\n",
      "[06-27 12:42:34 MainProcess #58826] INFO  __init__.py:76 - > Calling validation_dataloader\n"
     ]
    },
    {
     "name": "stdout",
     "output_type": "stream",
     "text": [
      "Files already downloaded and verified\n"
     ]
    },
    {
     "name": "stderr",
     "output_type": "stream",
     "text": [
      "[06-27 12:42:35 MainProcess #58826] INFO  __init__.py:81 - > Finished validation_dataloader in 0.7207 s\n",
      "[06-27 12:42:35 MainProcess #58826] INFO  bootstrapnas_interface.py:90 - Using custom accuracy_top1 metric evaluation function.\n",
      "[06-27 12:42:41 MainProcess #58826] INFO  __init__.py:76 - > Calling validate_classification\n",
      "[06-27 12:42:42 MainProcess #58826] INFO  __init__.py:81 - > Finished validate_classification in 1.5014 s\n",
      "[06-27 12:42:42 MainProcess #58826] INFO  bootstrapnas_interface.py:108 - Validation accuracy: 93.15%\n",
      "[06-27 12:42:43 MainProcess #58826] INFO  __init__.py:76 - > Calling get_macs\n",
      "[06-27 12:42:44 MainProcess #58826] INFO  __init__.py:81 - > Finished get_macs in 0.7060 s\n",
      "[06-27 12:42:44 MainProcess #58826] INFO  search_tactic.py:367 - Evaluating subnetwork 47/50 in loop 1 of 5\n",
      "[06-27 12:42:44 MainProcess #58826] INFO  __init__.py:76 - > Calling validation_dataloader\n"
     ]
    },
    {
     "name": "stdout",
     "output_type": "stream",
     "text": [
      "Files already downloaded and verified\n"
     ]
    },
    {
     "name": "stderr",
     "output_type": "stream",
     "text": [
      "[06-27 12:42:44 MainProcess #58826] INFO  __init__.py:81 - > Finished validation_dataloader in 0.7219 s\n",
      "[06-27 12:42:45 MainProcess #58826] INFO  bootstrapnas_interface.py:90 - Using custom accuracy_top1 metric evaluation function.\n",
      "[06-27 12:42:51 MainProcess #58826] INFO  __init__.py:76 - > Calling validate_classification\n",
      "[06-27 12:42:53 MainProcess #58826] INFO  __init__.py:81 - > Finished validate_classification in 1.6509 s\n",
      "[06-27 12:42:53 MainProcess #58826] INFO  bootstrapnas_interface.py:108 - Validation accuracy: 93.19%\n",
      "[06-27 12:42:54 MainProcess #58826] INFO  __init__.py:76 - > Calling get_macs\n",
      "[06-27 12:42:55 MainProcess #58826] INFO  __init__.py:81 - > Finished get_macs in 0.9169 s\n",
      "[06-27 12:42:55 MainProcess #58826] INFO  search_tactic.py:367 - Evaluating subnetwork 48/50 in loop 1 of 5\n",
      "[06-27 12:42:55 MainProcess #58826] INFO  __init__.py:76 - > Calling validation_dataloader\n"
     ]
    },
    {
     "name": "stdout",
     "output_type": "stream",
     "text": [
      "Files already downloaded and verified\n"
     ]
    },
    {
     "name": "stderr",
     "output_type": "stream",
     "text": [
      "[06-27 12:42:55 MainProcess #58826] INFO  __init__.py:81 - > Finished validation_dataloader in 0.7218 s\n",
      "[06-27 12:42:56 MainProcess #58826] INFO  bootstrapnas_interface.py:90 - Using custom accuracy_top1 metric evaluation function.\n",
      "[06-27 12:43:02 MainProcess #58826] INFO  __init__.py:76 - > Calling validate_classification\n",
      "[06-27 12:43:03 MainProcess #58826] INFO  __init__.py:81 - > Finished validate_classification in 1.4726 s\n",
      "[06-27 12:43:03 MainProcess #58826] INFO  bootstrapnas_interface.py:108 - Validation accuracy: 93.09%\n",
      "[06-27 12:43:04 MainProcess #58826] INFO  __init__.py:76 - > Calling get_macs\n",
      "[06-27 12:43:04 MainProcess #58826] INFO  __init__.py:81 - > Finished get_macs in 0.7251 s\n",
      "[06-27 12:43:04 MainProcess #58826] INFO  search_tactic.py:367 - Evaluating subnetwork 49/50 in loop 1 of 5\n",
      "[06-27 12:43:04 MainProcess #58826] INFO  __init__.py:76 - > Calling validation_dataloader\n"
     ]
    },
    {
     "name": "stdout",
     "output_type": "stream",
     "text": [
      "Files already downloaded and verified\n"
     ]
    },
    {
     "name": "stderr",
     "output_type": "stream",
     "text": [
      "[06-27 12:43:05 MainProcess #58826] INFO  __init__.py:81 - > Finished validation_dataloader in 0.7160 s\n",
      "[06-27 12:43:06 MainProcess #58826] INFO  bootstrapnas_interface.py:90 - Using custom accuracy_top1 metric evaluation function.\n",
      "[06-27 12:43:12 MainProcess #58826] INFO  __init__.py:76 - > Calling validate_classification\n",
      "[06-27 12:43:14 MainProcess #58826] INFO  __init__.py:81 - > Finished validate_classification in 1.5975 s\n",
      "[06-27 12:43:14 MainProcess #58826] INFO  bootstrapnas_interface.py:108 - Validation accuracy: 93.23%\n",
      "[06-27 12:43:14 MainProcess #58826] INFO  __init__.py:76 - > Calling get_macs\n",
      "[06-27 12:43:15 MainProcess #58826] INFO  __init__.py:81 - > Finished get_macs in 0.9138 s\n",
      "[06-27 12:43:15 MainProcess #58826] INFO  search_tactic.py:367 - Evaluating subnetwork 50/50 in loop 1 of 5\n",
      "[06-27 12:43:15 MainProcess #58826] INFO  __init__.py:76 - > Calling validation_dataloader\n"
     ]
    },
    {
     "name": "stdout",
     "output_type": "stream",
     "text": [
      "Files already downloaded and verified\n"
     ]
    },
    {
     "name": "stderr",
     "output_type": "stream",
     "text": [
      "[06-27 12:43:16 MainProcess #58826] INFO  __init__.py:81 - > Finished validation_dataloader in 0.7126 s\n",
      "[06-27 12:43:17 MainProcess #58826] INFO  bootstrapnas_interface.py:90 - Using custom accuracy_top1 metric evaluation function.\n",
      "[06-27 12:43:23 MainProcess #58826] INFO  __init__.py:76 - > Calling validate_classification\n",
      "[06-27 12:43:24 MainProcess #58826] INFO  __init__.py:81 - > Finished validate_classification in 1.2773 s\n",
      "[06-27 12:43:24 MainProcess #58826] INFO  bootstrapnas_interface.py:108 - Validation accuracy: 93.06%\n",
      "[06-27 12:43:25 MainProcess #58826] INFO  __init__.py:76 - > Calling get_macs\n",
      "[06-27 12:43:25 MainProcess #58826] INFO  __init__.py:81 - > Finished get_macs in 0.7963 s\n",
      "[06-27 12:43:25 MainProcess #58826] INFO  search_tactic.py:345 - Training macs predictor.\n",
      "[06-27 12:43:25 MainProcess #58826] INFO  predictor_manager.py:38 - Building dynamic predictor for macs\n",
      "[06-27 12:43:26 MainProcess #58826] INFO  encoding.py:246 - Training set length=50\n",
      "[06-27 12:43:31 MainProcess #58826] INFO  search_tactic.py:347 - Updated self.predictor_dict[macs].\n",
      "[06-27 12:43:31 MainProcess #58826] INFO  search_tactic.py:345 - Training accuracy_top1 predictor.\n",
      "[06-27 12:43:31 MainProcess #58826] INFO  predictor_manager.py:38 - Building dynamic predictor for accuracy_top1\n",
      "[06-27 12:43:31 MainProcess #58826] INFO  encoding.py:246 - Training set length=50\n",
      "[06-27 12:43:31 MainProcess #58826] INFO  search_tactic.py:347 - Updated self.predictor_dict[accuracy_top1].\n",
      "[06-27 12:43:31 MainProcess #58826] INFO  evolutionary.py:100 - Configuring nsga2 algorithm with 2 objectives.\n",
      "[06-27 12:43:31 MainProcess #58826] INFO  evolutionary.py:334 - Running Search ...\n"
     ]
    },
    {
     "name": "stdout",
     "output_type": "stream",
     "text": [
      "...................................................................................................."
     ]
    },
    {
     "name": "stderr",
     "output_type": "stream",
     "text": [
      "[06-27 12:43:35 MainProcess #58826] INFO  evolutionary.py:350 - Success! Search Took 3.672 seconds.\n",
      "[06-27 12:43:35 MainProcess #58826] INFO  search_tactic.py:363 - Starting LINAS loop 2 of 5.\n",
      "[06-27 12:43:35 MainProcess #58826] INFO  search_tactic.py:367 - Evaluating subnetwork 1/50 in loop 2 of 5\n",
      "[06-27 12:43:35 MainProcess #58826] INFO  __init__.py:76 - > Calling validation_dataloader\n"
     ]
    },
    {
     "name": "stdout",
     "output_type": "stream",
     "text": [
      "Files already downloaded and verified\n"
     ]
    },
    {
     "name": "stderr",
     "output_type": "stream",
     "text": [
      "[06-27 12:43:36 MainProcess #58826] INFO  __init__.py:81 - > Finished validation_dataloader in 0.7160 s\n",
      "[06-27 12:43:37 MainProcess #58826] INFO  bootstrapnas_interface.py:90 - Using custom accuracy_top1 metric evaluation function.\n",
      "[06-27 12:43:43 MainProcess #58826] INFO  __init__.py:76 - > Calling validate_classification\n",
      "[06-27 12:43:45 MainProcess #58826] INFO  __init__.py:81 - > Finished validate_classification in 1.4846 s\n",
      "[06-27 12:43:45 MainProcess #58826] INFO  bootstrapnas_interface.py:108 - Validation accuracy: 93.56%\n",
      "[06-27 12:43:45 MainProcess #58826] INFO  __init__.py:76 - > Calling get_macs\n",
      "[06-27 12:43:46 MainProcess #58826] INFO  __init__.py:81 - > Finished get_macs in 0.9535 s\n",
      "[06-27 12:43:46 MainProcess #58826] INFO  search_tactic.py:367 - Evaluating subnetwork 2/50 in loop 2 of 5\n",
      "[06-27 12:43:46 MainProcess #58826] INFO  __init__.py:76 - > Calling validation_dataloader\n"
     ]
    },
    {
     "name": "stdout",
     "output_type": "stream",
     "text": [
      "Files already downloaded and verified\n"
     ]
    },
    {
     "name": "stderr",
     "output_type": "stream",
     "text": [
      "[06-27 12:43:47 MainProcess #58826] INFO  __init__.py:81 - > Finished validation_dataloader in 0.7604 s\n",
      "[06-27 12:43:48 MainProcess #58826] INFO  bootstrapnas_interface.py:90 - Using custom accuracy_top1 metric evaluation function.\n",
      "[06-27 12:43:54 MainProcess #58826] INFO  __init__.py:76 - > Calling validate_classification\n",
      "[06-27 12:43:55 MainProcess #58826] INFO  __init__.py:81 - > Finished validate_classification in 1.2812 s\n",
      "[06-27 12:43:55 MainProcess #58826] INFO  bootstrapnas_interface.py:108 - Validation accuracy: 92.98%\n",
      "[06-27 12:43:56 MainProcess #58826] INFO  __init__.py:76 - > Calling get_macs\n",
      "[06-27 12:43:57 MainProcess #58826] INFO  __init__.py:81 - > Finished get_macs in 0.8124 s\n",
      "[06-27 12:43:57 MainProcess #58826] INFO  search_tactic.py:367 - Evaluating subnetwork 3/50 in loop 2 of 5\n",
      "[06-27 12:43:57 MainProcess #58826] INFO  __init__.py:76 - > Calling validation_dataloader\n"
     ]
    },
    {
     "name": "stdout",
     "output_type": "stream",
     "text": [
      "Files already downloaded and verified\n"
     ]
    },
    {
     "name": "stderr",
     "output_type": "stream",
     "text": [
      "[06-27 12:43:58 MainProcess #58826] INFO  __init__.py:81 - > Finished validation_dataloader in 0.8196 s\n",
      "[06-27 12:43:58 MainProcess #58826] INFO  bootstrapnas_interface.py:90 - Using custom accuracy_top1 metric evaluation function.\n",
      "[06-27 12:44:05 MainProcess #58826] INFO  __init__.py:76 - > Calling validate_classification\n",
      "[06-27 12:44:06 MainProcess #58826] INFO  __init__.py:81 - > Finished validate_classification in 1.3336 s\n",
      "[06-27 12:44:06 MainProcess #58826] INFO  bootstrapnas_interface.py:108 - Validation accuracy: 93.26%\n",
      "[06-27 12:44:07 MainProcess #58826] INFO  __init__.py:76 - > Calling get_macs\n",
      "[06-27 12:44:08 MainProcess #58826] INFO  __init__.py:81 - > Finished get_macs in 0.8790 s\n",
      "[06-27 12:44:08 MainProcess #58826] INFO  search_tactic.py:367 - Evaluating subnetwork 4/50 in loop 2 of 5\n",
      "[06-27 12:44:08 MainProcess #58826] INFO  __init__.py:76 - > Calling validation_dataloader\n"
     ]
    },
    {
     "name": "stdout",
     "output_type": "stream",
     "text": [
      "Files already downloaded and verified\n"
     ]
    },
    {
     "name": "stderr",
     "output_type": "stream",
     "text": [
      "[06-27 12:44:08 MainProcess #58826] INFO  __init__.py:81 - > Finished validation_dataloader in 0.7416 s\n",
      "[06-27 12:44:09 MainProcess #58826] INFO  bootstrapnas_interface.py:90 - Using custom accuracy_top1 metric evaluation function.\n",
      "[06-27 12:44:15 MainProcess #58826] INFO  __init__.py:76 - > Calling validate_classification\n",
      "[06-27 12:44:17 MainProcess #58826] INFO  __init__.py:81 - > Finished validate_classification in 1.3525 s\n",
      "[06-27 12:44:17 MainProcess #58826] INFO  bootstrapnas_interface.py:108 - Validation accuracy: 93.10%\n",
      "[06-27 12:44:17 MainProcess #58826] INFO  __init__.py:76 - > Calling get_macs\n",
      "[06-27 12:44:18 MainProcess #58826] INFO  __init__.py:81 - > Finished get_macs in 0.8661 s\n",
      "[06-27 12:44:18 MainProcess #58826] INFO  search_tactic.py:367 - Evaluating subnetwork 5/50 in loop 2 of 5\n",
      "[06-27 12:44:18 MainProcess #58826] INFO  __init__.py:76 - > Calling validation_dataloader\n"
     ]
    },
    {
     "name": "stdout",
     "output_type": "stream",
     "text": [
      "Files already downloaded and verified\n"
     ]
    },
    {
     "name": "stderr",
     "output_type": "stream",
     "text": [
      "[06-27 12:44:19 MainProcess #58826] INFO  __init__.py:81 - > Finished validation_dataloader in 0.7202 s\n",
      "[06-27 12:44:20 MainProcess #58826] INFO  bootstrapnas_interface.py:90 - Using custom accuracy_top1 metric evaluation function.\n",
      "[06-27 12:44:26 MainProcess #58826] INFO  __init__.py:76 - > Calling validate_classification\n",
      "[06-27 12:44:27 MainProcess #58826] INFO  __init__.py:81 - > Finished validate_classification in 1.4915 s\n",
      "[06-27 12:44:27 MainProcess #58826] INFO  bootstrapnas_interface.py:108 - Validation accuracy: 93.45%\n",
      "[06-27 12:44:28 MainProcess #58826] INFO  __init__.py:76 - > Calling get_macs\n",
      "[06-27 12:44:29 MainProcess #58826] INFO  __init__.py:81 - > Finished get_macs in 0.8546 s\n",
      "[06-27 12:44:29 MainProcess #58826] INFO  search_tactic.py:367 - Evaluating subnetwork 6/50 in loop 2 of 5\n",
      "[06-27 12:44:29 MainProcess #58826] INFO  __init__.py:76 - > Calling validation_dataloader\n"
     ]
    },
    {
     "name": "stdout",
     "output_type": "stream",
     "text": [
      "Files already downloaded and verified\n"
     ]
    },
    {
     "name": "stderr",
     "output_type": "stream",
     "text": [
      "[06-27 12:44:30 MainProcess #58826] INFO  __init__.py:81 - > Finished validation_dataloader in 0.7162 s\n",
      "[06-27 12:44:30 MainProcess #58826] INFO  bootstrapnas_interface.py:90 - Using custom accuracy_top1 metric evaluation function.\n",
      "[06-27 12:44:36 MainProcess #58826] INFO  __init__.py:76 - > Calling validate_classification\n",
      "[06-27 12:44:38 MainProcess #58826] INFO  __init__.py:81 - > Finished validate_classification in 1.4878 s\n",
      "[06-27 12:44:38 MainProcess #58826] INFO  bootstrapnas_interface.py:108 - Validation accuracy: 92.80%\n",
      "[06-27 12:44:39 MainProcess #58826] INFO  __init__.py:76 - > Calling get_macs\n",
      "[06-27 12:44:40 MainProcess #58826] INFO  __init__.py:81 - > Finished get_macs in 1.1921 s\n",
      "[06-27 12:44:40 MainProcess #58826] INFO  search_tactic.py:367 - Evaluating subnetwork 7/50 in loop 2 of 5\n",
      "[06-27 12:44:40 MainProcess #58826] INFO  __init__.py:76 - > Calling validation_dataloader\n"
     ]
    },
    {
     "name": "stdout",
     "output_type": "stream",
     "text": [
      "Files already downloaded and verified\n"
     ]
    },
    {
     "name": "stderr",
     "output_type": "stream",
     "text": [
      "[06-27 12:44:40 MainProcess #58826] INFO  __init__.py:81 - > Finished validation_dataloader in 0.7180 s\n",
      "[06-27 12:44:41 MainProcess #58826] INFO  bootstrapnas_interface.py:90 - Using custom accuracy_top1 metric evaluation function.\n",
      "[06-27 12:44:47 MainProcess #58826] INFO  __init__.py:76 - > Calling validate_classification\n",
      "[06-27 12:44:49 MainProcess #58826] INFO  __init__.py:81 - > Finished validate_classification in 1.4667 s\n",
      "[06-27 12:44:49 MainProcess #58826] INFO  bootstrapnas_interface.py:108 - Validation accuracy: 92.97%\n",
      "[06-27 12:44:50 MainProcess #58826] INFO  __init__.py:76 - > Calling get_macs\n",
      "[06-27 12:44:50 MainProcess #58826] INFO  __init__.py:81 - > Finished get_macs in 0.9153 s\n",
      "[06-27 12:44:50 MainProcess #58826] INFO  search_tactic.py:367 - Evaluating subnetwork 8/50 in loop 2 of 5\n",
      "[06-27 12:44:50 MainProcess #58826] INFO  __init__.py:76 - > Calling validation_dataloader\n"
     ]
    },
    {
     "name": "stdout",
     "output_type": "stream",
     "text": [
      "Files already downloaded and verified\n"
     ]
    },
    {
     "name": "stderr",
     "output_type": "stream",
     "text": [
      "[06-27 12:44:51 MainProcess #58826] INFO  __init__.py:81 - > Finished validation_dataloader in 0.8151 s\n",
      "[06-27 12:44:52 MainProcess #58826] INFO  bootstrapnas_interface.py:90 - Using custom accuracy_top1 metric evaluation function.\n",
      "[06-27 12:44:58 MainProcess #58826] INFO  __init__.py:76 - > Calling validate_classification\n",
      "[06-27 12:45:00 MainProcess #58826] INFO  __init__.py:81 - > Finished validate_classification in 1.3964 s\n",
      "[06-27 12:45:00 MainProcess #58826] INFO  bootstrapnas_interface.py:108 - Validation accuracy: 93.40%\n",
      "[06-27 12:45:00 MainProcess #58826] INFO  __init__.py:76 - > Calling get_macs\n",
      "[06-27 12:45:01 MainProcess #58826] INFO  __init__.py:81 - > Finished get_macs in 0.8572 s\n",
      "[06-27 12:45:01 MainProcess #58826] INFO  search_tactic.py:367 - Evaluating subnetwork 9/50 in loop 2 of 5\n",
      "[06-27 12:45:01 MainProcess #58826] INFO  __init__.py:76 - > Calling validation_dataloader\n"
     ]
    },
    {
     "name": "stdout",
     "output_type": "stream",
     "text": [
      "Files already downloaded and verified\n"
     ]
    },
    {
     "name": "stderr",
     "output_type": "stream",
     "text": [
      "[06-27 12:45:02 MainProcess #58826] INFO  __init__.py:81 - > Finished validation_dataloader in 0.7191 s\n",
      "[06-27 12:45:02 MainProcess #58826] INFO  bootstrapnas_interface.py:90 - Using custom accuracy_top1 metric evaluation function.\n",
      "[06-27 12:45:08 MainProcess #58826] INFO  __init__.py:76 - > Calling validate_classification\n",
      "[06-27 12:45:10 MainProcess #58826] INFO  __init__.py:81 - > Finished validate_classification in 1.3989 s\n",
      "[06-27 12:45:10 MainProcess #58826] INFO  bootstrapnas_interface.py:108 - Validation accuracy: 92.76%\n",
      "[06-27 12:45:10 MainProcess #58826] INFO  __init__.py:76 - > Calling get_macs\n",
      "[06-27 12:45:11 MainProcess #58826] INFO  __init__.py:81 - > Finished get_macs in 0.7867 s\n",
      "[06-27 12:45:11 MainProcess #58826] INFO  search_tactic.py:367 - Evaluating subnetwork 10/50 in loop 2 of 5\n",
      "[06-27 12:45:11 MainProcess #58826] INFO  __init__.py:76 - > Calling validation_dataloader\n"
     ]
    },
    {
     "name": "stdout",
     "output_type": "stream",
     "text": [
      "Files already downloaded and verified\n"
     ]
    },
    {
     "name": "stderr",
     "output_type": "stream",
     "text": [
      "[06-27 12:45:12 MainProcess #58826] INFO  __init__.py:81 - > Finished validation_dataloader in 0.7651 s\n",
      "[06-27 12:45:13 MainProcess #58826] INFO  bootstrapnas_interface.py:90 - Using custom accuracy_top1 metric evaluation function.\n",
      "[06-27 12:45:19 MainProcess #58826] INFO  __init__.py:76 - > Calling validate_classification\n",
      "[06-27 12:45:20 MainProcess #58826] INFO  __init__.py:81 - > Finished validate_classification in 1.5275 s\n",
      "[06-27 12:45:20 MainProcess #58826] INFO  bootstrapnas_interface.py:108 - Validation accuracy: 93.42%\n",
      "[06-27 12:45:21 MainProcess #58826] INFO  __init__.py:76 - > Calling get_macs\n",
      "[06-27 12:45:22 MainProcess #58826] INFO  __init__.py:81 - > Finished get_macs in 0.9211 s\n",
      "[06-27 12:45:22 MainProcess #58826] INFO  search_tactic.py:367 - Evaluating subnetwork 11/50 in loop 2 of 5\n",
      "[06-27 12:45:22 MainProcess #58826] INFO  __init__.py:76 - > Calling validation_dataloader\n"
     ]
    },
    {
     "name": "stdout",
     "output_type": "stream",
     "text": [
      "Files already downloaded and verified\n"
     ]
    },
    {
     "name": "stderr",
     "output_type": "stream",
     "text": [
      "[06-27 12:45:23 MainProcess #58826] INFO  __init__.py:81 - > Finished validation_dataloader in 0.7245 s\n",
      "[06-27 12:45:23 MainProcess #58826] INFO  bootstrapnas_interface.py:90 - Using custom accuracy_top1 metric evaluation function.\n",
      "[06-27 12:45:32 MainProcess #58826] INFO  __init__.py:76 - > Calling validate_classification\n",
      "[06-27 12:45:34 MainProcess #58826] INFO  __init__.py:81 - > Finished validate_classification in 2.0974 s\n",
      "[06-27 12:45:34 MainProcess #58826] INFO  bootstrapnas_interface.py:108 - Validation accuracy: 93.46%\n",
      "[06-27 12:45:35 MainProcess #58826] INFO  __init__.py:76 - > Calling get_macs\n",
      "[06-27 12:45:36 MainProcess #58826] INFO  __init__.py:81 - > Finished get_macs in 0.9227 s\n",
      "[06-27 12:45:36 MainProcess #58826] INFO  search_tactic.py:367 - Evaluating subnetwork 12/50 in loop 2 of 5\n",
      "[06-27 12:45:36 MainProcess #58826] INFO  __init__.py:76 - > Calling validation_dataloader\n"
     ]
    },
    {
     "name": "stdout",
     "output_type": "stream",
     "text": [
      "Files already downloaded and verified\n"
     ]
    },
    {
     "name": "stderr",
     "output_type": "stream",
     "text": [
      "[06-27 12:45:36 MainProcess #58826] INFO  __init__.py:81 - > Finished validation_dataloader in 0.7728 s\n",
      "[06-27 12:45:37 MainProcess #58826] INFO  bootstrapnas_interface.py:90 - Using custom accuracy_top1 metric evaluation function.\n",
      "[06-27 12:45:45 MainProcess #58826] INFO  __init__.py:76 - > Calling validate_classification\n",
      "[06-27 12:45:46 MainProcess #58826] INFO  __init__.py:81 - > Finished validate_classification in 1.4565 s\n",
      "[06-27 12:45:46 MainProcess #58826] INFO  bootstrapnas_interface.py:108 - Validation accuracy: 93.40%\n",
      "[06-27 12:45:47 MainProcess #58826] INFO  __init__.py:76 - > Calling get_macs\n",
      "[06-27 12:45:48 MainProcess #58826] INFO  __init__.py:81 - > Finished get_macs in 0.8844 s\n",
      "[06-27 12:45:48 MainProcess #58826] INFO  search_tactic.py:367 - Evaluating subnetwork 13/50 in loop 2 of 5\n",
      "[06-27 12:45:48 MainProcess #58826] INFO  __init__.py:76 - > Calling validation_dataloader\n"
     ]
    },
    {
     "name": "stdout",
     "output_type": "stream",
     "text": [
      "Files already downloaded and verified\n"
     ]
    },
    {
     "name": "stderr",
     "output_type": "stream",
     "text": [
      "[06-27 12:45:48 MainProcess #58826] INFO  __init__.py:81 - > Finished validation_dataloader in 0.7329 s\n",
      "[06-27 12:45:49 MainProcess #58826] INFO  bootstrapnas_interface.py:90 - Using custom accuracy_top1 metric evaluation function.\n",
      "[06-27 12:45:55 MainProcess #58826] INFO  __init__.py:76 - > Calling validate_classification\n",
      "[06-27 12:45:56 MainProcess #58826] INFO  __init__.py:81 - > Finished validate_classification in 1.3829 s\n",
      "[06-27 12:45:56 MainProcess #58826] INFO  bootstrapnas_interface.py:108 - Validation accuracy: 92.88%\n",
      "[06-27 12:45:57 MainProcess #58826] INFO  __init__.py:76 - > Calling get_macs\n",
      "[06-27 12:45:58 MainProcess #58826] INFO  __init__.py:81 - > Finished get_macs in 1.1157 s\n",
      "[06-27 12:45:58 MainProcess #58826] INFO  search_tactic.py:367 - Evaluating subnetwork 14/50 in loop 2 of 5\n",
      "[06-27 12:45:58 MainProcess #58826] INFO  __init__.py:76 - > Calling validation_dataloader\n"
     ]
    },
    {
     "name": "stdout",
     "output_type": "stream",
     "text": [
      "Files already downloaded and verified\n"
     ]
    },
    {
     "name": "stderr",
     "output_type": "stream",
     "text": [
      "[06-27 12:45:59 MainProcess #58826] INFO  __init__.py:81 - > Finished validation_dataloader in 0.7154 s\n",
      "[06-27 12:46:00 MainProcess #58826] INFO  bootstrapnas_interface.py:90 - Using custom accuracy_top1 metric evaluation function.\n",
      "[06-27 12:46:05 MainProcess #58826] INFO  __init__.py:76 - > Calling validate_classification\n",
      "[06-27 12:46:07 MainProcess #58826] INFO  __init__.py:81 - > Finished validate_classification in 1.4491 s\n",
      "[06-27 12:46:07 MainProcess #58826] INFO  bootstrapnas_interface.py:108 - Validation accuracy: 92.83%\n",
      "[06-27 12:46:07 MainProcess #58826] INFO  __init__.py:76 - > Calling get_macs\n",
      "[06-27 12:46:08 MainProcess #58826] INFO  __init__.py:81 - > Finished get_macs in 0.8230 s\n",
      "[06-27 12:46:08 MainProcess #58826] INFO  search_tactic.py:367 - Evaluating subnetwork 15/50 in loop 2 of 5\n",
      "[06-27 12:46:08 MainProcess #58826] INFO  __init__.py:76 - > Calling validation_dataloader\n"
     ]
    },
    {
     "name": "stdout",
     "output_type": "stream",
     "text": [
      "Files already downloaded and verified\n"
     ]
    },
    {
     "name": "stderr",
     "output_type": "stream",
     "text": [
      "[06-27 12:46:09 MainProcess #58826] INFO  __init__.py:81 - > Finished validation_dataloader in 0.7189 s\n",
      "[06-27 12:46:10 MainProcess #58826] INFO  bootstrapnas_interface.py:90 - Using custom accuracy_top1 metric evaluation function.\n",
      "[06-27 12:46:15 MainProcess #58826] INFO  __init__.py:76 - > Calling validate_classification\n",
      "[06-27 12:46:17 MainProcess #58826] INFO  __init__.py:81 - > Finished validate_classification in 1.4748 s\n",
      "[06-27 12:46:17 MainProcess #58826] INFO  bootstrapnas_interface.py:108 - Validation accuracy: 93.41%\n",
      "[06-27 12:46:17 MainProcess #58826] INFO  __init__.py:76 - > Calling get_macs\n",
      "[06-27 12:46:18 MainProcess #58826] INFO  __init__.py:81 - > Finished get_macs in 0.8697 s\n",
      "[06-27 12:46:18 MainProcess #58826] INFO  search_tactic.py:367 - Evaluating subnetwork 16/50 in loop 2 of 5\n",
      "[06-27 12:46:18 MainProcess #58826] INFO  __init__.py:76 - > Calling validation_dataloader\n"
     ]
    },
    {
     "name": "stdout",
     "output_type": "stream",
     "text": [
      "Files already downloaded and verified\n"
     ]
    },
    {
     "name": "stderr",
     "output_type": "stream",
     "text": [
      "[06-27 12:46:19 MainProcess #58826] INFO  __init__.py:81 - > Finished validation_dataloader in 0.7221 s\n",
      "[06-27 12:46:20 MainProcess #58826] INFO  bootstrapnas_interface.py:90 - Using custom accuracy_top1 metric evaluation function.\n",
      "[06-27 12:46:26 MainProcess #58826] INFO  __init__.py:76 - > Calling validate_classification\n",
      "[06-27 12:46:27 MainProcess #58826] INFO  __init__.py:81 - > Finished validate_classification in 1.3696 s\n",
      "[06-27 12:46:27 MainProcess #58826] INFO  bootstrapnas_interface.py:108 - Validation accuracy: 93.21%\n",
      "[06-27 12:46:28 MainProcess #58826] INFO  __init__.py:76 - > Calling get_macs\n",
      "[06-27 12:46:29 MainProcess #58826] INFO  __init__.py:81 - > Finished get_macs in 0.8543 s\n",
      "[06-27 12:46:29 MainProcess #58826] INFO  search_tactic.py:367 - Evaluating subnetwork 17/50 in loop 2 of 5\n",
      "[06-27 12:46:29 MainProcess #58826] INFO  __init__.py:76 - > Calling validation_dataloader\n"
     ]
    },
    {
     "name": "stdout",
     "output_type": "stream",
     "text": [
      "Files already downloaded and verified\n"
     ]
    },
    {
     "name": "stderr",
     "output_type": "stream",
     "text": [
      "[06-27 12:46:29 MainProcess #58826] INFO  __init__.py:81 - > Finished validation_dataloader in 0.7184 s\n",
      "[06-27 12:46:30 MainProcess #58826] INFO  bootstrapnas_interface.py:90 - Using custom accuracy_top1 metric evaluation function.\n",
      "[06-27 12:46:36 MainProcess #58826] INFO  __init__.py:76 - > Calling validate_classification\n",
      "[06-27 12:46:38 MainProcess #58826] INFO  __init__.py:81 - > Finished validate_classification in 1.4145 s\n",
      "[06-27 12:46:38 MainProcess #58826] INFO  bootstrapnas_interface.py:108 - Validation accuracy: 93.35%\n",
      "[06-27 12:46:38 MainProcess #58826] INFO  __init__.py:76 - > Calling get_macs\n",
      "[06-27 12:46:39 MainProcess #58826] INFO  __init__.py:81 - > Finished get_macs in 0.8718 s\n",
      "[06-27 12:46:39 MainProcess #58826] INFO  search_tactic.py:367 - Evaluating subnetwork 18/50 in loop 2 of 5\n",
      "[06-27 12:46:39 MainProcess #58826] INFO  __init__.py:76 - > Calling validation_dataloader\n"
     ]
    },
    {
     "name": "stdout",
     "output_type": "stream",
     "text": [
      "Files already downloaded and verified\n"
     ]
    },
    {
     "name": "stderr",
     "output_type": "stream",
     "text": [
      "[06-27 12:46:40 MainProcess #58826] INFO  __init__.py:81 - > Finished validation_dataloader in 0.7232 s\n",
      "[06-27 12:46:41 MainProcess #58826] INFO  bootstrapnas_interface.py:90 - Using custom accuracy_top1 metric evaluation function.\n",
      "[06-27 12:46:47 MainProcess #58826] INFO  __init__.py:76 - > Calling validate_classification\n",
      "[06-27 12:46:49 MainProcess #58826] INFO  __init__.py:81 - > Finished validate_classification in 1.4021 s\n",
      "[06-27 12:46:49 MainProcess #58826] INFO  bootstrapnas_interface.py:108 - Validation accuracy: 93.26%\n",
      "[06-27 12:46:49 MainProcess #58826] INFO  __init__.py:76 - > Calling get_macs\n",
      "[06-27 12:46:50 MainProcess #58826] INFO  __init__.py:81 - > Finished get_macs in 0.9079 s\n",
      "[06-27 12:46:50 MainProcess #58826] INFO  search_tactic.py:367 - Evaluating subnetwork 19/50 in loop 2 of 5\n",
      "[06-27 12:46:50 MainProcess #58826] INFO  __init__.py:76 - > Calling validation_dataloader\n"
     ]
    },
    {
     "name": "stdout",
     "output_type": "stream",
     "text": [
      "Files already downloaded and verified\n"
     ]
    },
    {
     "name": "stderr",
     "output_type": "stream",
     "text": [
      "[06-27 12:46:51 MainProcess #58826] INFO  __init__.py:81 - > Finished validation_dataloader in 0.7263 s\n",
      "[06-27 12:46:51 MainProcess #58826] INFO  bootstrapnas_interface.py:90 - Using custom accuracy_top1 metric evaluation function.\n",
      "[06-27 12:46:58 MainProcess #58826] INFO  __init__.py:76 - > Calling validate_classification\n",
      "[06-27 12:46:59 MainProcess #58826] INFO  __init__.py:81 - > Finished validate_classification in 1.4516 s\n",
      "[06-27 12:46:59 MainProcess #58826] INFO  bootstrapnas_interface.py:108 - Validation accuracy: 93.40%\n",
      "[06-27 12:47:00 MainProcess #58826] INFO  __init__.py:76 - > Calling get_macs\n",
      "[06-27 12:47:01 MainProcess #58826] INFO  __init__.py:81 - > Finished get_macs in 0.8620 s\n",
      "[06-27 12:47:01 MainProcess #58826] INFO  search_tactic.py:367 - Evaluating subnetwork 20/50 in loop 2 of 5\n",
      "[06-27 12:47:01 MainProcess #58826] INFO  __init__.py:76 - > Calling validation_dataloader\n"
     ]
    },
    {
     "name": "stdout",
     "output_type": "stream",
     "text": [
      "Files already downloaded and verified\n"
     ]
    },
    {
     "name": "stderr",
     "output_type": "stream",
     "text": [
      "[06-27 12:47:01 MainProcess #58826] INFO  __init__.py:81 - > Finished validation_dataloader in 0.7365 s\n",
      "[06-27 12:47:02 MainProcess #58826] INFO  bootstrapnas_interface.py:90 - Using custom accuracy_top1 metric evaluation function.\n",
      "[06-27 12:47:09 MainProcess #58826] INFO  __init__.py:76 - > Calling validate_classification\n",
      "[06-27 12:47:10 MainProcess #58826] INFO  __init__.py:81 - > Finished validate_classification in 1.3964 s\n",
      "[06-27 12:47:10 MainProcess #58826] INFO  bootstrapnas_interface.py:108 - Validation accuracy: 93.45%\n",
      "[06-27 12:47:11 MainProcess #58826] INFO  __init__.py:76 - > Calling get_macs\n",
      "[06-27 12:47:12 MainProcess #58826] INFO  __init__.py:81 - > Finished get_macs in 0.9498 s\n",
      "[06-27 12:47:12 MainProcess #58826] INFO  search_tactic.py:367 - Evaluating subnetwork 21/50 in loop 2 of 5\n",
      "[06-27 12:47:12 MainProcess #58826] INFO  __init__.py:76 - > Calling validation_dataloader\n"
     ]
    },
    {
     "name": "stdout",
     "output_type": "stream",
     "text": [
      "Files already downloaded and verified\n"
     ]
    },
    {
     "name": "stderr",
     "output_type": "stream",
     "text": [
      "[06-27 12:47:13 MainProcess #58826] INFO  __init__.py:81 - > Finished validation_dataloader in 0.7289 s\n",
      "[06-27 12:47:13 MainProcess #58826] INFO  bootstrapnas_interface.py:90 - Using custom accuracy_top1 metric evaluation function.\n",
      "[06-27 12:47:20 MainProcess #58826] INFO  __init__.py:76 - > Calling validate_classification\n",
      "[06-27 12:47:21 MainProcess #58826] INFO  __init__.py:81 - > Finished validate_classification in 1.4913 s\n",
      "[06-27 12:47:21 MainProcess #58826] INFO  bootstrapnas_interface.py:108 - Validation accuracy: 93.39%\n",
      "[06-27 12:47:22 MainProcess #58826] INFO  __init__.py:76 - > Calling get_macs\n",
      "[06-27 12:47:23 MainProcess #58826] INFO  __init__.py:81 - > Finished get_macs in 0.8720 s\n",
      "[06-27 12:47:23 MainProcess #58826] INFO  search_tactic.py:367 - Evaluating subnetwork 22/50 in loop 2 of 5\n",
      "[06-27 12:47:23 MainProcess #58826] INFO  __init__.py:76 - > Calling validation_dataloader\n"
     ]
    },
    {
     "name": "stdout",
     "output_type": "stream",
     "text": [
      "Files already downloaded and verified\n"
     ]
    },
    {
     "name": "stderr",
     "output_type": "stream",
     "text": [
      "[06-27 12:47:24 MainProcess #58826] INFO  __init__.py:81 - > Finished validation_dataloader in 0.7446 s\n",
      "[06-27 12:47:24 MainProcess #58826] INFO  bootstrapnas_interface.py:90 - Using custom accuracy_top1 metric evaluation function.\n",
      "[06-27 12:47:31 MainProcess #58826] INFO  __init__.py:76 - > Calling validate_classification\n",
      "[06-27 12:47:33 MainProcess #58826] INFO  __init__.py:81 - > Finished validate_classification in 1.4421 s\n",
      "[06-27 12:47:33 MainProcess #58826] INFO  bootstrapnas_interface.py:108 - Validation accuracy: 93.52%\n",
      "[06-27 12:47:33 MainProcess #58826] INFO  __init__.py:76 - > Calling get_macs\n",
      "[06-27 12:47:34 MainProcess #58826] INFO  __init__.py:81 - > Finished get_macs in 0.9308 s\n",
      "[06-27 12:47:34 MainProcess #58826] INFO  search_tactic.py:367 - Evaluating subnetwork 23/50 in loop 2 of 5\n",
      "[06-27 12:47:34 MainProcess #58826] INFO  __init__.py:76 - > Calling validation_dataloader\n"
     ]
    },
    {
     "name": "stdout",
     "output_type": "stream",
     "text": [
      "Files already downloaded and verified\n"
     ]
    },
    {
     "name": "stderr",
     "output_type": "stream",
     "text": [
      "[06-27 12:47:35 MainProcess #58826] INFO  __init__.py:81 - > Finished validation_dataloader in 0.7767 s\n",
      "[06-27 12:47:36 MainProcess #58826] INFO  bootstrapnas_interface.py:90 - Using custom accuracy_top1 metric evaluation function.\n",
      "[06-27 12:47:42 MainProcess #58826] INFO  __init__.py:76 - > Calling validate_classification\n",
      "[06-27 12:47:43 MainProcess #58826] INFO  __init__.py:81 - > Finished validate_classification in 1.5553 s\n",
      "[06-27 12:47:43 MainProcess #58826] INFO  bootstrapnas_interface.py:108 - Validation accuracy: 93.53%\n",
      "[06-27 12:47:44 MainProcess #58826] INFO  __init__.py:76 - > Calling get_macs\n",
      "[06-27 12:47:45 MainProcess #58826] INFO  __init__.py:81 - > Finished get_macs in 0.9096 s\n",
      "[06-27 12:47:45 MainProcess #58826] INFO  search_tactic.py:367 - Evaluating subnetwork 24/50 in loop 2 of 5\n",
      "[06-27 12:47:45 MainProcess #58826] INFO  __init__.py:76 - > Calling validation_dataloader\n"
     ]
    },
    {
     "name": "stdout",
     "output_type": "stream",
     "text": [
      "Files already downloaded and verified\n"
     ]
    },
    {
     "name": "stderr",
     "output_type": "stream",
     "text": [
      "[06-27 12:47:46 MainProcess #58826] INFO  __init__.py:81 - > Finished validation_dataloader in 0.7324 s\n",
      "[06-27 12:47:47 MainProcess #58826] INFO  bootstrapnas_interface.py:90 - Using custom accuracy_top1 metric evaluation function.\n",
      "[06-27 12:47:52 MainProcess #58826] INFO  __init__.py:76 - > Calling validate_classification\n",
      "[06-27 12:47:54 MainProcess #58826] INFO  __init__.py:81 - > Finished validate_classification in 1.4141 s\n",
      "[06-27 12:47:54 MainProcess #58826] INFO  bootstrapnas_interface.py:108 - Validation accuracy: 92.88%\n",
      "[06-27 12:47:55 MainProcess #58826] INFO  __init__.py:76 - > Calling get_macs\n",
      "[06-27 12:47:55 MainProcess #58826] INFO  __init__.py:81 - > Finished get_macs in 0.7998 s\n",
      "[06-27 12:47:55 MainProcess #58826] INFO  search_tactic.py:367 - Evaluating subnetwork 25/50 in loop 2 of 5\n",
      "[06-27 12:47:55 MainProcess #58826] INFO  __init__.py:76 - > Calling validation_dataloader\n"
     ]
    },
    {
     "name": "stdout",
     "output_type": "stream",
     "text": [
      "Files already downloaded and verified\n"
     ]
    },
    {
     "name": "stderr",
     "output_type": "stream",
     "text": [
      "[06-27 12:47:56 MainProcess #58826] INFO  __init__.py:81 - > Finished validation_dataloader in 0.7255 s\n",
      "[06-27 12:47:57 MainProcess #58826] INFO  bootstrapnas_interface.py:90 - Using custom accuracy_top1 metric evaluation function.\n",
      "[06-27 12:48:03 MainProcess #58826] INFO  __init__.py:76 - > Calling validate_classification\n",
      "[06-27 12:48:04 MainProcess #58826] INFO  __init__.py:81 - > Finished validate_classification in 1.3531 s\n",
      "[06-27 12:48:04 MainProcess #58826] INFO  bootstrapnas_interface.py:108 - Validation accuracy: 93.21%\n",
      "[06-27 12:48:05 MainProcess #58826] INFO  __init__.py:76 - > Calling get_macs\n",
      "[06-27 12:48:06 MainProcess #58826] INFO  __init__.py:81 - > Finished get_macs in 1.1930 s\n",
      "[06-27 12:48:06 MainProcess #58826] INFO  search_tactic.py:367 - Evaluating subnetwork 26/50 in loop 2 of 5\n",
      "[06-27 12:48:06 MainProcess #58826] INFO  __init__.py:76 - > Calling validation_dataloader\n"
     ]
    },
    {
     "name": "stdout",
     "output_type": "stream",
     "text": [
      "Files already downloaded and verified\n"
     ]
    },
    {
     "name": "stderr",
     "output_type": "stream",
     "text": [
      "[06-27 12:48:07 MainProcess #58826] INFO  __init__.py:81 - > Finished validation_dataloader in 0.7365 s\n",
      "[06-27 12:48:08 MainProcess #58826] INFO  bootstrapnas_interface.py:90 - Using custom accuracy_top1 metric evaluation function.\n",
      "[06-27 12:48:14 MainProcess #58826] INFO  __init__.py:76 - > Calling validate_classification\n",
      "[06-27 12:48:16 MainProcess #58826] INFO  __init__.py:81 - > Finished validate_classification in 1.4276 s\n",
      "[06-27 12:48:16 MainProcess #58826] INFO  bootstrapnas_interface.py:108 - Validation accuracy: 93.41%\n",
      "[06-27 12:48:16 MainProcess #58826] INFO  __init__.py:76 - > Calling get_macs\n",
      "[06-27 12:48:17 MainProcess #58826] INFO  __init__.py:81 - > Finished get_macs in 0.9597 s\n",
      "[06-27 12:48:17 MainProcess #58826] INFO  search_tactic.py:367 - Evaluating subnetwork 27/50 in loop 2 of 5\n",
      "[06-27 12:48:17 MainProcess #58826] INFO  __init__.py:76 - > Calling validation_dataloader\n"
     ]
    },
    {
     "name": "stdout",
     "output_type": "stream",
     "text": [
      "Files already downloaded and verified\n"
     ]
    },
    {
     "name": "stderr",
     "output_type": "stream",
     "text": [
      "[06-27 12:48:18 MainProcess #58826] INFO  __init__.py:81 - > Finished validation_dataloader in 0.7540 s\n",
      "[06-27 12:48:19 MainProcess #58826] INFO  bootstrapnas_interface.py:90 - Using custom accuracy_top1 metric evaluation function.\n",
      "[06-27 12:48:25 MainProcess #58826] INFO  __init__.py:76 - > Calling validate_classification\n",
      "[06-27 12:48:26 MainProcess #58826] INFO  __init__.py:81 - > Finished validate_classification in 1.3966 s\n",
      "[06-27 12:48:26 MainProcess #58826] INFO  bootstrapnas_interface.py:108 - Validation accuracy: 93.33%\n",
      "[06-27 12:48:27 MainProcess #58826] INFO  __init__.py:76 - > Calling get_macs\n",
      "[06-27 12:48:28 MainProcess #58826] INFO  __init__.py:81 - > Finished get_macs in 0.8306 s\n",
      "[06-27 12:48:28 MainProcess #58826] INFO  search_tactic.py:367 - Evaluating subnetwork 28/50 in loop 2 of 5\n",
      "[06-27 12:48:28 MainProcess #58826] INFO  __init__.py:76 - > Calling validation_dataloader\n"
     ]
    },
    {
     "name": "stdout",
     "output_type": "stream",
     "text": [
      "Files already downloaded and verified\n"
     ]
    },
    {
     "name": "stderr",
     "output_type": "stream",
     "text": [
      "[06-27 12:48:28 MainProcess #58826] INFO  __init__.py:81 - > Finished validation_dataloader in 0.7258 s\n",
      "[06-27 12:48:29 MainProcess #58826] INFO  bootstrapnas_interface.py:90 - Using custom accuracy_top1 metric evaluation function.\n",
      "[06-27 12:48:35 MainProcess #58826] INFO  __init__.py:76 - > Calling validate_classification\n",
      "[06-27 12:48:37 MainProcess #58826] INFO  __init__.py:81 - > Finished validate_classification in 1.5568 s\n",
      "[06-27 12:48:37 MainProcess #58826] INFO  bootstrapnas_interface.py:108 - Validation accuracy: 93.43%\n",
      "[06-27 12:48:37 MainProcess #58826] INFO  __init__.py:76 - > Calling get_macs\n",
      "[06-27 12:48:38 MainProcess #58826] INFO  __init__.py:81 - > Finished get_macs in 0.7929 s\n",
      "[06-27 12:48:38 MainProcess #58826] INFO  search_tactic.py:367 - Evaluating subnetwork 29/50 in loop 2 of 5\n",
      "[06-27 12:48:38 MainProcess #58826] INFO  __init__.py:76 - > Calling validation_dataloader\n"
     ]
    },
    {
     "name": "stdout",
     "output_type": "stream",
     "text": [
      "Files already downloaded and verified\n"
     ]
    },
    {
     "name": "stderr",
     "output_type": "stream",
     "text": [
      "[06-27 12:48:39 MainProcess #58826] INFO  __init__.py:81 - > Finished validation_dataloader in 0.7292 s\n",
      "[06-27 12:48:39 MainProcess #58826] INFO  bootstrapnas_interface.py:90 - Using custom accuracy_top1 metric evaluation function.\n",
      "[06-27 12:48:46 MainProcess #58826] INFO  __init__.py:76 - > Calling validate_classification\n",
      "[06-27 12:48:47 MainProcess #58826] INFO  __init__.py:81 - > Finished validate_classification in 1.4195 s\n",
      "[06-27 12:48:47 MainProcess #58826] INFO  bootstrapnas_interface.py:108 - Validation accuracy: 93.36%\n",
      "[06-27 12:48:48 MainProcess #58826] INFO  __init__.py:76 - > Calling get_macs\n",
      "[06-27 12:48:48 MainProcess #58826] INFO  __init__.py:81 - > Finished get_macs in 0.8669 s\n",
      "[06-27 12:48:48 MainProcess #58826] INFO  search_tactic.py:367 - Evaluating subnetwork 30/50 in loop 2 of 5\n",
      "[06-27 12:48:48 MainProcess #58826] INFO  __init__.py:76 - > Calling validation_dataloader\n"
     ]
    },
    {
     "name": "stdout",
     "output_type": "stream",
     "text": [
      "Files already downloaded and verified\n"
     ]
    },
    {
     "name": "stderr",
     "output_type": "stream",
     "text": [
      "[06-27 12:48:49 MainProcess #58826] INFO  __init__.py:81 - > Finished validation_dataloader in 0.7700 s\n",
      "[06-27 12:48:50 MainProcess #58826] INFO  bootstrapnas_interface.py:90 - Using custom accuracy_top1 metric evaluation function.\n",
      "[06-27 12:48:56 MainProcess #58826] INFO  __init__.py:76 - > Calling validate_classification\n",
      "[06-27 12:48:58 MainProcess #58826] INFO  __init__.py:81 - > Finished validate_classification in 1.4650 s\n",
      "[06-27 12:48:58 MainProcess #58826] INFO  bootstrapnas_interface.py:108 - Validation accuracy: 93.39%\n",
      "[06-27 12:48:58 MainProcess #58826] INFO  __init__.py:76 - > Calling get_macs\n",
      "[06-27 12:48:59 MainProcess #58826] INFO  __init__.py:81 - > Finished get_macs in 0.8579 s\n",
      "[06-27 12:48:59 MainProcess #58826] INFO  search_tactic.py:367 - Evaluating subnetwork 31/50 in loop 2 of 5\n",
      "[06-27 12:48:59 MainProcess #58826] INFO  __init__.py:76 - > Calling validation_dataloader\n"
     ]
    },
    {
     "name": "stdout",
     "output_type": "stream",
     "text": [
      "Files already downloaded and verified\n"
     ]
    },
    {
     "name": "stderr",
     "output_type": "stream",
     "text": [
      "[06-27 12:49:00 MainProcess #58826] INFO  __init__.py:81 - > Finished validation_dataloader in 0.7234 s\n",
      "[06-27 12:49:01 MainProcess #58826] INFO  bootstrapnas_interface.py:90 - Using custom accuracy_top1 metric evaluation function.\n",
      "[06-27 12:49:07 MainProcess #58826] INFO  __init__.py:76 - > Calling validate_classification\n",
      "[06-27 12:49:08 MainProcess #58826] INFO  __init__.py:81 - > Finished validate_classification in 1.4236 s\n",
      "[06-27 12:49:08 MainProcess #58826] INFO  bootstrapnas_interface.py:108 - Validation accuracy: 93.50%\n",
      "[06-27 12:49:09 MainProcess #58826] INFO  __init__.py:76 - > Calling get_macs\n",
      "[06-27 12:49:10 MainProcess #58826] INFO  __init__.py:81 - > Finished get_macs in 1.1796 s\n",
      "[06-27 12:49:10 MainProcess #58826] INFO  search_tactic.py:367 - Evaluating subnetwork 32/50 in loop 2 of 5\n",
      "[06-27 12:49:10 MainProcess #58826] INFO  __init__.py:76 - > Calling validation_dataloader\n"
     ]
    },
    {
     "name": "stdout",
     "output_type": "stream",
     "text": [
      "Files already downloaded and verified\n"
     ]
    },
    {
     "name": "stderr",
     "output_type": "stream",
     "text": [
      "[06-27 12:49:11 MainProcess #58826] INFO  __init__.py:81 - > Finished validation_dataloader in 0.7206 s\n",
      "[06-27 12:49:11 MainProcess #58826] INFO  bootstrapnas_interface.py:90 - Using custom accuracy_top1 metric evaluation function.\n",
      "[06-27 12:49:18 MainProcess #58826] INFO  __init__.py:76 - > Calling validate_classification\n",
      "[06-27 12:49:19 MainProcess #58826] INFO  __init__.py:81 - > Finished validate_classification in 1.4194 s\n",
      "[06-27 12:49:19 MainProcess #58826] INFO  bootstrapnas_interface.py:108 - Validation accuracy: 93.49%\n",
      "[06-27 12:49:20 MainProcess #58826] INFO  __init__.py:76 - > Calling get_macs\n",
      "[06-27 12:49:21 MainProcess #58826] INFO  __init__.py:81 - > Finished get_macs in 0.9017 s\n",
      "[06-27 12:49:21 MainProcess #58826] INFO  search_tactic.py:367 - Evaluating subnetwork 33/50 in loop 2 of 5\n",
      "[06-27 12:49:21 MainProcess #58826] INFO  __init__.py:76 - > Calling validation_dataloader\n"
     ]
    },
    {
     "name": "stdout",
     "output_type": "stream",
     "text": [
      "Files already downloaded and verified\n"
     ]
    },
    {
     "name": "stderr",
     "output_type": "stream",
     "text": [
      "[06-27 12:49:22 MainProcess #58826] INFO  __init__.py:81 - > Finished validation_dataloader in 0.7329 s\n",
      "[06-27 12:49:23 MainProcess #58826] INFO  bootstrapnas_interface.py:90 - Using custom accuracy_top1 metric evaluation function.\n",
      "[06-27 12:49:29 MainProcess #58826] INFO  __init__.py:76 - > Calling validate_classification\n",
      "[06-27 12:49:30 MainProcess #58826] INFO  __init__.py:81 - > Finished validate_classification in 1.4655 s\n",
      "[06-27 12:49:30 MainProcess #58826] INFO  bootstrapnas_interface.py:108 - Validation accuracy: 93.57%\n",
      "[06-27 12:49:31 MainProcess #58826] INFO  __init__.py:76 - > Calling get_macs\n",
      "[06-27 12:49:32 MainProcess #58826] INFO  __init__.py:81 - > Finished get_macs in 0.9238 s\n",
      "[06-27 12:49:32 MainProcess #58826] INFO  search_tactic.py:367 - Evaluating subnetwork 34/50 in loop 2 of 5\n",
      "[06-27 12:49:32 MainProcess #58826] INFO  __init__.py:76 - > Calling validation_dataloader\n"
     ]
    },
    {
     "name": "stdout",
     "output_type": "stream",
     "text": [
      "Files already downloaded and verified\n"
     ]
    },
    {
     "name": "stderr",
     "output_type": "stream",
     "text": [
      "[06-27 12:49:33 MainProcess #58826] INFO  __init__.py:81 - > Finished validation_dataloader in 0.7225 s\n",
      "[06-27 12:49:34 MainProcess #58826] INFO  bootstrapnas_interface.py:90 - Using custom accuracy_top1 metric evaluation function.\n",
      "[06-27 12:49:41 MainProcess #58826] INFO  __init__.py:76 - > Calling validate_classification\n",
      "[06-27 12:49:43 MainProcess #58826] INFO  __init__.py:81 - > Finished validate_classification in 1.4855 s\n",
      "[06-27 12:49:43 MainProcess #58826] INFO  bootstrapnas_interface.py:108 - Validation accuracy: 93.51%\n",
      "[06-27 12:49:44 MainProcess #58826] INFO  __init__.py:76 - > Calling get_macs\n",
      "[06-27 12:49:45 MainProcess #58826] INFO  __init__.py:81 - > Finished get_macs in 0.9757 s\n",
      "[06-27 12:49:45 MainProcess #58826] INFO  search_tactic.py:367 - Evaluating subnetwork 35/50 in loop 2 of 5\n",
      "[06-27 12:49:45 MainProcess #58826] INFO  __init__.py:76 - > Calling validation_dataloader\n"
     ]
    },
    {
     "name": "stdout",
     "output_type": "stream",
     "text": [
      "Files already downloaded and verified\n"
     ]
    },
    {
     "name": "stderr",
     "output_type": "stream",
     "text": [
      "[06-27 12:49:45 MainProcess #58826] INFO  __init__.py:81 - > Finished validation_dataloader in 0.7749 s\n",
      "[06-27 12:49:46 MainProcess #58826] INFO  bootstrapnas_interface.py:90 - Using custom accuracy_top1 metric evaluation function.\n",
      "[06-27 12:49:55 MainProcess #58826] INFO  __init__.py:76 - > Calling validate_classification\n",
      "[06-27 12:49:57 MainProcess #58826] INFO  __init__.py:81 - > Finished validate_classification in 2.0656 s\n",
      "[06-27 12:49:57 MainProcess #58826] INFO  bootstrapnas_interface.py:108 - Validation accuracy: 93.55%\n",
      "[06-27 12:49:58 MainProcess #58826] INFO  __init__.py:76 - > Calling get_macs\n",
      "[06-27 12:49:59 MainProcess #58826] INFO  __init__.py:81 - > Finished get_macs in 0.9119 s\n",
      "[06-27 12:49:59 MainProcess #58826] INFO  search_tactic.py:367 - Evaluating subnetwork 36/50 in loop 2 of 5\n",
      "[06-27 12:49:59 MainProcess #58826] INFO  __init__.py:76 - > Calling validation_dataloader\n"
     ]
    },
    {
     "name": "stdout",
     "output_type": "stream",
     "text": [
      "Files already downloaded and verified\n"
     ]
    },
    {
     "name": "stderr",
     "output_type": "stream",
     "text": [
      "[06-27 12:50:00 MainProcess #58826] INFO  __init__.py:81 - > Finished validation_dataloader in 0.7208 s\n",
      "[06-27 12:50:00 MainProcess #58826] INFO  bootstrapnas_interface.py:90 - Using custom accuracy_top1 metric evaluation function.\n",
      "[06-27 12:50:06 MainProcess #58826] INFO  __init__.py:76 - > Calling validate_classification\n",
      "[06-27 12:50:08 MainProcess #58826] INFO  __init__.py:81 - > Finished validate_classification in 1.4630 s\n",
      "[06-27 12:50:08 MainProcess #58826] INFO  bootstrapnas_interface.py:108 - Validation accuracy: 93.41%\n",
      "[06-27 12:50:08 MainProcess #58826] INFO  __init__.py:76 - > Calling get_macs\n",
      "[06-27 12:50:09 MainProcess #58826] INFO  __init__.py:81 - > Finished get_macs in 0.8066 s\n",
      "[06-27 12:50:09 MainProcess #58826] INFO  search_tactic.py:367 - Evaluating subnetwork 37/50 in loop 2 of 5\n",
      "[06-27 12:50:09 MainProcess #58826] INFO  __init__.py:76 - > Calling validation_dataloader\n"
     ]
    },
    {
     "name": "stdout",
     "output_type": "stream",
     "text": [
      "Files already downloaded and verified\n"
     ]
    },
    {
     "name": "stderr",
     "output_type": "stream",
     "text": [
      "[06-27 12:50:10 MainProcess #58826] INFO  __init__.py:81 - > Finished validation_dataloader in 0.6929 s\n",
      "[06-27 12:50:10 MainProcess #58826] INFO  bootstrapnas_interface.py:90 - Using custom accuracy_top1 metric evaluation function.\n",
      "[06-27 12:50:16 MainProcess #58826] INFO  __init__.py:76 - > Calling validate_classification\n",
      "[06-27 12:50:18 MainProcess #58826] INFO  __init__.py:81 - > Finished validate_classification in 1.4375 s\n",
      "[06-27 12:50:18 MainProcess #58826] INFO  bootstrapnas_interface.py:108 - Validation accuracy: 93.10%\n",
      "[06-27 12:50:18 MainProcess #58826] INFO  __init__.py:76 - > Calling get_macs\n",
      "[06-27 12:50:19 MainProcess #58826] INFO  __init__.py:81 - > Finished get_macs in 1.0891 s\n",
      "[06-27 12:50:19 MainProcess #58826] INFO  search_tactic.py:367 - Evaluating subnetwork 38/50 in loop 2 of 5\n",
      "[06-27 12:50:19 MainProcess #58826] INFO  __init__.py:76 - > Calling validation_dataloader\n"
     ]
    },
    {
     "name": "stdout",
     "output_type": "stream",
     "text": [
      "Files already downloaded and verified\n"
     ]
    },
    {
     "name": "stderr",
     "output_type": "stream",
     "text": [
      "[06-27 12:50:20 MainProcess #58826] INFO  __init__.py:81 - > Finished validation_dataloader in 0.7410 s\n",
      "[06-27 12:50:21 MainProcess #58826] INFO  bootstrapnas_interface.py:90 - Using custom accuracy_top1 metric evaluation function.\n",
      "[06-27 12:50:27 MainProcess #58826] INFO  __init__.py:76 - > Calling validate_classification\n",
      "[06-27 12:50:29 MainProcess #58826] INFO  __init__.py:81 - > Finished validate_classification in 1.4763 s\n",
      "[06-27 12:50:29 MainProcess #58826] INFO  bootstrapnas_interface.py:108 - Validation accuracy: 93.47%\n",
      "[06-27 12:50:30 MainProcess #58826] INFO  __init__.py:76 - > Calling get_macs\n",
      "[06-27 12:50:30 MainProcess #58826] INFO  __init__.py:81 - > Finished get_macs in 0.9000 s\n",
      "[06-27 12:50:30 MainProcess #58826] INFO  search_tactic.py:367 - Evaluating subnetwork 39/50 in loop 2 of 5\n",
      "[06-27 12:50:30 MainProcess #58826] INFO  __init__.py:76 - > Calling validation_dataloader\n"
     ]
    },
    {
     "name": "stdout",
     "output_type": "stream",
     "text": [
      "Files already downloaded and verified\n"
     ]
    },
    {
     "name": "stderr",
     "output_type": "stream",
     "text": [
      "[06-27 12:50:31 MainProcess #58826] INFO  __init__.py:81 - > Finished validation_dataloader in 0.7719 s\n",
      "[06-27 12:50:32 MainProcess #58826] INFO  bootstrapnas_interface.py:90 - Using custom accuracy_top1 metric evaluation function.\n",
      "[06-27 12:50:38 MainProcess #58826] INFO  __init__.py:76 - > Calling validate_classification\n",
      "[06-27 12:50:39 MainProcess #58826] INFO  __init__.py:81 - > Finished validate_classification in 1.4102 s\n",
      "[06-27 12:50:39 MainProcess #58826] INFO  bootstrapnas_interface.py:108 - Validation accuracy: 93.41%\n",
      "[06-27 12:50:40 MainProcess #58826] INFO  __init__.py:76 - > Calling get_macs\n",
      "[06-27 12:50:41 MainProcess #58826] INFO  __init__.py:81 - > Finished get_macs in 0.8138 s\n",
      "[06-27 12:50:41 MainProcess #58826] INFO  search_tactic.py:367 - Evaluating subnetwork 40/50 in loop 2 of 5\n",
      "[06-27 12:50:41 MainProcess #58826] INFO  __init__.py:76 - > Calling validation_dataloader\n"
     ]
    },
    {
     "name": "stdout",
     "output_type": "stream",
     "text": [
      "Files already downloaded and verified\n"
     ]
    },
    {
     "name": "stderr",
     "output_type": "stream",
     "text": [
      "[06-27 12:50:41 MainProcess #58826] INFO  __init__.py:81 - > Finished validation_dataloader in 0.7232 s\n",
      "[06-27 12:50:42 MainProcess #58826] INFO  bootstrapnas_interface.py:90 - Using custom accuracy_top1 metric evaluation function.\n",
      "[06-27 12:50:48 MainProcess #58826] INFO  __init__.py:76 - > Calling validate_classification\n",
      "[06-27 12:50:49 MainProcess #58826] INFO  __init__.py:81 - > Finished validate_classification in 1.4120 s\n",
      "[06-27 12:50:49 MainProcess #58826] INFO  bootstrapnas_interface.py:108 - Validation accuracy: 93.26%\n",
      "[06-27 12:50:50 MainProcess #58826] INFO  __init__.py:76 - > Calling get_macs\n",
      "[06-27 12:50:51 MainProcess #58826] INFO  __init__.py:81 - > Finished get_macs in 0.8798 s\n",
      "[06-27 12:50:51 MainProcess #58826] INFO  search_tactic.py:367 - Evaluating subnetwork 41/50 in loop 2 of 5\n",
      "[06-27 12:50:51 MainProcess #58826] INFO  __init__.py:76 - > Calling validation_dataloader\n"
     ]
    },
    {
     "name": "stdout",
     "output_type": "stream",
     "text": [
      "Files already downloaded and verified\n"
     ]
    },
    {
     "name": "stderr",
     "output_type": "stream",
     "text": [
      "[06-27 12:50:52 MainProcess #58826] INFO  __init__.py:81 - > Finished validation_dataloader in 0.7357 s\n",
      "[06-27 12:50:53 MainProcess #58826] INFO  bootstrapnas_interface.py:90 - Using custom accuracy_top1 metric evaluation function.\n",
      "[06-27 12:50:59 MainProcess #58826] INFO  __init__.py:76 - > Calling validate_classification\n",
      "[06-27 12:51:00 MainProcess #58826] INFO  __init__.py:81 - > Finished validate_classification in 1.5019 s\n",
      "[06-27 12:51:00 MainProcess #58826] INFO  bootstrapnas_interface.py:108 - Validation accuracy: 93.40%\n",
      "[06-27 12:51:01 MainProcess #58826] INFO  __init__.py:76 - > Calling get_macs\n",
      "[06-27 12:51:02 MainProcess #58826] INFO  __init__.py:81 - > Finished get_macs in 0.9536 s\n",
      "[06-27 12:51:02 MainProcess #58826] INFO  search_tactic.py:367 - Evaluating subnetwork 42/50 in loop 2 of 5\n",
      "[06-27 12:51:02 MainProcess #58826] INFO  __init__.py:76 - > Calling validation_dataloader\n"
     ]
    },
    {
     "name": "stdout",
     "output_type": "stream",
     "text": [
      "Files already downloaded and verified\n"
     ]
    },
    {
     "name": "stderr",
     "output_type": "stream",
     "text": [
      "[06-27 12:51:02 MainProcess #58826] INFO  __init__.py:81 - > Finished validation_dataloader in 0.7839 s\n",
      "[06-27 12:51:03 MainProcess #58826] INFO  bootstrapnas_interface.py:90 - Using custom accuracy_top1 metric evaluation function.\n",
      "[06-27 12:51:09 MainProcess #58826] INFO  __init__.py:76 - > Calling validate_classification\n",
      "[06-27 12:51:11 MainProcess #58826] INFO  __init__.py:81 - > Finished validate_classification in 1.3530 s\n",
      "[06-27 12:51:11 MainProcess #58826] INFO  bootstrapnas_interface.py:108 - Validation accuracy: 93.31%\n",
      "[06-27 12:51:11 MainProcess #58826] INFO  __init__.py:76 - > Calling get_macs\n",
      "[06-27 12:51:12 MainProcess #58826] INFO  __init__.py:81 - > Finished get_macs in 0.8303 s\n",
      "[06-27 12:51:12 MainProcess #58826] INFO  search_tactic.py:367 - Evaluating subnetwork 43/50 in loop 2 of 5\n",
      "[06-27 12:51:12 MainProcess #58826] INFO  __init__.py:76 - > Calling validation_dataloader\n"
     ]
    },
    {
     "name": "stdout",
     "output_type": "stream",
     "text": [
      "Files already downloaded and verified\n"
     ]
    },
    {
     "name": "stderr",
     "output_type": "stream",
     "text": [
      "[06-27 12:51:13 MainProcess #58826] INFO  __init__.py:81 - > Finished validation_dataloader in 0.7506 s\n",
      "[06-27 12:51:14 MainProcess #58826] INFO  bootstrapnas_interface.py:90 - Using custom accuracy_top1 metric evaluation function.\n",
      "[06-27 12:51:20 MainProcess #58826] INFO  __init__.py:76 - > Calling validate_classification\n",
      "[06-27 12:51:21 MainProcess #58826] INFO  __init__.py:81 - > Finished validate_classification in 1.4662 s\n",
      "[06-27 12:51:21 MainProcess #58826] INFO  bootstrapnas_interface.py:108 - Validation accuracy: 93.45%\n",
      "[06-27 12:51:22 MainProcess #58826] INFO  __init__.py:76 - > Calling get_macs\n",
      "[06-27 12:51:23 MainProcess #58826] INFO  __init__.py:81 - > Finished get_macs in 1.1499 s\n",
      "[06-27 12:51:23 MainProcess #58826] INFO  search_tactic.py:367 - Evaluating subnetwork 44/50 in loop 2 of 5\n",
      "[06-27 12:51:23 MainProcess #58826] INFO  __init__.py:76 - > Calling validation_dataloader\n"
     ]
    },
    {
     "name": "stdout",
     "output_type": "stream",
     "text": [
      "Files already downloaded and verified\n"
     ]
    },
    {
     "name": "stderr",
     "output_type": "stream",
     "text": [
      "[06-27 12:51:24 MainProcess #58826] INFO  __init__.py:81 - > Finished validation_dataloader in 0.7196 s\n",
      "[06-27 12:51:25 MainProcess #58826] INFO  bootstrapnas_interface.py:90 - Using custom accuracy_top1 metric evaluation function.\n",
      "[06-27 12:51:31 MainProcess #58826] INFO  __init__.py:76 - > Calling validate_classification\n",
      "[06-27 12:51:32 MainProcess #58826] INFO  __init__.py:81 - > Finished validate_classification in 1.4341 s\n",
      "[06-27 12:51:32 MainProcess #58826] INFO  bootstrapnas_interface.py:108 - Validation accuracy: 93.34%\n",
      "[06-27 12:51:32 MainProcess #58826] INFO  __init__.py:76 - > Calling get_macs\n",
      "[06-27 12:51:33 MainProcess #58826] INFO  __init__.py:81 - > Finished get_macs in 0.8541 s\n",
      "[06-27 12:51:33 MainProcess #58826] INFO  search_tactic.py:367 - Evaluating subnetwork 45/50 in loop 2 of 5\n",
      "[06-27 12:51:33 MainProcess #58826] INFO  __init__.py:76 - > Calling validation_dataloader\n"
     ]
    },
    {
     "name": "stdout",
     "output_type": "stream",
     "text": [
      "Files already downloaded and verified\n"
     ]
    },
    {
     "name": "stderr",
     "output_type": "stream",
     "text": [
      "[06-27 12:51:34 MainProcess #58826] INFO  __init__.py:81 - > Finished validation_dataloader in 0.7193 s\n",
      "[06-27 12:51:35 MainProcess #58826] INFO  bootstrapnas_interface.py:90 - Using custom accuracy_top1 metric evaluation function.\n",
      "[06-27 12:51:41 MainProcess #58826] INFO  __init__.py:76 - > Calling validate_classification\n",
      "[06-27 12:51:42 MainProcess #58826] INFO  __init__.py:81 - > Finished validate_classification in 1.5295 s\n",
      "[06-27 12:51:42 MainProcess #58826] INFO  bootstrapnas_interface.py:108 - Validation accuracy: 93.39%\n",
      "[06-27 12:51:43 MainProcess #58826] INFO  __init__.py:76 - > Calling get_macs\n",
      "[06-27 12:51:44 MainProcess #58826] INFO  __init__.py:81 - > Finished get_macs in 0.8844 s\n",
      "[06-27 12:51:44 MainProcess #58826] INFO  search_tactic.py:367 - Evaluating subnetwork 46/50 in loop 2 of 5\n",
      "[06-27 12:51:44 MainProcess #58826] INFO  __init__.py:76 - > Calling validation_dataloader\n"
     ]
    },
    {
     "name": "stdout",
     "output_type": "stream",
     "text": [
      "Files already downloaded and verified\n"
     ]
    },
    {
     "name": "stderr",
     "output_type": "stream",
     "text": [
      "[06-27 12:51:44 MainProcess #58826] INFO  __init__.py:81 - > Finished validation_dataloader in 0.7284 s\n",
      "[06-27 12:51:45 MainProcess #58826] INFO  bootstrapnas_interface.py:90 - Using custom accuracy_top1 metric evaluation function.\n",
      "[06-27 12:51:51 MainProcess #58826] INFO  __init__.py:76 - > Calling validate_classification\n",
      "[06-27 12:51:53 MainProcess #58826] INFO  __init__.py:81 - > Finished validate_classification in 1.4074 s\n",
      "[06-27 12:51:53 MainProcess #58826] INFO  bootstrapnas_interface.py:108 - Validation accuracy: 93.41%\n",
      "[06-27 12:51:53 MainProcess #58826] INFO  __init__.py:76 - > Calling get_macs\n",
      "[06-27 12:51:54 MainProcess #58826] INFO  __init__.py:81 - > Finished get_macs in 0.9203 s\n",
      "[06-27 12:51:54 MainProcess #58826] INFO  search_tactic.py:367 - Evaluating subnetwork 47/50 in loop 2 of 5\n",
      "[06-27 12:51:54 MainProcess #58826] INFO  __init__.py:76 - > Calling validation_dataloader\n"
     ]
    },
    {
     "name": "stdout",
     "output_type": "stream",
     "text": [
      "Files already downloaded and verified\n"
     ]
    },
    {
     "name": "stderr",
     "output_type": "stream",
     "text": [
      "[06-27 12:51:55 MainProcess #58826] INFO  __init__.py:81 - > Finished validation_dataloader in 0.7247 s\n",
      "[06-27 12:51:56 MainProcess #58826] INFO  bootstrapnas_interface.py:90 - Using custom accuracy_top1 metric evaluation function.\n",
      "[06-27 12:52:02 MainProcess #58826] INFO  __init__.py:76 - > Calling validate_classification\n",
      "[06-27 12:52:03 MainProcess #58826] INFO  __init__.py:81 - > Finished validate_classification in 1.4853 s\n",
      "[06-27 12:52:03 MainProcess #58826] INFO  bootstrapnas_interface.py:108 - Validation accuracy: 93.47%\n",
      "[06-27 12:52:04 MainProcess #58826] INFO  __init__.py:76 - > Calling get_macs\n",
      "[06-27 12:52:05 MainProcess #58826] INFO  __init__.py:81 - > Finished get_macs in 0.8473 s\n",
      "[06-27 12:52:05 MainProcess #58826] INFO  search_tactic.py:367 - Evaluating subnetwork 48/50 in loop 2 of 5\n",
      "[06-27 12:52:05 MainProcess #58826] INFO  __init__.py:76 - > Calling validation_dataloader\n"
     ]
    },
    {
     "name": "stdout",
     "output_type": "stream",
     "text": [
      "Files already downloaded and verified\n"
     ]
    },
    {
     "name": "stderr",
     "output_type": "stream",
     "text": [
      "[06-27 12:52:05 MainProcess #58826] INFO  __init__.py:81 - > Finished validation_dataloader in 0.7252 s\n",
      "[06-27 12:52:06 MainProcess #58826] INFO  bootstrapnas_interface.py:90 - Using custom accuracy_top1 metric evaluation function.\n",
      "[06-27 12:52:12 MainProcess #58826] INFO  __init__.py:76 - > Calling validate_classification\n",
      "[06-27 12:52:14 MainProcess #58826] INFO  __init__.py:81 - > Finished validate_classification in 1.4421 s\n",
      "[06-27 12:52:14 MainProcess #58826] INFO  bootstrapnas_interface.py:108 - Validation accuracy: 93.47%\n",
      "[06-27 12:52:15 MainProcess #58826] INFO  __init__.py:76 - > Calling get_macs\n",
      "[06-27 12:52:15 MainProcess #58826] INFO  __init__.py:81 - > Finished get_macs in 0.8912 s\n",
      "[06-27 12:52:15 MainProcess #58826] INFO  search_tactic.py:367 - Evaluating subnetwork 49/50 in loop 2 of 5\n",
      "[06-27 12:52:15 MainProcess #58826] INFO  __init__.py:76 - > Calling validation_dataloader\n"
     ]
    },
    {
     "name": "stdout",
     "output_type": "stream",
     "text": [
      "Files already downloaded and verified\n"
     ]
    },
    {
     "name": "stderr",
     "output_type": "stream",
     "text": [
      "[06-27 12:52:16 MainProcess #58826] INFO  __init__.py:81 - > Finished validation_dataloader in 0.7497 s\n",
      "[06-27 12:52:17 MainProcess #58826] INFO  bootstrapnas_interface.py:90 - Using custom accuracy_top1 metric evaluation function.\n",
      "[06-27 12:52:24 MainProcess #58826] INFO  __init__.py:76 - > Calling validate_classification\n",
      "[06-27 12:52:25 MainProcess #58826] INFO  __init__.py:81 - > Finished validate_classification in 1.5158 s\n",
      "[06-27 12:52:25 MainProcess #58826] INFO  bootstrapnas_interface.py:108 - Validation accuracy: 93.37%\n",
      "[06-27 12:52:26 MainProcess #58826] INFO  __init__.py:76 - > Calling get_macs\n",
      "[06-27 12:52:27 MainProcess #58826] INFO  __init__.py:81 - > Finished get_macs in 0.9061 s\n",
      "[06-27 12:52:27 MainProcess #58826] INFO  search_tactic.py:367 - Evaluating subnetwork 50/50 in loop 2 of 5\n",
      "[06-27 12:52:27 MainProcess #58826] INFO  __init__.py:76 - > Calling validation_dataloader\n"
     ]
    },
    {
     "name": "stdout",
     "output_type": "stream",
     "text": [
      "Files already downloaded and verified\n"
     ]
    },
    {
     "name": "stderr",
     "output_type": "stream",
     "text": [
      "[06-27 12:52:27 MainProcess #58826] INFO  __init__.py:81 - > Finished validation_dataloader in 0.7201 s\n",
      "[06-27 12:52:28 MainProcess #58826] INFO  bootstrapnas_interface.py:90 - Using custom accuracy_top1 metric evaluation function.\n",
      "[06-27 12:52:34 MainProcess #58826] INFO  __init__.py:76 - > Calling validate_classification\n",
      "[06-27 12:52:36 MainProcess #58826] INFO  __init__.py:81 - > Finished validate_classification in 1.5146 s\n",
      "[06-27 12:52:36 MainProcess #58826] INFO  bootstrapnas_interface.py:108 - Validation accuracy: 93.53%\n",
      "[06-27 12:52:37 MainProcess #58826] INFO  __init__.py:76 - > Calling get_macs\n",
      "[06-27 12:52:38 MainProcess #58826] INFO  __init__.py:81 - > Finished get_macs in 1.1659 s\n",
      "[06-27 12:52:38 MainProcess #58826] INFO  search_tactic.py:345 - Training macs predictor.\n",
      "[06-27 12:52:38 MainProcess #58826] INFO  predictor_manager.py:38 - Building dynamic predictor for macs\n",
      "[06-27 12:52:38 MainProcess #58826] INFO  encoding.py:246 - Training set length=100\n",
      "[06-27 12:52:43 MainProcess #58826] INFO  search_tactic.py:347 - Updated self.predictor_dict[macs].\n",
      "[06-27 12:52:43 MainProcess #58826] INFO  search_tactic.py:345 - Training accuracy_top1 predictor.\n",
      "[06-27 12:52:43 MainProcess #58826] INFO  predictor_manager.py:38 - Building dynamic predictor for accuracy_top1\n",
      "[06-27 12:52:43 MainProcess #58826] INFO  encoding.py:246 - Training set length=100\n",
      "[06-27 12:52:44 MainProcess #58826] INFO  search_tactic.py:347 - Updated self.predictor_dict[accuracy_top1].\n",
      "[06-27 12:52:44 MainProcess #58826] INFO  evolutionary.py:100 - Configuring nsga2 algorithm with 2 objectives.\n",
      "[06-27 12:52:44 MainProcess #58826] INFO  evolutionary.py:334 - Running Search ...\n"
     ]
    },
    {
     "name": "stdout",
     "output_type": "stream",
     "text": [
      "...................................................................................................."
     ]
    },
    {
     "name": "stderr",
     "output_type": "stream",
     "text": [
      "[06-27 12:52:48 MainProcess #58826] INFO  evolutionary.py:350 - Success! Search Took 3.777 seconds.\n",
      "[06-27 12:52:48 MainProcess #58826] INFO  search_tactic.py:363 - Starting LINAS loop 3 of 5.\n",
      "[06-27 12:52:48 MainProcess #58826] INFO  search_tactic.py:367 - Evaluating subnetwork 1/50 in loop 3 of 5\n",
      "[06-27 12:52:48 MainProcess #58826] INFO  __init__.py:76 - > Calling validation_dataloader\n"
     ]
    },
    {
     "name": "stdout",
     "output_type": "stream",
     "text": [
      "Files already downloaded and verified\n"
     ]
    },
    {
     "name": "stderr",
     "output_type": "stream",
     "text": [
      "[06-27 12:52:48 MainProcess #58826] INFO  __init__.py:81 - > Finished validation_dataloader in 0.7320 s\n",
      "[06-27 12:52:49 MainProcess #58826] INFO  bootstrapnas_interface.py:90 - Using custom accuracy_top1 metric evaluation function.\n",
      "[06-27 12:52:55 MainProcess #58826] INFO  __init__.py:76 - > Calling validate_classification\n",
      "[06-27 12:52:57 MainProcess #58826] INFO  __init__.py:81 - > Finished validate_classification in 1.4493 s\n",
      "[06-27 12:52:57 MainProcess #58826] INFO  bootstrapnas_interface.py:108 - Validation accuracy: 93.51%\n",
      "[06-27 12:52:57 MainProcess #58826] INFO  __init__.py:76 - > Calling get_macs\n",
      "[06-27 12:52:58 MainProcess #58826] INFO  __init__.py:81 - > Finished get_macs in 0.8609 s\n",
      "[06-27 12:52:58 MainProcess #58826] INFO  search_tactic.py:367 - Evaluating subnetwork 2/50 in loop 3 of 5\n",
      "[06-27 12:52:58 MainProcess #58826] INFO  __init__.py:76 - > Calling validation_dataloader\n"
     ]
    },
    {
     "name": "stdout",
     "output_type": "stream",
     "text": [
      "Files already downloaded and verified\n"
     ]
    },
    {
     "name": "stderr",
     "output_type": "stream",
     "text": [
      "[06-27 12:52:59 MainProcess #58826] INFO  __init__.py:81 - > Finished validation_dataloader in 0.7115 s\n",
      "[06-27 12:53:00 MainProcess #58826] INFO  bootstrapnas_interface.py:90 - Using custom accuracy_top1 metric evaluation function.\n",
      "[06-27 12:53:06 MainProcess #58826] INFO  __init__.py:76 - > Calling validate_classification\n",
      "[06-27 12:53:07 MainProcess #58826] INFO  __init__.py:81 - > Finished validate_classification in 1.3016 s\n",
      "[06-27 12:53:07 MainProcess #58826] INFO  bootstrapnas_interface.py:108 - Validation accuracy: 92.75%\n",
      "[06-27 12:53:08 MainProcess #58826] INFO  __init__.py:76 - > Calling get_macs\n",
      "[06-27 12:53:09 MainProcess #58826] INFO  __init__.py:81 - > Finished get_macs in 0.8252 s\n",
      "[06-27 12:53:09 MainProcess #58826] INFO  search_tactic.py:367 - Evaluating subnetwork 3/50 in loop 3 of 5\n",
      "[06-27 12:53:09 MainProcess #58826] INFO  __init__.py:76 - > Calling validation_dataloader\n"
     ]
    },
    {
     "name": "stdout",
     "output_type": "stream",
     "text": [
      "Files already downloaded and verified\n"
     ]
    },
    {
     "name": "stderr",
     "output_type": "stream",
     "text": [
      "[06-27 12:53:09 MainProcess #58826] INFO  __init__.py:81 - > Finished validation_dataloader in 0.7387 s\n",
      "[06-27 12:53:10 MainProcess #58826] INFO  bootstrapnas_interface.py:90 - Using custom accuracy_top1 metric evaluation function.\n",
      "[06-27 12:53:16 MainProcess #58826] INFO  __init__.py:76 - > Calling validate_classification\n",
      "[06-27 12:53:18 MainProcess #58826] INFO  __init__.py:81 - > Finished validate_classification in 1.3835 s\n",
      "[06-27 12:53:18 MainProcess #58826] INFO  bootstrapnas_interface.py:108 - Validation accuracy: 92.87%\n",
      "[06-27 12:53:18 MainProcess #58826] INFO  __init__.py:76 - > Calling get_macs\n",
      "[06-27 12:53:19 MainProcess #58826] INFO  __init__.py:81 - > Finished get_macs in 0.8980 s\n",
      "[06-27 12:53:19 MainProcess #58826] INFO  search_tactic.py:367 - Evaluating subnetwork 4/50 in loop 3 of 5\n",
      "[06-27 12:53:19 MainProcess #58826] INFO  __init__.py:76 - > Calling validation_dataloader\n"
     ]
    },
    {
     "name": "stdout",
     "output_type": "stream",
     "text": [
      "Files already downloaded and verified\n"
     ]
    },
    {
     "name": "stderr",
     "output_type": "stream",
     "text": [
      "[06-27 12:53:20 MainProcess #58826] INFO  __init__.py:81 - > Finished validation_dataloader in 0.7180 s\n",
      "[06-27 12:53:20 MainProcess #58826] INFO  bootstrapnas_interface.py:90 - Using custom accuracy_top1 metric evaluation function.\n",
      "[06-27 12:53:28 MainProcess #58826] INFO  __init__.py:76 - > Calling validate_classification\n",
      "[06-27 12:53:30 MainProcess #58826] INFO  __init__.py:81 - > Finished validate_classification in 1.7255 s\n",
      "[06-27 12:53:30 MainProcess #58826] INFO  bootstrapnas_interface.py:108 - Validation accuracy: 93.27%\n",
      "[06-27 12:53:31 MainProcess #58826] INFO  __init__.py:76 - > Calling get_macs\n",
      "[06-27 12:53:32 MainProcess #58826] INFO  __init__.py:81 - > Finished get_macs in 1.3002 s\n",
      "[06-27 12:53:32 MainProcess #58826] INFO  search_tactic.py:367 - Evaluating subnetwork 5/50 in loop 3 of 5\n",
      "[06-27 12:53:32 MainProcess #58826] INFO  __init__.py:76 - > Calling validation_dataloader\n"
     ]
    },
    {
     "name": "stdout",
     "output_type": "stream",
     "text": [
      "Files already downloaded and verified\n"
     ]
    },
    {
     "name": "stderr",
     "output_type": "stream",
     "text": [
      "[06-27 12:53:33 MainProcess #58826] INFO  __init__.py:81 - > Finished validation_dataloader in 0.7500 s\n",
      "[06-27 12:53:34 MainProcess #58826] INFO  bootstrapnas_interface.py:90 - Using custom accuracy_top1 metric evaluation function.\n",
      "[06-27 12:53:44 MainProcess #58826] INFO  __init__.py:76 - > Calling validate_classification\n",
      "[06-27 12:53:45 MainProcess #58826] INFO  __init__.py:81 - > Finished validate_classification in 1.3791 s\n",
      "[06-27 12:53:45 MainProcess #58826] INFO  bootstrapnas_interface.py:108 - Validation accuracy: 93.32%\n",
      "[06-27 12:53:46 MainProcess #58826] INFO  __init__.py:76 - > Calling get_macs\n",
      "[06-27 12:53:47 MainProcess #58826] INFO  __init__.py:81 - > Finished get_macs in 0.8643 s\n",
      "[06-27 12:53:47 MainProcess #58826] INFO  search_tactic.py:367 - Evaluating subnetwork 6/50 in loop 3 of 5\n",
      "[06-27 12:53:47 MainProcess #58826] INFO  __init__.py:76 - > Calling validation_dataloader\n"
     ]
    },
    {
     "name": "stdout",
     "output_type": "stream",
     "text": [
      "Files already downloaded and verified\n"
     ]
    },
    {
     "name": "stderr",
     "output_type": "stream",
     "text": [
      "[06-27 12:53:48 MainProcess #58826] INFO  __init__.py:81 - > Finished validation_dataloader in 0.7180 s\n",
      "[06-27 12:53:48 MainProcess #58826] INFO  bootstrapnas_interface.py:90 - Using custom accuracy_top1 metric evaluation function.\n",
      "[06-27 12:53:54 MainProcess #58826] INFO  __init__.py:76 - > Calling validate_classification\n",
      "[06-27 12:53:56 MainProcess #58826] INFO  __init__.py:81 - > Finished validate_classification in 1.3739 s\n",
      "[06-27 12:53:56 MainProcess #58826] INFO  bootstrapnas_interface.py:108 - Validation accuracy: 93.29%\n",
      "[06-27 12:53:56 MainProcess #58826] INFO  __init__.py:76 - > Calling get_macs\n",
      "[06-27 12:53:57 MainProcess #58826] INFO  __init__.py:81 - > Finished get_macs in 0.8613 s\n",
      "[06-27 12:53:57 MainProcess #58826] INFO  search_tactic.py:367 - Evaluating subnetwork 7/50 in loop 3 of 5\n",
      "[06-27 12:53:57 MainProcess #58826] INFO  __init__.py:76 - > Calling validation_dataloader\n"
     ]
    },
    {
     "name": "stdout",
     "output_type": "stream",
     "text": [
      "Files already downloaded and verified\n"
     ]
    },
    {
     "name": "stderr",
     "output_type": "stream",
     "text": [
      "[06-27 12:53:58 MainProcess #58826] INFO  __init__.py:81 - > Finished validation_dataloader in 0.7214 s\n",
      "[06-27 12:53:59 MainProcess #58826] INFO  bootstrapnas_interface.py:90 - Using custom accuracy_top1 metric evaluation function.\n",
      "[06-27 12:54:05 MainProcess #58826] INFO  __init__.py:76 - > Calling validate_classification\n",
      "[06-27 12:54:06 MainProcess #58826] INFO  __init__.py:81 - > Finished validate_classification in 1.3640 s\n",
      "[06-27 12:54:06 MainProcess #58826] INFO  bootstrapnas_interface.py:108 - Validation accuracy: 92.92%\n",
      "[06-27 12:54:07 MainProcess #58826] INFO  __init__.py:76 - > Calling get_macs\n",
      "[06-27 12:54:08 MainProcess #58826] INFO  __init__.py:81 - > Finished get_macs in 0.8516 s\n",
      "[06-27 12:54:08 MainProcess #58826] INFO  search_tactic.py:367 - Evaluating subnetwork 8/50 in loop 3 of 5\n",
      "[06-27 12:54:08 MainProcess #58826] INFO  __init__.py:76 - > Calling validation_dataloader\n"
     ]
    },
    {
     "name": "stdout",
     "output_type": "stream",
     "text": [
      "Files already downloaded and verified\n"
     ]
    },
    {
     "name": "stderr",
     "output_type": "stream",
     "text": [
      "[06-27 12:54:08 MainProcess #58826] INFO  __init__.py:81 - > Finished validation_dataloader in 0.7376 s\n",
      "[06-27 12:54:09 MainProcess #58826] INFO  bootstrapnas_interface.py:90 - Using custom accuracy_top1 metric evaluation function.\n",
      "[06-27 12:54:15 MainProcess #58826] INFO  __init__.py:76 - > Calling validate_classification\n",
      "[06-27 12:54:16 MainProcess #58826] INFO  __init__.py:81 - > Finished validate_classification in 1.4037 s\n",
      "[06-27 12:54:16 MainProcess #58826] INFO  bootstrapnas_interface.py:108 - Validation accuracy: 93.29%\n",
      "[06-27 12:54:17 MainProcess #58826] INFO  __init__.py:76 - > Calling get_macs\n",
      "[06-27 12:54:18 MainProcess #58826] INFO  __init__.py:81 - > Finished get_macs in 0.8615 s\n",
      "[06-27 12:54:18 MainProcess #58826] INFO  search_tactic.py:367 - Evaluating subnetwork 9/50 in loop 3 of 5\n",
      "[06-27 12:54:18 MainProcess #58826] INFO  __init__.py:76 - > Calling validation_dataloader\n"
     ]
    },
    {
     "name": "stdout",
     "output_type": "stream",
     "text": [
      "Files already downloaded and verified\n"
     ]
    },
    {
     "name": "stderr",
     "output_type": "stream",
     "text": [
      "[06-27 12:54:18 MainProcess #58826] INFO  __init__.py:81 - > Finished validation_dataloader in 0.7294 s\n",
      "[06-27 12:54:19 MainProcess #58826] INFO  bootstrapnas_interface.py:90 - Using custom accuracy_top1 metric evaluation function.\n",
      "[06-27 12:54:25 MainProcess #58826] INFO  __init__.py:76 - > Calling validate_classification\n",
      "[06-27 12:54:26 MainProcess #58826] INFO  __init__.py:81 - > Finished validate_classification in 1.3019 s\n",
      "[06-27 12:54:26 MainProcess #58826] INFO  bootstrapnas_interface.py:108 - Validation accuracy: 92.66%\n",
      "[06-27 12:54:27 MainProcess #58826] INFO  __init__.py:76 - > Calling get_macs\n",
      "[06-27 12:54:28 MainProcess #58826] INFO  __init__.py:81 - > Finished get_macs in 0.8705 s\n",
      "[06-27 12:54:28 MainProcess #58826] INFO  search_tactic.py:367 - Evaluating subnetwork 10/50 in loop 3 of 5\n",
      "[06-27 12:54:28 MainProcess #58826] INFO  __init__.py:76 - > Calling validation_dataloader\n"
     ]
    },
    {
     "name": "stdout",
     "output_type": "stream",
     "text": [
      "Files already downloaded and verified\n"
     ]
    },
    {
     "name": "stderr",
     "output_type": "stream",
     "text": [
      "[06-27 12:54:29 MainProcess #58826] INFO  __init__.py:81 - > Finished validation_dataloader in 0.7487 s\n",
      "[06-27 12:54:29 MainProcess #58826] INFO  bootstrapnas_interface.py:90 - Using custom accuracy_top1 metric evaluation function.\n",
      "[06-27 12:54:36 MainProcess #58826] INFO  __init__.py:76 - > Calling validate_classification\n",
      "[06-27 12:54:37 MainProcess #58826] INFO  __init__.py:81 - > Finished validate_classification in 1.4281 s\n",
      "[06-27 12:54:37 MainProcess #58826] INFO  bootstrapnas_interface.py:108 - Validation accuracy: 93.13%\n",
      "[06-27 12:54:38 MainProcess #58826] INFO  __init__.py:76 - > Calling get_macs\n",
      "[06-27 12:54:39 MainProcess #58826] INFO  __init__.py:81 - > Finished get_macs in 0.9073 s\n",
      "[06-27 12:54:39 MainProcess #58826] INFO  search_tactic.py:367 - Evaluating subnetwork 11/50 in loop 3 of 5\n",
      "[06-27 12:54:39 MainProcess #58826] INFO  __init__.py:76 - > Calling validation_dataloader\n"
     ]
    },
    {
     "name": "stdout",
     "output_type": "stream",
     "text": [
      "Files already downloaded and verified\n"
     ]
    },
    {
     "name": "stderr",
     "output_type": "stream",
     "text": [
      "[06-27 12:54:39 MainProcess #58826] INFO  __init__.py:81 - > Finished validation_dataloader in 0.7618 s\n",
      "[06-27 12:54:40 MainProcess #58826] INFO  bootstrapnas_interface.py:90 - Using custom accuracy_top1 metric evaluation function.\n",
      "[06-27 12:54:46 MainProcess #58826] INFO  __init__.py:76 - > Calling validate_classification\n",
      "[06-27 12:54:48 MainProcess #58826] INFO  __init__.py:81 - > Finished validate_classification in 1.3874 s\n",
      "[06-27 12:54:48 MainProcess #58826] INFO  bootstrapnas_interface.py:108 - Validation accuracy: 93.25%\n",
      "[06-27 12:54:48 MainProcess #58826] INFO  __init__.py:76 - > Calling get_macs\n",
      "[06-27 12:54:49 MainProcess #58826] INFO  __init__.py:81 - > Finished get_macs in 1.1464 s\n",
      "[06-27 12:54:49 MainProcess #58826] INFO  search_tactic.py:367 - Evaluating subnetwork 12/50 in loop 3 of 5\n",
      "[06-27 12:54:49 MainProcess #58826] INFO  __init__.py:76 - > Calling validation_dataloader\n"
     ]
    },
    {
     "name": "stdout",
     "output_type": "stream",
     "text": [
      "Files already downloaded and verified\n"
     ]
    },
    {
     "name": "stderr",
     "output_type": "stream",
     "text": [
      "[06-27 12:54:50 MainProcess #58826] INFO  __init__.py:81 - > Finished validation_dataloader in 0.7521 s\n",
      "[06-27 12:54:51 MainProcess #58826] INFO  bootstrapnas_interface.py:90 - Using custom accuracy_top1 metric evaluation function.\n",
      "[06-27 12:54:57 MainProcess #58826] INFO  __init__.py:76 - > Calling validate_classification\n",
      "[06-27 12:54:58 MainProcess #58826] INFO  __init__.py:81 - > Finished validate_classification in 1.4556 s\n",
      "[06-27 12:54:58 MainProcess #58826] INFO  bootstrapnas_interface.py:108 - Validation accuracy: 93.42%\n",
      "[06-27 12:54:59 MainProcess #58826] INFO  __init__.py:76 - > Calling get_macs\n",
      "[06-27 12:55:00 MainProcess #58826] INFO  __init__.py:81 - > Finished get_macs in 0.8263 s\n",
      "[06-27 12:55:00 MainProcess #58826] INFO  search_tactic.py:367 - Evaluating subnetwork 13/50 in loop 3 of 5\n",
      "[06-27 12:55:00 MainProcess #58826] INFO  __init__.py:76 - > Calling validation_dataloader\n"
     ]
    },
    {
     "name": "stdout",
     "output_type": "stream",
     "text": [
      "Files already downloaded and verified\n"
     ]
    },
    {
     "name": "stderr",
     "output_type": "stream",
     "text": [
      "[06-27 12:55:00 MainProcess #58826] INFO  __init__.py:81 - > Finished validation_dataloader in 0.7665 s\n",
      "[06-27 12:55:01 MainProcess #58826] INFO  bootstrapnas_interface.py:90 - Using custom accuracy_top1 metric evaluation function.\n",
      "[06-27 12:55:07 MainProcess #58826] INFO  __init__.py:76 - > Calling validate_classification\n",
      "[06-27 12:55:09 MainProcess #58826] INFO  __init__.py:81 - > Finished validate_classification in 1.4571 s\n",
      "[06-27 12:55:09 MainProcess #58826] INFO  bootstrapnas_interface.py:108 - Validation accuracy: 93.48%\n",
      "[06-27 12:55:09 MainProcess #58826] INFO  __init__.py:76 - > Calling get_macs\n",
      "[06-27 12:55:10 MainProcess #58826] INFO  __init__.py:81 - > Finished get_macs in 0.9037 s\n",
      "[06-27 12:55:10 MainProcess #58826] INFO  search_tactic.py:367 - Evaluating subnetwork 14/50 in loop 3 of 5\n",
      "[06-27 12:55:10 MainProcess #58826] INFO  __init__.py:76 - > Calling validation_dataloader\n"
     ]
    },
    {
     "name": "stdout",
     "output_type": "stream",
     "text": [
      "Files already downloaded and verified\n"
     ]
    },
    {
     "name": "stderr",
     "output_type": "stream",
     "text": [
      "[06-27 12:55:11 MainProcess #58826] INFO  __init__.py:81 - > Finished validation_dataloader in 0.7534 s\n",
      "[06-27 12:55:12 MainProcess #58826] INFO  bootstrapnas_interface.py:90 - Using custom accuracy_top1 metric evaluation function.\n",
      "[06-27 12:55:18 MainProcess #58826] INFO  __init__.py:76 - > Calling validate_classification\n",
      "[06-27 12:55:19 MainProcess #58826] INFO  __init__.py:81 - > Finished validate_classification in 1.3625 s\n",
      "[06-27 12:55:19 MainProcess #58826] INFO  bootstrapnas_interface.py:108 - Validation accuracy: 92.97%\n",
      "[06-27 12:55:20 MainProcess #58826] INFO  __init__.py:76 - > Calling get_macs\n",
      "[06-27 12:55:21 MainProcess #58826] INFO  __init__.py:81 - > Finished get_macs in 0.8481 s\n",
      "[06-27 12:55:21 MainProcess #58826] INFO  search_tactic.py:367 - Evaluating subnetwork 15/50 in loop 3 of 5\n",
      "[06-27 12:55:21 MainProcess #58826] INFO  __init__.py:76 - > Calling validation_dataloader\n"
     ]
    },
    {
     "name": "stdout",
     "output_type": "stream",
     "text": [
      "Files already downloaded and verified\n"
     ]
    },
    {
     "name": "stderr",
     "output_type": "stream",
     "text": [
      "[06-27 12:55:21 MainProcess #58826] INFO  __init__.py:81 - > Finished validation_dataloader in 0.7522 s\n",
      "[06-27 12:55:22 MainProcess #58826] INFO  bootstrapnas_interface.py:90 - Using custom accuracy_top1 metric evaluation function.\n",
      "[06-27 12:55:28 MainProcess #58826] INFO  __init__.py:76 - > Calling validate_classification\n",
      "[06-27 12:55:30 MainProcess #58826] INFO  __init__.py:81 - > Finished validate_classification in 1.3686 s\n",
      "[06-27 12:55:30 MainProcess #58826] INFO  bootstrapnas_interface.py:108 - Validation accuracy: 92.93%\n",
      "[06-27 12:55:30 MainProcess #58826] INFO  __init__.py:76 - > Calling get_macs\n",
      "[06-27 12:55:31 MainProcess #58826] INFO  __init__.py:81 - > Finished get_macs in 0.8588 s\n",
      "[06-27 12:55:31 MainProcess #58826] INFO  search_tactic.py:367 - Evaluating subnetwork 16/50 in loop 3 of 5\n",
      "[06-27 12:55:31 MainProcess #58826] INFO  __init__.py:76 - > Calling validation_dataloader\n"
     ]
    },
    {
     "name": "stdout",
     "output_type": "stream",
     "text": [
      "Files already downloaded and verified\n"
     ]
    },
    {
     "name": "stderr",
     "output_type": "stream",
     "text": [
      "[06-27 12:55:32 MainProcess #58826] INFO  __init__.py:81 - > Finished validation_dataloader in 0.7543 s\n",
      "[06-27 12:55:33 MainProcess #58826] INFO  bootstrapnas_interface.py:90 - Using custom accuracy_top1 metric evaluation function.\n",
      "[06-27 12:55:39 MainProcess #58826] INFO  __init__.py:76 - > Calling validate_classification\n",
      "[06-27 12:55:40 MainProcess #58826] INFO  __init__.py:81 - > Finished validate_classification in 1.4792 s\n",
      "[06-27 12:55:40 MainProcess #58826] INFO  bootstrapnas_interface.py:108 - Validation accuracy: 93.28%\n",
      "[06-27 12:55:41 MainProcess #58826] INFO  __init__.py:76 - > Calling get_macs\n",
      "[06-27 12:55:42 MainProcess #58826] INFO  __init__.py:81 - > Finished get_macs in 1.1284 s\n",
      "[06-27 12:55:42 MainProcess #58826] INFO  search_tactic.py:367 - Evaluating subnetwork 17/50 in loop 3 of 5\n",
      "[06-27 12:55:42 MainProcess #58826] INFO  __init__.py:76 - > Calling validation_dataloader\n"
     ]
    },
    {
     "name": "stdout",
     "output_type": "stream",
     "text": [
      "Files already downloaded and verified\n"
     ]
    },
    {
     "name": "stderr",
     "output_type": "stream",
     "text": [
      "[06-27 12:55:42 MainProcess #58826] INFO  __init__.py:81 - > Finished validation_dataloader in 0.7149 s\n",
      "[06-27 12:55:43 MainProcess #58826] INFO  bootstrapnas_interface.py:90 - Using custom accuracy_top1 metric evaluation function.\n",
      "[06-27 12:55:49 MainProcess #58826] INFO  __init__.py:76 - > Calling validate_classification\n",
      "[06-27 12:55:51 MainProcess #58826] INFO  __init__.py:81 - > Finished validate_classification in 1.3510 s\n",
      "[06-27 12:55:51 MainProcess #58826] INFO  bootstrapnas_interface.py:108 - Validation accuracy: 92.85%\n",
      "[06-27 12:55:51 MainProcess #58826] INFO  __init__.py:76 - > Calling get_macs\n",
      "[06-27 12:55:52 MainProcess #58826] INFO  __init__.py:81 - > Finished get_macs in 0.9397 s\n",
      "[06-27 12:55:52 MainProcess #58826] INFO  search_tactic.py:367 - Evaluating subnetwork 18/50 in loop 3 of 5\n",
      "[06-27 12:55:52 MainProcess #58826] INFO  __init__.py:76 - > Calling validation_dataloader\n"
     ]
    },
    {
     "name": "stdout",
     "output_type": "stream",
     "text": [
      "Files already downloaded and verified\n"
     ]
    },
    {
     "name": "stderr",
     "output_type": "stream",
     "text": [
      "[06-27 12:55:53 MainProcess #58826] INFO  __init__.py:81 - > Finished validation_dataloader in 0.7748 s\n",
      "[06-27 12:55:54 MainProcess #58826] INFO  bootstrapnas_interface.py:90 - Using custom accuracy_top1 metric evaluation function.\n",
      "[06-27 12:56:00 MainProcess #58826] INFO  __init__.py:76 - > Calling validate_classification\n",
      "[06-27 12:56:01 MainProcess #58826] INFO  __init__.py:81 - > Finished validate_classification in 1.3727 s\n",
      "[06-27 12:56:01 MainProcess #58826] INFO  bootstrapnas_interface.py:108 - Validation accuracy: 93.22%\n",
      "[06-27 12:56:02 MainProcess #58826] INFO  __init__.py:76 - > Calling get_macs\n",
      "[06-27 12:56:03 MainProcess #58826] INFO  __init__.py:81 - > Finished get_macs in 0.8176 s\n",
      "[06-27 12:56:03 MainProcess #58826] INFO  search_tactic.py:367 - Evaluating subnetwork 19/50 in loop 3 of 5\n",
      "[06-27 12:56:03 MainProcess #58826] INFO  __init__.py:76 - > Calling validation_dataloader\n"
     ]
    },
    {
     "name": "stdout",
     "output_type": "stream",
     "text": [
      "Files already downloaded and verified\n"
     ]
    },
    {
     "name": "stderr",
     "output_type": "stream",
     "text": [
      "[06-27 12:56:03 MainProcess #58826] INFO  __init__.py:81 - > Finished validation_dataloader in 0.7188 s\n",
      "[06-27 12:56:04 MainProcess #58826] INFO  bootstrapnas_interface.py:90 - Using custom accuracy_top1 metric evaluation function.\n",
      "[06-27 12:56:10 MainProcess #58826] INFO  __init__.py:76 - > Calling validate_classification\n",
      "[06-27 12:56:11 MainProcess #58826] INFO  __init__.py:81 - > Finished validate_classification in 1.3224 s\n",
      "[06-27 12:56:11 MainProcess #58826] INFO  bootstrapnas_interface.py:108 - Validation accuracy: 92.88%\n",
      "[06-27 12:56:12 MainProcess #58826] INFO  __init__.py:76 - > Calling get_macs\n",
      "[06-27 12:56:13 MainProcess #58826] INFO  __init__.py:81 - > Finished get_macs in 0.8384 s\n",
      "[06-27 12:56:13 MainProcess #58826] INFO  search_tactic.py:367 - Evaluating subnetwork 20/50 in loop 3 of 5\n",
      "[06-27 12:56:13 MainProcess #58826] INFO  __init__.py:76 - > Calling validation_dataloader\n"
     ]
    },
    {
     "name": "stdout",
     "output_type": "stream",
     "text": [
      "Files already downloaded and verified\n"
     ]
    },
    {
     "name": "stderr",
     "output_type": "stream",
     "text": [
      "[06-27 12:56:14 MainProcess #58826] INFO  __init__.py:81 - > Finished validation_dataloader in 0.7248 s\n",
      "[06-27 12:56:15 MainProcess #58826] INFO  bootstrapnas_interface.py:90 - Using custom accuracy_top1 metric evaluation function.\n",
      "[06-27 12:56:21 MainProcess #58826] INFO  __init__.py:76 - > Calling validate_classification\n",
      "[06-27 12:56:22 MainProcess #58826] INFO  __init__.py:81 - > Finished validate_classification in 1.3754 s\n",
      "[06-27 12:56:22 MainProcess #58826] INFO  bootstrapnas_interface.py:108 - Validation accuracy: 92.98%\n",
      "[06-27 12:56:23 MainProcess #58826] INFO  __init__.py:76 - > Calling get_macs\n",
      "[06-27 12:56:23 MainProcess #58826] INFO  __init__.py:81 - > Finished get_macs in 0.8264 s\n",
      "[06-27 12:56:23 MainProcess #58826] INFO  search_tactic.py:367 - Evaluating subnetwork 21/50 in loop 3 of 5\n",
      "[06-27 12:56:23 MainProcess #58826] INFO  __init__.py:76 - > Calling validation_dataloader\n"
     ]
    },
    {
     "name": "stdout",
     "output_type": "stream",
     "text": [
      "Files already downloaded and verified\n"
     ]
    },
    {
     "name": "stderr",
     "output_type": "stream",
     "text": [
      "[06-27 12:56:24 MainProcess #58826] INFO  __init__.py:81 - > Finished validation_dataloader in 0.7376 s\n",
      "[06-27 12:56:25 MainProcess #58826] INFO  bootstrapnas_interface.py:90 - Using custom accuracy_top1 metric evaluation function.\n",
      "[06-27 12:56:31 MainProcess #58826] INFO  __init__.py:76 - > Calling validate_classification\n",
      "[06-27 12:56:32 MainProcess #58826] INFO  __init__.py:81 - > Finished validate_classification in 1.4738 s\n",
      "[06-27 12:56:32 MainProcess #58826] INFO  bootstrapnas_interface.py:108 - Validation accuracy: 93.27%\n",
      "[06-27 12:56:33 MainProcess #58826] INFO  __init__.py:76 - > Calling get_macs\n",
      "[06-27 12:56:34 MainProcess #58826] INFO  __init__.py:81 - > Finished get_macs in 0.8544 s\n",
      "[06-27 12:56:34 MainProcess #58826] INFO  search_tactic.py:367 - Evaluating subnetwork 22/50 in loop 3 of 5\n",
      "[06-27 12:56:34 MainProcess #58826] INFO  __init__.py:76 - > Calling validation_dataloader\n"
     ]
    },
    {
     "name": "stdout",
     "output_type": "stream",
     "text": [
      "Files already downloaded and verified\n"
     ]
    },
    {
     "name": "stderr",
     "output_type": "stream",
     "text": [
      "[06-27 12:56:35 MainProcess #58826] INFO  __init__.py:81 - > Finished validation_dataloader in 0.7241 s\n",
      "[06-27 12:56:36 MainProcess #58826] INFO  bootstrapnas_interface.py:90 - Using custom accuracy_top1 metric evaluation function.\n",
      "[06-27 12:56:42 MainProcess #58826] INFO  __init__.py:76 - > Calling validate_classification\n",
      "[06-27 12:56:43 MainProcess #58826] INFO  __init__.py:81 - > Finished validate_classification in 1.3711 s\n",
      "[06-27 12:56:43 MainProcess #58826] INFO  bootstrapnas_interface.py:108 - Validation accuracy: 92.90%\n",
      "[06-27 12:56:44 MainProcess #58826] INFO  __init__.py:76 - > Calling get_macs\n",
      "[06-27 12:56:45 MainProcess #58826] INFO  __init__.py:81 - > Finished get_macs in 1.0699 s\n",
      "[06-27 12:56:45 MainProcess #58826] INFO  search_tactic.py:367 - Evaluating subnetwork 23/50 in loop 3 of 5\n",
      "[06-27 12:56:45 MainProcess #58826] INFO  __init__.py:76 - > Calling validation_dataloader\n"
     ]
    },
    {
     "name": "stdout",
     "output_type": "stream",
     "text": [
      "Files already downloaded and verified\n"
     ]
    },
    {
     "name": "stderr",
     "output_type": "stream",
     "text": [
      "[06-27 12:56:45 MainProcess #58826] INFO  __init__.py:81 - > Finished validation_dataloader in 0.7002 s\n",
      "[06-27 12:56:46 MainProcess #58826] INFO  bootstrapnas_interface.py:90 - Using custom accuracy_top1 metric evaluation function.\n",
      "[06-27 12:56:52 MainProcess #58826] INFO  __init__.py:76 - > Calling validate_classification\n",
      "[06-27 12:56:53 MainProcess #58826] INFO  __init__.py:81 - > Finished validate_classification in 1.4538 s\n",
      "[06-27 12:56:53 MainProcess #58826] INFO  bootstrapnas_interface.py:108 - Validation accuracy: 93.46%\n",
      "[06-27 12:56:54 MainProcess #58826] INFO  __init__.py:76 - > Calling get_macs\n",
      "[06-27 12:56:55 MainProcess #58826] INFO  __init__.py:81 - > Finished get_macs in 0.8571 s\n",
      "[06-27 12:56:55 MainProcess #58826] INFO  search_tactic.py:367 - Evaluating subnetwork 24/50 in loop 3 of 5\n",
      "[06-27 12:56:55 MainProcess #58826] INFO  __init__.py:76 - > Calling validation_dataloader\n"
     ]
    },
    {
     "name": "stdout",
     "output_type": "stream",
     "text": [
      "Files already downloaded and verified\n"
     ]
    },
    {
     "name": "stderr",
     "output_type": "stream",
     "text": [
      "[06-27 12:56:56 MainProcess #58826] INFO  __init__.py:81 - > Finished validation_dataloader in 0.7779 s\n",
      "[06-27 12:56:56 MainProcess #58826] INFO  bootstrapnas_interface.py:90 - Using custom accuracy_top1 metric evaluation function.\n",
      "[06-27 12:57:03 MainProcess #58826] INFO  __init__.py:76 - > Calling validate_classification\n",
      "[06-27 12:57:04 MainProcess #58826] INFO  __init__.py:81 - > Finished validate_classification in 1.3738 s\n",
      "[06-27 12:57:04 MainProcess #58826] INFO  bootstrapnas_interface.py:108 - Validation accuracy: 93.26%\n",
      "[06-27 12:57:04 MainProcess #58826] INFO  __init__.py:76 - > Calling get_macs\n",
      "[06-27 12:57:05 MainProcess #58826] INFO  __init__.py:81 - > Finished get_macs in 0.8798 s\n",
      "[06-27 12:57:05 MainProcess #58826] INFO  search_tactic.py:367 - Evaluating subnetwork 25/50 in loop 3 of 5\n",
      "[06-27 12:57:05 MainProcess #58826] INFO  __init__.py:76 - > Calling validation_dataloader\n"
     ]
    },
    {
     "name": "stdout",
     "output_type": "stream",
     "text": [
      "Files already downloaded and verified\n"
     ]
    },
    {
     "name": "stderr",
     "output_type": "stream",
     "text": [
      "[06-27 12:57:06 MainProcess #58826] INFO  __init__.py:81 - > Finished validation_dataloader in 0.7253 s\n",
      "[06-27 12:57:07 MainProcess #58826] INFO  bootstrapnas_interface.py:90 - Using custom accuracy_top1 metric evaluation function.\n",
      "[06-27 12:57:13 MainProcess #58826] INFO  __init__.py:76 - > Calling validate_classification\n",
      "[06-27 12:57:15 MainProcess #58826] INFO  __init__.py:81 - > Finished validate_classification in 1.4427 s\n",
      "[06-27 12:57:15 MainProcess #58826] INFO  bootstrapnas_interface.py:108 - Validation accuracy: 93.40%\n",
      "[06-27 12:57:15 MainProcess #58826] INFO  __init__.py:76 - > Calling get_macs\n",
      "[06-27 12:57:16 MainProcess #58826] INFO  __init__.py:81 - > Finished get_macs in 0.8548 s\n",
      "[06-27 12:57:16 MainProcess #58826] INFO  search_tactic.py:367 - Evaluating subnetwork 26/50 in loop 3 of 5\n",
      "[06-27 12:57:16 MainProcess #58826] INFO  __init__.py:76 - > Calling validation_dataloader\n"
     ]
    },
    {
     "name": "stdout",
     "output_type": "stream",
     "text": [
      "Files already downloaded and verified\n"
     ]
    },
    {
     "name": "stderr",
     "output_type": "stream",
     "text": [
      "[06-27 12:57:17 MainProcess #58826] INFO  __init__.py:81 - > Finished validation_dataloader in 0.7218 s\n",
      "[06-27 12:57:17 MainProcess #58826] INFO  bootstrapnas_interface.py:90 - Using custom accuracy_top1 metric evaluation function.\n",
      "[06-27 12:57:24 MainProcess #58826] INFO  __init__.py:76 - > Calling validate_classification\n",
      "[06-27 12:57:25 MainProcess #58826] INFO  __init__.py:81 - > Finished validate_classification in 1.4363 s\n",
      "[06-27 12:57:25 MainProcess #58826] INFO  bootstrapnas_interface.py:108 - Validation accuracy: 93.54%\n",
      "[06-27 12:57:26 MainProcess #58826] INFO  __init__.py:76 - > Calling get_macs\n",
      "[06-27 12:57:27 MainProcess #58826] INFO  __init__.py:81 - > Finished get_macs in 0.8754 s\n",
      "[06-27 12:57:27 MainProcess #58826] INFO  search_tactic.py:367 - Evaluating subnetwork 27/50 in loop 3 of 5\n",
      "[06-27 12:57:27 MainProcess #58826] INFO  __init__.py:76 - > Calling validation_dataloader\n"
     ]
    },
    {
     "name": "stdout",
     "output_type": "stream",
     "text": [
      "Files already downloaded and verified\n"
     ]
    },
    {
     "name": "stderr",
     "output_type": "stream",
     "text": [
      "[06-27 12:57:27 MainProcess #58826] INFO  __init__.py:81 - > Finished validation_dataloader in 0.7244 s\n",
      "[06-27 12:57:28 MainProcess #58826] INFO  bootstrapnas_interface.py:90 - Using custom accuracy_top1 metric evaluation function.\n",
      "[06-27 12:57:35 MainProcess #58826] INFO  __init__.py:76 - > Calling validate_classification\n",
      "[06-27 12:57:36 MainProcess #58826] INFO  __init__.py:81 - > Finished validate_classification in 1.4028 s\n",
      "[06-27 12:57:36 MainProcess #58826] INFO  bootstrapnas_interface.py:108 - Validation accuracy: 93.35%\n",
      "[06-27 12:57:37 MainProcess #58826] INFO  __init__.py:76 - > Calling get_macs\n",
      "[06-27 12:57:38 MainProcess #58826] INFO  __init__.py:81 - > Finished get_macs in 0.8857 s\n",
      "[06-27 12:57:38 MainProcess #58826] INFO  search_tactic.py:367 - Evaluating subnetwork 28/50 in loop 3 of 5\n",
      "[06-27 12:57:38 MainProcess #58826] INFO  __init__.py:76 - > Calling validation_dataloader\n"
     ]
    },
    {
     "name": "stdout",
     "output_type": "stream",
     "text": [
      "Files already downloaded and verified\n"
     ]
    },
    {
     "name": "stderr",
     "output_type": "stream",
     "text": [
      "[06-27 12:57:38 MainProcess #58826] INFO  __init__.py:81 - > Finished validation_dataloader in 0.7624 s\n",
      "[06-27 12:57:39 MainProcess #58826] INFO  bootstrapnas_interface.py:90 - Using custom accuracy_top1 metric evaluation function.\n",
      "[06-27 12:57:46 MainProcess #58826] INFO  __init__.py:76 - > Calling validate_classification\n",
      "[06-27 12:57:48 MainProcess #58826] INFO  __init__.py:81 - > Finished validate_classification in 2.0517 s\n",
      "[06-27 12:57:48 MainProcess #58826] INFO  bootstrapnas_interface.py:108 - Validation accuracy: 93.39%\n",
      "[06-27 12:57:49 MainProcess #58826] INFO  __init__.py:76 - > Calling get_macs\n",
      "[06-27 12:57:50 MainProcess #58826] INFO  __init__.py:81 - > Finished get_macs in 1.2724 s\n",
      "[06-27 12:57:50 MainProcess #58826] INFO  search_tactic.py:367 - Evaluating subnetwork 29/50 in loop 3 of 5\n",
      "[06-27 12:57:50 MainProcess #58826] INFO  __init__.py:76 - > Calling validation_dataloader\n"
     ]
    },
    {
     "name": "stdout",
     "output_type": "stream",
     "text": [
      "Files already downloaded and verified\n"
     ]
    },
    {
     "name": "stderr",
     "output_type": "stream",
     "text": [
      "[06-27 12:57:51 MainProcess #58826] INFO  __init__.py:81 - > Finished validation_dataloader in 0.7829 s\n",
      "[06-27 12:57:52 MainProcess #58826] INFO  bootstrapnas_interface.py:90 - Using custom accuracy_top1 metric evaluation function.\n",
      "[06-27 12:58:00 MainProcess #58826] INFO  __init__.py:76 - > Calling validate_classification\n",
      "[06-27 12:58:02 MainProcess #58826] INFO  __init__.py:81 - > Finished validate_classification in 1.8160 s\n",
      "[06-27 12:58:02 MainProcess #58826] INFO  bootstrapnas_interface.py:108 - Validation accuracy: 93.03%\n",
      "[06-27 12:58:03 MainProcess #58826] INFO  __init__.py:76 - > Calling get_macs\n",
      "[06-27 12:58:04 MainProcess #58826] INFO  __init__.py:81 - > Finished get_macs in 0.8511 s\n",
      "[06-27 12:58:04 MainProcess #58826] INFO  search_tactic.py:367 - Evaluating subnetwork 30/50 in loop 3 of 5\n",
      "[06-27 12:58:04 MainProcess #58826] INFO  __init__.py:76 - > Calling validation_dataloader\n"
     ]
    },
    {
     "name": "stdout",
     "output_type": "stream",
     "text": [
      "Files already downloaded and verified\n"
     ]
    },
    {
     "name": "stderr",
     "output_type": "stream",
     "text": [
      "[06-27 12:58:04 MainProcess #58826] INFO  __init__.py:81 - > Finished validation_dataloader in 0.7252 s\n",
      "[06-27 12:58:05 MainProcess #58826] INFO  bootstrapnas_interface.py:90 - Using custom accuracy_top1 metric evaluation function.\n",
      "[06-27 12:58:11 MainProcess #58826] INFO  __init__.py:76 - > Calling validate_classification\n",
      "[06-27 12:58:12 MainProcess #58826] INFO  __init__.py:81 - > Finished validate_classification in 1.4193 s\n",
      "[06-27 12:58:12 MainProcess #58826] INFO  bootstrapnas_interface.py:108 - Validation accuracy: 93.23%\n",
      "[06-27 12:58:13 MainProcess #58826] INFO  __init__.py:76 - > Calling get_macs\n",
      "[06-27 12:58:14 MainProcess #58826] INFO  __init__.py:81 - > Finished get_macs in 0.8879 s\n",
      "[06-27 12:58:14 MainProcess #58826] INFO  search_tactic.py:367 - Evaluating subnetwork 31/50 in loop 3 of 5\n",
      "[06-27 12:58:14 MainProcess #58826] INFO  __init__.py:76 - > Calling validation_dataloader\n"
     ]
    },
    {
     "name": "stdout",
     "output_type": "stream",
     "text": [
      "Files already downloaded and verified\n"
     ]
    },
    {
     "name": "stderr",
     "output_type": "stream",
     "text": [
      "[06-27 12:58:15 MainProcess #58826] INFO  __init__.py:81 - > Finished validation_dataloader in 0.7417 s\n",
      "[06-27 12:58:15 MainProcess #58826] INFO  bootstrapnas_interface.py:90 - Using custom accuracy_top1 metric evaluation function.\n",
      "[06-27 12:58:21 MainProcess #58826] INFO  __init__.py:76 - > Calling validate_classification\n",
      "[06-27 12:58:23 MainProcess #58826] INFO  __init__.py:81 - > Finished validate_classification in 1.3359 s\n",
      "[06-27 12:58:23 MainProcess #58826] INFO  bootstrapnas_interface.py:108 - Validation accuracy: 93.23%\n",
      "[06-27 12:58:23 MainProcess #58826] INFO  __init__.py:76 - > Calling get_macs\n",
      "[06-27 12:58:24 MainProcess #58826] INFO  __init__.py:81 - > Finished get_macs in 0.8701 s\n",
      "[06-27 12:58:24 MainProcess #58826] INFO  search_tactic.py:367 - Evaluating subnetwork 32/50 in loop 3 of 5\n",
      "[06-27 12:58:24 MainProcess #58826] INFO  __init__.py:76 - > Calling validation_dataloader\n"
     ]
    },
    {
     "name": "stdout",
     "output_type": "stream",
     "text": [
      "Files already downloaded and verified\n"
     ]
    },
    {
     "name": "stderr",
     "output_type": "stream",
     "text": [
      "[06-27 12:58:25 MainProcess #58826] INFO  __init__.py:81 - > Finished validation_dataloader in 0.7194 s\n",
      "[06-27 12:58:26 MainProcess #58826] INFO  bootstrapnas_interface.py:90 - Using custom accuracy_top1 metric evaluation function.\n",
      "[06-27 12:58:32 MainProcess #58826] INFO  __init__.py:76 - > Calling validate_classification\n",
      "[06-27 12:58:33 MainProcess #58826] INFO  __init__.py:81 - > Finished validate_classification in 1.3687 s\n",
      "[06-27 12:58:33 MainProcess #58826] INFO  bootstrapnas_interface.py:108 - Validation accuracy: 93.41%\n",
      "[06-27 12:58:34 MainProcess #58826] INFO  __init__.py:76 - > Calling get_macs\n",
      "[06-27 12:58:34 MainProcess #58826] INFO  __init__.py:81 - > Finished get_macs in 0.8149 s\n",
      "[06-27 12:58:34 MainProcess #58826] INFO  search_tactic.py:367 - Evaluating subnetwork 33/50 in loop 3 of 5\n",
      "[06-27 12:58:34 MainProcess #58826] INFO  __init__.py:76 - > Calling validation_dataloader\n"
     ]
    },
    {
     "name": "stdout",
     "output_type": "stream",
     "text": [
      "Files already downloaded and verified\n"
     ]
    },
    {
     "name": "stderr",
     "output_type": "stream",
     "text": [
      "[06-27 12:58:35 MainProcess #58826] INFO  __init__.py:81 - > Finished validation_dataloader in 0.6974 s\n",
      "[06-27 12:58:36 MainProcess #58826] INFO  bootstrapnas_interface.py:90 - Using custom accuracy_top1 metric evaluation function.\n",
      "[06-27 12:58:42 MainProcess #58826] INFO  __init__.py:76 - > Calling validate_classification\n",
      "[06-27 12:58:43 MainProcess #58826] INFO  __init__.py:81 - > Finished validate_classification in 1.3893 s\n",
      "[06-27 12:58:43 MainProcess #58826] INFO  bootstrapnas_interface.py:108 - Validation accuracy: 93.45%\n",
      "[06-27 12:58:43 MainProcess #58826] INFO  __init__.py:76 - > Calling get_macs\n",
      "[06-27 12:58:44 MainProcess #58826] INFO  __init__.py:81 - > Finished get_macs in 0.7960 s\n",
      "[06-27 12:58:44 MainProcess #58826] INFO  search_tactic.py:367 - Evaluating subnetwork 34/50 in loop 3 of 5\n",
      "[06-27 12:58:44 MainProcess #58826] INFO  __init__.py:76 - > Calling validation_dataloader\n"
     ]
    },
    {
     "name": "stdout",
     "output_type": "stream",
     "text": [
      "Files already downloaded and verified\n"
     ]
    },
    {
     "name": "stderr",
     "output_type": "stream",
     "text": [
      "[06-27 12:58:45 MainProcess #58826] INFO  __init__.py:81 - > Finished validation_dataloader in 0.6875 s\n",
      "[06-27 12:58:45 MainProcess #58826] INFO  bootstrapnas_interface.py:90 - Using custom accuracy_top1 metric evaluation function.\n",
      "[06-27 12:58:51 MainProcess #58826] INFO  __init__.py:76 - > Calling validate_classification\n",
      "[06-27 12:58:53 MainProcess #58826] INFO  __init__.py:81 - > Finished validate_classification in 1.3928 s\n",
      "[06-27 12:58:53 MainProcess #58826] INFO  bootstrapnas_interface.py:108 - Validation accuracy: 93.35%\n",
      "[06-27 12:58:53 MainProcess #58826] INFO  __init__.py:76 - > Calling get_macs\n",
      "[06-27 12:58:54 MainProcess #58826] INFO  __init__.py:81 - > Finished get_macs in 0.8079 s\n",
      "[06-27 12:58:54 MainProcess #58826] INFO  search_tactic.py:367 - Evaluating subnetwork 35/50 in loop 3 of 5\n",
      "[06-27 12:58:54 MainProcess #58826] INFO  __init__.py:76 - > Calling validation_dataloader\n"
     ]
    },
    {
     "name": "stdout",
     "output_type": "stream",
     "text": [
      "Files already downloaded and verified\n"
     ]
    },
    {
     "name": "stderr",
     "output_type": "stream",
     "text": [
      "[06-27 12:58:55 MainProcess #58826] INFO  __init__.py:81 - > Finished validation_dataloader in 0.7129 s\n",
      "[06-27 12:58:55 MainProcess #58826] INFO  bootstrapnas_interface.py:90 - Using custom accuracy_top1 metric evaluation function.\n",
      "[06-27 12:59:01 MainProcess #58826] INFO  __init__.py:76 - > Calling validate_classification\n",
      "[06-27 12:59:02 MainProcess #58826] INFO  __init__.py:81 - > Finished validate_classification in 1.3801 s\n",
      "[06-27 12:59:02 MainProcess #58826] INFO  bootstrapnas_interface.py:108 - Validation accuracy: 93.35%\n",
      "[06-27 12:59:03 MainProcess #58826] INFO  __init__.py:76 - > Calling get_macs\n",
      "[06-27 12:59:04 MainProcess #58826] INFO  __init__.py:81 - > Finished get_macs in 1.0730 s\n",
      "[06-27 12:59:04 MainProcess #58826] INFO  search_tactic.py:367 - Evaluating subnetwork 36/50 in loop 3 of 5\n",
      "[06-27 12:59:04 MainProcess #58826] INFO  __init__.py:76 - > Calling validation_dataloader\n"
     ]
    },
    {
     "name": "stdout",
     "output_type": "stream",
     "text": [
      "Files already downloaded and verified\n"
     ]
    },
    {
     "name": "stderr",
     "output_type": "stream",
     "text": [
      "[06-27 12:59:05 MainProcess #58826] INFO  __init__.py:81 - > Finished validation_dataloader in 0.6966 s\n",
      "[06-27 12:59:05 MainProcess #58826] INFO  bootstrapnas_interface.py:90 - Using custom accuracy_top1 metric evaluation function.\n",
      "[06-27 12:59:11 MainProcess #58826] INFO  __init__.py:76 - > Calling validate_classification\n",
      "[06-27 12:59:13 MainProcess #58826] INFO  __init__.py:81 - > Finished validate_classification in 1.3709 s\n",
      "[06-27 12:59:13 MainProcess #58826] INFO  bootstrapnas_interface.py:108 - Validation accuracy: 93.10%\n",
      "[06-27 12:59:13 MainProcess #58826] INFO  __init__.py:76 - > Calling get_macs\n",
      "[06-27 12:59:14 MainProcess #58826] INFO  __init__.py:81 - > Finished get_macs in 0.8541 s\n",
      "[06-27 12:59:14 MainProcess #58826] INFO  search_tactic.py:367 - Evaluating subnetwork 37/50 in loop 3 of 5\n",
      "[06-27 12:59:14 MainProcess #58826] INFO  __init__.py:76 - > Calling validation_dataloader\n"
     ]
    },
    {
     "name": "stdout",
     "output_type": "stream",
     "text": [
      "Files already downloaded and verified\n"
     ]
    },
    {
     "name": "stderr",
     "output_type": "stream",
     "text": [
      "[06-27 12:59:15 MainProcess #58826] INFO  __init__.py:81 - > Finished validation_dataloader in 0.7214 s\n",
      "[06-27 12:59:15 MainProcess #58826] INFO  bootstrapnas_interface.py:90 - Using custom accuracy_top1 metric evaluation function.\n",
      "[06-27 12:59:21 MainProcess #58826] INFO  __init__.py:76 - > Calling validate_classification\n",
      "[06-27 12:59:23 MainProcess #58826] INFO  __init__.py:81 - > Finished validate_classification in 1.3764 s\n",
      "[06-27 12:59:23 MainProcess #58826] INFO  bootstrapnas_interface.py:108 - Validation accuracy: 93.07%\n",
      "[06-27 12:59:23 MainProcess #58826] INFO  __init__.py:76 - > Calling get_macs\n",
      "[06-27 12:59:24 MainProcess #58826] INFO  __init__.py:81 - > Finished get_macs in 0.8817 s\n",
      "[06-27 12:59:24 MainProcess #58826] INFO  search_tactic.py:367 - Evaluating subnetwork 38/50 in loop 3 of 5\n",
      "[06-27 12:59:24 MainProcess #58826] INFO  __init__.py:76 - > Calling validation_dataloader\n"
     ]
    },
    {
     "name": "stdout",
     "output_type": "stream",
     "text": [
      "Files already downloaded and verified\n"
     ]
    },
    {
     "name": "stderr",
     "output_type": "stream",
     "text": [
      "[06-27 12:59:25 MainProcess #58826] INFO  __init__.py:81 - > Finished validation_dataloader in 0.7468 s\n",
      "[06-27 12:59:25 MainProcess #58826] INFO  bootstrapnas_interface.py:90 - Using custom accuracy_top1 metric evaluation function.\n",
      "[06-27 12:59:31 MainProcess #58826] INFO  __init__.py:76 - > Calling validate_classification\n",
      "[06-27 12:59:33 MainProcess #58826] INFO  __init__.py:81 - > Finished validate_classification in 1.3805 s\n",
      "[06-27 12:59:33 MainProcess #58826] INFO  bootstrapnas_interface.py:108 - Validation accuracy: 93.05%\n",
      "[06-27 12:59:34 MainProcess #58826] INFO  __init__.py:76 - > Calling get_macs\n",
      "[06-27 12:59:34 MainProcess #58826] INFO  __init__.py:81 - > Finished get_macs in 0.9147 s\n",
      "[06-27 12:59:34 MainProcess #58826] INFO  search_tactic.py:367 - Evaluating subnetwork 39/50 in loop 3 of 5\n",
      "[06-27 12:59:34 MainProcess #58826] INFO  __init__.py:76 - > Calling validation_dataloader\n"
     ]
    },
    {
     "name": "stdout",
     "output_type": "stream",
     "text": [
      "Files already downloaded and verified\n"
     ]
    },
    {
     "name": "stderr",
     "output_type": "stream",
     "text": [
      "[06-27 12:59:35 MainProcess #58826] INFO  __init__.py:81 - > Finished validation_dataloader in 0.7519 s\n",
      "[06-27 12:59:36 MainProcess #58826] INFO  bootstrapnas_interface.py:90 - Using custom accuracy_top1 metric evaluation function.\n",
      "[06-27 12:59:42 MainProcess #58826] INFO  __init__.py:76 - > Calling validate_classification\n",
      "[06-27 12:59:43 MainProcess #58826] INFO  __init__.py:81 - > Finished validate_classification in 1.4195 s\n",
      "[06-27 12:59:43 MainProcess #58826] INFO  bootstrapnas_interface.py:108 - Validation accuracy: 93.49%\n",
      "[06-27 12:59:44 MainProcess #58826] INFO  __init__.py:76 - > Calling get_macs\n",
      "[06-27 12:59:45 MainProcess #58826] INFO  __init__.py:81 - > Finished get_macs in 0.8183 s\n",
      "[06-27 12:59:45 MainProcess #58826] INFO  search_tactic.py:367 - Evaluating subnetwork 40/50 in loop 3 of 5\n",
      "[06-27 12:59:45 MainProcess #58826] INFO  __init__.py:76 - > Calling validation_dataloader\n"
     ]
    },
    {
     "name": "stdout",
     "output_type": "stream",
     "text": [
      "Files already downloaded and verified\n"
     ]
    },
    {
     "name": "stderr",
     "output_type": "stream",
     "text": [
      "[06-27 12:59:45 MainProcess #58826] INFO  __init__.py:81 - > Finished validation_dataloader in 0.6996 s\n",
      "[06-27 12:59:46 MainProcess #58826] INFO  bootstrapnas_interface.py:90 - Using custom accuracy_top1 metric evaluation function.\n",
      "[06-27 12:59:52 MainProcess #58826] INFO  __init__.py:76 - > Calling validate_classification\n",
      "[06-27 12:59:53 MainProcess #58826] INFO  __init__.py:81 - > Finished validate_classification in 1.3762 s\n",
      "[06-27 12:59:53 MainProcess #58826] INFO  bootstrapnas_interface.py:108 - Validation accuracy: 93.29%\n",
      "[06-27 12:59:54 MainProcess #58826] INFO  __init__.py:76 - > Calling get_macs\n",
      "[06-27 12:59:55 MainProcess #58826] INFO  __init__.py:81 - > Finished get_macs in 0.8125 s\n",
      "[06-27 12:59:55 MainProcess #58826] INFO  search_tactic.py:367 - Evaluating subnetwork 41/50 in loop 3 of 5\n",
      "[06-27 12:59:55 MainProcess #58826] INFO  __init__.py:76 - > Calling validation_dataloader\n"
     ]
    },
    {
     "name": "stdout",
     "output_type": "stream",
     "text": [
      "Files already downloaded and verified\n"
     ]
    },
    {
     "name": "stderr",
     "output_type": "stream",
     "text": [
      "[06-27 12:59:55 MainProcess #58826] INFO  __init__.py:81 - > Finished validation_dataloader in 0.7063 s\n",
      "[06-27 12:59:56 MainProcess #58826] INFO  bootstrapnas_interface.py:90 - Using custom accuracy_top1 metric evaluation function.\n",
      "[06-27 13:00:01 MainProcess #58826] INFO  __init__.py:76 - > Calling validate_classification\n",
      "[06-27 13:00:03 MainProcess #58826] INFO  __init__.py:81 - > Finished validate_classification in 1.2650 s\n",
      "[06-27 13:00:03 MainProcess #58826] INFO  bootstrapnas_interface.py:108 - Validation accuracy: 92.69%\n",
      "[06-27 13:00:03 MainProcess #58826] INFO  __init__.py:76 - > Calling get_macs\n",
      "[06-27 13:00:04 MainProcess #58826] INFO  __init__.py:81 - > Finished get_macs in 1.1005 s\n",
      "[06-27 13:00:04 MainProcess #58826] INFO  search_tactic.py:367 - Evaluating subnetwork 42/50 in loop 3 of 5\n",
      "[06-27 13:00:04 MainProcess #58826] INFO  __init__.py:76 - > Calling validation_dataloader\n"
     ]
    },
    {
     "name": "stdout",
     "output_type": "stream",
     "text": [
      "Files already downloaded and verified\n"
     ]
    },
    {
     "name": "stderr",
     "output_type": "stream",
     "text": [
      "[06-27 13:00:05 MainProcess #58826] INFO  __init__.py:81 - > Finished validation_dataloader in 0.7985 s\n",
      "[06-27 13:00:06 MainProcess #58826] INFO  bootstrapnas_interface.py:90 - Using custom accuracy_top1 metric evaluation function.\n",
      "[06-27 13:00:12 MainProcess #58826] INFO  __init__.py:76 - > Calling validate_classification\n",
      "[06-27 13:00:14 MainProcess #58826] INFO  __init__.py:81 - > Finished validate_classification in 1.4156 s\n",
      "[06-27 13:00:14 MainProcess #58826] INFO  bootstrapnas_interface.py:108 - Validation accuracy: 93.30%\n",
      "[06-27 13:00:15 MainProcess #58826] INFO  __init__.py:76 - > Calling get_macs\n",
      "[06-27 13:00:15 MainProcess #58826] INFO  __init__.py:81 - > Finished get_macs in 0.8632 s\n",
      "[06-27 13:00:15 MainProcess #58826] INFO  search_tactic.py:367 - Evaluating subnetwork 43/50 in loop 3 of 5\n",
      "[06-27 13:00:15 MainProcess #58826] INFO  __init__.py:76 - > Calling validation_dataloader\n"
     ]
    },
    {
     "name": "stdout",
     "output_type": "stream",
     "text": [
      "Files already downloaded and verified\n"
     ]
    },
    {
     "name": "stderr",
     "output_type": "stream",
     "text": [
      "[06-27 13:00:16 MainProcess #58826] INFO  __init__.py:81 - > Finished validation_dataloader in 0.7347 s\n",
      "[06-27 13:00:17 MainProcess #58826] INFO  bootstrapnas_interface.py:90 - Using custom accuracy_top1 metric evaluation function.\n",
      "[06-27 13:00:23 MainProcess #58826] INFO  __init__.py:76 - > Calling validate_classification\n",
      "[06-27 13:00:24 MainProcess #58826] INFO  __init__.py:81 - > Finished validate_classification in 1.3586 s\n",
      "[06-27 13:00:24 MainProcess #58826] INFO  bootstrapnas_interface.py:108 - Validation accuracy: 92.89%\n",
      "[06-27 13:00:25 MainProcess #58826] INFO  __init__.py:76 - > Calling get_macs\n",
      "[06-27 13:00:26 MainProcess #58826] INFO  __init__.py:81 - > Finished get_macs in 0.8474 s\n",
      "[06-27 13:00:26 MainProcess #58826] INFO  search_tactic.py:367 - Evaluating subnetwork 44/50 in loop 3 of 5\n",
      "[06-27 13:00:26 MainProcess #58826] INFO  __init__.py:76 - > Calling validation_dataloader\n"
     ]
    },
    {
     "name": "stdout",
     "output_type": "stream",
     "text": [
      "Files already downloaded and verified\n"
     ]
    },
    {
     "name": "stderr",
     "output_type": "stream",
     "text": [
      "[06-27 13:00:27 MainProcess #58826] INFO  __init__.py:81 - > Finished validation_dataloader in 0.7191 s\n",
      "[06-27 13:00:27 MainProcess #58826] INFO  bootstrapnas_interface.py:90 - Using custom accuracy_top1 metric evaluation function.\n",
      "[06-27 13:00:34 MainProcess #58826] INFO  __init__.py:76 - > Calling validate_classification\n",
      "[06-27 13:00:35 MainProcess #58826] INFO  __init__.py:81 - > Finished validate_classification in 1.5043 s\n",
      "[06-27 13:00:35 MainProcess #58826] INFO  bootstrapnas_interface.py:108 - Validation accuracy: 93.44%\n",
      "[06-27 13:00:36 MainProcess #58826] INFO  __init__.py:76 - > Calling get_macs\n",
      "[06-27 13:00:36 MainProcess #58826] INFO  __init__.py:81 - > Finished get_macs in 0.8061 s\n",
      "[06-27 13:00:36 MainProcess #58826] INFO  search_tactic.py:367 - Evaluating subnetwork 45/50 in loop 3 of 5\n",
      "[06-27 13:00:36 MainProcess #58826] INFO  __init__.py:76 - > Calling validation_dataloader\n"
     ]
    },
    {
     "name": "stdout",
     "output_type": "stream",
     "text": [
      "Files already downloaded and verified\n"
     ]
    },
    {
     "name": "stderr",
     "output_type": "stream",
     "text": [
      "[06-27 13:00:37 MainProcess #58826] INFO  __init__.py:81 - > Finished validation_dataloader in 0.6988 s\n",
      "[06-27 13:00:38 MainProcess #58826] INFO  bootstrapnas_interface.py:90 - Using custom accuracy_top1 metric evaluation function.\n",
      "[06-27 13:00:44 MainProcess #58826] INFO  __init__.py:76 - > Calling validate_classification\n",
      "[06-27 13:00:45 MainProcess #58826] INFO  __init__.py:81 - > Finished validate_classification in 1.3947 s\n",
      "[06-27 13:00:45 MainProcess #58826] INFO  bootstrapnas_interface.py:108 - Validation accuracy: 93.30%\n",
      "[06-27 13:00:45 MainProcess #58826] INFO  __init__.py:76 - > Calling get_macs\n",
      "[06-27 13:00:46 MainProcess #58826] INFO  __init__.py:81 - > Finished get_macs in 0.8238 s\n",
      "[06-27 13:00:46 MainProcess #58826] INFO  search_tactic.py:367 - Evaluating subnetwork 46/50 in loop 3 of 5\n",
      "[06-27 13:00:46 MainProcess #58826] INFO  __init__.py:76 - > Calling validation_dataloader\n"
     ]
    },
    {
     "name": "stdout",
     "output_type": "stream",
     "text": [
      "Files already downloaded and verified\n"
     ]
    },
    {
     "name": "stderr",
     "output_type": "stream",
     "text": [
      "[06-27 13:00:47 MainProcess #58826] INFO  __init__.py:81 - > Finished validation_dataloader in 0.7100 s\n",
      "[06-27 13:00:48 MainProcess #58826] INFO  bootstrapnas_interface.py:90 - Using custom accuracy_top1 metric evaluation function.\n",
      "[06-27 13:00:54 MainProcess #58826] INFO  __init__.py:76 - > Calling validate_classification\n",
      "[06-27 13:00:55 MainProcess #58826] INFO  __init__.py:81 - > Finished validate_classification in 1.3518 s\n",
      "[06-27 13:00:55 MainProcess #58826] INFO  bootstrapnas_interface.py:108 - Validation accuracy: 92.97%\n",
      "[06-27 13:00:55 MainProcess #58826] INFO  __init__.py:76 - > Calling get_macs\n",
      "[06-27 13:00:56 MainProcess #58826] INFO  __init__.py:81 - > Finished get_macs in 0.8817 s\n",
      "[06-27 13:00:56 MainProcess #58826] INFO  search_tactic.py:367 - Evaluating subnetwork 47/50 in loop 3 of 5\n",
      "[06-27 13:00:56 MainProcess #58826] INFO  __init__.py:76 - > Calling validation_dataloader\n"
     ]
    },
    {
     "name": "stdout",
     "output_type": "stream",
     "text": [
      "Files already downloaded and verified\n"
     ]
    },
    {
     "name": "stderr",
     "output_type": "stream",
     "text": [
      "[06-27 13:00:57 MainProcess #58826] INFO  __init__.py:81 - > Finished validation_dataloader in 0.7450 s\n",
      "[06-27 13:00:58 MainProcess #58826] INFO  bootstrapnas_interface.py:90 - Using custom accuracy_top1 metric evaluation function.\n",
      "[06-27 13:01:04 MainProcess #58826] INFO  __init__.py:76 - > Calling validate_classification\n",
      "[06-27 13:01:05 MainProcess #58826] INFO  __init__.py:81 - > Finished validate_classification in 1.3686 s\n",
      "[06-27 13:01:05 MainProcess #58826] INFO  bootstrapnas_interface.py:108 - Validation accuracy: 92.86%\n",
      "[06-27 13:01:05 MainProcess #58826] INFO  __init__.py:76 - > Calling get_macs\n",
      "[06-27 13:01:07 MainProcess #58826] INFO  __init__.py:81 - > Finished get_macs in 1.1297 s\n",
      "[06-27 13:01:07 MainProcess #58826] INFO  search_tactic.py:367 - Evaluating subnetwork 48/50 in loop 3 of 5\n",
      "[06-27 13:01:07 MainProcess #58826] INFO  __init__.py:76 - > Calling validation_dataloader\n"
     ]
    },
    {
     "name": "stdout",
     "output_type": "stream",
     "text": [
      "Files already downloaded and verified\n"
     ]
    },
    {
     "name": "stderr",
     "output_type": "stream",
     "text": [
      "[06-27 13:01:07 MainProcess #58826] INFO  __init__.py:81 - > Finished validation_dataloader in 0.6978 s\n",
      "[06-27 13:01:08 MainProcess #58826] INFO  bootstrapnas_interface.py:90 - Using custom accuracy_top1 metric evaluation function.\n",
      "[06-27 13:01:14 MainProcess #58826] INFO  __init__.py:76 - > Calling validate_classification\n",
      "[06-27 13:01:15 MainProcess #58826] INFO  __init__.py:81 - > Finished validate_classification in 1.4288 s\n",
      "[06-27 13:01:15 MainProcess #58826] INFO  bootstrapnas_interface.py:108 - Validation accuracy: 93.15%\n",
      "[06-27 13:01:16 MainProcess #58826] INFO  __init__.py:76 - > Calling get_macs\n",
      "[06-27 13:01:17 MainProcess #58826] INFO  __init__.py:81 - > Finished get_macs in 0.8858 s\n",
      "[06-27 13:01:17 MainProcess #58826] INFO  search_tactic.py:367 - Evaluating subnetwork 49/50 in loop 3 of 5\n",
      "[06-27 13:01:17 MainProcess #58826] INFO  __init__.py:76 - > Calling validation_dataloader\n"
     ]
    },
    {
     "name": "stdout",
     "output_type": "stream",
     "text": [
      "Files already downloaded and verified\n"
     ]
    },
    {
     "name": "stderr",
     "output_type": "stream",
     "text": [
      "[06-27 13:01:17 MainProcess #58826] INFO  __init__.py:81 - > Finished validation_dataloader in 0.7553 s\n",
      "[06-27 13:01:18 MainProcess #58826] INFO  bootstrapnas_interface.py:90 - Using custom accuracy_top1 metric evaluation function.\n",
      "[06-27 13:01:24 MainProcess #58826] INFO  __init__.py:76 - > Calling validate_classification\n",
      "[06-27 13:01:26 MainProcess #58826] INFO  __init__.py:81 - > Finished validate_classification in 1.3822 s\n",
      "[06-27 13:01:26 MainProcess #58826] INFO  bootstrapnas_interface.py:108 - Validation accuracy: 93.25%\n",
      "[06-27 13:01:26 MainProcess #58826] INFO  __init__.py:76 - > Calling get_macs\n",
      "[06-27 13:01:27 MainProcess #58826] INFO  __init__.py:81 - > Finished get_macs in 0.9504 s\n",
      "[06-27 13:01:27 MainProcess #58826] INFO  search_tactic.py:367 - Evaluating subnetwork 50/50 in loop 3 of 5\n",
      "[06-27 13:01:27 MainProcess #58826] INFO  __init__.py:76 - > Calling validation_dataloader\n"
     ]
    },
    {
     "name": "stdout",
     "output_type": "stream",
     "text": [
      "Files already downloaded and verified\n"
     ]
    },
    {
     "name": "stderr",
     "output_type": "stream",
     "text": [
      "[06-27 13:01:28 MainProcess #58826] INFO  __init__.py:81 - > Finished validation_dataloader in 0.7094 s\n",
      "[06-27 13:01:29 MainProcess #58826] INFO  bootstrapnas_interface.py:90 - Using custom accuracy_top1 metric evaluation function.\n",
      "[06-27 13:01:37 MainProcess #58826] INFO  __init__.py:76 - > Calling validate_classification\n",
      "[06-27 13:01:39 MainProcess #58826] INFO  __init__.py:81 - > Finished validate_classification in 2.0392 s\n",
      "[06-27 13:01:39 MainProcess #58826] INFO  bootstrapnas_interface.py:108 - Validation accuracy: 93.17%\n",
      "[06-27 13:01:40 MainProcess #58826] INFO  __init__.py:76 - > Calling get_macs\n",
      "[06-27 13:01:41 MainProcess #58826] INFO  __init__.py:81 - > Finished get_macs in 0.9018 s\n",
      "[06-27 13:01:41 MainProcess #58826] INFO  search_tactic.py:345 - Training macs predictor.\n",
      "[06-27 13:01:41 MainProcess #58826] INFO  predictor_manager.py:38 - Building dynamic predictor for macs\n",
      "[06-27 13:01:41 MainProcess #58826] INFO  encoding.py:246 - Training set length=150\n",
      "[06-27 13:01:47 MainProcess #58826] INFO  search_tactic.py:347 - Updated self.predictor_dict[macs].\n",
      "[06-27 13:01:47 MainProcess #58826] INFO  search_tactic.py:345 - Training accuracy_top1 predictor.\n",
      "[06-27 13:01:47 MainProcess #58826] INFO  predictor_manager.py:38 - Building dynamic predictor for accuracy_top1\n",
      "[06-27 13:01:47 MainProcess #58826] INFO  encoding.py:246 - Training set length=150\n",
      "[06-27 13:01:48 MainProcess #58826] INFO  search_tactic.py:347 - Updated self.predictor_dict[accuracy_top1].\n",
      "[06-27 13:01:48 MainProcess #58826] INFO  evolutionary.py:100 - Configuring nsga2 algorithm with 2 objectives.\n",
      "[06-27 13:01:48 MainProcess #58826] INFO  evolutionary.py:334 - Running Search ...\n"
     ]
    },
    {
     "name": "stdout",
     "output_type": "stream",
     "text": [
      "...................................................................................................."
     ]
    },
    {
     "name": "stderr",
     "output_type": "stream",
     "text": [
      "[06-27 13:01:51 MainProcess #58826] INFO  evolutionary.py:350 - Success! Search Took 3.547 seconds.\n",
      "[06-27 13:01:51 MainProcess #58826] INFO  search_tactic.py:363 - Starting LINAS loop 4 of 5.\n",
      "[06-27 13:01:51 MainProcess #58826] INFO  search_tactic.py:367 - Evaluating subnetwork 1/50 in loop 4 of 5\n",
      "[06-27 13:01:51 MainProcess #58826] INFO  __init__.py:76 - > Calling validation_dataloader\n"
     ]
    },
    {
     "name": "stdout",
     "output_type": "stream",
     "text": [
      "Files already downloaded and verified\n"
     ]
    },
    {
     "name": "stderr",
     "output_type": "stream",
     "text": [
      "[06-27 13:01:52 MainProcess #58826] INFO  __init__.py:81 - > Finished validation_dataloader in 0.7295 s\n",
      "[06-27 13:01:53 MainProcess #58826] INFO  bootstrapnas_interface.py:90 - Using custom accuracy_top1 metric evaluation function.\n",
      "[06-27 13:01:58 MainProcess #58826] INFO  __init__.py:76 - > Calling validate_classification\n",
      "[06-27 13:02:00 MainProcess #58826] INFO  __init__.py:81 - > Finished validate_classification in 1.2625 s\n",
      "[06-27 13:02:00 MainProcess #58826] INFO  bootstrapnas_interface.py:108 - Validation accuracy: 92.60%\n",
      "[06-27 13:02:01 MainProcess #58826] INFO  __init__.py:76 - > Calling get_macs\n",
      "[06-27 13:02:01 MainProcess #58826] INFO  __init__.py:81 - > Finished get_macs in 0.7140 s\n",
      "[06-27 13:02:01 MainProcess #58826] INFO  search_tactic.py:367 - Evaluating subnetwork 2/50 in loop 4 of 5\n",
      "[06-27 13:02:01 MainProcess #58826] INFO  __init__.py:76 - > Calling validation_dataloader\n"
     ]
    },
    {
     "name": "stdout",
     "output_type": "stream",
     "text": [
      "Files already downloaded and verified\n"
     ]
    },
    {
     "name": "stderr",
     "output_type": "stream",
     "text": [
      "[06-27 13:02:02 MainProcess #58826] INFO  __init__.py:81 - > Finished validation_dataloader in 0.6957 s\n",
      "[06-27 13:02:02 MainProcess #58826] INFO  bootstrapnas_interface.py:90 - Using custom accuracy_top1 metric evaluation function.\n",
      "[06-27 13:02:08 MainProcess #58826] INFO  __init__.py:76 - > Calling validate_classification\n",
      "[06-27 13:02:10 MainProcess #58826] INFO  __init__.py:81 - > Finished validate_classification in 1.4665 s\n",
      "[06-27 13:02:10 MainProcess #58826] INFO  bootstrapnas_interface.py:108 - Validation accuracy: 93.39%\n",
      "[06-27 13:02:11 MainProcess #58826] INFO  __init__.py:76 - > Calling get_macs\n",
      "[06-27 13:02:12 MainProcess #58826] INFO  __init__.py:81 - > Finished get_macs in 0.8723 s\n",
      "[06-27 13:02:12 MainProcess #58826] INFO  search_tactic.py:367 - Evaluating subnetwork 3/50 in loop 4 of 5\n",
      "[06-27 13:02:12 MainProcess #58826] INFO  __init__.py:76 - > Calling validation_dataloader\n"
     ]
    },
    {
     "name": "stdout",
     "output_type": "stream",
     "text": [
      "Files already downloaded and verified\n"
     ]
    },
    {
     "name": "stderr",
     "output_type": "stream",
     "text": [
      "[06-27 13:02:12 MainProcess #58826] INFO  __init__.py:81 - > Finished validation_dataloader in 0.7335 s\n",
      "[06-27 13:02:13 MainProcess #58826] INFO  bootstrapnas_interface.py:90 - Using custom accuracy_top1 metric evaluation function.\n",
      "[06-27 13:02:19 MainProcess #58826] INFO  __init__.py:76 - > Calling validate_classification\n",
      "[06-27 13:02:20 MainProcess #58826] INFO  __init__.py:81 - > Finished validate_classification in 1.4126 s\n",
      "[06-27 13:02:20 MainProcess #58826] INFO  bootstrapnas_interface.py:108 - Validation accuracy: 93.50%\n",
      "[06-27 13:02:21 MainProcess #58826] INFO  __init__.py:76 - > Calling get_macs\n",
      "[06-27 13:02:22 MainProcess #58826] INFO  __init__.py:81 - > Finished get_macs in 0.8791 s\n",
      "[06-27 13:02:22 MainProcess #58826] INFO  search_tactic.py:367 - Evaluating subnetwork 4/50 in loop 4 of 5\n",
      "[06-27 13:02:22 MainProcess #58826] INFO  __init__.py:76 - > Calling validation_dataloader\n"
     ]
    },
    {
     "name": "stdout",
     "output_type": "stream",
     "text": [
      "Files already downloaded and verified\n"
     ]
    },
    {
     "name": "stderr",
     "output_type": "stream",
     "text": [
      "[06-27 13:02:23 MainProcess #58826] INFO  __init__.py:81 - > Finished validation_dataloader in 0.7288 s\n",
      "[06-27 13:02:24 MainProcess #58826] INFO  bootstrapnas_interface.py:90 - Using custom accuracy_top1 metric evaluation function.\n",
      "[06-27 13:02:30 MainProcess #58826] INFO  __init__.py:76 - > Calling validate_classification\n",
      "[06-27 13:02:31 MainProcess #58826] INFO  __init__.py:81 - > Finished validate_classification in 1.4336 s\n",
      "[06-27 13:02:31 MainProcess #58826] INFO  bootstrapnas_interface.py:108 - Validation accuracy: 93.41%\n",
      "[06-27 13:02:32 MainProcess #58826] INFO  __init__.py:76 - > Calling get_macs\n",
      "[06-27 13:02:32 MainProcess #58826] INFO  __init__.py:81 - > Finished get_macs in 0.8131 s\n",
      "[06-27 13:02:32 MainProcess #58826] INFO  search_tactic.py:367 - Evaluating subnetwork 5/50 in loop 4 of 5\n",
      "[06-27 13:02:32 MainProcess #58826] INFO  __init__.py:76 - > Calling validation_dataloader\n"
     ]
    },
    {
     "name": "stdout",
     "output_type": "stream",
     "text": [
      "Files already downloaded and verified\n"
     ]
    },
    {
     "name": "stderr",
     "output_type": "stream",
     "text": [
      "[06-27 13:02:33 MainProcess #58826] INFO  __init__.py:81 - > Finished validation_dataloader in 0.6885 s\n",
      "[06-27 13:02:34 MainProcess #58826] INFO  bootstrapnas_interface.py:90 - Using custom accuracy_top1 metric evaluation function.\n",
      "[06-27 13:02:40 MainProcess #58826] INFO  __init__.py:76 - > Calling validate_classification\n",
      "[06-27 13:02:41 MainProcess #58826] INFO  __init__.py:81 - > Finished validate_classification in 1.3559 s\n",
      "[06-27 13:02:41 MainProcess #58826] INFO  bootstrapnas_interface.py:108 - Validation accuracy: 93.25%\n",
      "[06-27 13:02:42 MainProcess #58826] INFO  __init__.py:76 - > Calling get_macs\n",
      "[06-27 13:02:42 MainProcess #58826] INFO  __init__.py:81 - > Finished get_macs in 0.8114 s\n",
      "[06-27 13:02:42 MainProcess #58826] INFO  search_tactic.py:367 - Evaluating subnetwork 6/50 in loop 4 of 5\n",
      "[06-27 13:02:42 MainProcess #58826] INFO  __init__.py:76 - > Calling validation_dataloader\n"
     ]
    },
    {
     "name": "stdout",
     "output_type": "stream",
     "text": [
      "Files already downloaded and verified\n"
     ]
    },
    {
     "name": "stderr",
     "output_type": "stream",
     "text": [
      "[06-27 13:02:43 MainProcess #58826] INFO  __init__.py:81 - > Finished validation_dataloader in 0.7440 s\n",
      "[06-27 13:02:44 MainProcess #58826] INFO  bootstrapnas_interface.py:90 - Using custom accuracy_top1 metric evaluation function.\n",
      "[06-27 13:02:50 MainProcess #58826] INFO  __init__.py:76 - > Calling validate_classification\n",
      "[06-27 13:02:51 MainProcess #58826] INFO  __init__.py:81 - > Finished validate_classification in 1.4700 s\n",
      "[06-27 13:02:51 MainProcess #58826] INFO  bootstrapnas_interface.py:108 - Validation accuracy: 93.47%\n",
      "[06-27 13:02:52 MainProcess #58826] INFO  __init__.py:76 - > Calling get_macs\n",
      "[06-27 13:02:53 MainProcess #58826] INFO  __init__.py:81 - > Finished get_macs in 0.8135 s\n",
      "[06-27 13:02:53 MainProcess #58826] INFO  search_tactic.py:367 - Evaluating subnetwork 7/50 in loop 4 of 5\n",
      "[06-27 13:02:53 MainProcess #58826] INFO  __init__.py:76 - > Calling validation_dataloader\n"
     ]
    },
    {
     "name": "stdout",
     "output_type": "stream",
     "text": [
      "Files already downloaded and verified\n"
     ]
    },
    {
     "name": "stderr",
     "output_type": "stream",
     "text": [
      "[06-27 13:02:53 MainProcess #58826] INFO  __init__.py:81 - > Finished validation_dataloader in 0.6906 s\n",
      "[06-27 13:02:54 MainProcess #58826] INFO  bootstrapnas_interface.py:90 - Using custom accuracy_top1 metric evaluation function.\n",
      "[06-27 13:03:00 MainProcess #58826] INFO  __init__.py:76 - > Calling validate_classification\n",
      "[06-27 13:03:01 MainProcess #58826] INFO  __init__.py:81 - > Finished validate_classification in 1.2068 s\n",
      "[06-27 13:03:01 MainProcess #58826] INFO  bootstrapnas_interface.py:108 - Validation accuracy: 92.61%\n",
      "[06-27 13:03:02 MainProcess #58826] INFO  __init__.py:76 - > Calling get_macs\n",
      "[06-27 13:03:02 MainProcess #58826] INFO  __init__.py:81 - > Finished get_macs in 0.7786 s\n",
      "[06-27 13:03:02 MainProcess #58826] INFO  search_tactic.py:367 - Evaluating subnetwork 8/50 in loop 4 of 5\n",
      "[06-27 13:03:02 MainProcess #58826] INFO  __init__.py:76 - > Calling validation_dataloader\n"
     ]
    },
    {
     "name": "stdout",
     "output_type": "stream",
     "text": [
      "Files already downloaded and verified\n"
     ]
    },
    {
     "name": "stderr",
     "output_type": "stream",
     "text": [
      "[06-27 13:03:03 MainProcess #58826] INFO  __init__.py:81 - > Finished validation_dataloader in 0.7335 s\n",
      "[06-27 13:03:04 MainProcess #58826] INFO  bootstrapnas_interface.py:90 - Using custom accuracy_top1 metric evaluation function.\n",
      "[06-27 13:03:10 MainProcess #58826] INFO  __init__.py:76 - > Calling validate_classification\n",
      "[06-27 13:03:11 MainProcess #58826] INFO  __init__.py:81 - > Finished validate_classification in 1.2971 s\n",
      "[06-27 13:03:11 MainProcess #58826] INFO  bootstrapnas_interface.py:108 - Validation accuracy: 93.16%\n",
      "[06-27 13:03:12 MainProcess #58826] INFO  __init__.py:76 - > Calling get_macs\n",
      "[06-27 13:03:13 MainProcess #58826] INFO  __init__.py:81 - > Finished get_macs in 0.8792 s\n",
      "[06-27 13:03:13 MainProcess #58826] INFO  search_tactic.py:367 - Evaluating subnetwork 9/50 in loop 4 of 5\n",
      "[06-27 13:03:13 MainProcess #58826] INFO  __init__.py:76 - > Calling validation_dataloader\n"
     ]
    },
    {
     "name": "stdout",
     "output_type": "stream",
     "text": [
      "Files already downloaded and verified\n"
     ]
    },
    {
     "name": "stderr",
     "output_type": "stream",
     "text": [
      "[06-27 13:03:13 MainProcess #58826] INFO  __init__.py:81 - > Finished validation_dataloader in 0.7203 s\n",
      "[06-27 13:03:14 MainProcess #58826] INFO  bootstrapnas_interface.py:90 - Using custom accuracy_top1 metric evaluation function.\n",
      "[06-27 13:03:20 MainProcess #58826] INFO  __init__.py:76 - > Calling validate_classification\n",
      "[06-27 13:03:22 MainProcess #58826] INFO  __init__.py:81 - > Finished validate_classification in 1.3314 s\n",
      "[06-27 13:03:22 MainProcess #58826] INFO  bootstrapnas_interface.py:108 - Validation accuracy: 93.07%\n",
      "[06-27 13:03:22 MainProcess #58826] INFO  __init__.py:76 - > Calling get_macs\n",
      "[06-27 13:03:23 MainProcess #58826] INFO  __init__.py:81 - > Finished get_macs in 0.8449 s\n",
      "[06-27 13:03:23 MainProcess #58826] INFO  search_tactic.py:367 - Evaluating subnetwork 10/50 in loop 4 of 5\n",
      "[06-27 13:03:23 MainProcess #58826] INFO  __init__.py:76 - > Calling validation_dataloader\n"
     ]
    },
    {
     "name": "stdout",
     "output_type": "stream",
     "text": [
      "Files already downloaded and verified\n"
     ]
    },
    {
     "name": "stderr",
     "output_type": "stream",
     "text": [
      "[06-27 13:03:24 MainProcess #58826] INFO  __init__.py:81 - > Finished validation_dataloader in 0.6996 s\n",
      "[06-27 13:03:24 MainProcess #58826] INFO  bootstrapnas_interface.py:90 - Using custom accuracy_top1 metric evaluation function.\n",
      "[06-27 13:03:30 MainProcess #58826] INFO  __init__.py:76 - > Calling validate_classification\n",
      "[06-27 13:03:32 MainProcess #58826] INFO  __init__.py:81 - > Finished validate_classification in 1.3557 s\n",
      "[06-27 13:03:32 MainProcess #58826] INFO  bootstrapnas_interface.py:108 - Validation accuracy: 93.13%\n",
      "[06-27 13:03:32 MainProcess #58826] INFO  __init__.py:76 - > Calling get_macs\n",
      "[06-27 13:03:33 MainProcess #58826] INFO  __init__.py:81 - > Finished get_macs in 0.8066 s\n",
      "[06-27 13:03:33 MainProcess #58826] INFO  search_tactic.py:367 - Evaluating subnetwork 11/50 in loop 4 of 5\n",
      "[06-27 13:03:33 MainProcess #58826] INFO  __init__.py:76 - > Calling validation_dataloader\n"
     ]
    },
    {
     "name": "stdout",
     "output_type": "stream",
     "text": [
      "Files already downloaded and verified\n"
     ]
    },
    {
     "name": "stderr",
     "output_type": "stream",
     "text": [
      "[06-27 13:03:34 MainProcess #58826] INFO  __init__.py:81 - > Finished validation_dataloader in 0.7120 s\n",
      "[06-27 13:03:34 MainProcess #58826] INFO  bootstrapnas_interface.py:90 - Using custom accuracy_top1 metric evaluation function.\n",
      "[06-27 13:03:41 MainProcess #58826] INFO  __init__.py:76 - > Calling validate_classification\n",
      "[06-27 13:03:42 MainProcess #58826] INFO  __init__.py:81 - > Finished validate_classification in 1.4069 s\n",
      "[06-27 13:03:42 MainProcess #58826] INFO  bootstrapnas_interface.py:108 - Validation accuracy: 93.54%\n",
      "[06-27 13:03:43 MainProcess #58826] INFO  __init__.py:76 - > Calling get_macs\n",
      "[06-27 13:03:44 MainProcess #58826] INFO  __init__.py:81 - > Finished get_macs in 0.8561 s\n",
      "[06-27 13:03:44 MainProcess #58826] INFO  search_tactic.py:367 - Evaluating subnetwork 12/50 in loop 4 of 5\n",
      "[06-27 13:03:44 MainProcess #58826] INFO  __init__.py:76 - > Calling validation_dataloader\n"
     ]
    },
    {
     "name": "stdout",
     "output_type": "stream",
     "text": [
      "Files already downloaded and verified\n"
     ]
    },
    {
     "name": "stderr",
     "output_type": "stream",
     "text": [
      "[06-27 13:03:44 MainProcess #58826] INFO  __init__.py:81 - > Finished validation_dataloader in 0.7445 s\n",
      "[06-27 13:03:45 MainProcess #58826] INFO  bootstrapnas_interface.py:90 - Using custom accuracy_top1 metric evaluation function.\n",
      "[06-27 13:03:51 MainProcess #58826] INFO  __init__.py:76 - > Calling validate_classification\n",
      "[06-27 13:03:53 MainProcess #58826] INFO  __init__.py:81 - > Finished validate_classification in 1.4096 s\n",
      "[06-27 13:03:53 MainProcess #58826] INFO  bootstrapnas_interface.py:108 - Validation accuracy: 93.58%\n",
      "[06-27 13:03:53 MainProcess #58826] INFO  __init__.py:76 - > Calling get_macs\n",
      "[06-27 13:03:54 MainProcess #58826] INFO  __init__.py:81 - > Finished get_macs in 0.8756 s\n",
      "[06-27 13:03:54 MainProcess #58826] INFO  search_tactic.py:367 - Evaluating subnetwork 13/50 in loop 4 of 5\n",
      "[06-27 13:03:54 MainProcess #58826] INFO  __init__.py:76 - > Calling validation_dataloader\n"
     ]
    },
    {
     "name": "stdout",
     "output_type": "stream",
     "text": [
      "Files already downloaded and verified\n"
     ]
    },
    {
     "name": "stderr",
     "output_type": "stream",
     "text": [
      "[06-27 13:03:55 MainProcess #58826] INFO  __init__.py:81 - > Finished validation_dataloader in 0.7266 s\n",
      "[06-27 13:03:56 MainProcess #58826] INFO  bootstrapnas_interface.py:90 - Using custom accuracy_top1 metric evaluation function.\n",
      "[06-27 13:04:02 MainProcess #58826] INFO  __init__.py:76 - > Calling validate_classification\n",
      "[06-27 13:04:03 MainProcess #58826] INFO  __init__.py:81 - > Finished validate_classification in 1.7255 s\n",
      "[06-27 13:04:03 MainProcess #58826] INFO  bootstrapnas_interface.py:108 - Validation accuracy: 93.36%\n",
      "[06-27 13:04:04 MainProcess #58826] INFO  __init__.py:76 - > Calling get_macs\n",
      "[06-27 13:04:05 MainProcess #58826] INFO  __init__.py:81 - > Finished get_macs in 0.7926 s\n",
      "[06-27 13:04:05 MainProcess #58826] INFO  search_tactic.py:367 - Evaluating subnetwork 14/50 in loop 4 of 5\n",
      "[06-27 13:04:05 MainProcess #58826] INFO  __init__.py:76 - > Calling validation_dataloader\n"
     ]
    },
    {
     "name": "stdout",
     "output_type": "stream",
     "text": [
      "Files already downloaded and verified\n"
     ]
    },
    {
     "name": "stderr",
     "output_type": "stream",
     "text": [
      "[06-27 13:04:06 MainProcess #58826] INFO  __init__.py:81 - > Finished validation_dataloader in 0.6899 s\n",
      "[06-27 13:04:06 MainProcess #58826] INFO  bootstrapnas_interface.py:90 - Using custom accuracy_top1 metric evaluation function.\n",
      "[06-27 13:04:12 MainProcess #58826] INFO  __init__.py:76 - > Calling validate_classification\n",
      "[06-27 13:04:13 MainProcess #58826] INFO  __init__.py:81 - > Finished validate_classification in 1.2664 s\n",
      "[06-27 13:04:13 MainProcess #58826] INFO  bootstrapnas_interface.py:108 - Validation accuracy: 92.69%\n",
      "[06-27 13:04:14 MainProcess #58826] INFO  __init__.py:76 - > Calling get_macs\n",
      "[06-27 13:04:14 MainProcess #58826] INFO  __init__.py:81 - > Finished get_macs in 0.7613 s\n",
      "[06-27 13:04:14 MainProcess #58826] INFO  search_tactic.py:367 - Evaluating subnetwork 15/50 in loop 4 of 5\n",
      "[06-27 13:04:14 MainProcess #58826] INFO  __init__.py:76 - > Calling validation_dataloader\n"
     ]
    },
    {
     "name": "stdout",
     "output_type": "stream",
     "text": [
      "Files already downloaded and verified\n"
     ]
    },
    {
     "name": "stderr",
     "output_type": "stream",
     "text": [
      "[06-27 13:04:15 MainProcess #58826] INFO  __init__.py:81 - > Finished validation_dataloader in 0.7255 s\n",
      "[06-27 13:04:16 MainProcess #58826] INFO  bootstrapnas_interface.py:90 - Using custom accuracy_top1 metric evaluation function.\n",
      "[06-27 13:04:22 MainProcess #58826] INFO  __init__.py:76 - > Calling validate_classification\n",
      "[06-27 13:04:23 MainProcess #58826] INFO  __init__.py:81 - > Finished validate_classification in 1.3240 s\n",
      "[06-27 13:04:23 MainProcess #58826] INFO  bootstrapnas_interface.py:108 - Validation accuracy: 93.02%\n",
      "[06-27 13:04:24 MainProcess #58826] INFO  __init__.py:76 - > Calling get_macs\n",
      "[06-27 13:04:25 MainProcess #58826] INFO  __init__.py:81 - > Finished get_macs in 0.8075 s\n",
      "[06-27 13:04:25 MainProcess #58826] INFO  search_tactic.py:367 - Evaluating subnetwork 16/50 in loop 4 of 5\n",
      "[06-27 13:04:25 MainProcess #58826] INFO  __init__.py:76 - > Calling validation_dataloader\n"
     ]
    },
    {
     "name": "stdout",
     "output_type": "stream",
     "text": [
      "Files already downloaded and verified\n"
     ]
    },
    {
     "name": "stderr",
     "output_type": "stream",
     "text": [
      "[06-27 13:04:25 MainProcess #58826] INFO  __init__.py:81 - > Finished validation_dataloader in 0.7179 s\n",
      "[06-27 13:04:26 MainProcess #58826] INFO  bootstrapnas_interface.py:90 - Using custom accuracy_top1 metric evaluation function.\n",
      "[06-27 13:04:32 MainProcess #58826] INFO  __init__.py:76 - > Calling validate_classification\n",
      "[06-27 13:04:34 MainProcess #58826] INFO  __init__.py:81 - > Finished validate_classification in 1.3576 s\n",
      "[06-27 13:04:34 MainProcess #58826] INFO  bootstrapnas_interface.py:108 - Validation accuracy: 93.19%\n",
      "[06-27 13:04:34 MainProcess #58826] INFO  __init__.py:76 - > Calling get_macs\n",
      "[06-27 13:04:35 MainProcess #58826] INFO  __init__.py:81 - > Finished get_macs in 0.8159 s\n",
      "[06-27 13:04:35 MainProcess #58826] INFO  search_tactic.py:367 - Evaluating subnetwork 17/50 in loop 4 of 5\n",
      "[06-27 13:04:35 MainProcess #58826] INFO  __init__.py:76 - > Calling validation_dataloader\n"
     ]
    },
    {
     "name": "stdout",
     "output_type": "stream",
     "text": [
      "Files already downloaded and verified\n"
     ]
    },
    {
     "name": "stderr",
     "output_type": "stream",
     "text": [
      "[06-27 13:04:36 MainProcess #58826] INFO  __init__.py:81 - > Finished validation_dataloader in 0.7107 s\n",
      "[06-27 13:04:36 MainProcess #58826] INFO  bootstrapnas_interface.py:90 - Using custom accuracy_top1 metric evaluation function.\n",
      "[06-27 13:04:42 MainProcess #58826] INFO  __init__.py:76 - > Calling validate_classification\n",
      "[06-27 13:04:43 MainProcess #58826] INFO  __init__.py:81 - > Finished validate_classification in 1.2767 s\n",
      "[06-27 13:04:43 MainProcess #58826] INFO  bootstrapnas_interface.py:108 - Validation accuracy: 92.59%\n",
      "[06-27 13:04:44 MainProcess #58826] INFO  __init__.py:76 - > Calling get_macs\n",
      "[06-27 13:04:44 MainProcess #58826] INFO  __init__.py:81 - > Finished get_macs in 0.6991 s\n",
      "[06-27 13:04:44 MainProcess #58826] INFO  search_tactic.py:367 - Evaluating subnetwork 18/50 in loop 4 of 5\n",
      "[06-27 13:04:44 MainProcess #58826] INFO  __init__.py:76 - > Calling validation_dataloader\n"
     ]
    },
    {
     "name": "stdout",
     "output_type": "stream",
     "text": [
      "Files already downloaded and verified\n"
     ]
    },
    {
     "name": "stderr",
     "output_type": "stream",
     "text": [
      "[06-27 13:04:45 MainProcess #58826] INFO  __init__.py:81 - > Finished validation_dataloader in 0.6959 s\n",
      "[06-27 13:04:46 MainProcess #58826] INFO  bootstrapnas_interface.py:90 - Using custom accuracy_top1 metric evaluation function.\n",
      "[06-27 13:04:52 MainProcess #58826] INFO  __init__.py:76 - > Calling validate_classification\n",
      "[06-27 13:04:53 MainProcess #58826] INFO  __init__.py:81 - > Finished validate_classification in 1.3516 s\n",
      "[06-27 13:04:53 MainProcess #58826] INFO  bootstrapnas_interface.py:108 - Validation accuracy: 93.31%\n",
      "[06-27 13:04:54 MainProcess #58826] INFO  __init__.py:76 - > Calling get_macs\n",
      "[06-27 13:04:55 MainProcess #58826] INFO  __init__.py:81 - > Finished get_macs in 0.8678 s\n",
      "[06-27 13:04:55 MainProcess #58826] INFO  search_tactic.py:367 - Evaluating subnetwork 19/50 in loop 4 of 5\n",
      "[06-27 13:04:55 MainProcess #58826] INFO  __init__.py:76 - > Calling validation_dataloader\n"
     ]
    },
    {
     "name": "stdout",
     "output_type": "stream",
     "text": [
      "Files already downloaded and verified\n"
     ]
    },
    {
     "name": "stderr",
     "output_type": "stream",
     "text": [
      "[06-27 13:04:55 MainProcess #58826] INFO  __init__.py:81 - > Finished validation_dataloader in 0.7284 s\n",
      "[06-27 13:04:56 MainProcess #58826] INFO  bootstrapnas_interface.py:90 - Using custom accuracy_top1 metric evaluation function.\n",
      "[06-27 13:05:03 MainProcess #58826] INFO  __init__.py:76 - > Calling validate_classification\n",
      "[06-27 13:05:04 MainProcess #58826] INFO  __init__.py:81 - > Finished validate_classification in 1.9213 s\n",
      "[06-27 13:05:04 MainProcess #58826] INFO  bootstrapnas_interface.py:108 - Validation accuracy: 93.17%\n",
      "[06-27 13:05:05 MainProcess #58826] INFO  __init__.py:76 - > Calling get_macs\n",
      "[06-27 13:05:06 MainProcess #58826] INFO  __init__.py:81 - > Finished get_macs in 0.8052 s\n",
      "[06-27 13:05:06 MainProcess #58826] INFO  search_tactic.py:367 - Evaluating subnetwork 20/50 in loop 4 of 5\n",
      "[06-27 13:05:06 MainProcess #58826] INFO  __init__.py:76 - > Calling validation_dataloader\n"
     ]
    },
    {
     "name": "stdout",
     "output_type": "stream",
     "text": [
      "Files already downloaded and verified\n"
     ]
    },
    {
     "name": "stderr",
     "output_type": "stream",
     "text": [
      "[06-27 13:05:07 MainProcess #58826] INFO  __init__.py:81 - > Finished validation_dataloader in 0.7183 s\n",
      "[06-27 13:05:07 MainProcess #58826] INFO  bootstrapnas_interface.py:90 - Using custom accuracy_top1 metric evaluation function.\n",
      "[06-27 13:05:13 MainProcess #58826] INFO  __init__.py:76 - > Calling validate_classification\n",
      "[06-27 13:05:14 MainProcess #58826] INFO  __init__.py:81 - > Finished validate_classification in 1.2939 s\n",
      "[06-27 13:05:14 MainProcess #58826] INFO  bootstrapnas_interface.py:108 - Validation accuracy: 92.70%\n",
      "[06-27 13:05:14 MainProcess #58826] INFO  __init__.py:76 - > Calling get_macs\n",
      "[06-27 13:05:15 MainProcess #58826] INFO  __init__.py:81 - > Finished get_macs in 0.7417 s\n",
      "[06-27 13:05:15 MainProcess #58826] INFO  search_tactic.py:367 - Evaluating subnetwork 21/50 in loop 4 of 5\n",
      "[06-27 13:05:15 MainProcess #58826] INFO  __init__.py:76 - > Calling validation_dataloader\n"
     ]
    },
    {
     "name": "stdout",
     "output_type": "stream",
     "text": [
      "Files already downloaded and verified\n"
     ]
    },
    {
     "name": "stderr",
     "output_type": "stream",
     "text": [
      "[06-27 13:05:16 MainProcess #58826] INFO  __init__.py:81 - > Finished validation_dataloader in 0.7289 s\n",
      "[06-27 13:05:16 MainProcess #58826] INFO  bootstrapnas_interface.py:90 - Using custom accuracy_top1 metric evaluation function.\n",
      "[06-27 13:05:23 MainProcess #58826] INFO  __init__.py:76 - > Calling validate_classification\n",
      "[06-27 13:05:24 MainProcess #58826] INFO  __init__.py:81 - > Finished validate_classification in 1.2862 s\n",
      "[06-27 13:05:24 MainProcess #58826] INFO  bootstrapnas_interface.py:108 - Validation accuracy: 93.12%\n",
      "[06-27 13:05:24 MainProcess #58826] INFO  __init__.py:76 - > Calling get_macs\n",
      "[06-27 13:05:25 MainProcess #58826] INFO  __init__.py:81 - > Finished get_macs in 0.8288 s\n",
      "[06-27 13:05:25 MainProcess #58826] INFO  search_tactic.py:367 - Evaluating subnetwork 22/50 in loop 4 of 5\n",
      "[06-27 13:05:25 MainProcess #58826] INFO  __init__.py:76 - > Calling validation_dataloader\n"
     ]
    },
    {
     "name": "stdout",
     "output_type": "stream",
     "text": [
      "Files already downloaded and verified\n"
     ]
    },
    {
     "name": "stderr",
     "output_type": "stream",
     "text": [
      "[06-27 13:05:26 MainProcess #58826] INFO  __init__.py:81 - > Finished validation_dataloader in 0.7082 s\n",
      "[06-27 13:05:27 MainProcess #58826] INFO  bootstrapnas_interface.py:90 - Using custom accuracy_top1 metric evaluation function.\n",
      "[06-27 13:05:33 MainProcess #58826] INFO  __init__.py:76 - > Calling validate_classification\n",
      "[06-27 13:05:34 MainProcess #58826] INFO  __init__.py:81 - > Finished validate_classification in 1.4747 s\n",
      "[06-27 13:05:34 MainProcess #58826] INFO  bootstrapnas_interface.py:108 - Validation accuracy: 93.37%\n",
      "[06-27 13:05:35 MainProcess #58826] INFO  __init__.py:76 - > Calling get_macs\n",
      "[06-27 13:05:36 MainProcess #58826] INFO  __init__.py:81 - > Finished get_macs in 0.8202 s\n",
      "[06-27 13:05:36 MainProcess #58826] INFO  search_tactic.py:367 - Evaluating subnetwork 23/50 in loop 4 of 5\n",
      "[06-27 13:05:36 MainProcess #58826] INFO  __init__.py:76 - > Calling validation_dataloader\n"
     ]
    },
    {
     "name": "stdout",
     "output_type": "stream",
     "text": [
      "Files already downloaded and verified\n"
     ]
    },
    {
     "name": "stderr",
     "output_type": "stream",
     "text": [
      "[06-27 13:05:36 MainProcess #58826] INFO  __init__.py:81 - > Finished validation_dataloader in 0.7027 s\n",
      "[06-27 13:05:37 MainProcess #58826] INFO  bootstrapnas_interface.py:90 - Using custom accuracy_top1 metric evaluation function.\n",
      "[06-27 13:05:46 MainProcess #58826] INFO  __init__.py:76 - > Calling validate_classification\n",
      "[06-27 13:05:49 MainProcess #58826] INFO  __init__.py:81 - > Finished validate_classification in 2.5170 s\n",
      "[06-27 13:05:49 MainProcess #58826] INFO  bootstrapnas_interface.py:108 - Validation accuracy: 93.50%\n",
      "[06-27 13:05:50 MainProcess #58826] INFO  __init__.py:76 - > Calling get_macs\n",
      "[06-27 13:05:51 MainProcess #58826] INFO  __init__.py:81 - > Finished get_macs in 0.9151 s\n",
      "[06-27 13:05:51 MainProcess #58826] INFO  search_tactic.py:367 - Evaluating subnetwork 24/50 in loop 4 of 5\n",
      "[06-27 13:05:51 MainProcess #58826] INFO  __init__.py:76 - > Calling validation_dataloader\n"
     ]
    },
    {
     "name": "stdout",
     "output_type": "stream",
     "text": [
      "Files already downloaded and verified\n"
     ]
    },
    {
     "name": "stderr",
     "output_type": "stream",
     "text": [
      "[06-27 13:05:52 MainProcess #58826] INFO  __init__.py:81 - > Finished validation_dataloader in 0.7981 s\n",
      "[06-27 13:05:53 MainProcess #58826] INFO  bootstrapnas_interface.py:90 - Using custom accuracy_top1 metric evaluation function.\n",
      "[06-27 13:06:00 MainProcess #58826] INFO  __init__.py:76 - > Calling validate_classification\n",
      "[06-27 13:06:01 MainProcess #58826] INFO  __init__.py:81 - > Finished validate_classification in 1.3512 s\n",
      "[06-27 13:06:01 MainProcess #58826] INFO  bootstrapnas_interface.py:108 - Validation accuracy: 93.06%\n",
      "[06-27 13:06:02 MainProcess #58826] INFO  __init__.py:76 - > Calling get_macs\n",
      "[06-27 13:06:03 MainProcess #58826] INFO  __init__.py:81 - > Finished get_macs in 1.1413 s\n",
      "[06-27 13:06:03 MainProcess #58826] INFO  search_tactic.py:367 - Evaluating subnetwork 25/50 in loop 4 of 5\n",
      "[06-27 13:06:03 MainProcess #58826] INFO  __init__.py:76 - > Calling validation_dataloader\n"
     ]
    },
    {
     "name": "stdout",
     "output_type": "stream",
     "text": [
      "Files already downloaded and verified\n"
     ]
    },
    {
     "name": "stderr",
     "output_type": "stream",
     "text": [
      "[06-27 13:06:04 MainProcess #58826] INFO  __init__.py:81 - > Finished validation_dataloader in 0.6948 s\n",
      "[06-27 13:06:04 MainProcess #58826] INFO  bootstrapnas_interface.py:90 - Using custom accuracy_top1 metric evaluation function.\n",
      "[06-27 13:06:10 MainProcess #58826] INFO  __init__.py:76 - > Calling validate_classification\n",
      "[06-27 13:06:12 MainProcess #58826] INFO  __init__.py:81 - > Finished validate_classification in 1.3220 s\n",
      "[06-27 13:06:12 MainProcess #58826] INFO  bootstrapnas_interface.py:108 - Validation accuracy: 93.16%\n",
      "[06-27 13:06:12 MainProcess #58826] INFO  __init__.py:76 - > Calling get_macs\n",
      "[06-27 13:06:13 MainProcess #58826] INFO  __init__.py:81 - > Finished get_macs in 0.8208 s\n",
      "[06-27 13:06:13 MainProcess #58826] INFO  search_tactic.py:367 - Evaluating subnetwork 26/50 in loop 4 of 5\n",
      "[06-27 13:06:13 MainProcess #58826] INFO  __init__.py:76 - > Calling validation_dataloader\n"
     ]
    },
    {
     "name": "stdout",
     "output_type": "stream",
     "text": [
      "Files already downloaded and verified\n"
     ]
    },
    {
     "name": "stderr",
     "output_type": "stream",
     "text": [
      "[06-27 13:06:14 MainProcess #58826] INFO  __init__.py:81 - > Finished validation_dataloader in 0.7871 s\n",
      "[06-27 13:06:14 MainProcess #58826] INFO  bootstrapnas_interface.py:90 - Using custom accuracy_top1 metric evaluation function.\n",
      "[06-27 13:06:21 MainProcess #58826] INFO  __init__.py:76 - > Calling validate_classification\n",
      "[06-27 13:06:22 MainProcess #58826] INFO  __init__.py:81 - > Finished validate_classification in 1.4182 s\n",
      "[06-27 13:06:22 MainProcess #58826] INFO  bootstrapnas_interface.py:108 - Validation accuracy: 93.46%\n",
      "[06-27 13:06:23 MainProcess #58826] INFO  __init__.py:76 - > Calling get_macs\n",
      "[06-27 13:06:24 MainProcess #58826] INFO  __init__.py:81 - > Finished get_macs in 0.8995 s\n",
      "[06-27 13:06:24 MainProcess #58826] INFO  search_tactic.py:367 - Evaluating subnetwork 27/50 in loop 4 of 5\n",
      "[06-27 13:06:24 MainProcess #58826] INFO  __init__.py:76 - > Calling validation_dataloader\n"
     ]
    },
    {
     "name": "stdout",
     "output_type": "stream",
     "text": [
      "Files already downloaded and verified\n"
     ]
    },
    {
     "name": "stderr",
     "output_type": "stream",
     "text": [
      "[06-27 13:06:24 MainProcess #58826] INFO  __init__.py:81 - > Finished validation_dataloader in 0.7634 s\n",
      "[06-27 13:06:25 MainProcess #58826] INFO  bootstrapnas_interface.py:90 - Using custom accuracy_top1 metric evaluation function.\n",
      "[06-27 13:06:31 MainProcess #58826] INFO  __init__.py:76 - > Calling validate_classification\n",
      "[06-27 13:06:33 MainProcess #58826] INFO  __init__.py:81 - > Finished validate_classification in 1.4517 s\n",
      "[06-27 13:06:33 MainProcess #58826] INFO  bootstrapnas_interface.py:108 - Validation accuracy: 93.40%\n",
      "[06-27 13:06:33 MainProcess #58826] INFO  __init__.py:76 - > Calling get_macs\n",
      "[06-27 13:06:34 MainProcess #58826] INFO  __init__.py:81 - > Finished get_macs in 0.8928 s\n",
      "[06-27 13:06:34 MainProcess #58826] INFO  search_tactic.py:367 - Evaluating subnetwork 28/50 in loop 4 of 5\n",
      "[06-27 13:06:34 MainProcess #58826] INFO  __init__.py:76 - > Calling validation_dataloader\n"
     ]
    },
    {
     "name": "stdout",
     "output_type": "stream",
     "text": [
      "Files already downloaded and verified\n"
     ]
    },
    {
     "name": "stderr",
     "output_type": "stream",
     "text": [
      "[06-27 13:06:35 MainProcess #58826] INFO  __init__.py:81 - > Finished validation_dataloader in 0.7924 s\n",
      "[06-27 13:06:36 MainProcess #58826] INFO  bootstrapnas_interface.py:90 - Using custom accuracy_top1 metric evaluation function.\n",
      "[06-27 13:06:42 MainProcess #58826] INFO  __init__.py:76 - > Calling validate_classification\n",
      "[06-27 13:06:44 MainProcess #58826] INFO  __init__.py:81 - > Finished validate_classification in 1.4663 s\n",
      "[06-27 13:06:44 MainProcess #58826] INFO  bootstrapnas_interface.py:108 - Validation accuracy: 93.45%\n",
      "[06-27 13:06:44 MainProcess #58826] INFO  __init__.py:76 - > Calling get_macs\n",
      "[06-27 13:06:45 MainProcess #58826] INFO  __init__.py:81 - > Finished get_macs in 0.8539 s\n",
      "[06-27 13:06:45 MainProcess #58826] INFO  search_tactic.py:367 - Evaluating subnetwork 29/50 in loop 4 of 5\n",
      "[06-27 13:06:45 MainProcess #58826] INFO  __init__.py:76 - > Calling validation_dataloader\n"
     ]
    },
    {
     "name": "stdout",
     "output_type": "stream",
     "text": [
      "Files already downloaded and verified\n"
     ]
    },
    {
     "name": "stderr",
     "output_type": "stream",
     "text": [
      "[06-27 13:06:46 MainProcess #58826] INFO  __init__.py:81 - > Finished validation_dataloader in 0.7238 s\n",
      "[06-27 13:06:46 MainProcess #58826] INFO  bootstrapnas_interface.py:90 - Using custom accuracy_top1 metric evaluation function.\n",
      "[06-27 13:06:53 MainProcess #58826] INFO  __init__.py:76 - > Calling validate_classification\n",
      "[06-27 13:06:54 MainProcess #58826] INFO  __init__.py:81 - > Finished validate_classification in 1.5042 s\n",
      "[06-27 13:06:54 MainProcess #58826] INFO  bootstrapnas_interface.py:108 - Validation accuracy: 93.24%\n",
      "[06-27 13:06:55 MainProcess #58826] INFO  __init__.py:76 - > Calling get_macs\n",
      "[06-27 13:06:56 MainProcess #58826] INFO  __init__.py:81 - > Finished get_macs in 0.8136 s\n",
      "[06-27 13:06:56 MainProcess #58826] INFO  search_tactic.py:367 - Evaluating subnetwork 30/50 in loop 4 of 5\n",
      "[06-27 13:06:56 MainProcess #58826] INFO  __init__.py:76 - > Calling validation_dataloader\n"
     ]
    },
    {
     "name": "stdout",
     "output_type": "stream",
     "text": [
      "Files already downloaded and verified\n"
     ]
    },
    {
     "name": "stderr",
     "output_type": "stream",
     "text": [
      "[06-27 13:06:56 MainProcess #58826] INFO  __init__.py:81 - > Finished validation_dataloader in 0.7193 s\n",
      "[06-27 13:06:57 MainProcess #58826] INFO  bootstrapnas_interface.py:90 - Using custom accuracy_top1 metric evaluation function.\n",
      "[06-27 13:07:02 MainProcess #58826] INFO  __init__.py:76 - > Calling validate_classification\n",
      "[06-27 13:07:04 MainProcess #58826] INFO  __init__.py:81 - > Finished validate_classification in 1.2830 s\n",
      "[06-27 13:07:04 MainProcess #58826] INFO  bootstrapnas_interface.py:108 - Validation accuracy: 92.82%\n",
      "[06-27 13:07:04 MainProcess #58826] INFO  __init__.py:76 - > Calling get_macs\n",
      "[06-27 13:07:05 MainProcess #58826] INFO  __init__.py:81 - > Finished get_macs in 0.9859 s\n",
      "[06-27 13:07:05 MainProcess #58826] INFO  search_tactic.py:367 - Evaluating subnetwork 31/50 in loop 4 of 5\n",
      "[06-27 13:07:05 MainProcess #58826] INFO  __init__.py:76 - > Calling validation_dataloader\n"
     ]
    },
    {
     "name": "stdout",
     "output_type": "stream",
     "text": [
      "Files already downloaded and verified\n"
     ]
    },
    {
     "name": "stderr",
     "output_type": "stream",
     "text": [
      "[06-27 13:07:06 MainProcess #58826] INFO  __init__.py:81 - > Finished validation_dataloader in 0.6929 s\n",
      "[06-27 13:07:06 MainProcess #58826] INFO  bootstrapnas_interface.py:90 - Using custom accuracy_top1 metric evaluation function.\n",
      "[06-27 13:07:12 MainProcess #58826] INFO  __init__.py:76 - > Calling validate_classification\n",
      "[06-27 13:07:14 MainProcess #58826] INFO  __init__.py:81 - > Finished validate_classification in 1.4193 s\n",
      "[06-27 13:07:14 MainProcess #58826] INFO  bootstrapnas_interface.py:108 - Validation accuracy: 93.29%\n",
      "[06-27 13:07:14 MainProcess #58826] INFO  __init__.py:76 - > Calling get_macs\n",
      "[06-27 13:07:15 MainProcess #58826] INFO  __init__.py:81 - > Finished get_macs in 0.8144 s\n",
      "[06-27 13:07:15 MainProcess #58826] INFO  search_tactic.py:367 - Evaluating subnetwork 32/50 in loop 4 of 5\n",
      "[06-27 13:07:15 MainProcess #58826] INFO  __init__.py:76 - > Calling validation_dataloader\n"
     ]
    },
    {
     "name": "stdout",
     "output_type": "stream",
     "text": [
      "Files already downloaded and verified\n"
     ]
    },
    {
     "name": "stderr",
     "output_type": "stream",
     "text": [
      "[06-27 13:07:16 MainProcess #58826] INFO  __init__.py:81 - > Finished validation_dataloader in 0.6861 s\n",
      "[06-27 13:07:16 MainProcess #58826] INFO  bootstrapnas_interface.py:90 - Using custom accuracy_top1 metric evaluation function.\n",
      "[06-27 13:07:22 MainProcess #58826] INFO  __init__.py:76 - > Calling validate_classification\n",
      "[06-27 13:07:23 MainProcess #58826] INFO  __init__.py:81 - > Finished validate_classification in 1.2542 s\n",
      "[06-27 13:07:23 MainProcess #58826] INFO  bootstrapnas_interface.py:108 - Validation accuracy: 92.81%\n",
      "[06-27 13:07:24 MainProcess #58826] INFO  __init__.py:76 - > Calling get_macs\n",
      "[06-27 13:07:24 MainProcess #58826] INFO  __init__.py:81 - > Finished get_macs in 0.7622 s\n",
      "[06-27 13:07:24 MainProcess #58826] INFO  search_tactic.py:367 - Evaluating subnetwork 33/50 in loop 4 of 5\n",
      "[06-27 13:07:24 MainProcess #58826] INFO  __init__.py:76 - > Calling validation_dataloader\n"
     ]
    },
    {
     "name": "stdout",
     "output_type": "stream",
     "text": [
      "Files already downloaded and verified\n"
     ]
    },
    {
     "name": "stderr",
     "output_type": "stream",
     "text": [
      "[06-27 13:07:25 MainProcess #58826] INFO  __init__.py:81 - > Finished validation_dataloader in 0.7352 s\n",
      "[06-27 13:07:26 MainProcess #58826] INFO  bootstrapnas_interface.py:90 - Using custom accuracy_top1 metric evaluation function.\n",
      "[06-27 13:07:32 MainProcess #58826] INFO  __init__.py:76 - > Calling validate_classification\n",
      "[06-27 13:07:33 MainProcess #58826] INFO  __init__.py:81 - > Finished validate_classification in 1.2896 s\n",
      "[06-27 13:07:33 MainProcess #58826] INFO  bootstrapnas_interface.py:108 - Validation accuracy: 92.77%\n",
      "[06-27 13:07:34 MainProcess #58826] INFO  __init__.py:76 - > Calling get_macs\n",
      "[06-27 13:07:34 MainProcess #58826] INFO  __init__.py:81 - > Finished get_macs in 0.7522 s\n",
      "[06-27 13:07:34 MainProcess #58826] INFO  search_tactic.py:367 - Evaluating subnetwork 34/50 in loop 4 of 5\n",
      "[06-27 13:07:34 MainProcess #58826] INFO  __init__.py:76 - > Calling validation_dataloader\n"
     ]
    },
    {
     "name": "stdout",
     "output_type": "stream",
     "text": [
      "Files already downloaded and verified\n"
     ]
    },
    {
     "name": "stderr",
     "output_type": "stream",
     "text": [
      "[06-27 13:07:35 MainProcess #58826] INFO  __init__.py:81 - > Finished validation_dataloader in 0.7223 s\n",
      "[06-27 13:07:36 MainProcess #58826] INFO  bootstrapnas_interface.py:90 - Using custom accuracy_top1 metric evaluation function.\n",
      "[06-27 13:07:41 MainProcess #58826] INFO  __init__.py:76 - > Calling validate_classification\n",
      "[06-27 13:07:43 MainProcess #58826] INFO  __init__.py:81 - > Finished validate_classification in 1.2146 s\n",
      "[06-27 13:07:43 MainProcess #58826] INFO  bootstrapnas_interface.py:108 - Validation accuracy: 92.67%\n",
      "[06-27 13:07:43 MainProcess #58826] INFO  __init__.py:76 - > Calling get_macs\n",
      "[06-27 13:07:44 MainProcess #58826] INFO  __init__.py:81 - > Finished get_macs in 0.7811 s\n",
      "[06-27 13:07:44 MainProcess #58826] INFO  search_tactic.py:367 - Evaluating subnetwork 35/50 in loop 4 of 5\n",
      "[06-27 13:07:44 MainProcess #58826] INFO  __init__.py:76 - > Calling validation_dataloader\n"
     ]
    },
    {
     "name": "stdout",
     "output_type": "stream",
     "text": [
      "Files already downloaded and verified\n"
     ]
    },
    {
     "name": "stderr",
     "output_type": "stream",
     "text": [
      "[06-27 13:07:45 MainProcess #58826] INFO  __init__.py:81 - > Finished validation_dataloader in 0.7217 s\n",
      "[06-27 13:07:46 MainProcess #58826] INFO  bootstrapnas_interface.py:90 - Using custom accuracy_top1 metric evaluation function.\n",
      "[06-27 13:07:52 MainProcess #58826] INFO  __init__.py:76 - > Calling validate_classification\n",
      "[06-27 13:07:53 MainProcess #58826] INFO  __init__.py:81 - > Finished validate_classification in 1.3151 s\n",
      "[06-27 13:07:53 MainProcess #58826] INFO  bootstrapnas_interface.py:108 - Validation accuracy: 93.27%\n",
      "[06-27 13:07:53 MainProcess #58826] INFO  __init__.py:76 - > Calling get_macs\n",
      "[06-27 13:07:54 MainProcess #58826] INFO  __init__.py:81 - > Finished get_macs in 0.8730 s\n",
      "[06-27 13:07:54 MainProcess #58826] INFO  search_tactic.py:367 - Evaluating subnetwork 36/50 in loop 4 of 5\n",
      "[06-27 13:07:54 MainProcess #58826] INFO  __init__.py:76 - > Calling validation_dataloader\n"
     ]
    },
    {
     "name": "stdout",
     "output_type": "stream",
     "text": [
      "Files already downloaded and verified\n"
     ]
    },
    {
     "name": "stderr",
     "output_type": "stream",
     "text": [
      "[06-27 13:07:55 MainProcess #58826] INFO  __init__.py:81 - > Finished validation_dataloader in 0.7313 s\n",
      "[06-27 13:07:56 MainProcess #58826] INFO  bootstrapnas_interface.py:90 - Using custom accuracy_top1 metric evaluation function.\n",
      "[06-27 13:08:02 MainProcess #58826] INFO  __init__.py:76 - > Calling validate_classification\n",
      "[06-27 13:08:03 MainProcess #58826] INFO  __init__.py:81 - > Finished validate_classification in 1.3811 s\n",
      "[06-27 13:08:03 MainProcess #58826] INFO  bootstrapnas_interface.py:108 - Validation accuracy: 93.63%\n",
      "[06-27 13:08:04 MainProcess #58826] INFO  __init__.py:76 - > Calling get_macs\n",
      "[06-27 13:08:05 MainProcess #58826] INFO  __init__.py:81 - > Finished get_macs in 0.8096 s\n",
      "[06-27 13:08:05 MainProcess #58826] INFO  search_tactic.py:367 - Evaluating subnetwork 37/50 in loop 4 of 5\n",
      "[06-27 13:08:05 MainProcess #58826] INFO  __init__.py:76 - > Calling validation_dataloader\n"
     ]
    },
    {
     "name": "stdout",
     "output_type": "stream",
     "text": [
      "Files already downloaded and verified\n"
     ]
    },
    {
     "name": "stderr",
     "output_type": "stream",
     "text": [
      "[06-27 13:08:05 MainProcess #58826] INFO  __init__.py:81 - > Finished validation_dataloader in 0.7096 s\n",
      "[06-27 13:08:06 MainProcess #58826] INFO  bootstrapnas_interface.py:90 - Using custom accuracy_top1 metric evaluation function.\n",
      "[06-27 13:08:12 MainProcess #58826] INFO  __init__.py:76 - > Calling validate_classification\n",
      "[06-27 13:08:13 MainProcess #58826] INFO  __init__.py:81 - > Finished validate_classification in 1.4147 s\n",
      "[06-27 13:08:13 MainProcess #58826] INFO  bootstrapnas_interface.py:108 - Validation accuracy: 93.63%\n",
      "[06-27 13:08:14 MainProcess #58826] INFO  __init__.py:76 - > Calling get_macs\n",
      "[06-27 13:08:15 MainProcess #58826] INFO  __init__.py:81 - > Finished get_macs in 1.1527 s\n",
      "[06-27 13:08:15 MainProcess #58826] INFO  search_tactic.py:367 - Evaluating subnetwork 38/50 in loop 4 of 5\n",
      "[06-27 13:08:15 MainProcess #58826] INFO  __init__.py:76 - > Calling validation_dataloader\n"
     ]
    },
    {
     "name": "stdout",
     "output_type": "stream",
     "text": [
      "Files already downloaded and verified\n"
     ]
    },
    {
     "name": "stderr",
     "output_type": "stream",
     "text": [
      "[06-27 13:08:16 MainProcess #58826] INFO  __init__.py:81 - > Finished validation_dataloader in 0.7255 s\n",
      "[06-27 13:08:16 MainProcess #58826] INFO  bootstrapnas_interface.py:90 - Using custom accuracy_top1 metric evaluation function.\n",
      "[06-27 13:08:22 MainProcess #58826] INFO  __init__.py:76 - > Calling validate_classification\n",
      "[06-27 13:08:24 MainProcess #58826] INFO  __init__.py:81 - > Finished validate_classification in 1.4285 s\n",
      "[06-27 13:08:24 MainProcess #58826] INFO  bootstrapnas_interface.py:108 - Validation accuracy: 93.54%\n",
      "[06-27 13:08:24 MainProcess #58826] INFO  __init__.py:76 - > Calling get_macs\n",
      "[06-27 13:08:25 MainProcess #58826] INFO  __init__.py:81 - > Finished get_macs in 0.8709 s\n",
      "[06-27 13:08:25 MainProcess #58826] INFO  search_tactic.py:367 - Evaluating subnetwork 39/50 in loop 4 of 5\n",
      "[06-27 13:08:25 MainProcess #58826] INFO  __init__.py:76 - > Calling validation_dataloader\n"
     ]
    },
    {
     "name": "stdout",
     "output_type": "stream",
     "text": [
      "Files already downloaded and verified\n"
     ]
    },
    {
     "name": "stderr",
     "output_type": "stream",
     "text": [
      "[06-27 13:08:26 MainProcess #58826] INFO  __init__.py:81 - > Finished validation_dataloader in 0.7234 s\n",
      "[06-27 13:08:26 MainProcess #58826] INFO  bootstrapnas_interface.py:90 - Using custom accuracy_top1 metric evaluation function.\n",
      "[06-27 13:08:32 MainProcess #58826] INFO  __init__.py:76 - > Calling validate_classification\n",
      "[06-27 13:08:34 MainProcess #58826] INFO  __init__.py:81 - > Finished validate_classification in 1.3038 s\n",
      "[06-27 13:08:34 MainProcess #58826] INFO  bootstrapnas_interface.py:108 - Validation accuracy: 93.33%\n",
      "[06-27 13:08:34 MainProcess #58826] INFO  __init__.py:76 - > Calling get_macs\n",
      "[06-27 13:08:35 MainProcess #58826] INFO  __init__.py:81 - > Finished get_macs in 0.8965 s\n",
      "[06-27 13:08:35 MainProcess #58826] INFO  search_tactic.py:367 - Evaluating subnetwork 40/50 in loop 4 of 5\n",
      "[06-27 13:08:35 MainProcess #58826] INFO  __init__.py:76 - > Calling validation_dataloader\n"
     ]
    },
    {
     "name": "stdout",
     "output_type": "stream",
     "text": [
      "Files already downloaded and verified\n"
     ]
    },
    {
     "name": "stderr",
     "output_type": "stream",
     "text": [
      "[06-27 13:08:36 MainProcess #58826] INFO  __init__.py:81 - > Finished validation_dataloader in 0.7629 s\n",
      "[06-27 13:08:37 MainProcess #58826] INFO  bootstrapnas_interface.py:90 - Using custom accuracy_top1 metric evaluation function.\n",
      "[06-27 13:08:42 MainProcess #58826] INFO  __init__.py:76 - > Calling validate_classification\n",
      "[06-27 13:08:44 MainProcess #58826] INFO  __init__.py:81 - > Finished validate_classification in 1.2515 s\n",
      "[06-27 13:08:44 MainProcess #58826] INFO  bootstrapnas_interface.py:108 - Validation accuracy: 92.90%\n",
      "[06-27 13:08:44 MainProcess #58826] INFO  __init__.py:76 - > Calling get_macs\n",
      "[06-27 13:08:45 MainProcess #58826] INFO  __init__.py:81 - > Finished get_macs in 0.7483 s\n",
      "[06-27 13:08:45 MainProcess #58826] INFO  search_tactic.py:367 - Evaluating subnetwork 41/50 in loop 4 of 5\n",
      "[06-27 13:08:45 MainProcess #58826] INFO  __init__.py:76 - > Calling validation_dataloader\n"
     ]
    },
    {
     "name": "stdout",
     "output_type": "stream",
     "text": [
      "Files already downloaded and verified\n"
     ]
    },
    {
     "name": "stderr",
     "output_type": "stream",
     "text": [
      "[06-27 13:08:46 MainProcess #58826] INFO  __init__.py:81 - > Finished validation_dataloader in 0.7275 s\n",
      "[06-27 13:08:46 MainProcess #58826] INFO  bootstrapnas_interface.py:90 - Using custom accuracy_top1 metric evaluation function.\n",
      "[06-27 13:08:53 MainProcess #58826] INFO  __init__.py:76 - > Calling validate_classification\n",
      "[06-27 13:08:54 MainProcess #58826] INFO  __init__.py:81 - > Finished validate_classification in 1.2963 s\n",
      "[06-27 13:08:54 MainProcess #58826] INFO  bootstrapnas_interface.py:108 - Validation accuracy: 93.27%\n",
      "[06-27 13:08:54 MainProcess #58826] INFO  __init__.py:76 - > Calling get_macs\n",
      "[06-27 13:08:55 MainProcess #58826] INFO  __init__.py:81 - > Finished get_macs in 0.8204 s\n",
      "[06-27 13:08:55 MainProcess #58826] INFO  search_tactic.py:367 - Evaluating subnetwork 42/50 in loop 4 of 5\n",
      "[06-27 13:08:55 MainProcess #58826] INFO  __init__.py:76 - > Calling validation_dataloader\n"
     ]
    },
    {
     "name": "stdout",
     "output_type": "stream",
     "text": [
      "Files already downloaded and verified\n"
     ]
    },
    {
     "name": "stderr",
     "output_type": "stream",
     "text": [
      "[06-27 13:08:56 MainProcess #58826] INFO  __init__.py:81 - > Finished validation_dataloader in 0.7025 s\n",
      "[06-27 13:08:57 MainProcess #58826] INFO  bootstrapnas_interface.py:90 - Using custom accuracy_top1 metric evaluation function.\n",
      "[06-27 13:09:03 MainProcess #58826] INFO  __init__.py:76 - > Calling validate_classification\n",
      "[06-27 13:09:04 MainProcess #58826] INFO  __init__.py:81 - > Finished validate_classification in 1.2848 s\n",
      "[06-27 13:09:04 MainProcess #58826] INFO  bootstrapnas_interface.py:108 - Validation accuracy: 93.21%\n",
      "[06-27 13:09:04 MainProcess #58826] INFO  __init__.py:76 - > Calling get_macs\n",
      "[06-27 13:09:05 MainProcess #58826] INFO  __init__.py:81 - > Finished get_macs in 0.8514 s\n",
      "[06-27 13:09:05 MainProcess #58826] INFO  search_tactic.py:367 - Evaluating subnetwork 43/50 in loop 4 of 5\n",
      "[06-27 13:09:05 MainProcess #58826] INFO  __init__.py:76 - > Calling validation_dataloader\n"
     ]
    },
    {
     "name": "stdout",
     "output_type": "stream",
     "text": [
      "Files already downloaded and verified\n"
     ]
    },
    {
     "name": "stderr",
     "output_type": "stream",
     "text": [
      "[06-27 13:09:06 MainProcess #58826] INFO  __init__.py:81 - > Finished validation_dataloader in 0.7105 s\n",
      "[06-27 13:09:07 MainProcess #58826] INFO  bootstrapnas_interface.py:90 - Using custom accuracy_top1 metric evaluation function.\n",
      "[06-27 13:09:13 MainProcess #58826] INFO  __init__.py:76 - > Calling validate_classification\n",
      "[06-27 13:09:14 MainProcess #58826] INFO  __init__.py:81 - > Finished validate_classification in 1.3617 s\n",
      "[06-27 13:09:14 MainProcess #58826] INFO  bootstrapnas_interface.py:108 - Validation accuracy: 93.18%\n",
      "[06-27 13:09:15 MainProcess #58826] INFO  __init__.py:76 - > Calling get_macs\n",
      "[06-27 13:09:15 MainProcess #58826] INFO  __init__.py:81 - > Finished get_macs in 0.8174 s\n",
      "[06-27 13:09:15 MainProcess #58826] INFO  search_tactic.py:367 - Evaluating subnetwork 44/50 in loop 4 of 5\n",
      "[06-27 13:09:15 MainProcess #58826] INFO  __init__.py:76 - > Calling validation_dataloader\n"
     ]
    },
    {
     "name": "stdout",
     "output_type": "stream",
     "text": [
      "Files already downloaded and verified\n"
     ]
    },
    {
     "name": "stderr",
     "output_type": "stream",
     "text": [
      "[06-27 13:09:16 MainProcess #58826] INFO  __init__.py:81 - > Finished validation_dataloader in 0.7021 s\n",
      "[06-27 13:09:17 MainProcess #58826] INFO  bootstrapnas_interface.py:90 - Using custom accuracy_top1 metric evaluation function.\n",
      "[06-27 13:09:23 MainProcess #58826] INFO  __init__.py:76 - > Calling validate_classification\n",
      "[06-27 13:09:24 MainProcess #58826] INFO  __init__.py:81 - > Finished validate_classification in 1.3148 s\n",
      "[06-27 13:09:24 MainProcess #58826] INFO  bootstrapnas_interface.py:108 - Validation accuracy: 93.27%\n",
      "[06-27 13:09:25 MainProcess #58826] INFO  __init__.py:76 - > Calling get_macs\n",
      "[06-27 13:09:26 MainProcess #58826] INFO  __init__.py:81 - > Finished get_macs in 0.8375 s\n",
      "[06-27 13:09:26 MainProcess #58826] INFO  search_tactic.py:367 - Evaluating subnetwork 45/50 in loop 4 of 5\n",
      "[06-27 13:09:26 MainProcess #58826] INFO  __init__.py:76 - > Calling validation_dataloader\n"
     ]
    },
    {
     "name": "stdout",
     "output_type": "stream",
     "text": [
      "Files already downloaded and verified\n"
     ]
    },
    {
     "name": "stderr",
     "output_type": "stream",
     "text": [
      "[06-27 13:09:26 MainProcess #58826] INFO  __init__.py:81 - > Finished validation_dataloader in 0.7220 s\n",
      "[06-27 13:09:27 MainProcess #58826] INFO  bootstrapnas_interface.py:90 - Using custom accuracy_top1 metric evaluation function.\n",
      "[06-27 13:09:32 MainProcess #58826] INFO  __init__.py:76 - > Calling validate_classification\n",
      "[06-27 13:09:34 MainProcess #58826] INFO  __init__.py:81 - > Finished validate_classification in 1.2831 s\n",
      "[06-27 13:09:34 MainProcess #58826] INFO  bootstrapnas_interface.py:108 - Validation accuracy: 92.72%\n",
      "[06-27 13:09:34 MainProcess #58826] INFO  __init__.py:76 - > Calling get_macs\n",
      "[06-27 13:09:35 MainProcess #58826] INFO  __init__.py:81 - > Finished get_macs in 0.7679 s\n",
      "[06-27 13:09:35 MainProcess #58826] INFO  search_tactic.py:367 - Evaluating subnetwork 46/50 in loop 4 of 5\n",
      "[06-27 13:09:35 MainProcess #58826] INFO  __init__.py:76 - > Calling validation_dataloader\n"
     ]
    },
    {
     "name": "stdout",
     "output_type": "stream",
     "text": [
      "Files already downloaded and verified\n"
     ]
    },
    {
     "name": "stderr",
     "output_type": "stream",
     "text": [
      "[06-27 13:09:36 MainProcess #58826] INFO  __init__.py:81 - > Finished validation_dataloader in 0.7366 s\n",
      "[06-27 13:09:37 MainProcess #58826] INFO  bootstrapnas_interface.py:90 - Using custom accuracy_top1 metric evaluation function.\n",
      "[06-27 13:09:42 MainProcess #58826] INFO  __init__.py:76 - > Calling validate_classification\n",
      "[06-27 13:09:43 MainProcess #58826] INFO  __init__.py:81 - > Finished validate_classification in 1.2023 s\n",
      "[06-27 13:09:43 MainProcess #58826] INFO  bootstrapnas_interface.py:108 - Validation accuracy: 92.55%\n",
      "[06-27 13:09:44 MainProcess #58826] INFO  __init__.py:76 - > Calling get_macs\n",
      "[06-27 13:09:45 MainProcess #58826] INFO  __init__.py:81 - > Finished get_macs in 0.7507 s\n",
      "[06-27 13:09:45 MainProcess #58826] INFO  search_tactic.py:367 - Evaluating subnetwork 47/50 in loop 4 of 5\n",
      "[06-27 13:09:45 MainProcess #58826] INFO  __init__.py:76 - > Calling validation_dataloader\n"
     ]
    },
    {
     "name": "stdout",
     "output_type": "stream",
     "text": [
      "Files already downloaded and verified\n"
     ]
    },
    {
     "name": "stderr",
     "output_type": "stream",
     "text": [
      "[06-27 13:09:45 MainProcess #58826] INFO  __init__.py:81 - > Finished validation_dataloader in 0.7384 s\n",
      "[06-27 13:09:46 MainProcess #58826] INFO  bootstrapnas_interface.py:90 - Using custom accuracy_top1 metric evaluation function.\n",
      "[06-27 13:09:51 MainProcess #58826] INFO  __init__.py:76 - > Calling validate_classification\n",
      "[06-27 13:09:53 MainProcess #58826] INFO  __init__.py:81 - > Finished validate_classification in 1.2244 s\n",
      "[06-27 13:09:53 MainProcess #58826] INFO  bootstrapnas_interface.py:108 - Validation accuracy: 92.65%\n",
      "[06-27 13:09:53 MainProcess #58826] INFO  __init__.py:76 - > Calling get_macs\n",
      "[06-27 13:09:54 MainProcess #58826] INFO  __init__.py:81 - > Finished get_macs in 0.7155 s\n",
      "[06-27 13:09:54 MainProcess #58826] INFO  search_tactic.py:367 - Evaluating subnetwork 48/50 in loop 4 of 5\n",
      "[06-27 13:09:54 MainProcess #58826] INFO  __init__.py:76 - > Calling validation_dataloader\n"
     ]
    },
    {
     "name": "stdout",
     "output_type": "stream",
     "text": [
      "Files already downloaded and verified\n"
     ]
    },
    {
     "name": "stderr",
     "output_type": "stream",
     "text": [
      "[06-27 13:09:55 MainProcess #58826] INFO  __init__.py:81 - > Finished validation_dataloader in 0.6896 s\n",
      "[06-27 13:09:55 MainProcess #58826] INFO  bootstrapnas_interface.py:90 - Using custom accuracy_top1 metric evaluation function.\n",
      "[06-27 13:10:03 MainProcess #58826] INFO  __init__.py:76 - > Calling validate_classification\n",
      "[06-27 13:10:04 MainProcess #58826] INFO  __init__.py:81 - > Finished validate_classification in 1.5731 s\n",
      "[06-27 13:10:04 MainProcess #58826] INFO  bootstrapnas_interface.py:108 - Validation accuracy: 93.18%\n",
      "[06-27 13:10:05 MainProcess #58826] INFO  __init__.py:76 - > Calling get_macs\n",
      "[06-27 13:10:06 MainProcess #58826] INFO  __init__.py:81 - > Finished get_macs in 0.9601 s\n",
      "[06-27 13:10:06 MainProcess #58826] INFO  search_tactic.py:367 - Evaluating subnetwork 49/50 in loop 4 of 5\n",
      "[06-27 13:10:06 MainProcess #58826] INFO  __init__.py:76 - > Calling validation_dataloader\n"
     ]
    },
    {
     "name": "stdout",
     "output_type": "stream",
     "text": [
      "Files already downloaded and verified\n"
     ]
    },
    {
     "name": "stderr",
     "output_type": "stream",
     "text": [
      "[06-27 13:10:07 MainProcess #58826] INFO  __init__.py:81 - > Finished validation_dataloader in 0.8105 s\n",
      "[06-27 13:10:07 MainProcess #58826] INFO  bootstrapnas_interface.py:90 - Using custom accuracy_top1 metric evaluation function.\n",
      "[06-27 13:10:14 MainProcess #58826] INFO  __init__.py:76 - > Calling validate_classification\n",
      "[06-27 13:10:15 MainProcess #58826] INFO  __init__.py:81 - > Finished validate_classification in 1.2595 s\n",
      "[06-27 13:10:15 MainProcess #58826] INFO  bootstrapnas_interface.py:108 - Validation accuracy: 92.73%\n",
      "[06-27 13:10:16 MainProcess #58826] INFO  __init__.py:76 - > Calling get_macs\n",
      "[06-27 13:10:17 MainProcess #58826] INFO  __init__.py:81 - > Finished get_macs in 0.7144 s\n",
      "[06-27 13:10:17 MainProcess #58826] INFO  search_tactic.py:367 - Evaluating subnetwork 50/50 in loop 4 of 5\n",
      "[06-27 13:10:17 MainProcess #58826] INFO  __init__.py:76 - > Calling validation_dataloader\n"
     ]
    },
    {
     "name": "stdout",
     "output_type": "stream",
     "text": [
      "Files already downloaded and verified\n"
     ]
    },
    {
     "name": "stderr",
     "output_type": "stream",
     "text": [
      "[06-27 13:10:17 MainProcess #58826] INFO  __init__.py:81 - > Finished validation_dataloader in 0.7104 s\n",
      "[06-27 13:10:18 MainProcess #58826] INFO  bootstrapnas_interface.py:90 - Using custom accuracy_top1 metric evaluation function.\n",
      "[06-27 13:10:24 MainProcess #58826] INFO  __init__.py:76 - > Calling validate_classification\n",
      "[06-27 13:10:25 MainProcess #58826] INFO  __init__.py:81 - > Finished validate_classification in 1.2975 s\n",
      "[06-27 13:10:25 MainProcess #58826] INFO  bootstrapnas_interface.py:108 - Validation accuracy: 93.08%\n",
      "[06-27 13:10:25 MainProcess #58826] INFO  __init__.py:76 - > Calling get_macs\n",
      "[06-27 13:10:27 MainProcess #58826] INFO  __init__.py:81 - > Finished get_macs in 1.0408 s\n",
      "[06-27 13:10:27 MainProcess #58826] INFO  search_tactic.py:345 - Training macs predictor.\n",
      "[06-27 13:10:27 MainProcess #58826] INFO  predictor_manager.py:38 - Building dynamic predictor for macs\n",
      "[06-27 13:10:27 MainProcess #58826] INFO  encoding.py:246 - Training set length=200\n",
      "[06-27 13:10:32 MainProcess #58826] INFO  search_tactic.py:347 - Updated self.predictor_dict[macs].\n",
      "[06-27 13:10:32 MainProcess #58826] INFO  search_tactic.py:345 - Training accuracy_top1 predictor.\n",
      "[06-27 13:10:32 MainProcess #58826] INFO  predictor_manager.py:38 - Building dynamic predictor for accuracy_top1\n",
      "[06-27 13:10:32 MainProcess #58826] INFO  encoding.py:246 - Training set length=200\n",
      "[06-27 13:10:33 MainProcess #58826] INFO  search_tactic.py:347 - Updated self.predictor_dict[accuracy_top1].\n",
      "[06-27 13:10:33 MainProcess #58826] INFO  evolutionary.py:100 - Configuring nsga2 algorithm with 2 objectives.\n",
      "[06-27 13:10:33 MainProcess #58826] INFO  evolutionary.py:334 - Running Search ...\n"
     ]
    },
    {
     "name": "stdout",
     "output_type": "stream",
     "text": [
      "...................................................................................................."
     ]
    },
    {
     "name": "stderr",
     "output_type": "stream",
     "text": [
      "[06-27 13:10:37 MainProcess #58826] INFO  evolutionary.py:350 - Success! Search Took 3.700 seconds.\n",
      "[06-27 13:10:37 MainProcess #58826] INFO  search_tactic.py:363 - Starting LINAS loop 5 of 5.\n",
      "[06-27 13:10:37 MainProcess #58826] INFO  search_tactic.py:367 - Evaluating subnetwork 1/50 in loop 5 of 5\n",
      "[06-27 13:10:37 MainProcess #58826] INFO  __init__.py:76 - > Calling validation_dataloader\n"
     ]
    },
    {
     "name": "stdout",
     "output_type": "stream",
     "text": [
      "Files already downloaded and verified\n"
     ]
    },
    {
     "name": "stderr",
     "output_type": "stream",
     "text": [
      "[06-27 13:10:37 MainProcess #58826] INFO  __init__.py:81 - > Finished validation_dataloader in 0.7286 s\n",
      "[06-27 13:10:38 MainProcess #58826] INFO  bootstrapnas_interface.py:90 - Using custom accuracy_top1 metric evaluation function.\n",
      "[06-27 13:10:44 MainProcess #58826] INFO  __init__.py:76 - > Calling validate_classification\n",
      "[06-27 13:10:46 MainProcess #58826] INFO  __init__.py:81 - > Finished validate_classification in 1.5436 s\n",
      "[06-27 13:10:46 MainProcess #58826] INFO  bootstrapnas_interface.py:108 - Validation accuracy: 93.79%\n",
      "[06-27 13:10:46 MainProcess #58826] INFO  __init__.py:76 - > Calling get_macs\n",
      "[06-27 13:10:47 MainProcess #58826] INFO  __init__.py:81 - > Finished get_macs in 0.9307 s\n",
      "[06-27 13:10:47 MainProcess #58826] INFO  search_tactic.py:367 - Evaluating subnetwork 2/50 in loop 5 of 5\n",
      "[06-27 13:10:47 MainProcess #58826] INFO  __init__.py:76 - > Calling validation_dataloader\n"
     ]
    },
    {
     "name": "stdout",
     "output_type": "stream",
     "text": [
      "Files already downloaded and verified\n"
     ]
    },
    {
     "name": "stderr",
     "output_type": "stream",
     "text": [
      "[06-27 13:10:48 MainProcess #58826] INFO  __init__.py:81 - > Finished validation_dataloader in 0.7166 s\n",
      "[06-27 13:10:49 MainProcess #58826] INFO  bootstrapnas_interface.py:90 - Using custom accuracy_top1 metric evaluation function.\n",
      "[06-27 13:10:54 MainProcess #58826] INFO  __init__.py:76 - > Calling validate_classification\n",
      "[06-27 13:10:56 MainProcess #58826] INFO  __init__.py:81 - > Finished validate_classification in 1.2452 s\n",
      "[06-27 13:10:56 MainProcess #58826] INFO  bootstrapnas_interface.py:108 - Validation accuracy: 92.77%\n",
      "[06-27 13:10:56 MainProcess #58826] INFO  __init__.py:76 - > Calling get_macs\n",
      "[06-27 13:10:57 MainProcess #58826] INFO  __init__.py:81 - > Finished get_macs in 0.7642 s\n",
      "[06-27 13:10:57 MainProcess #58826] INFO  search_tactic.py:367 - Evaluating subnetwork 3/50 in loop 5 of 5\n",
      "[06-27 13:10:57 MainProcess #58826] INFO  __init__.py:76 - > Calling validation_dataloader\n"
     ]
    },
    {
     "name": "stdout",
     "output_type": "stream",
     "text": [
      "Files already downloaded and verified\n"
     ]
    },
    {
     "name": "stderr",
     "output_type": "stream",
     "text": [
      "[06-27 13:10:58 MainProcess #58826] INFO  __init__.py:81 - > Finished validation_dataloader in 0.7248 s\n",
      "[06-27 13:10:58 MainProcess #58826] INFO  bootstrapnas_interface.py:90 - Using custom accuracy_top1 metric evaluation function.\n",
      "[06-27 13:11:05 MainProcess #58826] INFO  __init__.py:76 - > Calling validate_classification\n",
      "[06-27 13:11:06 MainProcess #58826] INFO  __init__.py:81 - > Finished validate_classification in 1.4820 s\n",
      "[06-27 13:11:06 MainProcess #58826] INFO  bootstrapnas_interface.py:108 - Validation accuracy: 93.59%\n",
      "[06-27 13:11:07 MainProcess #58826] INFO  __init__.py:76 - > Calling get_macs\n",
      "[06-27 13:11:08 MainProcess #58826] INFO  __init__.py:81 - > Finished get_macs in 0.9244 s\n",
      "[06-27 13:11:08 MainProcess #58826] INFO  search_tactic.py:367 - Evaluating subnetwork 4/50 in loop 5 of 5\n",
      "[06-27 13:11:08 MainProcess #58826] INFO  __init__.py:76 - > Calling validation_dataloader\n"
     ]
    },
    {
     "name": "stdout",
     "output_type": "stream",
     "text": [
      "Files already downloaded and verified\n"
     ]
    },
    {
     "name": "stderr",
     "output_type": "stream",
     "text": [
      "[06-27 13:11:08 MainProcess #58826] INFO  __init__.py:81 - > Finished validation_dataloader in 0.7207 s\n",
      "[06-27 13:11:09 MainProcess #58826] INFO  bootstrapnas_interface.py:90 - Using custom accuracy_top1 metric evaluation function.\n",
      "[06-27 13:11:16 MainProcess #58826] INFO  __init__.py:76 - > Calling validate_classification\n",
      "[06-27 13:11:17 MainProcess #58826] INFO  __init__.py:81 - > Finished validate_classification in 1.4590 s\n",
      "[06-27 13:11:17 MainProcess #58826] INFO  bootstrapnas_interface.py:108 - Validation accuracy: 93.57%\n",
      "[06-27 13:11:18 MainProcess #58826] INFO  __init__.py:76 - > Calling get_macs\n",
      "[06-27 13:11:19 MainProcess #58826] INFO  __init__.py:81 - > Finished get_macs in 0.8926 s\n",
      "[06-27 13:11:19 MainProcess #58826] INFO  search_tactic.py:367 - Evaluating subnetwork 5/50 in loop 5 of 5\n",
      "[06-27 13:11:19 MainProcess #58826] INFO  __init__.py:76 - > Calling validation_dataloader\n"
     ]
    },
    {
     "name": "stdout",
     "output_type": "stream",
     "text": [
      "Files already downloaded and verified\n"
     ]
    },
    {
     "name": "stderr",
     "output_type": "stream",
     "text": [
      "[06-27 13:11:20 MainProcess #58826] INFO  __init__.py:81 - > Finished validation_dataloader in 0.7332 s\n",
      "[06-27 13:11:21 MainProcess #58826] INFO  bootstrapnas_interface.py:90 - Using custom accuracy_top1 metric evaluation function.\n",
      "[06-27 13:11:27 MainProcess #58826] INFO  __init__.py:76 - > Calling validate_classification\n",
      "[06-27 13:11:29 MainProcess #58826] INFO  __init__.py:81 - > Finished validate_classification in 1.4665 s\n",
      "[06-27 13:11:29 MainProcess #58826] INFO  bootstrapnas_interface.py:108 - Validation accuracy: 93.59%\n",
      "[06-27 13:11:29 MainProcess #58826] INFO  __init__.py:76 - > Calling get_macs\n",
      "[06-27 13:11:30 MainProcess #58826] INFO  __init__.py:81 - > Finished get_macs in 0.9321 s\n",
      "[06-27 13:11:30 MainProcess #58826] INFO  search_tactic.py:367 - Evaluating subnetwork 6/50 in loop 5 of 5\n",
      "[06-27 13:11:30 MainProcess #58826] INFO  __init__.py:76 - > Calling validation_dataloader\n"
     ]
    },
    {
     "name": "stdout",
     "output_type": "stream",
     "text": [
      "Files already downloaded and verified\n"
     ]
    },
    {
     "name": "stderr",
     "output_type": "stream",
     "text": [
      "[06-27 13:11:31 MainProcess #58826] INFO  __init__.py:81 - > Finished validation_dataloader in 0.7736 s\n",
      "[06-27 13:11:32 MainProcess #58826] INFO  bootstrapnas_interface.py:90 - Using custom accuracy_top1 metric evaluation function.\n",
      "[06-27 13:11:38 MainProcess #58826] INFO  __init__.py:76 - > Calling validate_classification\n",
      "[06-27 13:11:40 MainProcess #58826] INFO  __init__.py:81 - > Finished validate_classification in 1.5535 s\n",
      "[06-27 13:11:40 MainProcess #58826] INFO  bootstrapnas_interface.py:108 - Validation accuracy: 93.65%\n",
      "[06-27 13:11:40 MainProcess #58826] INFO  __init__.py:76 - > Calling get_macs\n",
      "[06-27 13:11:41 MainProcess #58826] INFO  __init__.py:81 - > Finished get_macs in 0.9672 s\n",
      "[06-27 13:11:41 MainProcess #58826] INFO  search_tactic.py:367 - Evaluating subnetwork 7/50 in loop 5 of 5\n",
      "[06-27 13:11:41 MainProcess #58826] INFO  __init__.py:76 - > Calling validation_dataloader\n"
     ]
    },
    {
     "name": "stdout",
     "output_type": "stream",
     "text": [
      "Files already downloaded and verified\n"
     ]
    },
    {
     "name": "stderr",
     "output_type": "stream",
     "text": [
      "[06-27 13:11:42 MainProcess #58826] INFO  __init__.py:81 - > Finished validation_dataloader in 0.7823 s\n",
      "[06-27 13:11:43 MainProcess #58826] INFO  bootstrapnas_interface.py:90 - Using custom accuracy_top1 metric evaluation function.\n",
      "[06-27 13:11:49 MainProcess #58826] INFO  __init__.py:76 - > Calling validate_classification\n",
      "[06-27 13:11:51 MainProcess #58826] INFO  __init__.py:81 - > Finished validate_classification in 1.5400 s\n",
      "[06-27 13:11:51 MainProcess #58826] INFO  bootstrapnas_interface.py:108 - Validation accuracy: 93.57%\n",
      "[06-27 13:11:51 MainProcess #58826] INFO  __init__.py:76 - > Calling get_macs\n",
      "[06-27 13:11:52 MainProcess #58826] INFO  __init__.py:81 - > Finished get_macs in 0.8811 s\n",
      "[06-27 13:11:52 MainProcess #58826] INFO  search_tactic.py:367 - Evaluating subnetwork 8/50 in loop 5 of 5\n",
      "[06-27 13:11:52 MainProcess #58826] INFO  __init__.py:76 - > Calling validation_dataloader\n"
     ]
    },
    {
     "name": "stdout",
     "output_type": "stream",
     "text": [
      "Files already downloaded and verified\n"
     ]
    },
    {
     "name": "stderr",
     "output_type": "stream",
     "text": [
      "[06-27 13:11:53 MainProcess #58826] INFO  __init__.py:81 - > Finished validation_dataloader in 0.7472 s\n",
      "[06-27 13:11:54 MainProcess #58826] INFO  bootstrapnas_interface.py:90 - Using custom accuracy_top1 metric evaluation function.\n",
      "[06-27 13:12:00 MainProcess #58826] INFO  __init__.py:76 - > Calling validate_classification\n",
      "[06-27 13:12:02 MainProcess #58826] INFO  __init__.py:81 - > Finished validate_classification in 1.4227 s\n",
      "[06-27 13:12:02 MainProcess #58826] INFO  bootstrapnas_interface.py:108 - Validation accuracy: 93.44%\n",
      "[06-27 13:12:02 MainProcess #58826] INFO  __init__.py:76 - > Calling get_macs\n",
      "[06-27 13:12:03 MainProcess #58826] INFO  __init__.py:81 - > Finished get_macs in 0.9139 s\n",
      "[06-27 13:12:03 MainProcess #58826] INFO  search_tactic.py:367 - Evaluating subnetwork 9/50 in loop 5 of 5\n",
      "[06-27 13:12:03 MainProcess #58826] INFO  __init__.py:76 - > Calling validation_dataloader\n"
     ]
    },
    {
     "name": "stdout",
     "output_type": "stream",
     "text": [
      "Files already downloaded and verified\n"
     ]
    },
    {
     "name": "stderr",
     "output_type": "stream",
     "text": [
      "[06-27 13:12:04 MainProcess #58826] INFO  __init__.py:81 - > Finished validation_dataloader in 0.7206 s\n",
      "[06-27 13:12:05 MainProcess #58826] INFO  bootstrapnas_interface.py:90 - Using custom accuracy_top1 metric evaluation function.\n",
      "[06-27 13:12:11 MainProcess #58826] INFO  __init__.py:76 - > Calling validate_classification\n",
      "[06-27 13:12:13 MainProcess #58826] INFO  __init__.py:81 - > Finished validate_classification in 1.5952 s\n",
      "[06-27 13:12:13 MainProcess #58826] INFO  bootstrapnas_interface.py:108 - Validation accuracy: 93.70%\n",
      "[06-27 13:12:13 MainProcess #58826] INFO  __init__.py:76 - > Calling get_macs\n",
      "[06-27 13:12:15 MainProcess #58826] INFO  __init__.py:81 - > Finished get_macs in 1.1649 s\n",
      "[06-27 13:12:15 MainProcess #58826] INFO  search_tactic.py:367 - Evaluating subnetwork 10/50 in loop 5 of 5\n",
      "[06-27 13:12:15 MainProcess #58826] INFO  __init__.py:76 - > Calling validation_dataloader\n"
     ]
    },
    {
     "name": "stdout",
     "output_type": "stream",
     "text": [
      "Files already downloaded and verified\n"
     ]
    },
    {
     "name": "stderr",
     "output_type": "stream",
     "text": [
      "[06-27 13:12:15 MainProcess #58826] INFO  __init__.py:81 - > Finished validation_dataloader in 0.7115 s\n",
      "[06-27 13:12:16 MainProcess #58826] INFO  bootstrapnas_interface.py:90 - Using custom accuracy_top1 metric evaluation function.\n",
      "[06-27 13:12:22 MainProcess #58826] INFO  __init__.py:76 - > Calling validate_classification\n",
      "[06-27 13:12:24 MainProcess #58826] INFO  __init__.py:81 - > Finished validate_classification in 1.4543 s\n",
      "[06-27 13:12:24 MainProcess #58826] INFO  bootstrapnas_interface.py:108 - Validation accuracy: 93.54%\n",
      "[06-27 13:12:24 MainProcess #58826] INFO  __init__.py:76 - > Calling get_macs\n",
      "[06-27 13:12:25 MainProcess #58826] INFO  __init__.py:81 - > Finished get_macs in 0.9108 s\n",
      "[06-27 13:12:25 MainProcess #58826] INFO  search_tactic.py:367 - Evaluating subnetwork 11/50 in loop 5 of 5\n",
      "[06-27 13:12:25 MainProcess #58826] INFO  __init__.py:76 - > Calling validation_dataloader\n"
     ]
    },
    {
     "name": "stdout",
     "output_type": "stream",
     "text": [
      "Files already downloaded and verified\n"
     ]
    },
    {
     "name": "stderr",
     "output_type": "stream",
     "text": [
      "[06-27 13:12:26 MainProcess #58826] INFO  __init__.py:81 - > Finished validation_dataloader in 0.7519 s\n",
      "[06-27 13:12:27 MainProcess #58826] INFO  bootstrapnas_interface.py:90 - Using custom accuracy_top1 metric evaluation function.\n",
      "[06-27 13:12:32 MainProcess #58826] INFO  __init__.py:76 - > Calling validate_classification\n",
      "[06-27 13:12:33 MainProcess #58826] INFO  __init__.py:81 - > Finished validate_classification in 1.2112 s\n",
      "[06-27 13:12:33 MainProcess #58826] INFO  bootstrapnas_interface.py:108 - Validation accuracy: 92.79%\n",
      "[06-27 13:12:34 MainProcess #58826] INFO  __init__.py:76 - > Calling get_macs\n",
      "[06-27 13:12:35 MainProcess #58826] INFO  __init__.py:81 - > Finished get_macs in 0.7397 s\n",
      "[06-27 13:12:35 MainProcess #58826] INFO  search_tactic.py:367 - Evaluating subnetwork 12/50 in loop 5 of 5\n",
      "[06-27 13:12:35 MainProcess #58826] INFO  __init__.py:76 - > Calling validation_dataloader\n"
     ]
    },
    {
     "name": "stdout",
     "output_type": "stream",
     "text": [
      "Files already downloaded and verified\n"
     ]
    },
    {
     "name": "stderr",
     "output_type": "stream",
     "text": [
      "[06-27 13:12:36 MainProcess #58826] INFO  __init__.py:81 - > Finished validation_dataloader in 0.7507 s\n",
      "[06-27 13:12:36 MainProcess #58826] INFO  bootstrapnas_interface.py:90 - Using custom accuracy_top1 metric evaluation function.\n",
      "[06-27 13:12:43 MainProcess #58826] INFO  __init__.py:76 - > Calling validate_classification\n",
      "[06-27 13:12:45 MainProcess #58826] INFO  __init__.py:81 - > Finished validate_classification in 1.6024 s\n",
      "[06-27 13:12:45 MainProcess #58826] INFO  bootstrapnas_interface.py:108 - Validation accuracy: 93.68%\n",
      "[06-27 13:12:45 MainProcess #58826] INFO  __init__.py:76 - > Calling get_macs\n",
      "[06-27 13:12:46 MainProcess #58826] INFO  __init__.py:81 - > Finished get_macs in 0.9358 s\n",
      "[06-27 13:12:46 MainProcess #58826] INFO  search_tactic.py:367 - Evaluating subnetwork 13/50 in loop 5 of 5\n",
      "[06-27 13:12:46 MainProcess #58826] INFO  __init__.py:76 - > Calling validation_dataloader\n"
     ]
    },
    {
     "name": "stdout",
     "output_type": "stream",
     "text": [
      "Files already downloaded and verified\n"
     ]
    },
    {
     "name": "stderr",
     "output_type": "stream",
     "text": [
      "[06-27 13:12:47 MainProcess #58826] INFO  __init__.py:81 - > Finished validation_dataloader in 0.7340 s\n",
      "[06-27 13:12:48 MainProcess #58826] INFO  bootstrapnas_interface.py:90 - Using custom accuracy_top1 metric evaluation function.\n",
      "[06-27 13:12:54 MainProcess #58826] INFO  __init__.py:76 - > Calling validate_classification\n",
      "[06-27 13:12:55 MainProcess #58826] INFO  __init__.py:81 - > Finished validate_classification in 1.5344 s\n",
      "[06-27 13:12:55 MainProcess #58826] INFO  bootstrapnas_interface.py:108 - Validation accuracy: 93.48%\n",
      "[06-27 13:12:56 MainProcess #58826] INFO  __init__.py:76 - > Calling get_macs\n",
      "[06-27 13:12:57 MainProcess #58826] INFO  __init__.py:81 - > Finished get_macs in 0.8577 s\n",
      "[06-27 13:12:57 MainProcess #58826] INFO  search_tactic.py:367 - Evaluating subnetwork 14/50 in loop 5 of 5\n",
      "[06-27 13:12:57 MainProcess #58826] INFO  __init__.py:76 - > Calling validation_dataloader\n"
     ]
    },
    {
     "name": "stdout",
     "output_type": "stream",
     "text": [
      "Files already downloaded and verified\n"
     ]
    },
    {
     "name": "stderr",
     "output_type": "stream",
     "text": [
      "[06-27 13:12:58 MainProcess #58826] INFO  __init__.py:81 - > Finished validation_dataloader in 0.6880 s\n",
      "[06-27 13:12:58 MainProcess #58826] INFO  bootstrapnas_interface.py:90 - Using custom accuracy_top1 metric evaluation function.\n",
      "[06-27 13:13:05 MainProcess #58826] INFO  __init__.py:76 - > Calling validate_classification\n",
      "[06-27 13:13:06 MainProcess #58826] INFO  __init__.py:81 - > Finished validate_classification in 1.2335 s\n",
      "[06-27 13:13:06 MainProcess #58826] INFO  bootstrapnas_interface.py:108 - Validation accuracy: 92.98%\n",
      "[06-27 13:13:07 MainProcess #58826] INFO  __init__.py:76 - > Calling get_macs\n",
      "[06-27 13:13:08 MainProcess #58826] INFO  __init__.py:81 - > Finished get_macs in 0.7509 s\n",
      "[06-27 13:13:08 MainProcess #58826] INFO  search_tactic.py:367 - Evaluating subnetwork 15/50 in loop 5 of 5\n",
      "[06-27 13:13:08 MainProcess #58826] INFO  __init__.py:76 - > Calling validation_dataloader\n"
     ]
    },
    {
     "name": "stdout",
     "output_type": "stream",
     "text": [
      "Files already downloaded and verified\n"
     ]
    },
    {
     "name": "stderr",
     "output_type": "stream",
     "text": [
      "[06-27 13:13:09 MainProcess #58826] INFO  __init__.py:81 - > Finished validation_dataloader in 0.7366 s\n",
      "[06-27 13:13:10 MainProcess #58826] INFO  bootstrapnas_interface.py:90 - Using custom accuracy_top1 metric evaluation function.\n",
      "[06-27 13:13:18 MainProcess #58826] INFO  __init__.py:76 - > Calling validate_classification\n",
      "[06-27 13:13:20 MainProcess #58826] INFO  __init__.py:81 - > Finished validate_classification in 2.0047 s\n",
      "[06-27 13:13:20 MainProcess #58826] INFO  bootstrapnas_interface.py:108 - Validation accuracy: 92.92%\n",
      "[06-27 13:13:21 MainProcess #58826] INFO  __init__.py:76 - > Calling get_macs\n",
      "[06-27 13:13:22 MainProcess #58826] INFO  __init__.py:81 - > Finished get_macs in 0.7160 s\n",
      "[06-27 13:13:22 MainProcess #58826] INFO  search_tactic.py:367 - Evaluating subnetwork 16/50 in loop 5 of 5\n",
      "[06-27 13:13:22 MainProcess #58826] INFO  __init__.py:76 - > Calling validation_dataloader\n"
     ]
    },
    {
     "name": "stdout",
     "output_type": "stream",
     "text": [
      "Files already downloaded and verified\n"
     ]
    },
    {
     "name": "stderr",
     "output_type": "stream",
     "text": [
      "[06-27 13:13:23 MainProcess #58826] INFO  __init__.py:81 - > Finished validation_dataloader in 0.6891 s\n",
      "[06-27 13:13:23 MainProcess #58826] INFO  bootstrapnas_interface.py:90 - Using custom accuracy_top1 metric evaluation function.\n",
      "[06-27 13:13:28 MainProcess #58826] INFO  __init__.py:76 - > Calling validate_classification\n",
      "[06-27 13:13:30 MainProcess #58826] INFO  __init__.py:81 - > Finished validate_classification in 1.2507 s\n",
      "[06-27 13:13:30 MainProcess #58826] INFO  bootstrapnas_interface.py:108 - Validation accuracy: 93.12%\n",
      "[06-27 13:13:30 MainProcess #58826] INFO  __init__.py:76 - > Calling get_macs\n",
      "[06-27 13:13:31 MainProcess #58826] INFO  __init__.py:81 - > Finished get_macs in 0.9646 s\n",
      "[06-27 13:13:31 MainProcess #58826] INFO  search_tactic.py:367 - Evaluating subnetwork 17/50 in loop 5 of 5\n",
      "[06-27 13:13:31 MainProcess #58826] INFO  __init__.py:76 - > Calling validation_dataloader\n"
     ]
    },
    {
     "name": "stdout",
     "output_type": "stream",
     "text": [
      "Files already downloaded and verified\n"
     ]
    },
    {
     "name": "stderr",
     "output_type": "stream",
     "text": [
      "[06-27 13:13:32 MainProcess #58826] INFO  __init__.py:81 - > Finished validation_dataloader in 0.6889 s\n",
      "[06-27 13:13:32 MainProcess #58826] INFO  bootstrapnas_interface.py:90 - Using custom accuracy_top1 metric evaluation function.\n",
      "[06-27 13:13:38 MainProcess #58826] INFO  __init__.py:76 - > Calling validate_classification\n",
      "[06-27 13:13:39 MainProcess #58826] INFO  __init__.py:81 - > Finished validate_classification in 1.2076 s\n",
      "[06-27 13:13:39 MainProcess #58826] INFO  bootstrapnas_interface.py:108 - Validation accuracy: 92.89%\n",
      "[06-27 13:13:40 MainProcess #58826] INFO  __init__.py:76 - > Calling get_macs\n",
      "[06-27 13:13:40 MainProcess #58826] INFO  __init__.py:81 - > Finished get_macs in 0.7113 s\n",
      "[06-27 13:13:40 MainProcess #58826] INFO  search_tactic.py:367 - Evaluating subnetwork 18/50 in loop 5 of 5\n",
      "[06-27 13:13:40 MainProcess #58826] INFO  __init__.py:76 - > Calling validation_dataloader\n"
     ]
    },
    {
     "name": "stdout",
     "output_type": "stream",
     "text": [
      "Files already downloaded and verified\n"
     ]
    },
    {
     "name": "stderr",
     "output_type": "stream",
     "text": [
      "[06-27 13:13:41 MainProcess #58826] INFO  __init__.py:81 - > Finished validation_dataloader in 0.7189 s\n",
      "[06-27 13:13:42 MainProcess #58826] INFO  bootstrapnas_interface.py:90 - Using custom accuracy_top1 metric evaluation function.\n",
      "[06-27 13:13:47 MainProcess #58826] INFO  __init__.py:76 - > Calling validate_classification\n",
      "[06-27 13:13:49 MainProcess #58826] INFO  __init__.py:81 - > Finished validate_classification in 1.2140 s\n",
      "[06-27 13:13:49 MainProcess #58826] INFO  bootstrapnas_interface.py:108 - Validation accuracy: 92.84%\n",
      "[06-27 13:13:50 MainProcess #58826] INFO  __init__.py:76 - > Calling get_macs\n",
      "[06-27 13:13:50 MainProcess #58826] INFO  __init__.py:81 - > Finished get_macs in 0.7556 s\n",
      "[06-27 13:13:50 MainProcess #58826] INFO  search_tactic.py:367 - Evaluating subnetwork 19/50 in loop 5 of 5\n",
      "[06-27 13:13:50 MainProcess #58826] INFO  __init__.py:76 - > Calling validation_dataloader\n"
     ]
    },
    {
     "name": "stdout",
     "output_type": "stream",
     "text": [
      "Files already downloaded and verified\n"
     ]
    },
    {
     "name": "stderr",
     "output_type": "stream",
     "text": [
      "[06-27 13:13:51 MainProcess #58826] INFO  __init__.py:81 - > Finished validation_dataloader in 0.7135 s\n",
      "[06-27 13:13:52 MainProcess #58826] INFO  bootstrapnas_interface.py:90 - Using custom accuracy_top1 metric evaluation function.\n",
      "[06-27 13:13:57 MainProcess #58826] INFO  __init__.py:76 - > Calling validate_classification\n",
      "[06-27 13:13:58 MainProcess #58826] INFO  __init__.py:81 - > Finished validate_classification in 1.1838 s\n",
      "[06-27 13:13:58 MainProcess #58826] INFO  bootstrapnas_interface.py:108 - Validation accuracy: 92.84%\n",
      "[06-27 13:13:59 MainProcess #58826] INFO  __init__.py:76 - > Calling get_macs\n",
      "[06-27 13:14:00 MainProcess #58826] INFO  __init__.py:81 - > Finished get_macs in 0.7643 s\n",
      "[06-27 13:14:00 MainProcess #58826] INFO  search_tactic.py:367 - Evaluating subnetwork 20/50 in loop 5 of 5\n",
      "[06-27 13:14:00 MainProcess #58826] INFO  __init__.py:76 - > Calling validation_dataloader\n"
     ]
    },
    {
     "name": "stdout",
     "output_type": "stream",
     "text": [
      "Files already downloaded and verified\n"
     ]
    },
    {
     "name": "stderr",
     "output_type": "stream",
     "text": [
      "[06-27 13:14:01 MainProcess #58826] INFO  __init__.py:81 - > Finished validation_dataloader in 0.6970 s\n",
      "[06-27 13:14:01 MainProcess #58826] INFO  bootstrapnas_interface.py:90 - Using custom accuracy_top1 metric evaluation function.\n",
      "[06-27 13:14:07 MainProcess #58826] INFO  __init__.py:76 - > Calling validate_classification\n",
      "[06-27 13:14:08 MainProcess #58826] INFO  __init__.py:81 - > Finished validate_classification in 1.2300 s\n",
      "[06-27 13:14:08 MainProcess #58826] INFO  bootstrapnas_interface.py:108 - Validation accuracy: 93.10%\n",
      "[06-27 13:14:09 MainProcess #58826] INFO  __init__.py:76 - > Calling get_macs\n",
      "[06-27 13:14:09 MainProcess #58826] INFO  __init__.py:81 - > Finished get_macs in 0.6936 s\n",
      "[06-27 13:14:09 MainProcess #58826] INFO  search_tactic.py:367 - Evaluating subnetwork 21/50 in loop 5 of 5\n",
      "[06-27 13:14:09 MainProcess #58826] INFO  __init__.py:76 - > Calling validation_dataloader\n"
     ]
    },
    {
     "name": "stdout",
     "output_type": "stream",
     "text": [
      "Files already downloaded and verified\n"
     ]
    },
    {
     "name": "stderr",
     "output_type": "stream",
     "text": [
      "[06-27 13:14:10 MainProcess #58826] INFO  __init__.py:81 - > Finished validation_dataloader in 0.6882 s\n",
      "[06-27 13:14:10 MainProcess #58826] INFO  bootstrapnas_interface.py:90 - Using custom accuracy_top1 metric evaluation function.\n",
      "[06-27 13:14:16 MainProcess #58826] INFO  __init__.py:76 - > Calling validate_classification\n",
      "[06-27 13:14:17 MainProcess #58826] INFO  __init__.py:81 - > Finished validate_classification in 1.3068 s\n",
      "[06-27 13:14:17 MainProcess #58826] INFO  bootstrapnas_interface.py:108 - Validation accuracy: 93.18%\n",
      "[06-27 13:14:18 MainProcess #58826] INFO  __init__.py:76 - > Calling get_macs\n",
      "[06-27 13:14:19 MainProcess #58826] INFO  __init__.py:81 - > Finished get_macs in 0.7745 s\n",
      "[06-27 13:14:19 MainProcess #58826] INFO  search_tactic.py:367 - Evaluating subnetwork 22/50 in loop 5 of 5\n",
      "[06-27 13:14:19 MainProcess #58826] INFO  __init__.py:76 - > Calling validation_dataloader\n"
     ]
    },
    {
     "name": "stdout",
     "output_type": "stream",
     "text": [
      "Files already downloaded and verified\n"
     ]
    },
    {
     "name": "stderr",
     "output_type": "stream",
     "text": [
      "[06-27 13:14:19 MainProcess #58826] INFO  __init__.py:81 - > Finished validation_dataloader in 0.7504 s\n",
      "[06-27 13:14:20 MainProcess #58826] INFO  bootstrapnas_interface.py:90 - Using custom accuracy_top1 metric evaluation function.\n",
      "[06-27 13:14:25 MainProcess #58826] INFO  __init__.py:76 - > Calling validate_classification\n",
      "[06-27 13:14:27 MainProcess #58826] INFO  __init__.py:81 - > Finished validate_classification in 1.2501 s\n",
      "[06-27 13:14:27 MainProcess #58826] INFO  bootstrapnas_interface.py:108 - Validation accuracy: 92.98%\n",
      "[06-27 13:14:27 MainProcess #58826] INFO  __init__.py:76 - > Calling get_macs\n",
      "[06-27 13:14:28 MainProcess #58826] INFO  __init__.py:81 - > Finished get_macs in 0.7498 s\n",
      "[06-27 13:14:28 MainProcess #58826] INFO  search_tactic.py:367 - Evaluating subnetwork 23/50 in loop 5 of 5\n",
      "[06-27 13:14:28 MainProcess #58826] INFO  __init__.py:76 - > Calling validation_dataloader\n"
     ]
    },
    {
     "name": "stdout",
     "output_type": "stream",
     "text": [
      "Files already downloaded and verified\n"
     ]
    },
    {
     "name": "stderr",
     "output_type": "stream",
     "text": [
      "[06-27 13:14:29 MainProcess #58826] INFO  __init__.py:81 - > Finished validation_dataloader in 0.7161 s\n",
      "[06-27 13:14:30 MainProcess #58826] INFO  bootstrapnas_interface.py:90 - Using custom accuracy_top1 metric evaluation function.\n",
      "[06-27 13:14:35 MainProcess #58826] INFO  __init__.py:76 - > Calling validate_classification\n",
      "[06-27 13:14:36 MainProcess #58826] INFO  __init__.py:81 - > Finished validate_classification in 1.2107 s\n",
      "[06-27 13:14:36 MainProcess #58826] INFO  bootstrapnas_interface.py:108 - Validation accuracy: 93.09%\n",
      "[06-27 13:14:37 MainProcess #58826] INFO  __init__.py:76 - > Calling get_macs\n",
      "[06-27 13:14:38 MainProcess #58826] INFO  __init__.py:81 - > Finished get_macs in 1.0838 s\n",
      "[06-27 13:14:38 MainProcess #58826] INFO  search_tactic.py:367 - Evaluating subnetwork 24/50 in loop 5 of 5\n",
      "[06-27 13:14:38 MainProcess #58826] INFO  __init__.py:76 - > Calling validation_dataloader\n"
     ]
    },
    {
     "name": "stdout",
     "output_type": "stream",
     "text": [
      "Files already downloaded and verified\n"
     ]
    },
    {
     "name": "stderr",
     "output_type": "stream",
     "text": [
      "[06-27 13:14:39 MainProcess #58826] INFO  __init__.py:81 - > Finished validation_dataloader in 0.7377 s\n",
      "[06-27 13:14:40 MainProcess #58826] INFO  bootstrapnas_interface.py:90 - Using custom accuracy_top1 metric evaluation function.\n",
      "[06-27 13:14:46 MainProcess #58826] INFO  __init__.py:76 - > Calling validate_classification\n",
      "[06-27 13:14:48 MainProcess #58826] INFO  __init__.py:81 - > Finished validate_classification in 1.5670 s\n",
      "[06-27 13:14:48 MainProcess #58826] INFO  bootstrapnas_interface.py:108 - Validation accuracy: 93.65%\n",
      "[06-27 13:14:48 MainProcess #58826] INFO  __init__.py:76 - > Calling get_macs\n",
      "[06-27 13:14:49 MainProcess #58826] INFO  __init__.py:81 - > Finished get_macs in 0.9024 s\n",
      "[06-27 13:14:49 MainProcess #58826] INFO  search_tactic.py:367 - Evaluating subnetwork 25/50 in loop 5 of 5\n",
      "[06-27 13:14:49 MainProcess #58826] INFO  __init__.py:76 - > Calling validation_dataloader\n"
     ]
    },
    {
     "name": "stdout",
     "output_type": "stream",
     "text": [
      "Files already downloaded and verified\n"
     ]
    },
    {
     "name": "stderr",
     "output_type": "stream",
     "text": [
      "[06-27 13:14:50 MainProcess #58826] INFO  __init__.py:81 - > Finished validation_dataloader in 0.7251 s\n",
      "[06-27 13:14:51 MainProcess #58826] INFO  bootstrapnas_interface.py:90 - Using custom accuracy_top1 metric evaluation function.\n",
      "[06-27 13:14:56 MainProcess #58826] INFO  __init__.py:76 - > Calling validate_classification\n",
      "[06-27 13:14:57 MainProcess #58826] INFO  __init__.py:81 - > Finished validate_classification in 1.2220 s\n",
      "[06-27 13:14:57 MainProcess #58826] INFO  bootstrapnas_interface.py:108 - Validation accuracy: 92.90%\n",
      "[06-27 13:14:58 MainProcess #58826] INFO  __init__.py:76 - > Calling get_macs\n",
      "[06-27 13:14:59 MainProcess #58826] INFO  __init__.py:81 - > Finished get_macs in 0.7944 s\n",
      "[06-27 13:14:59 MainProcess #58826] INFO  search_tactic.py:367 - Evaluating subnetwork 26/50 in loop 5 of 5\n",
      "[06-27 13:14:59 MainProcess #58826] INFO  __init__.py:76 - > Calling validation_dataloader\n"
     ]
    },
    {
     "name": "stdout",
     "output_type": "stream",
     "text": [
      "Files already downloaded and verified\n"
     ]
    },
    {
     "name": "stderr",
     "output_type": "stream",
     "text": [
      "[06-27 13:15:00 MainProcess #58826] INFO  __init__.py:81 - > Finished validation_dataloader in 0.7384 s\n",
      "[06-27 13:15:01 MainProcess #58826] INFO  bootstrapnas_interface.py:90 - Using custom accuracy_top1 metric evaluation function.\n",
      "[06-27 13:15:06 MainProcess #58826] INFO  __init__.py:76 - > Calling validate_classification\n",
      "[06-27 13:15:07 MainProcess #58826] INFO  __init__.py:81 - > Finished validate_classification in 1.2393 s\n",
      "[06-27 13:15:07 MainProcess #58826] INFO  bootstrapnas_interface.py:108 - Validation accuracy: 92.90%\n",
      "[06-27 13:15:08 MainProcess #58826] INFO  __init__.py:76 - > Calling get_macs\n",
      "[06-27 13:15:09 MainProcess #58826] INFO  __init__.py:81 - > Finished get_macs in 0.7560 s\n",
      "[06-27 13:15:09 MainProcess #58826] INFO  search_tactic.py:367 - Evaluating subnetwork 27/50 in loop 5 of 5\n",
      "[06-27 13:15:09 MainProcess #58826] INFO  __init__.py:76 - > Calling validation_dataloader\n"
     ]
    },
    {
     "name": "stdout",
     "output_type": "stream",
     "text": [
      "Files already downloaded and verified\n"
     ]
    },
    {
     "name": "stderr",
     "output_type": "stream",
     "text": [
      "[06-27 13:15:09 MainProcess #58826] INFO  __init__.py:81 - > Finished validation_dataloader in 0.7116 s\n",
      "[06-27 13:15:10 MainProcess #58826] INFO  bootstrapnas_interface.py:90 - Using custom accuracy_top1 metric evaluation function.\n",
      "[06-27 13:15:16 MainProcess #58826] INFO  __init__.py:76 - > Calling validate_classification\n",
      "[06-27 13:15:18 MainProcess #58826] INFO  __init__.py:81 - > Finished validate_classification in 1.3951 s\n",
      "[06-27 13:15:18 MainProcess #58826] INFO  bootstrapnas_interface.py:108 - Validation accuracy: 93.72%\n",
      "[06-27 13:15:18 MainProcess #58826] INFO  __init__.py:76 - > Calling get_macs\n",
      "[06-27 13:15:19 MainProcess #58826] INFO  __init__.py:81 - > Finished get_macs in 0.8473 s\n",
      "[06-27 13:15:19 MainProcess #58826] INFO  search_tactic.py:367 - Evaluating subnetwork 28/50 in loop 5 of 5\n",
      "[06-27 13:15:19 MainProcess #58826] INFO  __init__.py:76 - > Calling validation_dataloader\n"
     ]
    },
    {
     "name": "stdout",
     "output_type": "stream",
     "text": [
      "Files already downloaded and verified\n"
     ]
    },
    {
     "name": "stderr",
     "output_type": "stream",
     "text": [
      "[06-27 13:15:20 MainProcess #58826] INFO  __init__.py:81 - > Finished validation_dataloader in 0.6872 s\n",
      "[06-27 13:15:20 MainProcess #58826] INFO  bootstrapnas_interface.py:90 - Using custom accuracy_top1 metric evaluation function.\n",
      "[06-27 13:15:26 MainProcess #58826] INFO  __init__.py:76 - > Calling validate_classification\n",
      "[06-27 13:15:27 MainProcess #58826] INFO  __init__.py:81 - > Finished validate_classification in 1.2338 s\n",
      "[06-27 13:15:27 MainProcess #58826] INFO  bootstrapnas_interface.py:108 - Validation accuracy: 93.29%\n",
      "[06-27 13:15:28 MainProcess #58826] INFO  __init__.py:76 - > Calling get_macs\n",
      "[06-27 13:15:28 MainProcess #58826] INFO  __init__.py:81 - > Finished get_macs in 0.7671 s\n",
      "[06-27 13:15:28 MainProcess #58826] INFO  search_tactic.py:367 - Evaluating subnetwork 29/50 in loop 5 of 5\n",
      "[06-27 13:15:28 MainProcess #58826] INFO  __init__.py:76 - > Calling validation_dataloader\n"
     ]
    },
    {
     "name": "stdout",
     "output_type": "stream",
     "text": [
      "Files already downloaded and verified\n"
     ]
    },
    {
     "name": "stderr",
     "output_type": "stream",
     "text": [
      "[06-27 13:15:29 MainProcess #58826] INFO  __init__.py:81 - > Finished validation_dataloader in 0.7440 s\n",
      "[06-27 13:15:30 MainProcess #58826] INFO  bootstrapnas_interface.py:90 - Using custom accuracy_top1 metric evaluation function.\n",
      "[06-27 13:15:35 MainProcess #58826] INFO  __init__.py:76 - > Calling validate_classification\n",
      "[06-27 13:15:37 MainProcess #58826] INFO  __init__.py:81 - > Finished validate_classification in 1.4136 s\n",
      "[06-27 13:15:37 MainProcess #58826] INFO  bootstrapnas_interface.py:108 - Validation accuracy: 92.91%\n",
      "[06-27 13:15:38 MainProcess #58826] INFO  __init__.py:76 - > Calling get_macs\n",
      "[06-27 13:15:38 MainProcess #58826] INFO  __init__.py:81 - > Finished get_macs in 0.7816 s\n",
      "[06-27 13:15:38 MainProcess #58826] INFO  search_tactic.py:367 - Evaluating subnetwork 30/50 in loop 5 of 5\n",
      "[06-27 13:15:38 MainProcess #58826] INFO  __init__.py:76 - > Calling validation_dataloader\n"
     ]
    },
    {
     "name": "stdout",
     "output_type": "stream",
     "text": [
      "Files already downloaded and verified\n"
     ]
    },
    {
     "name": "stderr",
     "output_type": "stream",
     "text": [
      "[06-27 13:15:39 MainProcess #58826] INFO  __init__.py:81 - > Finished validation_dataloader in 0.7567 s\n",
      "[06-27 13:15:40 MainProcess #58826] INFO  bootstrapnas_interface.py:90 - Using custom accuracy_top1 metric evaluation function.\n",
      "[06-27 13:15:46 MainProcess #58826] INFO  __init__.py:76 - > Calling validate_classification\n",
      "[06-27 13:15:48 MainProcess #58826] INFO  __init__.py:81 - > Finished validate_classification in 1.4752 s\n",
      "[06-27 13:15:48 MainProcess #58826] INFO  bootstrapnas_interface.py:108 - Validation accuracy: 93.56%\n",
      "[06-27 13:15:48 MainProcess #58826] INFO  __init__.py:76 - > Calling get_macs\n",
      "[06-27 13:15:49 MainProcess #58826] INFO  __init__.py:81 - > Finished get_macs in 0.8640 s\n",
      "[06-27 13:15:49 MainProcess #58826] INFO  search_tactic.py:367 - Evaluating subnetwork 31/50 in loop 5 of 5\n",
      "[06-27 13:15:49 MainProcess #58826] INFO  __init__.py:76 - > Calling validation_dataloader\n"
     ]
    },
    {
     "name": "stdout",
     "output_type": "stream",
     "text": [
      "Files already downloaded and verified\n"
     ]
    },
    {
     "name": "stderr",
     "output_type": "stream",
     "text": [
      "[06-27 13:15:50 MainProcess #58826] INFO  __init__.py:81 - > Finished validation_dataloader in 0.7103 s\n",
      "[06-27 13:15:50 MainProcess #58826] INFO  bootstrapnas_interface.py:90 - Using custom accuracy_top1 metric evaluation function.\n",
      "[06-27 13:15:57 MainProcess #58826] INFO  __init__.py:76 - > Calling validate_classification\n",
      "[06-27 13:15:58 MainProcess #58826] INFO  __init__.py:81 - > Finished validate_classification in 1.5188 s\n",
      "[06-27 13:15:58 MainProcess #58826] INFO  bootstrapnas_interface.py:108 - Validation accuracy: 93.72%\n",
      "[06-27 13:15:59 MainProcess #58826] INFO  __init__.py:76 - > Calling get_macs\n",
      "[06-27 13:16:00 MainProcess #58826] INFO  __init__.py:81 - > Finished get_macs in 0.9165 s\n",
      "[06-27 13:16:00 MainProcess #58826] INFO  search_tactic.py:367 - Evaluating subnetwork 32/50 in loop 5 of 5\n",
      "[06-27 13:16:00 MainProcess #58826] INFO  __init__.py:76 - > Calling validation_dataloader\n"
     ]
    },
    {
     "name": "stdout",
     "output_type": "stream",
     "text": [
      "Files already downloaded and verified\n"
     ]
    },
    {
     "name": "stderr",
     "output_type": "stream",
     "text": [
      "[06-27 13:16:00 MainProcess #58826] INFO  __init__.py:81 - > Finished validation_dataloader in 0.7150 s\n",
      "[06-27 13:16:01 MainProcess #58826] INFO  bootstrapnas_interface.py:90 - Using custom accuracy_top1 metric evaluation function.\n",
      "[06-27 13:16:07 MainProcess #58826] INFO  __init__.py:76 - > Calling validate_classification\n",
      "[06-27 13:16:08 MainProcess #58826] INFO  __init__.py:81 - > Finished validate_classification in 1.2119 s\n",
      "[06-27 13:16:08 MainProcess #58826] INFO  bootstrapnas_interface.py:108 - Validation accuracy: 93.10%\n",
      "[06-27 13:16:09 MainProcess #58826] INFO  __init__.py:76 - > Calling get_macs\n",
      "[06-27 13:16:10 MainProcess #58826] INFO  __init__.py:81 - > Finished get_macs in 0.7523 s\n",
      "[06-27 13:16:10 MainProcess #58826] INFO  search_tactic.py:367 - Evaluating subnetwork 33/50 in loop 5 of 5\n",
      "[06-27 13:16:10 MainProcess #58826] INFO  __init__.py:76 - > Calling validation_dataloader\n"
     ]
    },
    {
     "name": "stdout",
     "output_type": "stream",
     "text": [
      "Files already downloaded and verified\n"
     ]
    },
    {
     "name": "stderr",
     "output_type": "stream",
     "text": [
      "[06-27 13:16:11 MainProcess #58826] INFO  __init__.py:81 - > Finished validation_dataloader in 0.7301 s\n",
      "[06-27 13:16:11 MainProcess #58826] INFO  bootstrapnas_interface.py:90 - Using custom accuracy_top1 metric evaluation function.\n",
      "[06-27 13:16:17 MainProcess #58826] INFO  __init__.py:76 - > Calling validate_classification\n",
      "[06-27 13:16:18 MainProcess #58826] INFO  __init__.py:81 - > Finished validate_classification in 1.2085 s\n",
      "[06-27 13:16:18 MainProcess #58826] INFO  bootstrapnas_interface.py:108 - Validation accuracy: 92.95%\n",
      "[06-27 13:16:19 MainProcess #58826] INFO  __init__.py:76 - > Calling get_macs\n",
      "[06-27 13:16:20 MainProcess #58826] INFO  __init__.py:81 - > Finished get_macs in 0.7625 s\n",
      "[06-27 13:16:20 MainProcess #58826] INFO  search_tactic.py:367 - Evaluating subnetwork 34/50 in loop 5 of 5\n",
      "[06-27 13:16:20 MainProcess #58826] INFO  __init__.py:76 - > Calling validation_dataloader\n"
     ]
    },
    {
     "name": "stdout",
     "output_type": "stream",
     "text": [
      "Files already downloaded and verified\n"
     ]
    },
    {
     "name": "stderr",
     "output_type": "stream",
     "text": [
      "[06-27 13:16:20 MainProcess #58826] INFO  __init__.py:81 - > Finished validation_dataloader in 0.7193 s\n",
      "[06-27 13:16:21 MainProcess #58826] INFO  bootstrapnas_interface.py:90 - Using custom accuracy_top1 metric evaluation function.\n",
      "[06-27 13:16:27 MainProcess #58826] INFO  __init__.py:76 - > Calling validate_classification\n",
      "[06-27 13:16:28 MainProcess #58826] INFO  __init__.py:81 - > Finished validate_classification in 1.2668 s\n",
      "[06-27 13:16:28 MainProcess #58826] INFO  bootstrapnas_interface.py:108 - Validation accuracy: 93.20%\n",
      "[06-27 13:16:29 MainProcess #58826] INFO  __init__.py:76 - > Calling get_macs\n",
      "[06-27 13:16:29 MainProcess #58826] INFO  __init__.py:81 - > Finished get_macs in 0.7227 s\n",
      "[06-27 13:16:29 MainProcess #58826] INFO  search_tactic.py:367 - Evaluating subnetwork 35/50 in loop 5 of 5\n",
      "[06-27 13:16:29 MainProcess #58826] INFO  __init__.py:76 - > Calling validation_dataloader\n"
     ]
    },
    {
     "name": "stdout",
     "output_type": "stream",
     "text": [
      "Files already downloaded and verified\n"
     ]
    },
    {
     "name": "stderr",
     "output_type": "stream",
     "text": [
      "[06-27 13:16:30 MainProcess #58826] INFO  __init__.py:81 - > Finished validation_dataloader in 0.7108 s\n",
      "[06-27 13:16:31 MainProcess #58826] INFO  bootstrapnas_interface.py:90 - Using custom accuracy_top1 metric evaluation function.\n",
      "[06-27 13:16:36 MainProcess #58826] INFO  __init__.py:76 - > Calling validate_classification\n",
      "[06-27 13:16:38 MainProcess #58826] INFO  __init__.py:81 - > Finished validate_classification in 1.2743 s\n",
      "[06-27 13:16:38 MainProcess #58826] INFO  bootstrapnas_interface.py:108 - Validation accuracy: 93.20%\n",
      "[06-27 13:16:38 MainProcess #58826] INFO  __init__.py:76 - > Calling get_macs\n",
      "[06-27 13:16:40 MainProcess #58826] INFO  __init__.py:81 - > Finished get_macs in 1.0829 s\n",
      "[06-27 13:16:40 MainProcess #58826] INFO  search_tactic.py:367 - Evaluating subnetwork 36/50 in loop 5 of 5\n",
      "[06-27 13:16:40 MainProcess #58826] INFO  __init__.py:76 - > Calling validation_dataloader\n"
     ]
    },
    {
     "name": "stdout",
     "output_type": "stream",
     "text": [
      "Files already downloaded and verified\n"
     ]
    },
    {
     "name": "stderr",
     "output_type": "stream",
     "text": [
      "[06-27 13:16:40 MainProcess #58826] INFO  __init__.py:81 - > Finished validation_dataloader in 0.7302 s\n",
      "[06-27 13:16:41 MainProcess #58826] INFO  bootstrapnas_interface.py:90 - Using custom accuracy_top1 metric evaluation function.\n",
      "[06-27 13:16:47 MainProcess #58826] INFO  __init__.py:76 - > Calling validate_classification\n",
      "[06-27 13:16:48 MainProcess #58826] INFO  __init__.py:81 - > Finished validate_classification in 1.2500 s\n",
      "[06-27 13:16:48 MainProcess #58826] INFO  bootstrapnas_interface.py:108 - Validation accuracy: 92.91%\n",
      "[06-27 13:16:49 MainProcess #58826] INFO  __init__.py:76 - > Calling get_macs\n",
      "[06-27 13:16:49 MainProcess #58826] INFO  __init__.py:81 - > Finished get_macs in 0.7516 s\n",
      "[06-27 13:16:49 MainProcess #58826] INFO  search_tactic.py:367 - Evaluating subnetwork 37/50 in loop 5 of 5\n",
      "[06-27 13:16:49 MainProcess #58826] INFO  __init__.py:76 - > Calling validation_dataloader\n"
     ]
    },
    {
     "name": "stdout",
     "output_type": "stream",
     "text": [
      "Files already downloaded and verified\n"
     ]
    },
    {
     "name": "stderr",
     "output_type": "stream",
     "text": [
      "[06-27 13:16:50 MainProcess #58826] INFO  __init__.py:81 - > Finished validation_dataloader in 0.7147 s\n",
      "[06-27 13:16:51 MainProcess #58826] INFO  bootstrapnas_interface.py:90 - Using custom accuracy_top1 metric evaluation function.\n",
      "[06-27 13:16:57 MainProcess #58826] INFO  __init__.py:76 - > Calling validate_classification\n",
      "[06-27 13:16:59 MainProcess #58826] INFO  __init__.py:81 - > Finished validate_classification in 1.4821 s\n",
      "[06-27 13:16:59 MainProcess #58826] INFO  bootstrapnas_interface.py:108 - Validation accuracy: 93.54%\n",
      "[06-27 13:16:59 MainProcess #58826] INFO  __init__.py:76 - > Calling get_macs\n",
      "[06-27 13:17:00 MainProcess #58826] INFO  __init__.py:81 - > Finished get_macs in 0.9096 s\n",
      "[06-27 13:17:00 MainProcess #58826] INFO  search_tactic.py:367 - Evaluating subnetwork 38/50 in loop 5 of 5\n",
      "[06-27 13:17:00 MainProcess #58826] INFO  __init__.py:76 - > Calling validation_dataloader\n"
     ]
    },
    {
     "name": "stdout",
     "output_type": "stream",
     "text": [
      "Files already downloaded and verified\n"
     ]
    },
    {
     "name": "stderr",
     "output_type": "stream",
     "text": [
      "[06-27 13:17:01 MainProcess #58826] INFO  __init__.py:81 - > Finished validation_dataloader in 0.7151 s\n",
      "[06-27 13:17:02 MainProcess #58826] INFO  bootstrapnas_interface.py:90 - Using custom accuracy_top1 metric evaluation function.\n",
      "[06-27 13:17:07 MainProcess #58826] INFO  __init__.py:76 - > Calling validate_classification\n",
      "[06-27 13:17:08 MainProcess #58826] INFO  __init__.py:81 - > Finished validate_classification in 1.1916 s\n",
      "[06-27 13:17:08 MainProcess #58826] INFO  bootstrapnas_interface.py:108 - Validation accuracy: 93.13%\n",
      "[06-27 13:17:09 MainProcess #58826] INFO  __init__.py:76 - > Calling get_macs\n",
      "[06-27 13:17:10 MainProcess #58826] INFO  __init__.py:81 - > Finished get_macs in 0.7755 s\n",
      "[06-27 13:17:10 MainProcess #58826] INFO  search_tactic.py:367 - Evaluating subnetwork 39/50 in loop 5 of 5\n",
      "[06-27 13:17:10 MainProcess #58826] INFO  __init__.py:76 - > Calling validation_dataloader\n"
     ]
    },
    {
     "name": "stdout",
     "output_type": "stream",
     "text": [
      "Files already downloaded and verified\n"
     ]
    },
    {
     "name": "stderr",
     "output_type": "stream",
     "text": [
      "[06-27 13:17:11 MainProcess #58826] INFO  __init__.py:81 - > Finished validation_dataloader in 0.7204 s\n",
      "[06-27 13:17:11 MainProcess #58826] INFO  bootstrapnas_interface.py:90 - Using custom accuracy_top1 metric evaluation function.\n",
      "[06-27 13:17:18 MainProcess #58826] INFO  __init__.py:76 - > Calling validate_classification\n",
      "[06-27 13:17:19 MainProcess #58826] INFO  __init__.py:81 - > Finished validate_classification in 1.5813 s\n",
      "[06-27 13:17:19 MainProcess #58826] INFO  bootstrapnas_interface.py:108 - Validation accuracy: 93.68%\n",
      "[06-27 13:17:20 MainProcess #58826] INFO  __init__.py:76 - > Calling get_macs\n",
      "[06-27 13:17:21 MainProcess #58826] INFO  __init__.py:81 - > Finished get_macs in 0.8711 s\n",
      "[06-27 13:17:21 MainProcess #58826] INFO  search_tactic.py:367 - Evaluating subnetwork 40/50 in loop 5 of 5\n",
      "[06-27 13:17:21 MainProcess #58826] INFO  __init__.py:76 - > Calling validation_dataloader\n"
     ]
    },
    {
     "name": "stdout",
     "output_type": "stream",
     "text": [
      "Files already downloaded and verified\n"
     ]
    },
    {
     "name": "stderr",
     "output_type": "stream",
     "text": [
      "[06-27 13:17:21 MainProcess #58826] INFO  __init__.py:81 - > Finished validation_dataloader in 0.7137 s\n",
      "[06-27 13:17:22 MainProcess #58826] INFO  bootstrapnas_interface.py:90 - Using custom accuracy_top1 metric evaluation function.\n",
      "[06-27 13:17:28 MainProcess #58826] INFO  __init__.py:76 - > Calling validate_classification\n",
      "[06-27 13:17:30 MainProcess #58826] INFO  __init__.py:81 - > Finished validate_classification in 1.4845 s\n",
      "[06-27 13:17:30 MainProcess #58826] INFO  bootstrapnas_interface.py:108 - Validation accuracy: 93.72%\n",
      "[06-27 13:17:30 MainProcess #58826] INFO  __init__.py:76 - > Calling get_macs\n",
      "[06-27 13:17:31 MainProcess #58826] INFO  __init__.py:81 - > Finished get_macs in 0.8578 s\n",
      "[06-27 13:17:31 MainProcess #58826] INFO  search_tactic.py:367 - Evaluating subnetwork 41/50 in loop 5 of 5\n",
      "[06-27 13:17:31 MainProcess #58826] INFO  __init__.py:76 - > Calling validation_dataloader\n"
     ]
    },
    {
     "name": "stdout",
     "output_type": "stream",
     "text": [
      "Files already downloaded and verified\n"
     ]
    },
    {
     "name": "stderr",
     "output_type": "stream",
     "text": [
      "[06-27 13:17:32 MainProcess #58826] INFO  __init__.py:81 - > Finished validation_dataloader in 0.7085 s\n",
      "[06-27 13:17:32 MainProcess #58826] INFO  bootstrapnas_interface.py:90 - Using custom accuracy_top1 metric evaluation function.\n",
      "[06-27 13:17:38 MainProcess #58826] INFO  __init__.py:76 - > Calling validate_classification\n",
      "[06-27 13:17:40 MainProcess #58826] INFO  __init__.py:81 - > Finished validate_classification in 2.0506 s\n",
      "[06-27 13:17:40 MainProcess #58826] INFO  bootstrapnas_interface.py:108 - Validation accuracy: 92.88%\n",
      "[06-27 13:17:42 MainProcess #58826] INFO  __init__.py:76 - > Calling get_macs\n",
      "[06-27 13:17:42 MainProcess #58826] INFO  __init__.py:81 - > Finished get_macs in 0.7671 s\n",
      "[06-27 13:17:42 MainProcess #58826] INFO  search_tactic.py:367 - Evaluating subnetwork 42/50 in loop 5 of 5\n",
      "[06-27 13:17:42 MainProcess #58826] INFO  __init__.py:76 - > Calling validation_dataloader\n"
     ]
    },
    {
     "name": "stdout",
     "output_type": "stream",
     "text": [
      "Files already downloaded and verified\n"
     ]
    },
    {
     "name": "stderr",
     "output_type": "stream",
     "text": [
      "[06-27 13:17:43 MainProcess #58826] INFO  __init__.py:81 - > Finished validation_dataloader in 0.7574 s\n",
      "[06-27 13:17:44 MainProcess #58826] INFO  bootstrapnas_interface.py:90 - Using custom accuracy_top1 metric evaluation function.\n",
      "[06-27 13:17:52 MainProcess #58826] INFO  __init__.py:76 - > Calling validate_classification\n",
      "[06-27 13:17:54 MainProcess #58826] INFO  __init__.py:81 - > Finished validate_classification in 1.9736 s\n",
      "[06-27 13:17:54 MainProcess #58826] INFO  bootstrapnas_interface.py:108 - Validation accuracy: 93.02%\n",
      "[06-27 13:17:56 MainProcess #58826] INFO  __init__.py:76 - > Calling get_macs\n",
      "[06-27 13:17:56 MainProcess #58826] INFO  __init__.py:81 - > Finished get_macs in 0.7618 s\n",
      "[06-27 13:17:56 MainProcess #58826] INFO  search_tactic.py:367 - Evaluating subnetwork 43/50 in loop 5 of 5\n",
      "[06-27 13:17:56 MainProcess #58826] INFO  __init__.py:76 - > Calling validation_dataloader\n"
     ]
    },
    {
     "name": "stdout",
     "output_type": "stream",
     "text": [
      "Files already downloaded and verified\n"
     ]
    },
    {
     "name": "stderr",
     "output_type": "stream",
     "text": [
      "[06-27 13:17:57 MainProcess #58826] INFO  __init__.py:81 - > Finished validation_dataloader in 0.7046 s\n",
      "[06-27 13:17:58 MainProcess #58826] INFO  bootstrapnas_interface.py:90 - Using custom accuracy_top1 metric evaluation function.\n",
      "[06-27 13:18:03 MainProcess #58826] INFO  __init__.py:76 - > Calling validate_classification\n",
      "[06-27 13:18:04 MainProcess #58826] INFO  __init__.py:81 - > Finished validate_classification in 1.2445 s\n",
      "[06-27 13:18:04 MainProcess #58826] INFO  bootstrapnas_interface.py:108 - Validation accuracy: 92.92%\n",
      "[06-27 13:18:05 MainProcess #58826] INFO  __init__.py:76 - > Calling get_macs\n",
      "[06-27 13:18:06 MainProcess #58826] INFO  __init__.py:81 - > Finished get_macs in 0.7137 s\n",
      "[06-27 13:18:06 MainProcess #58826] INFO  search_tactic.py:367 - Evaluating subnetwork 44/50 in loop 5 of 5\n",
      "[06-27 13:18:06 MainProcess #58826] INFO  __init__.py:76 - > Calling validation_dataloader\n"
     ]
    },
    {
     "name": "stdout",
     "output_type": "stream",
     "text": [
      "Files already downloaded and verified\n"
     ]
    },
    {
     "name": "stderr",
     "output_type": "stream",
     "text": [
      "[06-27 13:18:06 MainProcess #58826] INFO  __init__.py:81 - > Finished validation_dataloader in 0.6949 s\n",
      "[06-27 13:18:07 MainProcess #58826] INFO  bootstrapnas_interface.py:90 - Using custom accuracy_top1 metric evaluation function.\n",
      "[06-27 13:18:13 MainProcess #58826] INFO  __init__.py:76 - > Calling validate_classification\n",
      "[06-27 13:18:15 MainProcess #58826] INFO  __init__.py:81 - > Finished validate_classification in 1.5815 s\n",
      "[06-27 13:18:15 MainProcess #58826] INFO  bootstrapnas_interface.py:108 - Validation accuracy: 93.72%\n",
      "[06-27 13:18:15 MainProcess #58826] INFO  __init__.py:76 - > Calling get_macs\n",
      "[06-27 13:18:16 MainProcess #58826] INFO  __init__.py:81 - > Finished get_macs in 0.8517 s\n",
      "[06-27 13:18:16 MainProcess #58826] INFO  search_tactic.py:367 - Evaluating subnetwork 45/50 in loop 5 of 5\n",
      "[06-27 13:18:16 MainProcess #58826] INFO  __init__.py:76 - > Calling validation_dataloader\n"
     ]
    },
    {
     "name": "stdout",
     "output_type": "stream",
     "text": [
      "Files already downloaded and verified\n"
     ]
    },
    {
     "name": "stderr",
     "output_type": "stream",
     "text": [
      "[06-27 13:18:17 MainProcess #58826] INFO  __init__.py:81 - > Finished validation_dataloader in 0.7092 s\n",
      "[06-27 13:18:17 MainProcess #58826] INFO  bootstrapnas_interface.py:90 - Using custom accuracy_top1 metric evaluation function.\n",
      "[06-27 13:18:24 MainProcess #58826] INFO  __init__.py:76 - > Calling validate_classification\n",
      "[06-27 13:18:25 MainProcess #58826] INFO  __init__.py:81 - > Finished validate_classification in 1.5271 s\n",
      "[06-27 13:18:25 MainProcess #58826] INFO  bootstrapnas_interface.py:108 - Validation accuracy: 93.59%\n",
      "[06-27 13:18:26 MainProcess #58826] INFO  __init__.py:76 - > Calling get_macs\n",
      "[06-27 13:18:27 MainProcess #58826] INFO  __init__.py:81 - > Finished get_macs in 0.8704 s\n",
      "[06-27 13:18:27 MainProcess #58826] INFO  search_tactic.py:367 - Evaluating subnetwork 46/50 in loop 5 of 5\n",
      "[06-27 13:18:27 MainProcess #58826] INFO  __init__.py:76 - > Calling validation_dataloader\n"
     ]
    },
    {
     "name": "stdout",
     "output_type": "stream",
     "text": [
      "Files already downloaded and verified\n"
     ]
    },
    {
     "name": "stderr",
     "output_type": "stream",
     "text": [
      "[06-27 13:18:27 MainProcess #58826] INFO  __init__.py:81 - > Finished validation_dataloader in 0.7283 s\n",
      "[06-27 13:18:28 MainProcess #58826] INFO  bootstrapnas_interface.py:90 - Using custom accuracy_top1 metric evaluation function.\n",
      "[06-27 13:18:34 MainProcess #58826] INFO  __init__.py:76 - > Calling validate_classification\n",
      "[06-27 13:18:35 MainProcess #58826] INFO  __init__.py:81 - > Finished validate_classification in 1.2100 s\n",
      "[06-27 13:18:35 MainProcess #58826] INFO  bootstrapnas_interface.py:108 - Validation accuracy: 92.78%\n",
      "[06-27 13:18:36 MainProcess #58826] INFO  __init__.py:76 - > Calling get_macs\n",
      "[06-27 13:18:36 MainProcess #58826] INFO  __init__.py:81 - > Finished get_macs in 0.7265 s\n",
      "[06-27 13:18:36 MainProcess #58826] INFO  search_tactic.py:367 - Evaluating subnetwork 47/50 in loop 5 of 5\n",
      "[06-27 13:18:36 MainProcess #58826] INFO  __init__.py:76 - > Calling validation_dataloader\n"
     ]
    },
    {
     "name": "stdout",
     "output_type": "stream",
     "text": [
      "Files already downloaded and verified\n"
     ]
    },
    {
     "name": "stderr",
     "output_type": "stream",
     "text": [
      "[06-27 13:18:37 MainProcess #58826] INFO  __init__.py:81 - > Finished validation_dataloader in 0.6901 s\n",
      "[06-27 13:18:38 MainProcess #58826] INFO  bootstrapnas_interface.py:90 - Using custom accuracy_top1 metric evaluation function.\n",
      "[06-27 13:18:44 MainProcess #58826] INFO  __init__.py:76 - > Calling validate_classification\n",
      "[06-27 13:18:45 MainProcess #58826] INFO  __init__.py:81 - > Finished validate_classification in 1.4986 s\n",
      "[06-27 13:18:45 MainProcess #58826] INFO  bootstrapnas_interface.py:108 - Validation accuracy: 93.56%\n",
      "[06-27 13:18:46 MainProcess #58826] INFO  __init__.py:76 - > Calling get_macs\n",
      "[06-27 13:18:47 MainProcess #58826] INFO  __init__.py:81 - > Finished get_macs in 0.9027 s\n",
      "[06-27 13:18:47 MainProcess #58826] INFO  search_tactic.py:367 - Evaluating subnetwork 48/50 in loop 5 of 5\n",
      "[06-27 13:18:47 MainProcess #58826] INFO  __init__.py:76 - > Calling validation_dataloader\n"
     ]
    },
    {
     "name": "stdout",
     "output_type": "stream",
     "text": [
      "Files already downloaded and verified\n"
     ]
    },
    {
     "name": "stderr",
     "output_type": "stream",
     "text": [
      "[06-27 13:18:47 MainProcess #58826] INFO  __init__.py:81 - > Finished validation_dataloader in 0.7157 s\n",
      "[06-27 13:18:48 MainProcess #58826] INFO  bootstrapnas_interface.py:90 - Using custom accuracy_top1 metric evaluation function.\n",
      "[06-27 13:18:55 MainProcess #58826] INFO  __init__.py:76 - > Calling validate_classification\n",
      "[06-27 13:18:56 MainProcess #58826] INFO  __init__.py:81 - > Finished validate_classification in 1.5868 s\n",
      "[06-27 13:18:56 MainProcess #58826] INFO  bootstrapnas_interface.py:108 - Validation accuracy: 93.71%\n",
      "[06-27 13:18:57 MainProcess #58826] INFO  __init__.py:76 - > Calling get_macs\n",
      "[06-27 13:18:58 MainProcess #58826] INFO  __init__.py:81 - > Finished get_macs in 1.1843 s\n",
      "[06-27 13:18:58 MainProcess #58826] INFO  search_tactic.py:367 - Evaluating subnetwork 49/50 in loop 5 of 5\n",
      "[06-27 13:18:58 MainProcess #58826] INFO  __init__.py:76 - > Calling validation_dataloader\n"
     ]
    },
    {
     "name": "stdout",
     "output_type": "stream",
     "text": [
      "Files already downloaded and verified\n"
     ]
    },
    {
     "name": "stderr",
     "output_type": "stream",
     "text": [
      "[06-27 13:18:59 MainProcess #58826] INFO  __init__.py:81 - > Finished validation_dataloader in 0.7158 s\n",
      "[06-27 13:18:59 MainProcess #58826] INFO  bootstrapnas_interface.py:90 - Using custom accuracy_top1 metric evaluation function.\n",
      "[06-27 13:19:05 MainProcess #58826] INFO  __init__.py:76 - > Calling validate_classification\n",
      "[06-27 13:19:06 MainProcess #58826] INFO  __init__.py:81 - > Finished validate_classification in 1.2097 s\n",
      "[06-27 13:19:06 MainProcess #58826] INFO  bootstrapnas_interface.py:108 - Validation accuracy: 92.98%\n",
      "[06-27 13:19:06 MainProcess #58826] INFO  __init__.py:76 - > Calling get_macs\n",
      "[06-27 13:19:07 MainProcess #58826] INFO  __init__.py:81 - > Finished get_macs in 0.7308 s\n",
      "[06-27 13:19:07 MainProcess #58826] INFO  search_tactic.py:367 - Evaluating subnetwork 50/50 in loop 5 of 5\n",
      "[06-27 13:19:07 MainProcess #58826] INFO  __init__.py:76 - > Calling validation_dataloader\n"
     ]
    },
    {
     "name": "stdout",
     "output_type": "stream",
     "text": [
      "Files already downloaded and verified\n"
     ]
    },
    {
     "name": "stderr",
     "output_type": "stream",
     "text": [
      "[06-27 13:19:08 MainProcess #58826] INFO  __init__.py:81 - > Finished validation_dataloader in 0.7232 s\n",
      "[06-27 13:19:09 MainProcess #58826] INFO  bootstrapnas_interface.py:90 - Using custom accuracy_top1 metric evaluation function.\n",
      "[06-27 13:19:15 MainProcess #58826] INFO  __init__.py:76 - > Calling validate_classification\n",
      "[06-27 13:19:17 MainProcess #58826] INFO  __init__.py:81 - > Finished validate_classification in 1.4550 s\n",
      "[06-27 13:19:17 MainProcess #58826] INFO  bootstrapnas_interface.py:108 - Validation accuracy: 93.39%\n",
      "[06-27 13:19:17 MainProcess #58826] INFO  __init__.py:76 - > Calling get_macs\n",
      "[06-27 13:19:18 MainProcess #58826] INFO  __init__.py:81 - > Finished get_macs in 0.9746 s\n",
      "[06-27 13:19:18 MainProcess #58826] INFO  search_tactic.py:345 - Training macs predictor.\n",
      "[06-27 13:19:18 MainProcess #58826] INFO  predictor_manager.py:38 - Building dynamic predictor for macs\n",
      "[06-27 13:19:18 MainProcess #58826] INFO  encoding.py:246 - Training set length=250\n",
      "[06-27 13:19:24 MainProcess #58826] INFO  search_tactic.py:347 - Updated self.predictor_dict[macs].\n",
      "[06-27 13:19:24 MainProcess #58826] INFO  search_tactic.py:345 - Training accuracy_top1 predictor.\n",
      "[06-27 13:19:24 MainProcess #58826] INFO  predictor_manager.py:38 - Building dynamic predictor for accuracy_top1\n",
      "[06-27 13:19:24 MainProcess #58826] INFO  encoding.py:246 - Training set length=250\n",
      "[06-27 13:19:25 MainProcess #58826] INFO  search_tactic.py:347 - Updated self.predictor_dict[accuracy_top1].\n",
      "[06-27 13:19:25 MainProcess #58826] INFO  evolutionary.py:100 - Configuring nsga2 algorithm with 2 objectives.\n",
      "[06-27 13:19:25 MainProcess #58826] INFO  evolutionary.py:334 - Running Search ...\n"
     ]
    },
    {
     "name": "stdout",
     "output_type": "stream",
     "text": [
      "...................................................................................................."
     ]
    },
    {
     "name": "stderr",
     "output_type": "stream",
     "text": [
      "[06-27 13:19:29 MainProcess #58826] INFO  evolutionary.py:350 - Success! Search Took 4.227 seconds.\n",
      "[06-27 13:19:29 MainProcess #58826] INFO  search_tactic.py:526 - Validated model architectures in file: bootstrapnas_resnet50_cifar10_linas_test_nb_1.csv\n"
     ]
    },
    {
     "data": {
      "text/plain": [
       "[OrderedDict([(<ElasticityDim.WIDTH: 'width'>,\n",
       "               {0: 128,\n",
       "                1: 256,\n",
       "                2: 512,\n",
       "                3: 1024,\n",
       "                4: 32,\n",
       "                5: 32,\n",
       "                6: 32,\n",
       "                7: 32,\n",
       "                8: 32,\n",
       "                9: 32,\n",
       "                10: 48,\n",
       "                11: 64,\n",
       "                12: 64,\n",
       "                13: 64,\n",
       "                14: 64,\n",
       "                15: 72,\n",
       "                16: 64,\n",
       "                17: 64,\n",
       "                18: 64,\n",
       "                19: 152,\n",
       "                20: 128,\n",
       "                21: 200,\n",
       "                22: 152,\n",
       "                23: 128,\n",
       "                24: 128,\n",
       "                25: 200,\n",
       "                26: 128,\n",
       "                27: 152,\n",
       "                28: 128,\n",
       "                29: 128,\n",
       "                30: 152,\n",
       "                31: 304,\n",
       "                32: 256,\n",
       "                33: 256,\n",
       "                34: 304,\n",
       "                35: 256,\n",
       "                36: 256}),\n",
       "              (<ElasticityDim.DEPTH: 'depth'>, [0, 2, 5])]),\n",
       " OrderedDict([(<ElasticityDim.WIDTH: 'width'>,\n",
       "               {0: 152,\n",
       "                1: 512,\n",
       "                2: 512,\n",
       "                3: 1024,\n",
       "                4: 32,\n",
       "                5: 64,\n",
       "                6: 32,\n",
       "                7: 48,\n",
       "                8: 64,\n",
       "                9: 48,\n",
       "                10: 48,\n",
       "                11: 64,\n",
       "                12: 128,\n",
       "                13: 72,\n",
       "                14: 64,\n",
       "                15: 96,\n",
       "                16: 96,\n",
       "                17: 72,\n",
       "                18: 96,\n",
       "                19: 200,\n",
       "                20: 152,\n",
       "                21: 256,\n",
       "                22: 200,\n",
       "                23: 200,\n",
       "                24: 128,\n",
       "                25: 200,\n",
       "                26: 200,\n",
       "                27: 152,\n",
       "                28: 256,\n",
       "                29: 128,\n",
       "                30: 152,\n",
       "                31: 408,\n",
       "                32: 256,\n",
       "                33: 304,\n",
       "                34: 512,\n",
       "                35: 256,\n",
       "                36: 256}),\n",
       "              (<ElasticityDim.DEPTH: 'depth'>, [0, 3, 4])]),\n",
       " OrderedDict([(<ElasticityDim.WIDTH: 'width'>,\n",
       "               {0: 152,\n",
       "                1: 304,\n",
       "                2: 512,\n",
       "                3: 1024,\n",
       "                4: 32,\n",
       "                5: 32,\n",
       "                6: 32,\n",
       "                7: 32,\n",
       "                8: 64,\n",
       "                9: 48,\n",
       "                10: 48,\n",
       "                11: 64,\n",
       "                12: 128,\n",
       "                13: 72,\n",
       "                14: 64,\n",
       "                15: 72,\n",
       "                16: 96,\n",
       "                17: 72,\n",
       "                18: 96,\n",
       "                19: 200,\n",
       "                20: 152,\n",
       "                21: 256,\n",
       "                22: 200,\n",
       "                23: 200,\n",
       "                24: 128,\n",
       "                25: 200,\n",
       "                26: 200,\n",
       "                27: 152,\n",
       "                28: 128,\n",
       "                29: 128,\n",
       "                30: 152,\n",
       "                31: 408,\n",
       "                32: 256,\n",
       "                33: 304,\n",
       "                34: 512,\n",
       "                35: 256,\n",
       "                36: 256}),\n",
       "              (<ElasticityDim.DEPTH: 'depth'>, [0, 3, 4])]),\n",
       " OrderedDict([(<ElasticityDim.WIDTH: 'width'>,\n",
       "               {0: 152,\n",
       "                1: 256,\n",
       "                2: 512,\n",
       "                3: 1024,\n",
       "                4: 32,\n",
       "                5: 32,\n",
       "                6: 32,\n",
       "                7: 32,\n",
       "                8: 32,\n",
       "                9: 48,\n",
       "                10: 48,\n",
       "                11: 64,\n",
       "                12: 128,\n",
       "                13: 72,\n",
       "                14: 64,\n",
       "                15: 72,\n",
       "                16: 64,\n",
       "                17: 64,\n",
       "                18: 64,\n",
       "                19: 152,\n",
       "                20: 128,\n",
       "                21: 200,\n",
       "                22: 152,\n",
       "                23: 200,\n",
       "                24: 128,\n",
       "                25: 200,\n",
       "                26: 128,\n",
       "                27: 152,\n",
       "                28: 128,\n",
       "                29: 128,\n",
       "                30: 152,\n",
       "                31: 304,\n",
       "                32: 256,\n",
       "                33: 304,\n",
       "                34: 304,\n",
       "                35: 256,\n",
       "                36: 256}),\n",
       "              (<ElasticityDim.DEPTH: 'depth'>, [0, 3, 4])]),\n",
       " OrderedDict([(<ElasticityDim.WIDTH: 'width'>,\n",
       "               {0: 152,\n",
       "                1: 304,\n",
       "                2: 512,\n",
       "                3: 1024,\n",
       "                4: 32,\n",
       "                5: 48,\n",
       "                6: 32,\n",
       "                7: 32,\n",
       "                8: 64,\n",
       "                9: 48,\n",
       "                10: 48,\n",
       "                11: 64,\n",
       "                12: 128,\n",
       "                13: 72,\n",
       "                14: 64,\n",
       "                15: 96,\n",
       "                16: 96,\n",
       "                17: 64,\n",
       "                18: 96,\n",
       "                19: 200,\n",
       "                20: 152,\n",
       "                21: 256,\n",
       "                22: 200,\n",
       "                23: 200,\n",
       "                24: 128,\n",
       "                25: 200,\n",
       "                26: 200,\n",
       "                27: 152,\n",
       "                28: 128,\n",
       "                29: 128,\n",
       "                30: 152,\n",
       "                31: 304,\n",
       "                32: 256,\n",
       "                33: 304,\n",
       "                34: 512,\n",
       "                35: 256,\n",
       "                36: 256}),\n",
       "              (<ElasticityDim.DEPTH: 'depth'>, [0, 3, 4])]),\n",
       " OrderedDict([(<ElasticityDim.WIDTH: 'width'>,\n",
       "               {0: 152,\n",
       "                1: 304,\n",
       "                2: 512,\n",
       "                3: 1024,\n",
       "                4: 32,\n",
       "                5: 48,\n",
       "                6: 32,\n",
       "                7: 32,\n",
       "                8: 64,\n",
       "                9: 48,\n",
       "                10: 48,\n",
       "                11: 64,\n",
       "                12: 128,\n",
       "                13: 72,\n",
       "                14: 64,\n",
       "                15: 72,\n",
       "                16: 96,\n",
       "                17: 72,\n",
       "                18: 96,\n",
       "                19: 200,\n",
       "                20: 152,\n",
       "                21: 256,\n",
       "                22: 200,\n",
       "                23: 200,\n",
       "                24: 128,\n",
       "                25: 200,\n",
       "                26: 200,\n",
       "                27: 152,\n",
       "                28: 128,\n",
       "                29: 128,\n",
       "                30: 152,\n",
       "                31: 408,\n",
       "                32: 256,\n",
       "                33: 304,\n",
       "                34: 512,\n",
       "                35: 256,\n",
       "                36: 256}),\n",
       "              (<ElasticityDim.DEPTH: 'depth'>, [0, 3, 4])]),\n",
       " OrderedDict([(<ElasticityDim.WIDTH: 'width'>,\n",
       "               {0: 152,\n",
       "                1: 304,\n",
       "                2: 512,\n",
       "                3: 1024,\n",
       "                4: 32,\n",
       "                5: 32,\n",
       "                6: 32,\n",
       "                7: 32,\n",
       "                8: 64,\n",
       "                9: 48,\n",
       "                10: 48,\n",
       "                11: 64,\n",
       "                12: 128,\n",
       "                13: 72,\n",
       "                14: 64,\n",
       "                15: 72,\n",
       "                16: 96,\n",
       "                17: 64,\n",
       "                18: 96,\n",
       "                19: 200,\n",
       "                20: 152,\n",
       "                21: 256,\n",
       "                22: 152,\n",
       "                23: 200,\n",
       "                24: 128,\n",
       "                25: 200,\n",
       "                26: 200,\n",
       "                27: 152,\n",
       "                28: 128,\n",
       "                29: 128,\n",
       "                30: 152,\n",
       "                31: 304,\n",
       "                32: 256,\n",
       "                33: 304,\n",
       "                34: 304,\n",
       "                35: 256,\n",
       "                36: 256}),\n",
       "              (<ElasticityDim.DEPTH: 'depth'>, [0, 3, 4])]),\n",
       " OrderedDict([(<ElasticityDim.WIDTH: 'width'>,\n",
       "               {0: 152,\n",
       "                1: 256,\n",
       "                2: 512,\n",
       "                3: 1024,\n",
       "                4: 32,\n",
       "                5: 32,\n",
       "                6: 32,\n",
       "                7: 32,\n",
       "                8: 32,\n",
       "                9: 32,\n",
       "                10: 48,\n",
       "                11: 64,\n",
       "                12: 64,\n",
       "                13: 64,\n",
       "                14: 64,\n",
       "                15: 72,\n",
       "                16: 64,\n",
       "                17: 64,\n",
       "                18: 64,\n",
       "                19: 152,\n",
       "                20: 128,\n",
       "                21: 200,\n",
       "                22: 152,\n",
       "                23: 128,\n",
       "                24: 128,\n",
       "                25: 200,\n",
       "                26: 128,\n",
       "                27: 152,\n",
       "                28: 128,\n",
       "                29: 128,\n",
       "                30: 152,\n",
       "                31: 304,\n",
       "                32: 256,\n",
       "                33: 304,\n",
       "                34: 304,\n",
       "                35: 256,\n",
       "                36: 256}),\n",
       "              (<ElasticityDim.DEPTH: 'depth'>, [0, 3, 4])]),\n",
       " OrderedDict([(<ElasticityDim.WIDTH: 'width'>,\n",
       "               {0: 152,\n",
       "                1: 256,\n",
       "                2: 512,\n",
       "                3: 1024,\n",
       "                4: 32,\n",
       "                5: 32,\n",
       "                6: 32,\n",
       "                7: 32,\n",
       "                8: 32,\n",
       "                9: 48,\n",
       "                10: 48,\n",
       "                11: 64,\n",
       "                12: 128,\n",
       "                13: 72,\n",
       "                14: 64,\n",
       "                15: 72,\n",
       "                16: 64,\n",
       "                17: 64,\n",
       "                18: 64,\n",
       "                19: 152,\n",
       "                20: 152,\n",
       "                21: 200,\n",
       "                22: 152,\n",
       "                23: 200,\n",
       "                24: 128,\n",
       "                25: 200,\n",
       "                26: 128,\n",
       "                27: 152,\n",
       "                28: 128,\n",
       "                29: 128,\n",
       "                30: 152,\n",
       "                31: 304,\n",
       "                32: 256,\n",
       "                33: 304,\n",
       "                34: 304,\n",
       "                35: 256,\n",
       "                36: 256}),\n",
       "              (<ElasticityDim.DEPTH: 'depth'>, [0, 3, 4])]),\n",
       " OrderedDict([(<ElasticityDim.WIDTH: 'width'>,\n",
       "               {0: 128,\n",
       "                1: 256,\n",
       "                2: 512,\n",
       "                3: 1024,\n",
       "                4: 32,\n",
       "                5: 32,\n",
       "                6: 32,\n",
       "                7: 32,\n",
       "                8: 32,\n",
       "                9: 32,\n",
       "                10: 48,\n",
       "                11: 64,\n",
       "                12: 64,\n",
       "                13: 64,\n",
       "                14: 64,\n",
       "                15: 72,\n",
       "                16: 64,\n",
       "                17: 64,\n",
       "                18: 64,\n",
       "                19: 152,\n",
       "                20: 128,\n",
       "                21: 200,\n",
       "                22: 152,\n",
       "                23: 128,\n",
       "                24: 128,\n",
       "                25: 200,\n",
       "                26: 128,\n",
       "                27: 152,\n",
       "                28: 128,\n",
       "                29: 128,\n",
       "                30: 152,\n",
       "                31: 304,\n",
       "                32: 256,\n",
       "                33: 256,\n",
       "                34: 304,\n",
       "                35: 256,\n",
       "                36: 256}),\n",
       "              (<ElasticityDim.DEPTH: 'depth'>, [0, 3, 4])]),\n",
       " OrderedDict([(<ElasticityDim.WIDTH: 'width'>,\n",
       "               {0: 128,\n",
       "                1: 256,\n",
       "                2: 512,\n",
       "                3: 1024,\n",
       "                4: 32,\n",
       "                5: 32,\n",
       "                6: 32,\n",
       "                7: 32,\n",
       "                8: 32,\n",
       "                9: 32,\n",
       "                10: 48,\n",
       "                11: 64,\n",
       "                12: 64,\n",
       "                13: 72,\n",
       "                14: 64,\n",
       "                15: 72,\n",
       "                16: 64,\n",
       "                17: 64,\n",
       "                18: 64,\n",
       "                19: 152,\n",
       "                20: 128,\n",
       "                21: 200,\n",
       "                22: 152,\n",
       "                23: 128,\n",
       "                24: 128,\n",
       "                25: 200,\n",
       "                26: 128,\n",
       "                27: 152,\n",
       "                28: 128,\n",
       "                29: 128,\n",
       "                30: 152,\n",
       "                31: 304,\n",
       "                32: 256,\n",
       "                33: 304,\n",
       "                34: 304,\n",
       "                35: 256,\n",
       "                36: 256}),\n",
       "              (<ElasticityDim.DEPTH: 'depth'>, [0, 2, 5])]),\n",
       " OrderedDict([(<ElasticityDim.WIDTH: 'width'>,\n",
       "               {0: 152,\n",
       "                1: 256,\n",
       "                2: 512,\n",
       "                3: 1024,\n",
       "                4: 32,\n",
       "                5: 32,\n",
       "                6: 32,\n",
       "                7: 32,\n",
       "                8: 32,\n",
       "                9: 32,\n",
       "                10: 48,\n",
       "                11: 64,\n",
       "                12: 64,\n",
       "                13: 72,\n",
       "                14: 64,\n",
       "                15: 72,\n",
       "                16: 64,\n",
       "                17: 64,\n",
       "                18: 64,\n",
       "                19: 152,\n",
       "                20: 128,\n",
       "                21: 200,\n",
       "                22: 152,\n",
       "                23: 128,\n",
       "                24: 128,\n",
       "                25: 200,\n",
       "                26: 128,\n",
       "                27: 152,\n",
       "                28: 128,\n",
       "                29: 128,\n",
       "                30: 152,\n",
       "                31: 304,\n",
       "                32: 256,\n",
       "                33: 304,\n",
       "                34: 304,\n",
       "                35: 256,\n",
       "                36: 256}),\n",
       "              (<ElasticityDim.DEPTH: 'depth'>, [0, 3, 4])]),\n",
       " OrderedDict([(<ElasticityDim.WIDTH: 'width'>,\n",
       "               {0: 152,\n",
       "                1: 304,\n",
       "                2: 512,\n",
       "                3: 1024,\n",
       "                4: 32,\n",
       "                5: 32,\n",
       "                6: 32,\n",
       "                7: 32,\n",
       "                8: 32,\n",
       "                9: 48,\n",
       "                10: 48,\n",
       "                11: 64,\n",
       "                12: 128,\n",
       "                13: 72,\n",
       "                14: 64,\n",
       "                15: 72,\n",
       "                16: 64,\n",
       "                17: 64,\n",
       "                18: 64,\n",
       "                19: 152,\n",
       "                20: 128,\n",
       "                21: 200,\n",
       "                22: 152,\n",
       "                23: 200,\n",
       "                24: 128,\n",
       "                25: 200,\n",
       "                26: 128,\n",
       "                27: 152,\n",
       "                28: 128,\n",
       "                29: 128,\n",
       "                30: 152,\n",
       "                31: 304,\n",
       "                32: 256,\n",
       "                33: 304,\n",
       "                34: 304,\n",
       "                35: 256,\n",
       "                36: 256}),\n",
       "              (<ElasticityDim.DEPTH: 'depth'>, [0, 3, 4])]),\n",
       " OrderedDict([(<ElasticityDim.WIDTH: 'width'>,\n",
       "               {0: 152,\n",
       "                1: 304,\n",
       "                2: 512,\n",
       "                3: 1024,\n",
       "                4: 32,\n",
       "                5: 32,\n",
       "                6: 32,\n",
       "                7: 32,\n",
       "                8: 64,\n",
       "                9: 48,\n",
       "                10: 48,\n",
       "                11: 64,\n",
       "                12: 128,\n",
       "                13: 72,\n",
       "                14: 64,\n",
       "                15: 72,\n",
       "                16: 96,\n",
       "                17: 64,\n",
       "                18: 96,\n",
       "                19: 200,\n",
       "                20: 152,\n",
       "                21: 256,\n",
       "                22: 200,\n",
       "                23: 200,\n",
       "                24: 128,\n",
       "                25: 200,\n",
       "                26: 200,\n",
       "                27: 152,\n",
       "                28: 128,\n",
       "                29: 128,\n",
       "                30: 152,\n",
       "                31: 408,\n",
       "                32: 256,\n",
       "                33: 304,\n",
       "                34: 512,\n",
       "                35: 256,\n",
       "                36: 256}),\n",
       "              (<ElasticityDim.DEPTH: 'depth'>, [0, 3, 4])]),\n",
       " OrderedDict([(<ElasticityDim.WIDTH: 'width'>,\n",
       "               {0: 152,\n",
       "                1: 512,\n",
       "                2: 512,\n",
       "                3: 1024,\n",
       "                4: 32,\n",
       "                5: 48,\n",
       "                6: 32,\n",
       "                7: 48,\n",
       "                8: 64,\n",
       "                9: 48,\n",
       "                10: 48,\n",
       "                11: 64,\n",
       "                12: 128,\n",
       "                13: 72,\n",
       "                14: 64,\n",
       "                15: 96,\n",
       "                16: 96,\n",
       "                17: 64,\n",
       "                18: 96,\n",
       "                19: 200,\n",
       "                20: 152,\n",
       "                21: 256,\n",
       "                22: 200,\n",
       "                23: 200,\n",
       "                24: 128,\n",
       "                25: 200,\n",
       "                26: 200,\n",
       "                27: 152,\n",
       "                28: 256,\n",
       "                29: 128,\n",
       "                30: 152,\n",
       "                31: 408,\n",
       "                32: 256,\n",
       "                33: 304,\n",
       "                34: 512,\n",
       "                35: 256,\n",
       "                36: 256}),\n",
       "              (<ElasticityDim.DEPTH: 'depth'>, [0, 3, 4])]),\n",
       " OrderedDict([(<ElasticityDim.WIDTH: 'width'>,\n",
       "               {0: 152,\n",
       "                1: 256,\n",
       "                2: 512,\n",
       "                3: 1024,\n",
       "                4: 32,\n",
       "                5: 32,\n",
       "                6: 32,\n",
       "                7: 32,\n",
       "                8: 32,\n",
       "                9: 48,\n",
       "                10: 48,\n",
       "                11: 64,\n",
       "                12: 64,\n",
       "                13: 72,\n",
       "                14: 64,\n",
       "                15: 72,\n",
       "                16: 64,\n",
       "                17: 64,\n",
       "                18: 64,\n",
       "                19: 152,\n",
       "                20: 128,\n",
       "                21: 200,\n",
       "                22: 152,\n",
       "                23: 200,\n",
       "                24: 128,\n",
       "                25: 200,\n",
       "                26: 128,\n",
       "                27: 152,\n",
       "                28: 128,\n",
       "                29: 128,\n",
       "                30: 152,\n",
       "                31: 304,\n",
       "                32: 256,\n",
       "                33: 304,\n",
       "                34: 304,\n",
       "                35: 256,\n",
       "                36: 256}),\n",
       "              (<ElasticityDim.DEPTH: 'depth'>, [0, 3, 4])]),\n",
       " OrderedDict([(<ElasticityDim.WIDTH: 'width'>,\n",
       "               {0: 152,\n",
       "                1: 256,\n",
       "                2: 512,\n",
       "                3: 1024,\n",
       "                4: 32,\n",
       "                5: 32,\n",
       "                6: 32,\n",
       "                7: 32,\n",
       "                8: 32,\n",
       "                9: 48,\n",
       "                10: 48,\n",
       "                11: 64,\n",
       "                12: 128,\n",
       "                13: 72,\n",
       "                14: 64,\n",
       "                15: 72,\n",
       "                16: 64,\n",
       "                17: 64,\n",
       "                18: 64,\n",
       "                19: 152,\n",
       "                20: 128,\n",
       "                21: 200,\n",
       "                22: 152,\n",
       "                23: 128,\n",
       "                24: 128,\n",
       "                25: 200,\n",
       "                26: 128,\n",
       "                27: 152,\n",
       "                28: 128,\n",
       "                29: 128,\n",
       "                30: 152,\n",
       "                31: 304,\n",
       "                32: 256,\n",
       "                33: 304,\n",
       "                34: 304,\n",
       "                35: 256,\n",
       "                36: 256}),\n",
       "              (<ElasticityDim.DEPTH: 'depth'>, [0, 3, 4])]),\n",
       " OrderedDict([(<ElasticityDim.WIDTH: 'width'>,\n",
       "               {0: 128,\n",
       "                1: 256,\n",
       "                2: 512,\n",
       "                3: 1024,\n",
       "                4: 32,\n",
       "                5: 32,\n",
       "                6: 32,\n",
       "                7: 32,\n",
       "                8: 32,\n",
       "                9: 32,\n",
       "                10: 48,\n",
       "                11: 64,\n",
       "                12: 64,\n",
       "                13: 72,\n",
       "                14: 64,\n",
       "                15: 72,\n",
       "                16: 64,\n",
       "                17: 64,\n",
       "                18: 64,\n",
       "                19: 152,\n",
       "                20: 128,\n",
       "                21: 200,\n",
       "                22: 152,\n",
       "                23: 128,\n",
       "                24: 128,\n",
       "                25: 200,\n",
       "                26: 128,\n",
       "                27: 152,\n",
       "                28: 128,\n",
       "                29: 128,\n",
       "                30: 152,\n",
       "                31: 304,\n",
       "                32: 256,\n",
       "                33: 256,\n",
       "                34: 304,\n",
       "                35: 256,\n",
       "                36: 256}),\n",
       "              (<ElasticityDim.DEPTH: 'depth'>, [0, 2, 5])]),\n",
       " OrderedDict([(<ElasticityDim.WIDTH: 'width'>,\n",
       "               {0: 152,\n",
       "                1: 304,\n",
       "                2: 512,\n",
       "                3: 1024,\n",
       "                4: 32,\n",
       "                5: 32,\n",
       "                6: 32,\n",
       "                7: 32,\n",
       "                8: 64,\n",
       "                9: 48,\n",
       "                10: 48,\n",
       "                11: 64,\n",
       "                12: 128,\n",
       "                13: 72,\n",
       "                14: 64,\n",
       "                15: 72,\n",
       "                16: 96,\n",
       "                17: 64,\n",
       "                18: 64,\n",
       "                19: 152,\n",
       "                20: 152,\n",
       "                21: 256,\n",
       "                22: 152,\n",
       "                23: 200,\n",
       "                24: 128,\n",
       "                25: 200,\n",
       "                26: 200,\n",
       "                27: 152,\n",
       "                28: 128,\n",
       "                29: 128,\n",
       "                30: 152,\n",
       "                31: 304,\n",
       "                32: 256,\n",
       "                33: 304,\n",
       "                34: 304,\n",
       "                35: 256,\n",
       "                36: 256}),\n",
       "              (<ElasticityDim.DEPTH: 'depth'>, [0, 3, 4])]),\n",
       " OrderedDict([(<ElasticityDim.WIDTH: 'width'>,\n",
       "               {0: 152,\n",
       "                1: 304,\n",
       "                2: 512,\n",
       "                3: 1024,\n",
       "                4: 32,\n",
       "                5: 32,\n",
       "                6: 32,\n",
       "                7: 32,\n",
       "                8: 64,\n",
       "                9: 48,\n",
       "                10: 48,\n",
       "                11: 64,\n",
       "                12: 128,\n",
       "                13: 72,\n",
       "                14: 64,\n",
       "                15: 72,\n",
       "                16: 96,\n",
       "                17: 64,\n",
       "                18: 96,\n",
       "                19: 152,\n",
       "                20: 152,\n",
       "                21: 256,\n",
       "                22: 200,\n",
       "                23: 200,\n",
       "                24: 128,\n",
       "                25: 200,\n",
       "                26: 200,\n",
       "                27: 152,\n",
       "                28: 128,\n",
       "                29: 128,\n",
       "                30: 152,\n",
       "                31: 304,\n",
       "                32: 256,\n",
       "                33: 304,\n",
       "                34: 512,\n",
       "                35: 256,\n",
       "                36: 256}),\n",
       "              (<ElasticityDim.DEPTH: 'depth'>, [0, 3, 4])]),\n",
       " OrderedDict([(<ElasticityDim.WIDTH: 'width'>,\n",
       "               {0: 152,\n",
       "                1: 304,\n",
       "                2: 512,\n",
       "                3: 1024,\n",
       "                4: 32,\n",
       "                5: 64,\n",
       "                6: 32,\n",
       "                7: 48,\n",
       "                8: 64,\n",
       "                9: 48,\n",
       "                10: 48,\n",
       "                11: 64,\n",
       "                12: 128,\n",
       "                13: 72,\n",
       "                14: 64,\n",
       "                15: 96,\n",
       "                16: 96,\n",
       "                17: 72,\n",
       "                18: 96,\n",
       "                19: 200,\n",
       "                20: 152,\n",
       "                21: 256,\n",
       "                22: 200,\n",
       "                23: 200,\n",
       "                24: 128,\n",
       "                25: 200,\n",
       "                26: 200,\n",
       "                27: 152,\n",
       "                28: 256,\n",
       "                29: 128,\n",
       "                30: 152,\n",
       "                31: 408,\n",
       "                32: 256,\n",
       "                33: 304,\n",
       "                34: 512,\n",
       "                35: 256,\n",
       "                36: 256}),\n",
       "              (<ElasticityDim.DEPTH: 'depth'>, [0, 3, 4])]),\n",
       " OrderedDict([(<ElasticityDim.WIDTH: 'width'>,\n",
       "               {0: 152,\n",
       "                1: 304,\n",
       "                2: 512,\n",
       "                3: 1024,\n",
       "                4: 32,\n",
       "                5: 32,\n",
       "                6: 32,\n",
       "                7: 32,\n",
       "                8: 64,\n",
       "                9: 48,\n",
       "                10: 48,\n",
       "                11: 64,\n",
       "                12: 128,\n",
       "                13: 72,\n",
       "                14: 64,\n",
       "                15: 72,\n",
       "                16: 96,\n",
       "                17: 64,\n",
       "                18: 96,\n",
       "                19: 152,\n",
       "                20: 152,\n",
       "                21: 256,\n",
       "                22: 200,\n",
       "                23: 200,\n",
       "                24: 128,\n",
       "                25: 200,\n",
       "                26: 200,\n",
       "                27: 152,\n",
       "                28: 128,\n",
       "                29: 128,\n",
       "                30: 152,\n",
       "                31: 304,\n",
       "                32: 256,\n",
       "                33: 304,\n",
       "                34: 304,\n",
       "                35: 256,\n",
       "                36: 256}),\n",
       "              (<ElasticityDim.DEPTH: 'depth'>, [0, 3, 4])]),\n",
       " OrderedDict([(<ElasticityDim.WIDTH: 'width'>,\n",
       "               {0: 152,\n",
       "                1: 304,\n",
       "                2: 512,\n",
       "                3: 1024,\n",
       "                4: 32,\n",
       "                5: 32,\n",
       "                6: 32,\n",
       "                7: 32,\n",
       "                8: 64,\n",
       "                9: 48,\n",
       "                10: 48,\n",
       "                11: 64,\n",
       "                12: 128,\n",
       "                13: 72,\n",
       "                14: 64,\n",
       "                15: 72,\n",
       "                16: 64,\n",
       "                17: 64,\n",
       "                18: 64,\n",
       "                19: 200,\n",
       "                20: 152,\n",
       "                21: 256,\n",
       "                22: 200,\n",
       "                23: 200,\n",
       "                24: 128,\n",
       "                25: 200,\n",
       "                26: 200,\n",
       "                27: 152,\n",
       "                28: 128,\n",
       "                29: 128,\n",
       "                30: 152,\n",
       "                31: 304,\n",
       "                32: 256,\n",
       "                33: 304,\n",
       "                34: 304,\n",
       "                35: 256,\n",
       "                36: 256}),\n",
       "              (<ElasticityDim.DEPTH: 'depth'>, [0, 3, 4])]),\n",
       " OrderedDict([(<ElasticityDim.WIDTH: 'width'>,\n",
       "               {0: 152,\n",
       "                1: 304,\n",
       "                2: 512,\n",
       "                3: 1024,\n",
       "                4: 32,\n",
       "                5: 64,\n",
       "                6: 32,\n",
       "                7: 32,\n",
       "                8: 64,\n",
       "                9: 48,\n",
       "                10: 48,\n",
       "                11: 64,\n",
       "                12: 128,\n",
       "                13: 72,\n",
       "                14: 64,\n",
       "                15: 96,\n",
       "                16: 96,\n",
       "                17: 64,\n",
       "                18: 96,\n",
       "                19: 200,\n",
       "                20: 152,\n",
       "                21: 256,\n",
       "                22: 200,\n",
       "                23: 200,\n",
       "                24: 128,\n",
       "                25: 200,\n",
       "                26: 200,\n",
       "                27: 152,\n",
       "                28: 256,\n",
       "                29: 128,\n",
       "                30: 152,\n",
       "                31: 408,\n",
       "                32: 256,\n",
       "                33: 304,\n",
       "                34: 512,\n",
       "                35: 256,\n",
       "                36: 256}),\n",
       "              (<ElasticityDim.DEPTH: 'depth'>, [0, 3, 4])]),\n",
       " OrderedDict([(<ElasticityDim.WIDTH: 'width'>,\n",
       "               {0: 152,\n",
       "                1: 256,\n",
       "                2: 512,\n",
       "                3: 1024,\n",
       "                4: 32,\n",
       "                5: 32,\n",
       "                6: 32,\n",
       "                7: 32,\n",
       "                8: 32,\n",
       "                9: 48,\n",
       "                10: 48,\n",
       "                11: 64,\n",
       "                12: 64,\n",
       "                13: 72,\n",
       "                14: 64,\n",
       "                15: 72,\n",
       "                16: 64,\n",
       "                17: 64,\n",
       "                18: 64,\n",
       "                19: 152,\n",
       "                20: 128,\n",
       "                21: 200,\n",
       "                22: 152,\n",
       "                23: 128,\n",
       "                24: 128,\n",
       "                25: 200,\n",
       "                26: 128,\n",
       "                27: 152,\n",
       "                28: 128,\n",
       "                29: 128,\n",
       "                30: 152,\n",
       "                31: 304,\n",
       "                32: 256,\n",
       "                33: 304,\n",
       "                34: 304,\n",
       "                35: 256,\n",
       "                36: 256}),\n",
       "              (<ElasticityDim.DEPTH: 'depth'>, [0, 3, 4])]),\n",
       " OrderedDict([(<ElasticityDim.WIDTH: 'width'>,\n",
       "               {0: 152,\n",
       "                1: 304,\n",
       "                2: 512,\n",
       "                3: 1024,\n",
       "                4: 32,\n",
       "                5: 32,\n",
       "                6: 32,\n",
       "                7: 32,\n",
       "                8: 64,\n",
       "                9: 48,\n",
       "                10: 48,\n",
       "                11: 64,\n",
       "                12: 128,\n",
       "                13: 72,\n",
       "                14: 64,\n",
       "                15: 72,\n",
       "                16: 96,\n",
       "                17: 64,\n",
       "                18: 64,\n",
       "                19: 152,\n",
       "                20: 152,\n",
       "                21: 256,\n",
       "                22: 200,\n",
       "                23: 200,\n",
       "                24: 128,\n",
       "                25: 200,\n",
       "                26: 128,\n",
       "                27: 152,\n",
       "                28: 128,\n",
       "                29: 128,\n",
       "                30: 152,\n",
       "                31: 304,\n",
       "                32: 256,\n",
       "                33: 304,\n",
       "                34: 304,\n",
       "                35: 256,\n",
       "                36: 256}),\n",
       "              (<ElasticityDim.DEPTH: 'depth'>, [0, 3, 4])]),\n",
       " OrderedDict([(<ElasticityDim.WIDTH: 'width'>,\n",
       "               {0: 152,\n",
       "                1: 304,\n",
       "                2: 512,\n",
       "                3: 1024,\n",
       "                4: 32,\n",
       "                5: 64,\n",
       "                6: 32,\n",
       "                7: 32,\n",
       "                8: 64,\n",
       "                9: 48,\n",
       "                10: 48,\n",
       "                11: 64,\n",
       "                12: 128,\n",
       "                13: 72,\n",
       "                14: 64,\n",
       "                15: 96,\n",
       "                16: 96,\n",
       "                17: 72,\n",
       "                18: 96,\n",
       "                19: 200,\n",
       "                20: 152,\n",
       "                21: 256,\n",
       "                22: 200,\n",
       "                23: 200,\n",
       "                24: 128,\n",
       "                25: 200,\n",
       "                26: 200,\n",
       "                27: 152,\n",
       "                28: 256,\n",
       "                29: 128,\n",
       "                30: 152,\n",
       "                31: 408,\n",
       "                32: 256,\n",
       "                33: 304,\n",
       "                34: 512,\n",
       "                35: 256,\n",
       "                36: 256}),\n",
       "              (<ElasticityDim.DEPTH: 'depth'>, [0, 3, 4])]),\n",
       " OrderedDict([(<ElasticityDim.WIDTH: 'width'>,\n",
       "               {0: 152,\n",
       "                1: 256,\n",
       "                2: 512,\n",
       "                3: 1024,\n",
       "                4: 32,\n",
       "                5: 32,\n",
       "                6: 32,\n",
       "                7: 32,\n",
       "                8: 48,\n",
       "                9: 48,\n",
       "                10: 48,\n",
       "                11: 64,\n",
       "                12: 128,\n",
       "                13: 72,\n",
       "                14: 64,\n",
       "                15: 72,\n",
       "                16: 64,\n",
       "                17: 64,\n",
       "                18: 64,\n",
       "                19: 152,\n",
       "                20: 152,\n",
       "                21: 200,\n",
       "                22: 152,\n",
       "                23: 200,\n",
       "                24: 128,\n",
       "                25: 200,\n",
       "                26: 128,\n",
       "                27: 152,\n",
       "                28: 128,\n",
       "                29: 128,\n",
       "                30: 152,\n",
       "                31: 304,\n",
       "                32: 256,\n",
       "                33: 304,\n",
       "                34: 304,\n",
       "                35: 256,\n",
       "                36: 256}),\n",
       "              (<ElasticityDim.DEPTH: 'depth'>, [0, 3, 4])]),\n",
       " OrderedDict([(<ElasticityDim.WIDTH: 'width'>,\n",
       "               {0: 152,\n",
       "                1: 256,\n",
       "                2: 512,\n",
       "                3: 1024,\n",
       "                4: 32,\n",
       "                5: 32,\n",
       "                6: 32,\n",
       "                7: 32,\n",
       "                8: 32,\n",
       "                9: 32,\n",
       "                10: 48,\n",
       "                11: 64,\n",
       "                12: 64,\n",
       "                13: 72,\n",
       "                14: 64,\n",
       "                15: 72,\n",
       "                16: 64,\n",
       "                17: 64,\n",
       "                18: 64,\n",
       "                19: 152,\n",
       "                20: 128,\n",
       "                21: 200,\n",
       "                22: 152,\n",
       "                23: 200,\n",
       "                24: 128,\n",
       "                25: 200,\n",
       "                26: 128,\n",
       "                27: 152,\n",
       "                28: 128,\n",
       "                29: 128,\n",
       "                30: 152,\n",
       "                31: 304,\n",
       "                32: 256,\n",
       "                33: 304,\n",
       "                34: 304,\n",
       "                35: 256,\n",
       "                36: 256}),\n",
       "              (<ElasticityDim.DEPTH: 'depth'>, [0, 3, 4])]),\n",
       " OrderedDict([(<ElasticityDim.WIDTH: 'width'>,\n",
       "               {0: 152,\n",
       "                1: 256,\n",
       "                2: 512,\n",
       "                3: 1024,\n",
       "                4: 32,\n",
       "                5: 32,\n",
       "                6: 32,\n",
       "                7: 32,\n",
       "                8: 32,\n",
       "                9: 32,\n",
       "                10: 48,\n",
       "                11: 64,\n",
       "                12: 128,\n",
       "                13: 72,\n",
       "                14: 64,\n",
       "                15: 72,\n",
       "                16: 64,\n",
       "                17: 64,\n",
       "                18: 64,\n",
       "                19: 152,\n",
       "                20: 152,\n",
       "                21: 200,\n",
       "                22: 152,\n",
       "                23: 128,\n",
       "                24: 128,\n",
       "                25: 200,\n",
       "                26: 128,\n",
       "                27: 152,\n",
       "                28: 128,\n",
       "                29: 128,\n",
       "                30: 152,\n",
       "                31: 304,\n",
       "                32: 256,\n",
       "                33: 304,\n",
       "                34: 304,\n",
       "                35: 256,\n",
       "                36: 256}),\n",
       "              (<ElasticityDim.DEPTH: 'depth'>, [0, 3, 4])]),\n",
       " OrderedDict([(<ElasticityDim.WIDTH: 'width'>,\n",
       "               {0: 128,\n",
       "                1: 256,\n",
       "                2: 512,\n",
       "                3: 1024,\n",
       "                4: 32,\n",
       "                5: 32,\n",
       "                6: 32,\n",
       "                7: 32,\n",
       "                8: 32,\n",
       "                9: 32,\n",
       "                10: 48,\n",
       "                11: 64,\n",
       "                12: 64,\n",
       "                13: 72,\n",
       "                14: 64,\n",
       "                15: 72,\n",
       "                16: 64,\n",
       "                17: 64,\n",
       "                18: 64,\n",
       "                19: 152,\n",
       "                20: 128,\n",
       "                21: 200,\n",
       "                22: 152,\n",
       "                23: 128,\n",
       "                24: 128,\n",
       "                25: 200,\n",
       "                26: 128,\n",
       "                27: 152,\n",
       "                28: 128,\n",
       "                29: 128,\n",
       "                30: 152,\n",
       "                31: 304,\n",
       "                32: 256,\n",
       "                33: 304,\n",
       "                34: 304,\n",
       "                35: 256,\n",
       "                36: 256}),\n",
       "              (<ElasticityDim.DEPTH: 'depth'>, [0, 3, 4])]),\n",
       " OrderedDict([(<ElasticityDim.WIDTH: 'width'>,\n",
       "               {0: 152,\n",
       "                1: 304,\n",
       "                2: 512,\n",
       "                3: 1024,\n",
       "                4: 32,\n",
       "                5: 32,\n",
       "                6: 32,\n",
       "                7: 32,\n",
       "                8: 32,\n",
       "                9: 48,\n",
       "                10: 48,\n",
       "                11: 64,\n",
       "                12: 128,\n",
       "                13: 72,\n",
       "                14: 64,\n",
       "                15: 72,\n",
       "                16: 64,\n",
       "                17: 64,\n",
       "                18: 96,\n",
       "                19: 152,\n",
       "                20: 128,\n",
       "                21: 200,\n",
       "                22: 200,\n",
       "                23: 200,\n",
       "                24: 128,\n",
       "                25: 200,\n",
       "                26: 128,\n",
       "                27: 152,\n",
       "                28: 128,\n",
       "                29: 128,\n",
       "                30: 152,\n",
       "                31: 304,\n",
       "                32: 256,\n",
       "                33: 304,\n",
       "                34: 304,\n",
       "                35: 256,\n",
       "                36: 256}),\n",
       "              (<ElasticityDim.DEPTH: 'depth'>, [0, 3, 4])]),\n",
       " OrderedDict([(<ElasticityDim.WIDTH: 'width'>,\n",
       "               {0: 152,\n",
       "                1: 304,\n",
       "                2: 512,\n",
       "                3: 1024,\n",
       "                4: 32,\n",
       "                5: 32,\n",
       "                6: 32,\n",
       "                7: 32,\n",
       "                8: 64,\n",
       "                9: 48,\n",
       "                10: 48,\n",
       "                11: 64,\n",
       "                12: 128,\n",
       "                13: 72,\n",
       "                14: 64,\n",
       "                15: 72,\n",
       "                16: 96,\n",
       "                17: 64,\n",
       "                18: 96,\n",
       "                19: 200,\n",
       "                20: 152,\n",
       "                21: 256,\n",
       "                22: 200,\n",
       "                23: 200,\n",
       "                24: 128,\n",
       "                25: 200,\n",
       "                26: 200,\n",
       "                27: 152,\n",
       "                28: 128,\n",
       "                29: 128,\n",
       "                30: 152,\n",
       "                31: 304,\n",
       "                32: 256,\n",
       "                33: 304,\n",
       "                34: 512,\n",
       "                35: 256,\n",
       "                36: 256}),\n",
       "              (<ElasticityDim.DEPTH: 'depth'>, [0, 3, 4])]),\n",
       " OrderedDict([(<ElasticityDim.WIDTH: 'width'>,\n",
       "               {0: 152,\n",
       "                1: 304,\n",
       "                2: 512,\n",
       "                3: 1024,\n",
       "                4: 32,\n",
       "                5: 32,\n",
       "                6: 32,\n",
       "                7: 32,\n",
       "                8: 48,\n",
       "                9: 48,\n",
       "                10: 48,\n",
       "                11: 64,\n",
       "                12: 128,\n",
       "                13: 72,\n",
       "                14: 64,\n",
       "                15: 72,\n",
       "                16: 64,\n",
       "                17: 64,\n",
       "                18: 64,\n",
       "                19: 152,\n",
       "                20: 152,\n",
       "                21: 200,\n",
       "                22: 152,\n",
       "                23: 200,\n",
       "                24: 128,\n",
       "                25: 200,\n",
       "                26: 128,\n",
       "                27: 152,\n",
       "                28: 128,\n",
       "                29: 128,\n",
       "                30: 152,\n",
       "                31: 304,\n",
       "                32: 256,\n",
       "                33: 304,\n",
       "                34: 304,\n",
       "                35: 256,\n",
       "                36: 256}),\n",
       "              (<ElasticityDim.DEPTH: 'depth'>, [0, 3, 4])]),\n",
       " OrderedDict([(<ElasticityDim.WIDTH: 'width'>,\n",
       "               {0: 152,\n",
       "                1: 304,\n",
       "                2: 512,\n",
       "                3: 1024,\n",
       "                4: 32,\n",
       "                5: 32,\n",
       "                6: 32,\n",
       "                7: 32,\n",
       "                8: 32,\n",
       "                9: 48,\n",
       "                10: 48,\n",
       "                11: 64,\n",
       "                12: 128,\n",
       "                13: 72,\n",
       "                14: 64,\n",
       "                15: 72,\n",
       "                16: 64,\n",
       "                17: 64,\n",
       "                18: 64,\n",
       "                19: 152,\n",
       "                20: 152,\n",
       "                21: 200,\n",
       "                22: 200,\n",
       "                23: 200,\n",
       "                24: 128,\n",
       "                25: 200,\n",
       "                26: 128,\n",
       "                27: 152,\n",
       "                28: 128,\n",
       "                29: 128,\n",
       "                30: 152,\n",
       "                31: 304,\n",
       "                32: 256,\n",
       "                33: 304,\n",
       "                34: 304,\n",
       "                35: 256,\n",
       "                36: 256}),\n",
       "              (<ElasticityDim.DEPTH: 'depth'>, [0, 3, 4])]),\n",
       " OrderedDict([(<ElasticityDim.WIDTH: 'width'>,\n",
       "               {0: 152,\n",
       "                1: 304,\n",
       "                2: 512,\n",
       "                3: 1024,\n",
       "                4: 32,\n",
       "                5: 32,\n",
       "                6: 32,\n",
       "                7: 32,\n",
       "                8: 48,\n",
       "                9: 48,\n",
       "                10: 48,\n",
       "                11: 64,\n",
       "                12: 128,\n",
       "                13: 72,\n",
       "                14: 64,\n",
       "                15: 72,\n",
       "                16: 64,\n",
       "                17: 64,\n",
       "                18: 64,\n",
       "                19: 152,\n",
       "                20: 152,\n",
       "                21: 200,\n",
       "                22: 200,\n",
       "                23: 200,\n",
       "                24: 128,\n",
       "                25: 200,\n",
       "                26: 128,\n",
       "                27: 152,\n",
       "                28: 128,\n",
       "                29: 128,\n",
       "                30: 152,\n",
       "                31: 304,\n",
       "                32: 256,\n",
       "                33: 304,\n",
       "                34: 304,\n",
       "                35: 256,\n",
       "                36: 256}),\n",
       "              (<ElasticityDim.DEPTH: 'depth'>, [0, 3, 4])]),\n",
       " OrderedDict([(<ElasticityDim.WIDTH: 'width'>,\n",
       "               {0: 152,\n",
       "                1: 512,\n",
       "                2: 512,\n",
       "                3: 1024,\n",
       "                4: 32,\n",
       "                5: 64,\n",
       "                6: 32,\n",
       "                7: 48,\n",
       "                8: 64,\n",
       "                9: 48,\n",
       "                10: 48,\n",
       "                11: 64,\n",
       "                12: 128,\n",
       "                13: 72,\n",
       "                14: 64,\n",
       "                15: 96,\n",
       "                16: 96,\n",
       "                17: 72,\n",
       "                18: 96,\n",
       "                19: 200,\n",
       "                20: 152,\n",
       "                21: 256,\n",
       "                22: 200,\n",
       "                23: 200,\n",
       "                24: 128,\n",
       "                25: 200,\n",
       "                26: 200,\n",
       "                27: 152,\n",
       "                28: 128,\n",
       "                29: 128,\n",
       "                30: 152,\n",
       "                31: 408,\n",
       "                32: 256,\n",
       "                33: 304,\n",
       "                34: 512,\n",
       "                35: 256,\n",
       "                36: 256}),\n",
       "              (<ElasticityDim.DEPTH: 'depth'>, [0, 3, 4])]),\n",
       " OrderedDict([(<ElasticityDim.WIDTH: 'width'>,\n",
       "               {0: 152,\n",
       "                1: 512,\n",
       "                2: 512,\n",
       "                3: 1024,\n",
       "                4: 32,\n",
       "                5: 48,\n",
       "                6: 32,\n",
       "                7: 48,\n",
       "                8: 64,\n",
       "                9: 48,\n",
       "                10: 48,\n",
       "                11: 64,\n",
       "                12: 128,\n",
       "                13: 72,\n",
       "                14: 64,\n",
       "                15: 96,\n",
       "                16: 96,\n",
       "                17: 72,\n",
       "                18: 96,\n",
       "                19: 200,\n",
       "                20: 152,\n",
       "                21: 256,\n",
       "                22: 200,\n",
       "                23: 200,\n",
       "                24: 128,\n",
       "                25: 200,\n",
       "                26: 200,\n",
       "                27: 152,\n",
       "                28: 256,\n",
       "                29: 128,\n",
       "                30: 152,\n",
       "                31: 408,\n",
       "                32: 256,\n",
       "                33: 304,\n",
       "                34: 512,\n",
       "                35: 256,\n",
       "                36: 256}),\n",
       "              (<ElasticityDim.DEPTH: 'depth'>, [0, 3, 4])]),\n",
       " OrderedDict([(<ElasticityDim.WIDTH: 'width'>,\n",
       "               {0: 152,\n",
       "                1: 304,\n",
       "                2: 512,\n",
       "                3: 1024,\n",
       "                4: 32,\n",
       "                5: 48,\n",
       "                6: 32,\n",
       "                7: 48,\n",
       "                8: 64,\n",
       "                9: 48,\n",
       "                10: 48,\n",
       "                11: 64,\n",
       "                12: 128,\n",
       "                13: 72,\n",
       "                14: 64,\n",
       "                15: 96,\n",
       "                16: 96,\n",
       "                17: 72,\n",
       "                18: 96,\n",
       "                19: 200,\n",
       "                20: 152,\n",
       "                21: 256,\n",
       "                22: 200,\n",
       "                23: 200,\n",
       "                24: 128,\n",
       "                25: 200,\n",
       "                26: 200,\n",
       "                27: 152,\n",
       "                28: 128,\n",
       "                29: 128,\n",
       "                30: 152,\n",
       "                31: 408,\n",
       "                32: 256,\n",
       "                33: 304,\n",
       "                34: 512,\n",
       "                35: 256,\n",
       "                36: 256}),\n",
       "              (<ElasticityDim.DEPTH: 'depth'>, [0, 3, 4])]),\n",
       " OrderedDict([(<ElasticityDim.WIDTH: 'width'>,\n",
       "               {0: 152,\n",
       "                1: 256,\n",
       "                2: 512,\n",
       "                3: 1024,\n",
       "                4: 32,\n",
       "                5: 32,\n",
       "                6: 32,\n",
       "                7: 32,\n",
       "                8: 48,\n",
       "                9: 32,\n",
       "                10: 48,\n",
       "                11: 64,\n",
       "                12: 128,\n",
       "                13: 72,\n",
       "                14: 64,\n",
       "                15: 72,\n",
       "                16: 64,\n",
       "                17: 64,\n",
       "                18: 64,\n",
       "                19: 152,\n",
       "                20: 152,\n",
       "                21: 200,\n",
       "                22: 152,\n",
       "                23: 200,\n",
       "                24: 128,\n",
       "                25: 200,\n",
       "                26: 128,\n",
       "                27: 152,\n",
       "                28: 128,\n",
       "                29: 128,\n",
       "                30: 152,\n",
       "                31: 304,\n",
       "                32: 256,\n",
       "                33: 304,\n",
       "                34: 304,\n",
       "                35: 256,\n",
       "                36: 256}),\n",
       "              (<ElasticityDim.DEPTH: 'depth'>, [0, 3, 4])]),\n",
       " OrderedDict([(<ElasticityDim.WIDTH: 'width'>,\n",
       "               {0: 152,\n",
       "                1: 304,\n",
       "                2: 512,\n",
       "                3: 1024,\n",
       "                4: 32,\n",
       "                5: 32,\n",
       "                6: 32,\n",
       "                7: 32,\n",
       "                8: 64,\n",
       "                9: 48,\n",
       "                10: 48,\n",
       "                11: 64,\n",
       "                12: 128,\n",
       "                13: 72,\n",
       "                14: 64,\n",
       "                15: 72,\n",
       "                16: 64,\n",
       "                17: 64,\n",
       "                18: 64,\n",
       "                19: 152,\n",
       "                20: 152,\n",
       "                21: 200,\n",
       "                22: 152,\n",
       "                23: 200,\n",
       "                24: 128,\n",
       "                25: 200,\n",
       "                26: 128,\n",
       "                27: 152,\n",
       "                28: 128,\n",
       "                29: 128,\n",
       "                30: 152,\n",
       "                31: 304,\n",
       "                32: 256,\n",
       "                33: 304,\n",
       "                34: 304,\n",
       "                35: 256,\n",
       "                36: 256}),\n",
       "              (<ElasticityDim.DEPTH: 'depth'>, [0, 3, 4])]),\n",
       " OrderedDict([(<ElasticityDim.WIDTH: 'width'>,\n",
       "               {0: 152,\n",
       "                1: 512,\n",
       "                2: 512,\n",
       "                3: 1024,\n",
       "                4: 32,\n",
       "                5: 32,\n",
       "                6: 32,\n",
       "                7: 48,\n",
       "                8: 64,\n",
       "                9: 48,\n",
       "                10: 48,\n",
       "                11: 64,\n",
       "                12: 128,\n",
       "                13: 72,\n",
       "                14: 64,\n",
       "                15: 96,\n",
       "                16: 96,\n",
       "                17: 72,\n",
       "                18: 96,\n",
       "                19: 200,\n",
       "                20: 152,\n",
       "                21: 256,\n",
       "                22: 200,\n",
       "                23: 200,\n",
       "                24: 128,\n",
       "                25: 200,\n",
       "                26: 200,\n",
       "                27: 152,\n",
       "                28: 256,\n",
       "                29: 128,\n",
       "                30: 152,\n",
       "                31: 408,\n",
       "                32: 256,\n",
       "                33: 304,\n",
       "                34: 512,\n",
       "                35: 256,\n",
       "                36: 256}),\n",
       "              (<ElasticityDim.DEPTH: 'depth'>, [0, 3, 4])]),\n",
       " OrderedDict([(<ElasticityDim.WIDTH: 'width'>,\n",
       "               {0: 128,\n",
       "                1: 256,\n",
       "                2: 512,\n",
       "                3: 1024,\n",
       "                4: 32,\n",
       "                5: 32,\n",
       "                6: 32,\n",
       "                7: 32,\n",
       "                8: 32,\n",
       "                9: 32,\n",
       "                10: 48,\n",
       "                11: 64,\n",
       "                12: 64,\n",
       "                13: 64,\n",
       "                14: 64,\n",
       "                15: 72,\n",
       "                16: 64,\n",
       "                17: 64,\n",
       "                18: 64,\n",
       "                19: 152,\n",
       "                20: 128,\n",
       "                21: 200,\n",
       "                22: 152,\n",
       "                23: 128,\n",
       "                24: 128,\n",
       "                25: 200,\n",
       "                26: 128,\n",
       "                27: 152,\n",
       "                28: 128,\n",
       "                29: 128,\n",
       "                30: 152,\n",
       "                31: 304,\n",
       "                32: 256,\n",
       "                33: 304,\n",
       "                34: 304,\n",
       "                35: 256,\n",
       "                36: 256}),\n",
       "              (<ElasticityDim.DEPTH: 'depth'>, [0, 3, 4])]),\n",
       " OrderedDict([(<ElasticityDim.WIDTH: 'width'>,\n",
       "               {0: 152,\n",
       "                1: 304,\n",
       "                2: 512,\n",
       "                3: 1024,\n",
       "                4: 32,\n",
       "                5: 32,\n",
       "                6: 32,\n",
       "                7: 32,\n",
       "                8: 64,\n",
       "                9: 48,\n",
       "                10: 48,\n",
       "                11: 64,\n",
       "                12: 128,\n",
       "                13: 72,\n",
       "                14: 64,\n",
       "                15: 72,\n",
       "                16: 64,\n",
       "                17: 64,\n",
       "                18: 96,\n",
       "                19: 152,\n",
       "                20: 152,\n",
       "                21: 200,\n",
       "                22: 200,\n",
       "                23: 200,\n",
       "                24: 128,\n",
       "                25: 200,\n",
       "                26: 200,\n",
       "                27: 152,\n",
       "                28: 128,\n",
       "                29: 128,\n",
       "                30: 152,\n",
       "                31: 304,\n",
       "                32: 256,\n",
       "                33: 304,\n",
       "                34: 304,\n",
       "                35: 256,\n",
       "                36: 256}),\n",
       "              (<ElasticityDim.DEPTH: 'depth'>, [0, 3, 4])]),\n",
       " OrderedDict([(<ElasticityDim.WIDTH: 'width'>,\n",
       "               {0: 128,\n",
       "                1: 256,\n",
       "                2: 512,\n",
       "                3: 1024,\n",
       "                4: 32,\n",
       "                5: 32,\n",
       "                6: 32,\n",
       "                7: 32,\n",
       "                8: 32,\n",
       "                9: 32,\n",
       "                10: 48,\n",
       "                11: 64,\n",
       "                12: 64,\n",
       "                13: 72,\n",
       "                14: 64,\n",
       "                15: 72,\n",
       "                16: 64,\n",
       "                17: 64,\n",
       "                18: 64,\n",
       "                19: 152,\n",
       "                20: 128,\n",
       "                21: 200,\n",
       "                22: 152,\n",
       "                23: 128,\n",
       "                24: 128,\n",
       "                25: 200,\n",
       "                26: 128,\n",
       "                27: 152,\n",
       "                28: 128,\n",
       "                29: 128,\n",
       "                30: 152,\n",
       "                31: 304,\n",
       "                32: 256,\n",
       "                33: 256,\n",
       "                34: 304,\n",
       "                35: 256,\n",
       "                36: 256}),\n",
       "              (<ElasticityDim.DEPTH: 'depth'>, [0, 3, 4])]),\n",
       " OrderedDict([(<ElasticityDim.WIDTH: 'width'>,\n",
       "               {0: 152,\n",
       "                1: 304,\n",
       "                2: 512,\n",
       "                3: 1024,\n",
       "                4: 32,\n",
       "                5: 64,\n",
       "                6: 32,\n",
       "                7: 32,\n",
       "                8: 64,\n",
       "                9: 48,\n",
       "                10: 48,\n",
       "                11: 64,\n",
       "                12: 128,\n",
       "                13: 72,\n",
       "                14: 64,\n",
       "                15: 72,\n",
       "                16: 96,\n",
       "                17: 72,\n",
       "                18: 96,\n",
       "                19: 200,\n",
       "                20: 152,\n",
       "                21: 256,\n",
       "                22: 200,\n",
       "                23: 200,\n",
       "                24: 128,\n",
       "                25: 200,\n",
       "                26: 200,\n",
       "                27: 152,\n",
       "                28: 256,\n",
       "                29: 128,\n",
       "                30: 152,\n",
       "                31: 408,\n",
       "                32: 256,\n",
       "                33: 304,\n",
       "                34: 512,\n",
       "                35: 256,\n",
       "                36: 256}),\n",
       "              (<ElasticityDim.DEPTH: 'depth'>, [0, 3, 4])]),\n",
       " OrderedDict([(<ElasticityDim.WIDTH: 'width'>,\n",
       "               {0: 152,\n",
       "                1: 304,\n",
       "                2: 512,\n",
       "                3: 1024,\n",
       "                4: 32,\n",
       "                5: 32,\n",
       "                6: 32,\n",
       "                7: 32,\n",
       "                8: 64,\n",
       "                9: 48,\n",
       "                10: 48,\n",
       "                11: 64,\n",
       "                12: 128,\n",
       "                13: 72,\n",
       "                14: 64,\n",
       "                15: 72,\n",
       "                16: 64,\n",
       "                17: 64,\n",
       "                18: 64,\n",
       "                19: 152,\n",
       "                20: 152,\n",
       "                21: 200,\n",
       "                22: 200,\n",
       "                23: 200,\n",
       "                24: 128,\n",
       "                25: 200,\n",
       "                26: 128,\n",
       "                27: 152,\n",
       "                28: 128,\n",
       "                29: 128,\n",
       "                30: 152,\n",
       "                31: 304,\n",
       "                32: 256,\n",
       "                33: 304,\n",
       "                34: 304,\n",
       "                35: 256,\n",
       "                36: 256}),\n",
       "              (<ElasticityDim.DEPTH: 'depth'>, [0, 3, 4])]),\n",
       " OrderedDict([(<ElasticityDim.WIDTH: 'width'>,\n",
       "               {0: 152,\n",
       "                1: 304,\n",
       "                2: 512,\n",
       "                3: 1024,\n",
       "                4: 32,\n",
       "                5: 32,\n",
       "                6: 32,\n",
       "                7: 32,\n",
       "                8: 64,\n",
       "                9: 48,\n",
       "                10: 48,\n",
       "                11: 64,\n",
       "                12: 128,\n",
       "                13: 72,\n",
       "                14: 64,\n",
       "                15: 72,\n",
       "                16: 96,\n",
       "                17: 64,\n",
       "                18: 64,\n",
       "                19: 152,\n",
       "                20: 152,\n",
       "                21: 256,\n",
       "                22: 152,\n",
       "                23: 200,\n",
       "                24: 128,\n",
       "                25: 200,\n",
       "                26: 200,\n",
       "                27: 152,\n",
       "                28: 128,\n",
       "                29: 128,\n",
       "                30: 152,\n",
       "                31: 408,\n",
       "                32: 256,\n",
       "                33: 304,\n",
       "                34: 512,\n",
       "                35: 256,\n",
       "                36: 256}),\n",
       "              (<ElasticityDim.DEPTH: 'depth'>, [0, 3, 4])]),\n",
       " OrderedDict([(<ElasticityDim.WIDTH: 'width'>,\n",
       "               {0: 152,\n",
       "                1: 304,\n",
       "                2: 512,\n",
       "                3: 1024,\n",
       "                4: 32,\n",
       "                5: 32,\n",
       "                6: 32,\n",
       "                7: 32,\n",
       "                8: 32,\n",
       "                9: 48,\n",
       "                10: 48,\n",
       "                11: 64,\n",
       "                12: 128,\n",
       "                13: 72,\n",
       "                14: 64,\n",
       "                15: 72,\n",
       "                16: 64,\n",
       "                17: 64,\n",
       "                18: 64,\n",
       "                19: 152,\n",
       "                20: 152,\n",
       "                21: 200,\n",
       "                22: 152,\n",
       "                23: 200,\n",
       "                24: 128,\n",
       "                25: 200,\n",
       "                26: 128,\n",
       "                27: 152,\n",
       "                28: 128,\n",
       "                29: 128,\n",
       "                30: 152,\n",
       "                31: 304,\n",
       "                32: 256,\n",
       "                33: 304,\n",
       "                34: 304,\n",
       "                35: 256,\n",
       "                36: 256}),\n",
       "              (<ElasticityDim.DEPTH: 'depth'>, [0, 3, 4])]),\n",
       " OrderedDict([(<ElasticityDim.WIDTH: 'width'>,\n",
       "               {0: 152,\n",
       "                1: 304,\n",
       "                2: 512,\n",
       "                3: 1024,\n",
       "                4: 32,\n",
       "                5: 32,\n",
       "                6: 32,\n",
       "                7: 32,\n",
       "                8: 64,\n",
       "                9: 48,\n",
       "                10: 48,\n",
       "                11: 64,\n",
       "                12: 128,\n",
       "                13: 72,\n",
       "                14: 64,\n",
       "                15: 72,\n",
       "                16: 64,\n",
       "                17: 64,\n",
       "                18: 96,\n",
       "                19: 152,\n",
       "                20: 152,\n",
       "                21: 256,\n",
       "                22: 200,\n",
       "                23: 200,\n",
       "                24: 128,\n",
       "                25: 200,\n",
       "                26: 128,\n",
       "                27: 152,\n",
       "                28: 128,\n",
       "                29: 128,\n",
       "                30: 152,\n",
       "                31: 304,\n",
       "                32: 256,\n",
       "                33: 304,\n",
       "                34: 304,\n",
       "                35: 256,\n",
       "                36: 256}),\n",
       "              (<ElasticityDim.DEPTH: 'depth'>, [0, 3, 4])])]"
      ]
     },
     "execution_count": 13,
     "metadata": {},
     "output_type": "execute_result"
    }
   ],
   "source": [
    "%load_ext autoreload\n",
    "%autoreload 2\n",
    "## This cell will be moved to scripts/utils\n",
    "\n",
    "from typing import Dict\n",
    "from nncf.common.initialization.batchnorm_adaptation import BatchnormAdaptationAlgorithm\n",
    "from dynast.utils.nn import validate_classification\n",
    "from dynast.dynast_manager import DyNAS\n",
    "from pprint import pprint\n",
    "\n",
    "def create_dynast_config(nncf_config: Dict, bootstrapnas_supernetwork: TrainedSuperNet):\n",
    "    search_tactic = 'linas'\n",
    "    if 'random' in search_tactic:\n",
    "        dynast_config = {\n",
    "            'search_tactic': 'random',\n",
    "            'results_path': 'bootstrapnas_resnet50_cifar10_random_test_1.csv',\n",
    "            'num_evals': 500,\n",
    "            'population': 500,\n",
    "        }\n",
    "    elif 'linas' in search_tactic:\n",
    "        dynast_config = {\n",
    "            'search_tactic': 'linas',\n",
    "            'results_path': 'bootstrapnas_resnet50_cifar10_linas_test_nb_1.csv',\n",
    "            'num_evals': 250,\n",
    "            'population': 50,\n",
    "        }\n",
    "\n",
    "    dynast_config.update(\n",
    "        {\n",
    "            'seed': nncf_config.seed if nncf_config.seed else 42,\n",
    "            'supernet': 'bootstrapnas_image_classification',\n",
    "            'test_fraction': 1.0,\n",
    "            'optimization_metrics': ['accuracy_top1', 'macs'],\n",
    "            'measurements': ['accuracy_top1', 'macs'],\n",
    "            'batch_size': nncf_config.batch_size,\n",
    "            'dataset_path': DATASET_DIR,\n",
    "            'bootstrapnas_supernetwork': bootstrapnas_supernetwork,  # This is the only new param that has to be passed\n",
    "            'device': nncf_config.device,\n",
    "            'verbose': False,\n",
    "        }\n",
    "    )\n",
    "    return dynast_config\n",
    "\n",
    "dynast_config = create_dynast_config(config, supernet)\n",
    "\n",
    "bn_adapt_args = BNAdaptationInitArgs(data_loader=wrap_dataloader_for_init(train_loader), device=config.device)\n",
    "\n",
    "pprint(config)\n",
    "\n",
    "bn_adapt_algo_kwargs = {\n",
    "    'data_loader': train_loader,\n",
    "    'num_bn_adaptation_samples': 6000,\n",
    "    'device': 'cuda',\n",
    "}\n",
    "bn_adaptation = BatchnormAdaptationAlgorithm(**bn_adapt_algo_kwargs)\n",
    "\n",
    "\n",
    "def accuracy_top1_fn(_model):\n",
    "    bn_adaptation.run(_model)\n",
    "\n",
    "    losses, top1, top5 = validate_classification(\n",
    "        model=_model,\n",
    "        data_loader=val_loader,\n",
    "        device=config.device,\n",
    "    )\n",
    "    return top1\n",
    "\n",
    "dynast_config['metric_eval_fns'] = {\n",
    "    'accuracy_top1': accuracy_top1_fn,\n",
    "}\n",
    "\n",
    "dynas = DyNAS(**dynast_config)\n",
    "dynas.search()"
   ]
  },
  {
   "cell_type": "code",
   "execution_count": null,
   "metadata": {},
   "outputs": [],
   "source": []
  }
 ],
 "metadata": {
  "kernelspec": {
   "display_name": "bnas_new",
   "language": "python",
   "name": "python3"
  },
  "language_info": {
   "codemirror_mode": {
    "name": "ipython",
    "version": 3
   },
   "file_extension": ".py",
   "mimetype": "text/x-python",
   "name": "python",
   "nbconvert_exporter": "python",
   "pygments_lexer": "ipython3",
   "version": "3.9.16"
  }
 },
 "nbformat": 4,
 "nbformat_minor": 1
}
