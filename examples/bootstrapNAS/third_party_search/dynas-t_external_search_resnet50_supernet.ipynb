{
 "cells": [
  {
   "attachments": {},
   "cell_type": "markdown",
   "metadata": {
    "pycharm": {
     "name": "#%%\n"
    }
   },
   "source": [
    "<h1 style=\"font-size: 22px; line-height: 100%; text-align: center; background-color: rgb(36, 24, 142); color: white; border: 4px solid rgb(36, 24, 142); border-radius: 10px;\">\n",
    "External Sub-network Search with BootstrapNAS and DyNAS-T\n",
    "</h1>\n",
    "\n",
    "This notebook demonstrates how to use an external search solution to find high-performing subnetworks in NNCF's [BootstrapNAS](https://github.com/openvinotoolkit/nncf/tree/develop/examples/experimental/torch/classification). We will use an existing super-network generated from ResNet-50.  "
   ]
  },
  {
   "attachments": {},
   "cell_type": "markdown",
   "metadata": {
    "pycharm": {
     "name": "#%% md\n"
    }
   },
   "source": [
    "<h3 style=\"text-align: center; background-color: rgb(36, 24, 142); color: white; border: 4px solid rgb(36, 24, 142);\n",
    "border-radius: 25px;\">Imports and Settings\n",
    "</h3>"
   ]
  },
  {
   "cell_type": "code",
   "execution_count": 1,
   "metadata": {
    "pycharm": {
     "name": "#%%\n"
    }
   },
   "outputs": [
    {
     "name": "stdout",
     "output_type": "stream",
     "text": [
      "Imported PyTorch and NNCF\n",
      "INFO:nncf:NNCF initialized successfully. Supported frameworks detected: torch\n"
     ]
    }
   ],
   "source": [
    "import sys\n",
    "import os\n",
    "sys.path.append('..')\n",
    "sys.path.append('path-to-nncf')\n",
    "\n",
    "from imports_bnas import * # Import NNCF, PyTorch and other required packages.\n",
    "import os\n",
    "from examples.common.sample_config import SampleConfig\n",
    "from nncf.common.initialization.batchnorm_adaptation import BatchnormAdaptationAlgorithm\n",
    "from nncf.experimental.torch.nas.bootstrapNAS.search.supernet import TrainedSuperNet\n",
    "from nncf.experimental.torch.nas.bootstrapNAS.elasticity.multi_elasticity_handler import SubnetConfig\n",
    "from nncf.experimental.torch.nas.bootstrapNAS.elasticity.elasticity_dim import ElasticityDim\n",
    "\n",
    "torch.manual_seed(0)\n",
    "device = torch.device(\"cuda\" if torch.cuda.is_available() else \"cpu\")\n",
    "print(f\"Using {device} device\")\n",
    "\n",
    "MODEL_DIR = Path(\"../../../models/supernets/cifar10/resnet50\")\n",
    "OUTPUT_DIR = Path(\"output\")\n",
    "DATA_DIR = Path(\"data\")\n",
    "BASE_MODEL_NAME = \"resnet-50\"\n",
    "\n",
    "fp32_pth_path, model_onnx_path, supernet_onnx_path, subnet_onnx_path = create_folders_demo(BASE_MODEL_NAME + '_external_search')\n"
   ]
  },
  {
   "attachments": {},
   "cell_type": "markdown",
   "metadata": {
    "pycharm": {
     "name": "#%% md\n"
    }
   },
   "source": [
    "<h3 style=\"text-align: center; background-color: rgb(36, 24, 142); color: white; border: 4px solid rgb(36, 24, 142);\n",
    "border-radius: 25px;\">Loading an existing super-network\n",
    "</h3>"
   ]
  },
  {
   "cell_type": "code",
   "execution_count": null,
   "metadata": {
    "pycharm": {
     "name": "#%%\n"
    }
   },
   "outputs": [
    {
     "name": "stdout",
     "output_type": "stream",
     "text": [
      "../../../models/supernets/cifar10/resnet50\n"
     ]
    }
   ],
   "source": [
    "model = resnet50_cifar10()\n",
    "config = SampleConfig.from_json(os.path.join(MODEL_DIR, 'config.json'))\n",
    "config.device = device\n",
    "print(MODEL_DIR)\n",
    "supernet = TrainedSuperNet.from_checkpoint(model, config, os.path.join(MODEL_DIR, 'elasticity.pth'), os.path.join(MODEL_DIR, 'supernet_weights.pth'))"
   ]
  },
  {
   "attachments": {},
   "cell_type": "markdown",
   "metadata": {
    "pycharm": {
     "name": "#%% md\n"
    }
   },
   "source": [
    "<h3 style=\"text-align: center; background-color: rgb(36, 24, 142); color: white; border: 4px solid rgb(36, 24, 142);\n",
    "border-radius: 25px;\">Explore the Search Space\n",
    "</h3>\n",
    "\n"
   ]
  },
  {
   "cell_type": "code",
   "execution_count": null,
   "metadata": {
    "pycharm": {
     "name": "#%%\n"
    }
   },
   "outputs": [
    {
     "data": {
      "text/plain": [
       "{'width': {0: [256, 200, 152, 128],\n",
       "  1: [512, 408, 304, 256],\n",
       "  2: [1024, 816, 608, 512],\n",
       "  3: [2048, 1632, 1224, 1024],\n",
       "  4: [64, 48, 32],\n",
       "  5: [64, 48, 32],\n",
       "  6: [64, 48, 32],\n",
       "  7: [64, 48, 32],\n",
       "  8: [64, 48, 32],\n",
       "  9: [64, 48, 32],\n",
       "  10: [64, 48, 32],\n",
       "  11: [128, 96, 72, 64],\n",
       "  12: [128, 96, 72, 64],\n",
       "  13: [128, 96, 72, 64],\n",
       "  14: [128, 96, 72, 64],\n",
       "  15: [128, 96, 72, 64],\n",
       "  16: [128, 96, 72, 64],\n",
       "  17: [128, 96, 72, 64],\n",
       "  18: [128, 96, 72, 64],\n",
       "  19: [256, 200, 152, 128],\n",
       "  20: [256, 200, 152, 128],\n",
       "  21: [256, 200, 152, 128],\n",
       "  22: [256, 200, 152, 128],\n",
       "  23: [256, 200, 152, 128],\n",
       "  24: [256, 200, 152, 128],\n",
       "  25: [256, 200, 152, 128],\n",
       "  26: [256, 200, 152, 128],\n",
       "  27: [256, 200, 152, 128],\n",
       "  28: [256, 200, 152, 128],\n",
       "  29: [256, 200, 152, 128],\n",
       "  30: [256, 200, 152, 128],\n",
       "  31: [512, 408, 304, 256],\n",
       "  32: [512, 408, 304, 256],\n",
       "  33: [512, 408, 304, 256],\n",
       "  34: [512, 408, 304, 256],\n",
       "  35: [512, 408, 304, 256],\n",
       "  36: [512, 408, 304, 256]},\n",
       " 'depth': [[0],\n",
       "  [2],\n",
       "  [4],\n",
       "  [5],\n",
       "  [0, 2],\n",
       "  [0, 4],\n",
       "  [0, 5],\n",
       "  [1, 2],\n",
       "  [2, 4],\n",
       "  [2, 5],\n",
       "  [3, 4],\n",
       "  [4, 5],\n",
       "  [0, 1, 2],\n",
       "  [0, 2, 4],\n",
       "  [0, 2, 5],\n",
       "  [0, 3, 4],\n",
       "  [0, 4, 5],\n",
       "  [1, 2, 4],\n",
       "  [1, 2, 5],\n",
       "  [2, 3, 4],\n",
       "  [2, 4, 5],\n",
       "  [3, 4, 5],\n",
       "  [0, 1, 2, 4],\n",
       "  [0, 1, 2, 5],\n",
       "  [0, 2, 3, 4],\n",
       "  [0, 2, 4, 5],\n",
       "  [0, 3, 4, 5],\n",
       "  [1, 2, 3, 4],\n",
       "  [1, 2, 4, 5],\n",
       "  [2, 3, 4, 5],\n",
       "  [0, 1, 2, 3, 4],\n",
       "  [0, 1, 2, 4, 5],\n",
       "  [0, 2, 3, 4, 5],\n",
       "  [1, 2, 3, 4, 5],\n",
       "  [0, 1, 2, 3, 4, 5],\n",
       "  []]}"
      ]
     },
     "execution_count": 3,
     "metadata": {},
     "output_type": "execute_result"
    }
   ],
   "source": [
    "supernet.get_search_space()"
   ]
  },
  {
   "attachments": {},
   "cell_type": "markdown",
   "metadata": {
    "pycharm": {
     "name": "#%% md\n"
    }
   },
   "source": [
    "<h3 style=\"text-align: center; background-color: rgb(36, 24, 142); color: white; border: 4px solid rgb(36, 24, 142);\n",
    "border-radius: 25px;\">Data Loaders for validation and batchnorm adaptation\n",
    "</h3>\n",
    "\n",
    "Note: Number of samples used for Batch Norm Adaptation might greatly influence the top1 evaluation for each subnetwork.\n",
    "`6000` is a good value for ResNet-50 CIFAR10, but it is advised to perform an ablation study for each new architecture to identify the best number of samples."
   ]
  },
  {
   "cell_type": "code",
   "execution_count": null,
   "metadata": {
    "pycharm": {
     "name": "#%%\n"
    }
   },
   "outputs": [],
   "source": [
    "DATASET_DIR = DATA_DIR / \"cifar10\"\n",
    "\n",
    "batch_size_val = 1000\n",
    "batch_size = 64\n",
    "train_loader, val_loader = create_cifar10_dataloader(DATASET_DIR, batch_size, batch_size_val, device)\n",
    "\n",
    "bn_adapt_args = BNAdaptationInitArgs(data_loader=wrap_dataloader_for_init(train_loader), device=config.device)\n",
    "\n",
    "bn_adapt_algo_kwargs = {\n",
    "    'data_loader': train_loader,\n",
    "    'num_bn_adaptation_samples': 6000,\n",
    "    'device': 'cuda',\n",
    "}\n",
    "bn_adaptation = BatchnormAdaptationAlgorithm(**bn_adapt_algo_kwargs)"
   ]
  },
  {
   "attachments": {},
   "cell_type": "markdown",
   "metadata": {
    "pycharm": {
     "name": "#%% md\n"
    }
   },
   "source": [
    "<h3 style=\"text-align: center; background-color: rgb(36, 24, 142); color: white; border: 4px solid rgb(36, 24, 142);\n",
    "border-radius: 25px;\">Sample sub-networks to implement your own algorithm\n",
    "</h3>\n"
   ]
  },
  {
   "cell_type": "code",
   "execution_count": null,
   "metadata": {
    "pycharm": {
     "name": "#%%\n"
    }
   },
   "outputs": [
    {
     "name": "stdout",
     "output_type": "stream",
     "text": [
      "Test: [ 0/10]\tTime 0.671 (0.671)\tLoss 0.314 (0.314)\tAcc@1 93.30 (93.30)\tAcc@5 99.00 (99.00)\n",
      " * Acc@1 93.660 Acc@5 98.990\n"
     ]
    },
    {
     "data": {
      "text/plain": [
       "array(93.659996, dtype=float32)"
      ]
     },
     "execution_count": 5,
     "metadata": {},
     "output_type": "execute_result"
    }
   ],
   "source": [
    "# Implement your function to validate \n",
    "\n",
    "def acc_top1(model):\n",
    "    from bootstrapnas_utils import validate\n",
    "\n",
    "    bn_adaptation.run(model)\n",
    "\n",
    "    model.eval()\n",
    "    model.to(device)\n",
    "    model_top1_acc, _, _ = validate(model, val_loader)\n",
    "    return model_top1_acc.detach().cpu().numpy()\n",
    "\n",
    "supernet.activate_maximal_subnet()\n",
    "supernet.eval_active_subnet(acc_top1)"
   ]
  },
  {
   "cell_type": "code",
   "execution_count": null,
   "metadata": {
    "pycharm": {
     "name": "#%%\n"
    }
   },
   "outputs": [
    {
     "name": "stdout",
     "output_type": "stream",
     "text": [
      "Test: [ 0/10]\tTime 0.605 (0.605)\tLoss 0.313 (0.313)\tAcc@1 93.40 (93.40)\tAcc@5 98.90 (98.90)\n",
      " * Acc@1 93.670 Acc@5 99.030\n"
     ]
    },
    {
     "data": {
      "text/plain": [
       "array(93.67, dtype=float32)"
      ]
     },
     "execution_count": 6,
     "metadata": {},
     "output_type": "execute_result"
    }
   ],
   "source": [
    "subnet_config = SubnetConfig()\n",
    "subnet_config[ElasticityDim.DEPTH] = [1]\n",
    "\n",
    "supernet.eval_subnet(subnet_config, acc_top1)"
   ]
  },
  {
   "cell_type": "code",
   "execution_count": null,
   "metadata": {
    "pycharm": {
     "name": "#%%\n"
    }
   },
   "outputs": [
    {
     "data": {
      "text/plain": [
       "325.799936"
      ]
     },
     "execution_count": 7,
     "metadata": {},
     "output_type": "execute_result"
    }
   ],
   "source": [
    "supernet.activate_config(supernet.get_search_space())\n",
    "supernet.get_macs_for_active_config()"
   ]
  },
  {
   "cell_type": "code",
   "execution_count": null,
   "metadata": {
    "pycharm": {
     "name": "#%%\n"
    }
   },
   "outputs": [
    {
     "data": {
      "text/plain": [
       "325.799936"
      ]
     },
     "execution_count": 8,
     "metadata": {},
     "output_type": "execute_result"
    }
   ],
   "source": [
    "supernet.activate_config(supernet.get_search_space())\n",
    "supernet.get_macs_for_active_config()"
   ]
  },
  {
   "cell_type": "code",
   "execution_count": null,
   "metadata": {
    "pycharm": {
     "name": "#%%\n"
    }
   },
   "outputs": [
    {
     "data": {
      "text/plain": [
       "272.32256"
      ]
     },
     "execution_count": 9,
     "metadata": {},
     "output_type": "execute_result"
    }
   ],
   "source": [
    "subnet_config[ElasticityDim.DEPTH] = [0]\n",
    "subnet_config[ElasticityDim.WIDTH] = {2: 512}\n",
    "\n",
    "supernet.activate_config(subnet_config)\n",
    "supernet.get_macs_for_active_config()"
   ]
  },
  {
   "cell_type": "code",
   "execution_count": null,
   "metadata": {
    "pycharm": {
     "name": "#%%\n"
    }
   },
   "outputs": [
    {
     "data": {
      "text/plain": [
       "OrderedDict([(<ElasticityDim.WIDTH: 'width'>,\n",
       "              {0: 256,\n",
       "               1: 512,\n",
       "               2: 512,\n",
       "               3: 2048,\n",
       "               4: 64,\n",
       "               5: 64,\n",
       "               6: 64,\n",
       "               7: 64,\n",
       "               8: 64,\n",
       "               9: 64,\n",
       "               10: 64,\n",
       "               11: 128,\n",
       "               12: 128,\n",
       "               13: 128,\n",
       "               14: 128,\n",
       "               15: 128,\n",
       "               16: 128,\n",
       "               17: 128,\n",
       "               18: 128,\n",
       "               19: 256,\n",
       "               20: 256,\n",
       "               21: 256,\n",
       "               22: 256,\n",
       "               23: 256,\n",
       "               24: 256,\n",
       "               25: 256,\n",
       "               26: 256,\n",
       "               27: 256,\n",
       "               28: 256,\n",
       "               29: 256,\n",
       "               30: 256,\n",
       "               31: 512,\n",
       "               32: 512,\n",
       "               33: 512,\n",
       "               34: 512,\n",
       "               35: 512,\n",
       "               36: 512}),\n",
       "             (<ElasticityDim.DEPTH: 'depth'>, [0])])"
      ]
     },
     "execution_count": 10,
     "metadata": {},
     "output_type": "execute_result"
    }
   ],
   "source": [
    "supernet.get_active_config()"
   ]
  },
  {
   "cell_type": "code",
   "execution_count": null,
   "metadata": {
    "pycharm": {
     "name": "#%%\n"
    }
   },
   "outputs": [
    {
     "name": "stdout",
     "output_type": "stream",
     "text": [
      "Test: [ 0/10]\tTime 0.572 (0.572)\tLoss 0.329 (0.329)\tAcc@1 92.70 (92.70)\tAcc@5 98.80 (98.80)\n",
      " * Acc@1 93.740 Acc@5 98.950\n"
     ]
    },
    {
     "data": {
      "text/plain": [
       "array(93.74, dtype=float32)"
      ]
     },
     "execution_count": 11,
     "metadata": {},
     "output_type": "execute_result"
    }
   ],
   "source": [
    "supernet.eval_subnet(subnet_config, acc_top1)"
   ]
  },
  {
   "attachments": {},
   "cell_type": "markdown",
   "metadata": {
    "pycharm": {
     "name": "#%% md\n"
    }
   },
   "source": [
    "<h3 style=\"text-align: center; background-color: rgb(36, 24, 142); color: white; border: 4px solid rgb(36, 24, 142);\n",
    "border-radius: 25px;\">Search using DyNAS-T\n",
    "</h3>\n",
    "\n",
    "![DyNAS-T Logo](https://github.com/IntelLabs/DyNAS-T/blob/main/docs/images/dynast_logo.png?raw=true)\n",
    "\n",
    "DyNAS-T (Dynamic Neural Architecture Search Toolkit) is a super-network neural architecture search NAS optimization package designed for efficiently discovering optimal deep neural network (DNN) architectures for a variety of performance objectives such as accuracy, latency, multiply-and-accumulates, and model size.\n",
    "\n",
    "To install DyNAS-T you can either install it from PyPI or from source:\n",
    "\n",
    "1. PyPI: In your active Python environment install DyNAS-T with:\n",
    "    ```bash\n",
    "    pip install dynast\n",
    "    ```\n",
    "1. Source: Clone DyNAS-T repository with:\n",
    "    ```bash\n",
    "    git clone https://github.com/IntelLabs/DyNAS-T.git\n",
    "    ``` \n",
    "    and from the cloned repository run\n",
    "    ```bash\n",
    "    pip install -e .\n",
    "    ```\n",
    "\n",
    "DyNAS-T is compatible with supernetworks created with the NNCF BootstrapNAS. The search on NNCF BootstrapNAS supernetworks can be performed in just few steps, as shown below."
   ]
  },
  {
   "cell_type": "code",
   "execution_count": null,
   "metadata": {
    "pycharm": {
     "name": "#%%\n"
    }
   },
   "outputs": [
    {
     "name": "stderr",
     "output_type": "stream",
     "text": [
      "[07-10 13:25:42 MainProcess #37389] INFO  text_to_speech.py:34 - Please install tensorboardX: pip install tensorboardX\n",
      "[07-10 13:25:43 MainProcess #37389] INFO  dynast_manager.py:50 - ========================================\n",
      "[07-10 13:25:43 MainProcess #37389] INFO  dynast_manager.py:51 - Starting Dynamic NAS Toolkit (DyNAS-T)\n",
      "[07-10 13:25:43 MainProcess #37389] INFO  dynast_manager.py:52 - ========================================\n",
      "[07-10 13:25:43 MainProcess #37389] INFO  dynast_manager.py:76 - ----------------------------------------\n",
      "[07-10 13:25:43 MainProcess #37389] INFO  dynast_manager.py:77 - DyNAS Parameter Inputs:\n",
      "[07-10 13:25:43 MainProcess #37389] INFO  dynast_manager.py:79 - results_path: bootstrapnas_resnet50_cifar10_linas_test_nb_1.csv\n",
      "[07-10 13:25:43 MainProcess #37389] INFO  dynast_manager.py:79 - num_evals: 250\n",
      "[07-10 13:25:43 MainProcess #37389] INFO  dynast_manager.py:79 - population: 50\n",
      "[07-10 13:25:43 MainProcess #37389] INFO  dynast_manager.py:79 - seed: 42\n",
      "[07-10 13:25:43 MainProcess #37389] INFO  dynast_manager.py:79 - supernet: bootstrapnas_image_classification\n",
      "[07-10 13:25:43 MainProcess #37389] INFO  dynast_manager.py:79 - batch_size: 64\n",
      "[07-10 13:25:43 MainProcess #37389] INFO  dynast_manager.py:79 - bootstrapnas_supernetwork: <nncf.experimental.torch.nas.bootstrapNAS.search.supernet.TrainedSuperNet object at 0x7f041bbcaca0>\n",
      "[07-10 13:25:43 MainProcess #37389] INFO  dynast_manager.py:79 - device: cuda\n",
      "[07-10 13:25:43 MainProcess #37389] INFO  dynast_manager.py:79 - verbose: False\n",
      "[07-10 13:25:43 MainProcess #37389] INFO  dynast_manager.py:79 - optimization_metrics: ['accuracy_top1', 'macs']\n",
      "[07-10 13:25:43 MainProcess #37389] INFO  dynast_manager.py:79 - measurements: ['accuracy_top1', 'macs']\n",
      "[07-10 13:25:43 MainProcess #37389] INFO  dynast_manager.py:79 - metric_eval_fns: {'accuracy_top1': <function acc_top1 at 0x7f041b97dd30>}\n",
      "[07-10 13:25:43 MainProcess #37389] INFO  dynast_manager.py:79 - search_tactic: linas\n",
      "[07-10 13:25:43 MainProcess #37389] INFO  dynast_manager.py:80 - ----------------------------------------\n",
      "[07-10 13:25:43 MainProcess #37389] INFO  dynast_manager.py:95 - Initializing DyNAS LINAS algorithm object.\n",
      "[07-10 13:25:43 MainProcess #37389] INFO  search_tactic.py:176 - Results csv file header ordering will be: ['Sub-network', 'Date', 'Model Parameters', 'Latency (ms)', 'MACs', 'Top-1 Acc (%)']\n"
     ]
    }
   ],
   "source": [
    "from dynast.dynast_manager import DyNAS\n",
    "\n",
    "dynast_config = {\n",
    "    'results_path': 'bootstrapnas_resnet50_cifar10_linas_test_nb_1.csv',\n",
    "    'num_evals': 250,\n",
    "    'population': 50,\n",
    "    'seed': 42,\n",
    "    'supernet': 'bootstrapnas_image_classification',  # this parameter works in a tangent with `bootstrapnas_supernetwork` and should be set to `bootstrapnas_image_classification` for all CNN BootstrapNAS supernetworks;\n",
    "    'batch_size': config.batch_size,\n",
    "    'bootstrapnas_supernetwork': supernet,  # pass the instance of nncf.experimental.torch.nas.bootstrapNAS.search.supernet.TrainedSuperNet to the search algorithm;\n",
    "    'device': config.device,\n",
    "    'verbose': False,\n",
    "    'optimization_metrics': ['accuracy_top1', 'macs'],  # define optimization metrics that will guide the search progression;\n",
    "    'measurements': ['accuracy_top1', 'macs'],  # define measurements that will be collected during the search; This is a superset of optimization metrics;\n",
    "    'metric_eval_fns': {\n",
    "        'accuracy_top1': acc_top1,  # register custom evaluation function;\n",
    "    }\n",
    "}\n",
    "\n",
    "dynas = DyNAS(**dynast_config)"
   ]
  },
  {
   "cell_type": "code",
   "execution_count": null,
   "metadata": {},
   "outputs": [
    {
     "name": "stderr",
     "output_type": "stream",
     "text": [
      "[07-10 13:25:43 MainProcess #37389] INFO  evaluation_interface.py:49 - (Re)Formatted results file: bootstrapnas_resnet50_cifar10_linas_test_nb_1.csv\n",
      "[07-10 13:25:43 MainProcess #37389] INFO  evaluation_interface.py:50 - csv file header: ['Sub-network', 'Date', 'Model Parameters', 'Latency (ms)', 'MACs', 'Top-1 Acc (%)']\n",
      "[07-10 13:25:43 MainProcess #37389] INFO  search_tactic.py:363 - Starting LINAS loop 1 of 5.\n",
      "[07-10 13:25:43 MainProcess #37389] INFO  search_tactic.py:367 - Evaluating subnetwork 1/50 in loop 1 of 5\n"
     ]
    },
    {
     "name": "stdout",
     "output_type": "stream",
     "text": [
      "Test: [ 0/10]\tTime 0.550 (0.550)\tLoss 0.340 (0.340)\tAcc@1 92.70 (92.70)\tAcc@5 98.90 (98.90)\n",
      " * Acc@1 93.070 Acc@5 99.210\n"
     ]
    },
    {
     "name": "stderr",
     "output_type": "stream",
     "text": [
      "[07-10 13:25:53 MainProcess #37389] INFO  search_tactic.py:367 - Evaluating subnetwork 2/50 in loop 1 of 5\n"
     ]
    },
    {
     "name": "stdout",
     "output_type": "stream",
     "text": [
      "Test: [ 0/10]\tTime 0.590 (0.590)\tLoss 0.334 (0.334)\tAcc@1 93.10 (93.10)\tAcc@5 99.10 (99.10)\n",
      " * Acc@1 93.690 Acc@5 99.330\n"
     ]
    },
    {
     "name": "stderr",
     "output_type": "stream",
     "text": [
      "[07-10 13:26:04 MainProcess #37389] INFO  search_tactic.py:367 - Evaluating subnetwork 3/50 in loop 1 of 5\n"
     ]
    },
    {
     "name": "stdout",
     "output_type": "stream",
     "text": [
      "Test: [ 0/10]\tTime 0.577 (0.577)\tLoss 0.354 (0.354)\tAcc@1 92.70 (92.70)\tAcc@5 98.70 (98.70)\n",
      " * Acc@1 92.930 Acc@5 99.050\n"
     ]
    },
    {
     "name": "stderr",
     "output_type": "stream",
     "text": [
      "[07-10 13:26:15 MainProcess #37389] INFO  search_tactic.py:367 - Evaluating subnetwork 4/50 in loop 1 of 5\n"
     ]
    },
    {
     "name": "stdout",
     "output_type": "stream",
     "text": [
      "Test: [ 0/10]\tTime 0.626 (0.626)\tLoss 0.336 (0.336)\tAcc@1 92.50 (92.50)\tAcc@5 99.40 (99.40)\n",
      " * Acc@1 93.080 Acc@5 99.500\n"
     ]
    },
    {
     "name": "stderr",
     "output_type": "stream",
     "text": [
      "[07-10 13:26:25 MainProcess #37389] INFO  search_tactic.py:367 - Evaluating subnetwork 5/50 in loop 1 of 5\n"
     ]
    },
    {
     "name": "stdout",
     "output_type": "stream",
     "text": [
      "Test: [ 0/10]\tTime 0.604 (0.604)\tLoss 0.337 (0.337)\tAcc@1 92.60 (92.60)\tAcc@5 98.90 (98.90)\n",
      " * Acc@1 93.370 Acc@5 99.280\n"
     ]
    },
    {
     "name": "stderr",
     "output_type": "stream",
     "text": [
      "[07-10 13:26:35 MainProcess #37389] INFO  search_tactic.py:367 - Evaluating subnetwork 6/50 in loop 1 of 5\n"
     ]
    },
    {
     "name": "stdout",
     "output_type": "stream",
     "text": [
      "Test: [ 0/10]\tTime 0.602 (0.602)\tLoss 0.351 (0.351)\tAcc@1 92.70 (92.70)\tAcc@5 99.10 (99.10)\n",
      " * Acc@1 93.280 Acc@5 99.220\n"
     ]
    },
    {
     "name": "stderr",
     "output_type": "stream",
     "text": [
      "[07-10 13:26:45 MainProcess #37389] INFO  search_tactic.py:367 - Evaluating subnetwork 7/50 in loop 1 of 5\n"
     ]
    },
    {
     "name": "stdout",
     "output_type": "stream",
     "text": [
      "Test: [ 0/10]\tTime 0.591 (0.591)\tLoss 0.346 (0.346)\tAcc@1 92.30 (92.30)\tAcc@5 99.00 (99.00)\n",
      " * Acc@1 93.230 Acc@5 99.230\n"
     ]
    },
    {
     "name": "stderr",
     "output_type": "stream",
     "text": [
      "[07-10 13:26:55 MainProcess #37389] INFO  search_tactic.py:367 - Evaluating subnetwork 8/50 in loop 1 of 5\n"
     ]
    },
    {
     "name": "stdout",
     "output_type": "stream",
     "text": [
      "Test: [ 0/10]\tTime 0.632 (0.632)\tLoss 0.340 (0.340)\tAcc@1 92.70 (92.70)\tAcc@5 99.30 (99.30)\n",
      " * Acc@1 93.440 Acc@5 99.440\n"
     ]
    },
    {
     "name": "stderr",
     "output_type": "stream",
     "text": [
      "[07-10 13:27:05 MainProcess #37389] INFO  search_tactic.py:367 - Evaluating subnetwork 9/50 in loop 1 of 5\n"
     ]
    },
    {
     "name": "stdout",
     "output_type": "stream",
     "text": [
      "Test: [ 0/10]\tTime 0.581 (0.581)\tLoss 0.338 (0.338)\tAcc@1 92.70 (92.70)\tAcc@5 98.90 (98.90)\n",
      " * Acc@1 93.430 Acc@5 99.210\n"
     ]
    },
    {
     "name": "stderr",
     "output_type": "stream",
     "text": [
      "[07-10 13:27:15 MainProcess #37389] INFO  search_tactic.py:367 - Evaluating subnetwork 10/50 in loop 1 of 5\n"
     ]
    },
    {
     "name": "stdout",
     "output_type": "stream",
     "text": [
      "Test: [ 0/10]\tTime 0.581 (0.581)\tLoss 0.339 (0.339)\tAcc@1 92.80 (92.80)\tAcc@5 99.30 (99.30)\n",
      " * Acc@1 93.630 Acc@5 99.470\n"
     ]
    },
    {
     "name": "stderr",
     "output_type": "stream",
     "text": [
      "[07-10 13:27:25 MainProcess #37389] INFO  search_tactic.py:367 - Evaluating subnetwork 11/50 in loop 1 of 5\n"
     ]
    },
    {
     "name": "stdout",
     "output_type": "stream",
     "text": [
      "Test: [ 0/10]\tTime 0.597 (0.597)\tLoss 0.332 (0.332)\tAcc@1 93.40 (93.40)\tAcc@5 98.80 (98.80)\n",
      " * Acc@1 93.660 Acc@5 99.020\n"
     ]
    },
    {
     "name": "stderr",
     "output_type": "stream",
     "text": [
      "[07-10 13:27:37 MainProcess #37389] INFO  search_tactic.py:367 - Evaluating subnetwork 12/50 in loop 1 of 5\n"
     ]
    },
    {
     "name": "stdout",
     "output_type": "stream",
     "text": [
      "Test: [ 0/10]\tTime 0.660 (0.660)\tLoss 0.344 (0.344)\tAcc@1 92.70 (92.70)\tAcc@5 99.10 (99.10)\n",
      " * Acc@1 93.370 Acc@5 99.130\n"
     ]
    },
    {
     "name": "stderr",
     "output_type": "stream",
     "text": [
      "[07-10 13:27:48 MainProcess #37389] INFO  search_tactic.py:367 - Evaluating subnetwork 13/50 in loop 1 of 5\n"
     ]
    },
    {
     "name": "stdout",
     "output_type": "stream",
     "text": [
      "Test: [ 0/10]\tTime 0.590 (0.590)\tLoss 0.351 (0.351)\tAcc@1 92.70 (92.70)\tAcc@5 98.90 (98.90)\n",
      " * Acc@1 93.050 Acc@5 99.160\n"
     ]
    },
    {
     "name": "stderr",
     "output_type": "stream",
     "text": [
      "[07-10 13:27:58 MainProcess #37389] INFO  search_tactic.py:367 - Evaluating subnetwork 14/50 in loop 1 of 5\n"
     ]
    },
    {
     "name": "stdout",
     "output_type": "stream",
     "text": [
      "Test: [ 0/10]\tTime 0.612 (0.612)\tLoss 0.345 (0.345)\tAcc@1 92.90 (92.90)\tAcc@5 99.20 (99.20)\n",
      " * Acc@1 93.090 Acc@5 99.220\n"
     ]
    },
    {
     "name": "stderr",
     "output_type": "stream",
     "text": [
      "[07-10 13:28:09 MainProcess #37389] INFO  search_tactic.py:367 - Evaluating subnetwork 15/50 in loop 1 of 5\n"
     ]
    },
    {
     "name": "stdout",
     "output_type": "stream",
     "text": [
      "Test: [ 0/10]\tTime 0.591 (0.591)\tLoss 0.337 (0.337)\tAcc@1 92.90 (92.90)\tAcc@5 99.50 (99.50)\n",
      " * Acc@1 93.030 Acc@5 99.250\n"
     ]
    },
    {
     "name": "stderr",
     "output_type": "stream",
     "text": [
      "[07-10 13:28:19 MainProcess #37389] INFO  search_tactic.py:367 - Evaluating subnetwork 16/50 in loop 1 of 5\n"
     ]
    },
    {
     "name": "stdout",
     "output_type": "stream",
     "text": [
      "Test: [ 0/10]\tTime 0.563 (0.563)\tLoss 0.358 (0.358)\tAcc@1 91.90 (91.90)\tAcc@5 99.40 (99.40)\n",
      " * Acc@1 93.090 Acc@5 99.460\n"
     ]
    },
    {
     "name": "stderr",
     "output_type": "stream",
     "text": [
      "[07-10 13:28:29 MainProcess #37389] INFO  search_tactic.py:367 - Evaluating subnetwork 17/50 in loop 1 of 5\n"
     ]
    },
    {
     "name": "stdout",
     "output_type": "stream",
     "text": [
      "Test: [ 0/10]\tTime 0.571 (0.571)\tLoss 0.350 (0.350)\tAcc@1 92.40 (92.40)\tAcc@5 99.50 (99.50)\n",
      " * Acc@1 93.160 Acc@5 99.480\n"
     ]
    },
    {
     "name": "stderr",
     "output_type": "stream",
     "text": [
      "[07-10 13:28:38 MainProcess #37389] INFO  search_tactic.py:367 - Evaluating subnetwork 18/50 in loop 1 of 5\n"
     ]
    },
    {
     "name": "stdout",
     "output_type": "stream",
     "text": [
      "Test: [ 0/10]\tTime 0.565 (0.565)\tLoss 0.359 (0.359)\tAcc@1 92.30 (92.30)\tAcc@5 99.30 (99.30)\n",
      " * Acc@1 93.130 Acc@5 99.260\n"
     ]
    },
    {
     "name": "stderr",
     "output_type": "stream",
     "text": [
      "[07-10 13:28:48 MainProcess #37389] INFO  search_tactic.py:367 - Evaluating subnetwork 19/50 in loop 1 of 5\n"
     ]
    },
    {
     "name": "stdout",
     "output_type": "stream",
     "text": [
      "Test: [ 0/10]\tTime 0.667 (0.667)\tLoss 0.331 (0.331)\tAcc@1 93.10 (93.10)\tAcc@5 99.60 (99.60)\n",
      " * Acc@1 93.300 Acc@5 99.430\n"
     ]
    },
    {
     "name": "stderr",
     "output_type": "stream",
     "text": [
      "[07-10 13:29:01 MainProcess #37389] INFO  search_tactic.py:367 - Evaluating subnetwork 20/50 in loop 1 of 5\n"
     ]
    },
    {
     "name": "stdout",
     "output_type": "stream",
     "text": [
      "Test: [ 0/10]\tTime 0.587 (0.587)\tLoss 0.344 (0.344)\tAcc@1 92.30 (92.30)\tAcc@5 99.20 (99.20)\n",
      " * Acc@1 93.170 Acc@5 99.340\n"
     ]
    },
    {
     "name": "stderr",
     "output_type": "stream",
     "text": [
      "[07-10 13:29:11 MainProcess #37389] INFO  search_tactic.py:367 - Evaluating subnetwork 21/50 in loop 1 of 5\n"
     ]
    },
    {
     "name": "stdout",
     "output_type": "stream",
     "text": [
      "Test: [ 0/10]\tTime 0.563 (0.563)\tLoss 0.326 (0.326)\tAcc@1 92.90 (92.90)\tAcc@5 99.10 (99.10)\n",
      " * Acc@1 93.530 Acc@5 99.400\n"
     ]
    },
    {
     "name": "stderr",
     "output_type": "stream",
     "text": [
      "[07-10 13:29:21 MainProcess #37389] INFO  search_tactic.py:367 - Evaluating subnetwork 22/50 in loop 1 of 5\n"
     ]
    },
    {
     "name": "stdout",
     "output_type": "stream",
     "text": [
      "Test: [ 0/10]\tTime 0.569 (0.569)\tLoss 0.367 (0.367)\tAcc@1 92.50 (92.50)\tAcc@5 98.70 (98.70)\n",
      " * Acc@1 92.870 Acc@5 98.980\n"
     ]
    },
    {
     "name": "stderr",
     "output_type": "stream",
     "text": [
      "[07-10 13:29:31 MainProcess #37389] INFO  search_tactic.py:367 - Evaluating subnetwork 23/50 in loop 1 of 5\n"
     ]
    },
    {
     "name": "stdout",
     "output_type": "stream",
     "text": [
      "Test: [ 0/10]\tTime 0.570 (0.570)\tLoss 0.343 (0.343)\tAcc@1 92.80 (92.80)\tAcc@5 99.20 (99.20)\n",
      " * Acc@1 93.120 Acc@5 99.400\n"
     ]
    },
    {
     "name": "stderr",
     "output_type": "stream",
     "text": [
      "[07-10 13:29:41 MainProcess #37389] INFO  search_tactic.py:367 - Evaluating subnetwork 24/50 in loop 1 of 5\n"
     ]
    },
    {
     "name": "stdout",
     "output_type": "stream",
     "text": [
      "Test: [ 0/10]\tTime 0.570 (0.570)\tLoss 0.328 (0.328)\tAcc@1 92.70 (92.70)\tAcc@5 99.60 (99.60)\n",
      " * Acc@1 92.830 Acc@5 99.360\n"
     ]
    },
    {
     "name": "stderr",
     "output_type": "stream",
     "text": [
      "[07-10 13:29:51 MainProcess #37389] INFO  search_tactic.py:367 - Evaluating subnetwork 25/50 in loop 1 of 5\n"
     ]
    },
    {
     "name": "stdout",
     "output_type": "stream",
     "text": [
      "Test: [ 0/10]\tTime 0.630 (0.630)\tLoss 0.333 (0.333)\tAcc@1 92.80 (92.80)\tAcc@5 99.40 (99.40)\n",
      " * Acc@1 93.320 Acc@5 99.390\n"
     ]
    },
    {
     "name": "stderr",
     "output_type": "stream",
     "text": [
      "[07-10 13:30:01 MainProcess #37389] INFO  search_tactic.py:367 - Evaluating subnetwork 26/50 in loop 1 of 5\n"
     ]
    },
    {
     "name": "stdout",
     "output_type": "stream",
     "text": [
      "Test: [ 0/10]\tTime 0.578 (0.578)\tLoss 0.348 (0.348)\tAcc@1 93.00 (93.00)\tAcc@5 99.20 (99.20)\n",
      " * Acc@1 93.170 Acc@5 99.380\n"
     ]
    },
    {
     "name": "stderr",
     "output_type": "stream",
     "text": [
      "[07-10 13:30:11 MainProcess #37389] INFO  search_tactic.py:367 - Evaluating subnetwork 27/50 in loop 1 of 5\n"
     ]
    },
    {
     "name": "stdout",
     "output_type": "stream",
     "text": [
      "Test: [ 0/10]\tTime 0.568 (0.568)\tLoss 0.344 (0.344)\tAcc@1 92.20 (92.20)\tAcc@5 99.20 (99.20)\n",
      " * Acc@1 92.850 Acc@5 99.420\n"
     ]
    },
    {
     "name": "stderr",
     "output_type": "stream",
     "text": [
      "[07-10 13:30:20 MainProcess #37389] INFO  search_tactic.py:367 - Evaluating subnetwork 28/50 in loop 1 of 5\n"
     ]
    },
    {
     "name": "stdout",
     "output_type": "stream",
     "text": [
      "Test: [ 0/10]\tTime 0.636 (0.636)\tLoss 0.326 (0.326)\tAcc@1 93.20 (93.20)\tAcc@5 99.00 (99.00)\n",
      " * Acc@1 93.410 Acc@5 99.120\n"
     ]
    },
    {
     "name": "stderr",
     "output_type": "stream",
     "text": [
      "[07-10 13:30:30 MainProcess #37389] INFO  search_tactic.py:367 - Evaluating subnetwork 29/50 in loop 1 of 5\n"
     ]
    },
    {
     "name": "stdout",
     "output_type": "stream",
     "text": [
      "Test: [ 0/10]\tTime 0.599 (0.599)\tLoss 0.325 (0.325)\tAcc@1 93.20 (93.20)\tAcc@5 99.30 (99.30)\n",
      " * Acc@1 93.810 Acc@5 99.380\n"
     ]
    },
    {
     "name": "stderr",
     "output_type": "stream",
     "text": [
      "[07-10 13:30:40 MainProcess #37389] INFO  search_tactic.py:367 - Evaluating subnetwork 30/50 in loop 1 of 5\n"
     ]
    },
    {
     "name": "stdout",
     "output_type": "stream",
     "text": [
      "Test: [ 0/10]\tTime 0.598 (0.598)\tLoss 0.340 (0.340)\tAcc@1 93.00 (93.00)\tAcc@5 99.00 (99.00)\n",
      " * Acc@1 93.370 Acc@5 99.080\n"
     ]
    },
    {
     "name": "stderr",
     "output_type": "stream",
     "text": [
      "[07-10 13:30:51 MainProcess #37389] INFO  search_tactic.py:367 - Evaluating subnetwork 31/50 in loop 1 of 5\n"
     ]
    },
    {
     "name": "stdout",
     "output_type": "stream",
     "text": [
      "Test: [ 0/10]\tTime 0.636 (0.636)\tLoss 0.329 (0.329)\tAcc@1 93.30 (93.30)\tAcc@5 99.10 (99.10)\n",
      " * Acc@1 93.420 Acc@5 99.140\n"
     ]
    },
    {
     "name": "stderr",
     "output_type": "stream",
     "text": [
      "[07-10 13:31:02 MainProcess #37389] INFO  search_tactic.py:367 - Evaluating subnetwork 32/50 in loop 1 of 5\n"
     ]
    },
    {
     "name": "stdout",
     "output_type": "stream",
     "text": [
      "Test: [ 0/10]\tTime 0.609 (0.609)\tLoss 0.346 (0.346)\tAcc@1 92.50 (92.50)\tAcc@5 99.30 (99.30)\n",
      " * Acc@1 93.340 Acc@5 99.440\n"
     ]
    },
    {
     "name": "stderr",
     "output_type": "stream",
     "text": [
      "[07-10 13:31:13 MainProcess #37389] INFO  search_tactic.py:367 - Evaluating subnetwork 33/50 in loop 1 of 5\n"
     ]
    },
    {
     "name": "stdout",
     "output_type": "stream",
     "text": [
      "Test: [ 0/10]\tTime 0.575 (0.575)\tLoss 0.333 (0.333)\tAcc@1 93.10 (93.10)\tAcc@5 98.70 (98.70)\n",
      " * Acc@1 93.480 Acc@5 98.950\n"
     ]
    },
    {
     "name": "stderr",
     "output_type": "stream",
     "text": [
      "[07-10 13:31:24 MainProcess #37389] INFO  search_tactic.py:367 - Evaluating subnetwork 34/50 in loop 1 of 5\n"
     ]
    },
    {
     "name": "stdout",
     "output_type": "stream",
     "text": [
      "Test: [ 0/10]\tTime 0.665 (0.665)\tLoss 0.330 (0.330)\tAcc@1 92.80 (92.80)\tAcc@5 99.40 (99.40)\n",
      " * Acc@1 92.830 Acc@5 99.430\n"
     ]
    },
    {
     "name": "stderr",
     "output_type": "stream",
     "text": [
      "[07-10 13:31:33 MainProcess #37389] INFO  search_tactic.py:367 - Evaluating subnetwork 35/50 in loop 1 of 5\n"
     ]
    },
    {
     "name": "stdout",
     "output_type": "stream",
     "text": [
      "Test: [ 0/10]\tTime 0.581 (0.581)\tLoss 0.345 (0.345)\tAcc@1 92.30 (92.30)\tAcc@5 99.30 (99.30)\n",
      " * Acc@1 92.920 Acc@5 99.230\n"
     ]
    },
    {
     "name": "stderr",
     "output_type": "stream",
     "text": [
      "[07-10 13:31:43 MainProcess #37389] INFO  search_tactic.py:367 - Evaluating subnetwork 36/50 in loop 1 of 5\n"
     ]
    },
    {
     "name": "stdout",
     "output_type": "stream",
     "text": [
      "Test: [ 0/10]\tTime 0.573 (0.573)\tLoss 0.324 (0.324)\tAcc@1 93.60 (93.60)\tAcc@5 99.30 (99.30)\n",
      " * Acc@1 93.480 Acc@5 99.430\n"
     ]
    },
    {
     "name": "stderr",
     "output_type": "stream",
     "text": [
      "[07-10 13:31:54 MainProcess #37389] INFO  search_tactic.py:367 - Evaluating subnetwork 37/50 in loop 1 of 5\n"
     ]
    },
    {
     "name": "stdout",
     "output_type": "stream",
     "text": [
      "Test: [ 0/10]\tTime 0.585 (0.585)\tLoss 0.352 (0.352)\tAcc@1 92.70 (92.70)\tAcc@5 99.20 (99.20)\n",
      " * Acc@1 92.950 Acc@5 99.310\n"
     ]
    },
    {
     "name": "stderr",
     "output_type": "stream",
     "text": [
      "[07-10 13:32:04 MainProcess #37389] INFO  search_tactic.py:367 - Evaluating subnetwork 38/50 in loop 1 of 5\n"
     ]
    },
    {
     "name": "stdout",
     "output_type": "stream",
     "text": [
      "Test: [ 0/10]\tTime 0.580 (0.580)\tLoss 0.352 (0.352)\tAcc@1 92.30 (92.30)\tAcc@5 98.80 (98.80)\n",
      " * Acc@1 92.910 Acc@5 99.230\n"
     ]
    },
    {
     "name": "stderr",
     "output_type": "stream",
     "text": [
      "[07-10 13:32:13 MainProcess #37389] INFO  search_tactic.py:367 - Evaluating subnetwork 39/50 in loop 1 of 5\n"
     ]
    },
    {
     "name": "stdout",
     "output_type": "stream",
     "text": [
      "Test: [ 0/10]\tTime 0.608 (0.608)\tLoss 0.315 (0.315)\tAcc@1 93.60 (93.60)\tAcc@5 99.00 (99.00)\n",
      " * Acc@1 93.620 Acc@5 99.300\n"
     ]
    },
    {
     "name": "stderr",
     "output_type": "stream",
     "text": [
      "[07-10 13:32:23 MainProcess #37389] INFO  search_tactic.py:367 - Evaluating subnetwork 40/50 in loop 1 of 5\n"
     ]
    },
    {
     "name": "stdout",
     "output_type": "stream",
     "text": [
      "Test: [ 0/10]\tTime 0.591 (0.591)\tLoss 0.336 (0.336)\tAcc@1 92.90 (92.90)\tAcc@5 99.00 (99.00)\n",
      " * Acc@1 93.340 Acc@5 99.330\n"
     ]
    },
    {
     "name": "stderr",
     "output_type": "stream",
     "text": [
      "[07-10 13:32:34 MainProcess #37389] INFO  search_tactic.py:367 - Evaluating subnetwork 41/50 in loop 1 of 5\n"
     ]
    },
    {
     "name": "stdout",
     "output_type": "stream",
     "text": [
      "Test: [ 0/10]\tTime 0.562 (0.562)\tLoss 0.351 (0.351)\tAcc@1 92.50 (92.50)\tAcc@5 98.70 (98.70)\n",
      " * Acc@1 92.970 Acc@5 99.320\n"
     ]
    },
    {
     "name": "stderr",
     "output_type": "stream",
     "text": [
      "[07-10 13:32:44 MainProcess #37389] INFO  search_tactic.py:367 - Evaluating subnetwork 42/50 in loop 1 of 5\n"
     ]
    },
    {
     "name": "stdout",
     "output_type": "stream",
     "text": [
      "Test: [ 0/10]\tTime 0.578 (0.578)\tLoss 0.346 (0.346)\tAcc@1 92.60 (92.60)\tAcc@5 99.20 (99.20)\n",
      " * Acc@1 93.080 Acc@5 99.290\n"
     ]
    },
    {
     "name": "stderr",
     "output_type": "stream",
     "text": [
      "[07-10 13:32:54 MainProcess #37389] INFO  search_tactic.py:367 - Evaluating subnetwork 43/50 in loop 1 of 5\n"
     ]
    },
    {
     "name": "stdout",
     "output_type": "stream",
     "text": [
      "Test: [ 0/10]\tTime 0.640 (0.640)\tLoss 0.325 (0.325)\tAcc@1 92.40 (92.40)\tAcc@5 98.50 (98.50)\n",
      " * Acc@1 93.500 Acc@5 99.030\n"
     ]
    },
    {
     "name": "stderr",
     "output_type": "stream",
     "text": [
      "[07-10 13:33:05 MainProcess #37389] INFO  search_tactic.py:367 - Evaluating subnetwork 44/50 in loop 1 of 5\n"
     ]
    },
    {
     "name": "stdout",
     "output_type": "stream",
     "text": [
      "Test: [ 0/10]\tTime 0.575 (0.575)\tLoss 0.363 (0.363)\tAcc@1 92.10 (92.10)\tAcc@5 98.80 (98.80)\n",
      " * Acc@1 93.210 Acc@5 98.940\n"
     ]
    },
    {
     "name": "stderr",
     "output_type": "stream",
     "text": [
      "[07-10 13:33:16 MainProcess #37389] INFO  search_tactic.py:367 - Evaluating subnetwork 45/50 in loop 1 of 5\n"
     ]
    },
    {
     "name": "stdout",
     "output_type": "stream",
     "text": [
      "Test: [ 0/10]\tTime 0.605 (0.605)\tLoss 0.339 (0.339)\tAcc@1 92.90 (92.90)\tAcc@5 98.90 (98.90)\n",
      " * Acc@1 93.390 Acc@5 99.230\n"
     ]
    },
    {
     "name": "stderr",
     "output_type": "stream",
     "text": [
      "[07-10 13:33:27 MainProcess #37389] INFO  search_tactic.py:367 - Evaluating subnetwork 46/50 in loop 1 of 5\n"
     ]
    },
    {
     "name": "stdout",
     "output_type": "stream",
     "text": [
      "Test: [ 0/10]\tTime 0.552 (0.552)\tLoss 0.348 (0.348)\tAcc@1 92.40 (92.40)\tAcc@5 99.10 (99.10)\n",
      " * Acc@1 93.060 Acc@5 99.470\n"
     ]
    },
    {
     "name": "stderr",
     "output_type": "stream",
     "text": [
      "[07-10 13:33:36 MainProcess #37389] INFO  search_tactic.py:367 - Evaluating subnetwork 47/50 in loop 1 of 5\n"
     ]
    },
    {
     "name": "stdout",
     "output_type": "stream",
     "text": [
      "Test: [ 0/10]\tTime 0.562 (0.562)\tLoss 0.323 (0.323)\tAcc@1 93.30 (93.30)\tAcc@5 99.70 (99.70)\n",
      " * Acc@1 93.160 Acc@5 99.270\n"
     ]
    },
    {
     "name": "stderr",
     "output_type": "stream",
     "text": [
      "[07-10 13:33:47 MainProcess #37389] INFO  search_tactic.py:367 - Evaluating subnetwork 48/50 in loop 1 of 5\n"
     ]
    },
    {
     "name": "stdout",
     "output_type": "stream",
     "text": [
      "Test: [ 0/10]\tTime 0.573 (0.573)\tLoss 0.341 (0.341)\tAcc@1 92.60 (92.60)\tAcc@5 99.30 (99.30)\n",
      " * Acc@1 93.160 Acc@5 99.490\n"
     ]
    },
    {
     "name": "stderr",
     "output_type": "stream",
     "text": [
      "[07-10 13:33:56 MainProcess #37389] INFO  search_tactic.py:367 - Evaluating subnetwork 49/50 in loop 1 of 5\n"
     ]
    },
    {
     "name": "stdout",
     "output_type": "stream",
     "text": [
      "Test: [ 0/10]\tTime 0.610 (0.610)\tLoss 0.350 (0.350)\tAcc@1 92.70 (92.70)\tAcc@5 99.20 (99.20)\n",
      " * Acc@1 93.200 Acc@5 99.280\n"
     ]
    },
    {
     "name": "stderr",
     "output_type": "stream",
     "text": [
      "[07-10 13:34:07 MainProcess #37389] INFO  search_tactic.py:367 - Evaluating subnetwork 50/50 in loop 1 of 5\n"
     ]
    },
    {
     "name": "stdout",
     "output_type": "stream",
     "text": [
      "Test: [ 0/10]\tTime 0.538 (0.538)\tLoss 0.346 (0.346)\tAcc@1 92.80 (92.80)\tAcc@5 99.40 (99.40)\n",
      " * Acc@1 93.060 Acc@5 99.380\n"
     ]
    },
    {
     "name": "stderr",
     "output_type": "stream",
     "text": [
      "[07-10 13:34:16 MainProcess #37389] INFO  search_tactic.py:345 - Training macs predictor.\n",
      "[07-10 13:34:16 MainProcess #37389] INFO  predictor_manager.py:38 - Building dynamic predictor for macs\n",
      "[07-10 13:34:16 MainProcess #37389] INFO  encoding.py:246 - Training set length=50\n"
     ]
    },
    {
     "name": "stdout",
     "output_type": "stream",
     "text": [
      "<class 'numpy.ndarray'> [149483360 155416000 146617920 135824440 170094680 132495808 167993472\n",
      " 146776736 136530456 139849024 165578272 148014816 122450336 144706496\n",
      " 155187424 131232440 130957952 121358552 149261024 182971264 135725688\n",
      " 135642400 110506112 136215096 146253056 119942296 127610976 147374048\n",
      " 174712224 162536960 154896704 143585984 177298880 107814784 124325144\n",
      " 136489024 151172384 135475360 165484768 175552864 130767040 123315992\n",
      " 187153504 148161888 128757344 124488448 153922880 136189760 135275136\n",
      "  95862336]\n"
     ]
    },
    {
     "name": "stderr",
     "output_type": "stream",
     "text": [
      "[07-10 13:34:22 MainProcess #37389] INFO  search_tactic.py:347 - Updated self.predictor_dict[macs].\n",
      "[07-10 13:34:22 MainProcess #37389] INFO  search_tactic.py:345 - Training accuracy_top1 predictor.\n",
      "[07-10 13:34:22 MainProcess #37389] INFO  predictor_manager.py:38 - Building dynamic predictor for accuracy_top1\n",
      "[07-10 13:34:22 MainProcess #37389] INFO  encoding.py:246 - Training set length=50\n"
     ]
    },
    {
     "name": "stdout",
     "output_type": "stream",
     "text": [
      "<class 'numpy.ndarray'> [93.07     93.689995 92.93     93.079994 93.369995 93.28     93.229996\n",
      " 93.439995 93.43     93.63     93.659996 93.369995 93.049995 93.09\n",
      " 93.03     93.09     93.159996 93.13     93.299995 93.17     93.53\n",
      " 92.869995 93.119995 92.829994 93.32     93.17     92.85     93.409996\n",
      " 93.81     93.369995 93.42     93.34     93.479996 92.829994 92.92\n",
      " 93.479996 92.95     92.909996 93.619995 93.34     92.97     93.079994\n",
      " 93.5      93.21     93.39     93.06     93.159996 93.159996 93.2\n",
      " 93.06    ]\n"
     ]
    },
    {
     "name": "stderr",
     "output_type": "stream",
     "text": [
      "[07-10 13:34:23 MainProcess #37389] INFO  search_tactic.py:347 - Updated self.predictor_dict[accuracy_top1].\n",
      "[07-10 13:34:23 MainProcess #37389] INFO  evolutionary.py:100 - Configuring nsga2 algorithm with 2 objectives.\n",
      "[07-10 13:34:23 MainProcess #37389] INFO  evolutionary.py:334 - Running Search ...\n"
     ]
    },
    {
     "name": "stdout",
     "output_type": "stream",
     "text": [
      "...................................................................................................."
     ]
    },
    {
     "name": "stderr",
     "output_type": "stream",
     "text": [
      "[07-10 13:34:26 MainProcess #37389] INFO  evolutionary.py:350 - Success! Search Took 3.427 seconds.\n",
      "[07-10 13:34:26 MainProcess #37389] INFO  search_tactic.py:363 - Starting LINAS loop 2 of 5.\n",
      "[07-10 13:34:26 MainProcess #37389] INFO  search_tactic.py:367 - Evaluating subnetwork 1/50 in loop 2 of 5\n"
     ]
    },
    {
     "name": "stdout",
     "output_type": "stream",
     "text": [
      "Test: [ 0/10]\tTime 0.568 (0.568)\tLoss 0.343 (0.343)\tAcc@1 92.90 (92.90)\tAcc@5 99.20 (99.20)\n",
      " * Acc@1 93.160 Acc@5 99.430\n"
     ]
    },
    {
     "name": "stderr",
     "output_type": "stream",
     "text": [
      "[07-10 13:34:37 MainProcess #37389] INFO  search_tactic.py:367 - Evaluating subnetwork 2/50 in loop 2 of 5\n"
     ]
    },
    {
     "name": "stdout",
     "output_type": "stream",
     "text": [
      "Test: [ 0/10]\tTime 0.618 (0.618)\tLoss 0.328 (0.328)\tAcc@1 93.20 (93.20)\tAcc@5 99.10 (99.10)\n",
      " * Acc@1 93.430 Acc@5 99.400\n"
     ]
    },
    {
     "name": "stderr",
     "output_type": "stream",
     "text": [
      "[07-10 13:34:47 MainProcess #37389] INFO  search_tactic.py:367 - Evaluating subnetwork 3/50 in loop 2 of 5\n"
     ]
    },
    {
     "name": "stdout",
     "output_type": "stream",
     "text": [
      "Test: [ 0/10]\tTime 0.560 (0.560)\tLoss 0.323 (0.323)\tAcc@1 93.20 (93.20)\tAcc@5 99.30 (99.30)\n",
      " * Acc@1 93.640 Acc@5 99.500\n"
     ]
    },
    {
     "name": "stderr",
     "output_type": "stream",
     "text": [
      "[07-10 13:34:58 MainProcess #37389] INFO  search_tactic.py:367 - Evaluating subnetwork 4/50 in loop 2 of 5\n"
     ]
    },
    {
     "name": "stdout",
     "output_type": "stream",
     "text": [
      "Test: [ 0/10]\tTime 0.606 (0.606)\tLoss 0.326 (0.326)\tAcc@1 93.10 (93.10)\tAcc@5 99.40 (99.40)\n",
      " * Acc@1 93.600 Acc@5 99.500\n"
     ]
    },
    {
     "name": "stderr",
     "output_type": "stream",
     "text": [
      "[07-10 13:35:08 MainProcess #37389] INFO  search_tactic.py:367 - Evaluating subnetwork 5/50 in loop 2 of 5\n"
     ]
    },
    {
     "name": "stdout",
     "output_type": "stream",
     "text": [
      "Test: [ 0/10]\tTime 0.573 (0.573)\tLoss 0.328 (0.328)\tAcc@1 93.00 (93.00)\tAcc@5 99.20 (99.20)\n",
      " * Acc@1 93.510 Acc@5 99.490\n"
     ]
    },
    {
     "name": "stderr",
     "output_type": "stream",
     "text": [
      "[07-10 13:35:19 MainProcess #37389] INFO  search_tactic.py:367 - Evaluating subnetwork 6/50 in loop 2 of 5\n"
     ]
    },
    {
     "name": "stdout",
     "output_type": "stream",
     "text": [
      "Test: [ 0/10]\tTime 0.590 (0.590)\tLoss 0.328 (0.328)\tAcc@1 92.80 (92.80)\tAcc@5 99.20 (99.20)\n",
      " * Acc@1 93.500 Acc@5 99.420\n"
     ]
    },
    {
     "name": "stderr",
     "output_type": "stream",
     "text": [
      "[07-10 13:35:29 MainProcess #37389] INFO  search_tactic.py:367 - Evaluating subnetwork 7/50 in loop 2 of 5\n"
     ]
    },
    {
     "name": "stdout",
     "output_type": "stream",
     "text": [
      "Test: [ 0/10]\tTime 0.595 (0.595)\tLoss 0.333 (0.333)\tAcc@1 93.10 (93.10)\tAcc@5 99.40 (99.40)\n",
      " * Acc@1 93.110 Acc@5 99.470\n"
     ]
    },
    {
     "name": "stderr",
     "output_type": "stream",
     "text": [
      "[07-10 13:35:39 MainProcess #37389] INFO  search_tactic.py:367 - Evaluating subnetwork 8/50 in loop 2 of 5\n"
     ]
    },
    {
     "name": "stdout",
     "output_type": "stream",
     "text": [
      "Test: [ 0/10]\tTime 0.629 (0.629)\tLoss 0.334 (0.334)\tAcc@1 92.90 (92.90)\tAcc@5 99.20 (99.20)\n",
      " * Acc@1 93.270 Acc@5 99.410\n"
     ]
    },
    {
     "name": "stderr",
     "output_type": "stream",
     "text": [
      "[07-10 13:35:49 MainProcess #37389] INFO  search_tactic.py:367 - Evaluating subnetwork 9/50 in loop 2 of 5\n"
     ]
    },
    {
     "name": "stdout",
     "output_type": "stream",
     "text": [
      "Test: [ 0/10]\tTime 0.554 (0.554)\tLoss 0.325 (0.325)\tAcc@1 93.10 (93.10)\tAcc@5 99.40 (99.40)\n",
      " * Acc@1 93.620 Acc@5 99.510\n"
     ]
    },
    {
     "name": "stderr",
     "output_type": "stream",
     "text": [
      "[07-10 13:36:00 MainProcess #37389] INFO  search_tactic.py:367 - Evaluating subnetwork 10/50 in loop 2 of 5\n"
     ]
    },
    {
     "name": "stdout",
     "output_type": "stream",
     "text": [
      "Test: [ 0/10]\tTime 0.622 (0.622)\tLoss 0.322 (0.322)\tAcc@1 93.40 (93.40)\tAcc@5 99.30 (99.30)\n",
      " * Acc@1 93.710 Acc@5 99.560\n"
     ]
    },
    {
     "name": "stderr",
     "output_type": "stream",
     "text": [
      "[07-10 13:36:10 MainProcess #37389] INFO  search_tactic.py:367 - Evaluating subnetwork 11/50 in loop 2 of 5\n"
     ]
    },
    {
     "name": "stdout",
     "output_type": "stream",
     "text": [
      "Test: [ 0/10]\tTime 0.573 (0.573)\tLoss 0.325 (0.325)\tAcc@1 92.90 (92.90)\tAcc@5 99.20 (99.20)\n",
      " * Acc@1 93.520 Acc@5 99.440\n"
     ]
    },
    {
     "name": "stderr",
     "output_type": "stream",
     "text": [
      "[07-10 13:36:20 MainProcess #37389] INFO  search_tactic.py:367 - Evaluating subnetwork 12/50 in loop 2 of 5\n"
     ]
    },
    {
     "name": "stdout",
     "output_type": "stream",
     "text": [
      "Test: [ 0/10]\tTime 0.636 (0.636)\tLoss 0.323 (0.323)\tAcc@1 93.20 (93.20)\tAcc@5 99.10 (99.10)\n",
      " * Acc@1 93.650 Acc@5 99.500\n"
     ]
    },
    {
     "name": "stderr",
     "output_type": "stream",
     "text": [
      "[07-10 13:36:32 MainProcess #37389] INFO  search_tactic.py:367 - Evaluating subnetwork 13/50 in loop 2 of 5\n"
     ]
    },
    {
     "name": "stdout",
     "output_type": "stream",
     "text": [
      "Test: [ 0/10]\tTime 0.597 (0.597)\tLoss 0.326 (0.326)\tAcc@1 93.10 (93.10)\tAcc@5 99.30 (99.30)\n",
      " * Acc@1 93.440 Acc@5 99.460\n"
     ]
    },
    {
     "name": "stderr",
     "output_type": "stream",
     "text": [
      "[07-10 13:36:42 MainProcess #37389] INFO  search_tactic.py:367 - Evaluating subnetwork 14/50 in loop 2 of 5\n"
     ]
    },
    {
     "name": "stdout",
     "output_type": "stream",
     "text": [
      "Test: [ 0/10]\tTime 0.591 (0.591)\tLoss 0.339 (0.339)\tAcc@1 92.80 (92.80)\tAcc@5 99.40 (99.40)\n",
      " * Acc@1 93.090 Acc@5 99.410\n"
     ]
    },
    {
     "name": "stderr",
     "output_type": "stream",
     "text": [
      "[07-10 13:36:52 MainProcess #37389] INFO  search_tactic.py:367 - Evaluating subnetwork 15/50 in loop 2 of 5\n"
     ]
    },
    {
     "name": "stdout",
     "output_type": "stream",
     "text": [
      "Test: [ 0/10]\tTime 0.529 (0.529)\tLoss 0.340 (0.340)\tAcc@1 92.90 (92.90)\tAcc@5 99.40 (99.40)\n",
      " * Acc@1 93.160 Acc@5 99.400\n"
     ]
    },
    {
     "name": "stderr",
     "output_type": "stream",
     "text": [
      "[07-10 13:37:02 MainProcess #37389] INFO  search_tactic.py:367 - Evaluating subnetwork 16/50 in loop 2 of 5\n"
     ]
    },
    {
     "name": "stdout",
     "output_type": "stream",
     "text": [
      "Test: [ 0/10]\tTime 0.618 (0.618)\tLoss 0.330 (0.330)\tAcc@1 93.00 (93.00)\tAcc@5 99.40 (99.40)\n",
      " * Acc@1 93.570 Acc@5 99.550\n"
     ]
    },
    {
     "name": "stderr",
     "output_type": "stream",
     "text": [
      "[07-10 13:37:12 MainProcess #37389] INFO  search_tactic.py:367 - Evaluating subnetwork 17/50 in loop 2 of 5\n"
     ]
    },
    {
     "name": "stdout",
     "output_type": "stream",
     "text": [
      "Test: [ 0/10]\tTime 0.624 (0.624)\tLoss 0.333 (0.333)\tAcc@1 93.20 (93.20)\tAcc@5 99.40 (99.40)\n",
      " * Acc@1 93.400 Acc@5 99.430\n"
     ]
    },
    {
     "name": "stderr",
     "output_type": "stream",
     "text": [
      "[07-10 13:37:22 MainProcess #37389] INFO  search_tactic.py:367 - Evaluating subnetwork 18/50 in loop 2 of 5\n"
     ]
    },
    {
     "name": "stdout",
     "output_type": "stream",
     "text": [
      "Test: [ 0/10]\tTime 0.611 (0.611)\tLoss 0.333 (0.333)\tAcc@1 93.20 (93.20)\tAcc@5 99.50 (99.50)\n",
      " * Acc@1 93.070 Acc@5 99.450\n"
     ]
    },
    {
     "name": "stderr",
     "output_type": "stream",
     "text": [
      "[07-10 13:37:32 MainProcess #37389] INFO  search_tactic.py:367 - Evaluating subnetwork 19/50 in loop 2 of 5\n"
     ]
    },
    {
     "name": "stdout",
     "output_type": "stream",
     "text": [
      "Test: [ 0/10]\tTime 0.600 (0.600)\tLoss 0.327 (0.327)\tAcc@1 93.10 (93.10)\tAcc@5 99.30 (99.30)\n",
      " * Acc@1 93.640 Acc@5 99.540\n"
     ]
    },
    {
     "name": "stderr",
     "output_type": "stream",
     "text": [
      "[07-10 13:37:42 MainProcess #37389] INFO  search_tactic.py:367 - Evaluating subnetwork 20/50 in loop 2 of 5\n"
     ]
    },
    {
     "name": "stdout",
     "output_type": "stream",
     "text": [
      "Test: [ 0/10]\tTime 1.056 (1.056)\tLoss 0.329 (0.329)\tAcc@1 92.80 (92.80)\tAcc@5 99.20 (99.20)\n",
      " * Acc@1 93.570 Acc@5 99.430\n"
     ]
    },
    {
     "name": "stderr",
     "output_type": "stream",
     "text": [
      "[07-10 13:37:52 MainProcess #37389] INFO  search_tactic.py:367 - Evaluating subnetwork 21/50 in loop 2 of 5\n"
     ]
    },
    {
     "name": "stdout",
     "output_type": "stream",
     "text": [
      "Test: [ 0/10]\tTime 0.605 (0.605)\tLoss 0.327 (0.327)\tAcc@1 93.10 (93.10)\tAcc@5 99.50 (99.50)\n",
      " * Acc@1 93.620 Acc@5 99.570\n"
     ]
    },
    {
     "name": "stderr",
     "output_type": "stream",
     "text": [
      "[07-10 13:38:02 MainProcess #37389] INFO  search_tactic.py:367 - Evaluating subnetwork 22/50 in loop 2 of 5\n"
     ]
    },
    {
     "name": "stdout",
     "output_type": "stream",
     "text": [
      "Test: [ 0/10]\tTime 0.582 (0.582)\tLoss 0.328 (0.328)\tAcc@1 92.90 (92.90)\tAcc@5 99.10 (99.10)\n",
      " * Acc@1 93.480 Acc@5 99.460\n"
     ]
    },
    {
     "name": "stderr",
     "output_type": "stream",
     "text": [
      "[07-10 13:38:12 MainProcess #37389] INFO  search_tactic.py:367 - Evaluating subnetwork 23/50 in loop 2 of 5\n"
     ]
    },
    {
     "name": "stdout",
     "output_type": "stream",
     "text": [
      "Test: [ 0/10]\tTime 0.590 (0.590)\tLoss 0.326 (0.326)\tAcc@1 93.40 (93.40)\tAcc@5 99.50 (99.50)\n",
      " * Acc@1 93.470 Acc@5 99.470\n"
     ]
    },
    {
     "name": "stderr",
     "output_type": "stream",
     "text": [
      "[07-10 13:38:21 MainProcess #37389] INFO  search_tactic.py:367 - Evaluating subnetwork 24/50 in loop 2 of 5\n"
     ]
    },
    {
     "name": "stdout",
     "output_type": "stream",
     "text": [
      "Test: [ 0/10]\tTime 0.604 (0.604)\tLoss 0.325 (0.325)\tAcc@1 93.00 (93.00)\tAcc@5 99.30 (99.30)\n",
      " * Acc@1 93.460 Acc@5 99.420\n"
     ]
    },
    {
     "name": "stderr",
     "output_type": "stream",
     "text": [
      "[07-10 13:38:31 MainProcess #37389] INFO  search_tactic.py:367 - Evaluating subnetwork 25/50 in loop 2 of 5\n"
     ]
    },
    {
     "name": "stdout",
     "output_type": "stream",
     "text": [
      "Test: [ 0/10]\tTime 0.590 (0.590)\tLoss 0.329 (0.329)\tAcc@1 93.00 (93.00)\tAcc@5 99.40 (99.40)\n",
      " * Acc@1 93.260 Acc@5 99.470\n"
     ]
    },
    {
     "name": "stderr",
     "output_type": "stream",
     "text": [
      "[07-10 13:38:41 MainProcess #37389] INFO  search_tactic.py:367 - Evaluating subnetwork 26/50 in loop 2 of 5\n"
     ]
    },
    {
     "name": "stdout",
     "output_type": "stream",
     "text": [
      "Test: [ 0/10]\tTime 0.603 (0.603)\tLoss 0.336 (0.336)\tAcc@1 93.00 (93.00)\tAcc@5 99.40 (99.40)\n",
      " * Acc@1 93.180 Acc@5 99.430\n"
     ]
    },
    {
     "name": "stderr",
     "output_type": "stream",
     "text": [
      "[07-10 13:38:51 MainProcess #37389] INFO  search_tactic.py:367 - Evaluating subnetwork 27/50 in loop 2 of 5\n"
     ]
    },
    {
     "name": "stdout",
     "output_type": "stream",
     "text": [
      "Test: [ 0/10]\tTime 0.619 (0.619)\tLoss 0.327 (0.327)\tAcc@1 93.30 (93.30)\tAcc@5 99.40 (99.40)\n",
      " * Acc@1 93.600 Acc@5 99.540\n"
     ]
    },
    {
     "name": "stderr",
     "output_type": "stream",
     "text": [
      "[07-10 13:39:01 MainProcess #37389] INFO  search_tactic.py:367 - Evaluating subnetwork 28/50 in loop 2 of 5\n"
     ]
    },
    {
     "name": "stdout",
     "output_type": "stream",
     "text": [
      "Test: [ 0/10]\tTime 0.598 (0.598)\tLoss 0.328 (0.328)\tAcc@1 93.50 (93.50)\tAcc@5 99.20 (99.20)\n",
      " * Acc@1 93.410 Acc@5 99.390\n"
     ]
    },
    {
     "name": "stderr",
     "output_type": "stream",
     "text": [
      "[07-10 13:39:11 MainProcess #37389] INFO  search_tactic.py:367 - Evaluating subnetwork 29/50 in loop 2 of 5\n"
     ]
    },
    {
     "name": "stdout",
     "output_type": "stream",
     "text": [
      "Test: [ 0/10]\tTime 0.599 (0.599)\tLoss 0.325 (0.325)\tAcc@1 93.20 (93.20)\tAcc@5 99.30 (99.30)\n",
      " * Acc@1 93.650 Acc@5 99.460\n"
     ]
    },
    {
     "name": "stderr",
     "output_type": "stream",
     "text": [
      "[07-10 13:39:21 MainProcess #37389] INFO  search_tactic.py:367 - Evaluating subnetwork 30/50 in loop 2 of 5\n"
     ]
    },
    {
     "name": "stdout",
     "output_type": "stream",
     "text": [
      "Test: [ 0/10]\tTime 0.591 (0.591)\tLoss 0.326 (0.326)\tAcc@1 93.10 (93.10)\tAcc@5 99.30 (99.30)\n",
      " * Acc@1 93.610 Acc@5 99.500\n"
     ]
    },
    {
     "name": "stderr",
     "output_type": "stream",
     "text": [
      "[07-10 13:39:32 MainProcess #37389] INFO  search_tactic.py:367 - Evaluating subnetwork 31/50 in loop 2 of 5\n"
     ]
    },
    {
     "name": "stdout",
     "output_type": "stream",
     "text": [
      "Test: [ 0/10]\tTime 0.598 (0.598)\tLoss 0.327 (0.327)\tAcc@1 93.20 (93.20)\tAcc@5 99.40 (99.40)\n",
      " * Acc@1 93.320 Acc@5 99.510\n"
     ]
    },
    {
     "name": "stderr",
     "output_type": "stream",
     "text": [
      "[07-10 13:39:42 MainProcess #37389] INFO  search_tactic.py:367 - Evaluating subnetwork 32/50 in loop 2 of 5\n"
     ]
    },
    {
     "name": "stdout",
     "output_type": "stream",
     "text": [
      "Test: [ 0/10]\tTime 0.619 (0.619)\tLoss 0.332 (0.332)\tAcc@1 92.80 (92.80)\tAcc@5 99.20 (99.20)\n",
      " * Acc@1 93.280 Acc@5 99.410\n"
     ]
    },
    {
     "name": "stderr",
     "output_type": "stream",
     "text": [
      "[07-10 13:39:53 MainProcess #37389] INFO  search_tactic.py:367 - Evaluating subnetwork 33/50 in loop 2 of 5\n"
     ]
    },
    {
     "name": "stdout",
     "output_type": "stream",
     "text": [
      "Test: [ 0/10]\tTime 0.599 (0.599)\tLoss 0.329 (0.329)\tAcc@1 93.00 (93.00)\tAcc@5 99.20 (99.20)\n",
      " * Acc@1 93.450 Acc@5 99.340\n"
     ]
    },
    {
     "name": "stderr",
     "output_type": "stream",
     "text": [
      "[07-10 13:40:03 MainProcess #37389] INFO  search_tactic.py:367 - Evaluating subnetwork 34/50 in loop 2 of 5\n"
     ]
    },
    {
     "name": "stdout",
     "output_type": "stream",
     "text": [
      "Test: [ 0/10]\tTime 0.575 (0.575)\tLoss 0.328 (0.328)\tAcc@1 93.00 (93.00)\tAcc@5 99.40 (99.40)\n",
      " * Acc@1 93.240 Acc@5 99.450\n"
     ]
    },
    {
     "name": "stderr",
     "output_type": "stream",
     "text": [
      "[07-10 13:40:13 MainProcess #37389] INFO  search_tactic.py:367 - Evaluating subnetwork 35/50 in loop 2 of 5\n"
     ]
    },
    {
     "name": "stdout",
     "output_type": "stream",
     "text": [
      "Test: [ 0/10]\tTime 0.584 (0.584)\tLoss 0.330 (0.330)\tAcc@1 93.00 (93.00)\tAcc@5 99.30 (99.30)\n",
      " * Acc@1 93.510 Acc@5 99.520\n"
     ]
    },
    {
     "name": "stderr",
     "output_type": "stream",
     "text": [
      "[07-10 13:40:23 MainProcess #37389] INFO  search_tactic.py:367 - Evaluating subnetwork 36/50 in loop 2 of 5\n"
     ]
    },
    {
     "name": "stdout",
     "output_type": "stream",
     "text": [
      "Test: [ 0/10]\tTime 0.628 (0.628)\tLoss 0.323 (0.323)\tAcc@1 93.20 (93.20)\tAcc@5 99.30 (99.30)\n",
      " * Acc@1 93.560 Acc@5 99.470\n"
     ]
    },
    {
     "name": "stderr",
     "output_type": "stream",
     "text": [
      "[07-10 13:40:33 MainProcess #37389] INFO  search_tactic.py:367 - Evaluating subnetwork 37/50 in loop 2 of 5\n"
     ]
    },
    {
     "name": "stdout",
     "output_type": "stream",
     "text": [
      "Test: [ 0/10]\tTime 0.637 (0.637)\tLoss 0.331 (0.331)\tAcc@1 93.10 (93.10)\tAcc@5 99.30 (99.30)\n",
      " * Acc@1 93.660 Acc@5 99.500\n"
     ]
    },
    {
     "name": "stderr",
     "output_type": "stream",
     "text": [
      "[07-10 13:40:43 MainProcess #37389] INFO  search_tactic.py:367 - Evaluating subnetwork 38/50 in loop 2 of 5\n"
     ]
    },
    {
     "name": "stdout",
     "output_type": "stream",
     "text": [
      "Test: [ 0/10]\tTime 0.573 (0.573)\tLoss 0.331 (0.331)\tAcc@1 92.90 (92.90)\tAcc@5 99.30 (99.30)\n",
      " * Acc@1 93.350 Acc@5 99.420\n"
     ]
    },
    {
     "name": "stderr",
     "output_type": "stream",
     "text": [
      "[07-10 13:40:53 MainProcess #37389] INFO  search_tactic.py:367 - Evaluating subnetwork 39/50 in loop 2 of 5\n"
     ]
    },
    {
     "name": "stdout",
     "output_type": "stream",
     "text": [
      "Test: [ 0/10]\tTime 0.603 (0.603)\tLoss 0.320 (0.320)\tAcc@1 93.20 (93.20)\tAcc@5 99.30 (99.30)\n",
      " * Acc@1 93.590 Acc@5 99.480\n"
     ]
    },
    {
     "name": "stderr",
     "output_type": "stream",
     "text": [
      "[07-10 13:41:03 MainProcess #37389] INFO  search_tactic.py:367 - Evaluating subnetwork 40/50 in loop 2 of 5\n"
     ]
    },
    {
     "name": "stdout",
     "output_type": "stream",
     "text": [
      "Test: [ 0/10]\tTime 0.604 (0.604)\tLoss 0.322 (0.322)\tAcc@1 93.20 (93.20)\tAcc@5 99.20 (99.20)\n",
      " * Acc@1 93.570 Acc@5 99.470\n"
     ]
    },
    {
     "name": "stderr",
     "output_type": "stream",
     "text": [
      "[07-10 13:41:13 MainProcess #37389] INFO  search_tactic.py:367 - Evaluating subnetwork 41/50 in loop 2 of 5\n"
     ]
    },
    {
     "name": "stdout",
     "output_type": "stream",
     "text": [
      "Test: [ 0/10]\tTime 0.648 (0.648)\tLoss 0.324 (0.324)\tAcc@1 93.10 (93.10)\tAcc@5 99.50 (99.50)\n",
      " * Acc@1 93.710 Acc@5 99.600\n"
     ]
    },
    {
     "name": "stderr",
     "output_type": "stream",
     "text": [
      "[07-10 13:41:23 MainProcess #37389] INFO  search_tactic.py:367 - Evaluating subnetwork 42/50 in loop 2 of 5\n"
     ]
    },
    {
     "name": "stdout",
     "output_type": "stream",
     "text": [
      "Test: [ 0/10]\tTime 0.573 (0.573)\tLoss 0.340 (0.340)\tAcc@1 93.00 (93.00)\tAcc@5 99.40 (99.40)\n",
      " * Acc@1 93.060 Acc@5 99.380\n"
     ]
    },
    {
     "name": "stderr",
     "output_type": "stream",
     "text": [
      "[07-10 13:41:33 MainProcess #37389] INFO  search_tactic.py:367 - Evaluating subnetwork 43/50 in loop 2 of 5\n"
     ]
    },
    {
     "name": "stdout",
     "output_type": "stream",
     "text": [
      "Test: [ 0/10]\tTime 0.599 (0.599)\tLoss 0.327 (0.327)\tAcc@1 93.20 (93.20)\tAcc@5 99.20 (99.20)\n",
      " * Acc@1 93.540 Acc@5 99.450\n"
     ]
    },
    {
     "name": "stderr",
     "output_type": "stream",
     "text": [
      "[07-10 13:41:43 MainProcess #37389] INFO  search_tactic.py:367 - Evaluating subnetwork 44/50 in loop 2 of 5\n"
     ]
    },
    {
     "name": "stdout",
     "output_type": "stream",
     "text": [
      "Test: [ 0/10]\tTime 0.593 (0.593)\tLoss 0.323 (0.323)\tAcc@1 93.20 (93.20)\tAcc@5 99.20 (99.20)\n",
      " * Acc@1 93.390 Acc@5 99.500\n"
     ]
    },
    {
     "name": "stderr",
     "output_type": "stream",
     "text": [
      "[07-10 13:41:52 MainProcess #37389] INFO  search_tactic.py:367 - Evaluating subnetwork 45/50 in loop 2 of 5\n"
     ]
    },
    {
     "name": "stdout",
     "output_type": "stream",
     "text": [
      "Test: [ 0/10]\tTime 0.591 (0.591)\tLoss 0.325 (0.325)\tAcc@1 93.10 (93.10)\tAcc@5 99.30 (99.30)\n",
      " * Acc@1 93.580 Acc@5 99.480\n"
     ]
    },
    {
     "name": "stderr",
     "output_type": "stream",
     "text": [
      "[07-10 13:42:02 MainProcess #37389] INFO  search_tactic.py:367 - Evaluating subnetwork 46/50 in loop 2 of 5\n"
     ]
    },
    {
     "name": "stdout",
     "output_type": "stream",
     "text": [
      "Test: [ 0/10]\tTime 0.613 (0.613)\tLoss 0.326 (0.326)\tAcc@1 93.10 (93.10)\tAcc@5 99.40 (99.40)\n",
      " * Acc@1 93.520 Acc@5 99.480\n"
     ]
    },
    {
     "name": "stderr",
     "output_type": "stream",
     "text": [
      "[07-10 13:42:12 MainProcess #37389] INFO  search_tactic.py:367 - Evaluating subnetwork 47/50 in loop 2 of 5\n"
     ]
    },
    {
     "name": "stdout",
     "output_type": "stream",
     "text": [
      "Test: [ 0/10]\tTime 0.558 (0.558)\tLoss 0.335 (0.335)\tAcc@1 93.20 (93.20)\tAcc@5 99.30 (99.30)\n",
      " * Acc@1 93.300 Acc@5 99.470\n"
     ]
    },
    {
     "name": "stderr",
     "output_type": "stream",
     "text": [
      "[07-10 13:42:21 MainProcess #37389] INFO  search_tactic.py:367 - Evaluating subnetwork 48/50 in loop 2 of 5\n"
     ]
    },
    {
     "name": "stdout",
     "output_type": "stream",
     "text": [
      "Test: [ 0/10]\tTime 0.588 (0.588)\tLoss 0.327 (0.327)\tAcc@1 93.40 (93.40)\tAcc@5 99.20 (99.20)\n",
      " * Acc@1 93.430 Acc@5 99.460\n"
     ]
    },
    {
     "name": "stderr",
     "output_type": "stream",
     "text": [
      "[07-10 13:42:31 MainProcess #37389] INFO  search_tactic.py:367 - Evaluating subnetwork 49/50 in loop 2 of 5\n"
     ]
    },
    {
     "name": "stdout",
     "output_type": "stream",
     "text": [
      "Test: [ 0/10]\tTime 0.651 (0.651)\tLoss 0.330 (0.330)\tAcc@1 93.20 (93.20)\tAcc@5 99.20 (99.20)\n",
      " * Acc@1 93.620 Acc@5 99.480\n"
     ]
    },
    {
     "name": "stderr",
     "output_type": "stream",
     "text": [
      "[07-10 13:42:43 MainProcess #37389] INFO  search_tactic.py:367 - Evaluating subnetwork 50/50 in loop 2 of 5\n"
     ]
    },
    {
     "name": "stdout",
     "output_type": "stream",
     "text": [
      "Test: [ 0/10]\tTime 0.595 (0.595)\tLoss 0.326 (0.326)\tAcc@1 93.30 (93.30)\tAcc@5 99.30 (99.30)\n",
      " * Acc@1 93.530 Acc@5 99.440\n"
     ]
    },
    {
     "name": "stderr",
     "output_type": "stream",
     "text": [
      "[07-10 13:42:52 MainProcess #37389] INFO  search_tactic.py:345 - Training macs predictor.\n",
      "[07-10 13:42:52 MainProcess #37389] INFO  predictor_manager.py:38 - Building dynamic predictor for macs\n",
      "[07-10 13:42:52 MainProcess #37389] INFO  encoding.py:246 - Training set length=100\n"
     ]
    },
    {
     "name": "stdout",
     "output_type": "stream",
     "text": [
      "<class 'numpy.ndarray'> [149483360 155416000 146617920 135824440 170094680 132495808 167993472\n",
      " 146776736 136530456 139849024 165578272 148014816 122450336 144706496\n",
      " 155187424 131232440 130957952 121358552 149261024 182971264 135725688\n",
      " 135642400 110506112 136215096 146253056 119942296 127610976 147374048\n",
      " 174712224 162536960 154896704 143585984 177298880 107814784 124325144\n",
      " 136489024 151172384 135475360 165484768 175552864 130767040 123315992\n",
      " 187153504 148161888 128757344 124488448 153922880 136189760 135275136\n",
      "  95862336  97202360 125031040 108278400 108278400 113442432 115430016\n",
      "  99637184  97938360 111048320 113035904 122616448 120673408 125031040\n",
      "  97202360  93218744 110920064 102650816  94924728 115836544 105168760\n",
      " 107081344 108278400 105869952 106788672 102650816  97931200 110302336\n",
      " 105615296 108857728 107827328 106066368 103373120 106788672 105059264\n",
      " 105781568 113035904 103724152 103689472 117824128 123067520 109723008\n",
      "  94924728 111048320 124579968 112289920 105869952  97177848 107391680\n",
      " 107827328 105418880]\n"
     ]
    },
    {
     "name": "stderr",
     "output_type": "stream",
     "text": [
      "[07-10 13:42:59 MainProcess #37389] INFO  search_tactic.py:347 - Updated self.predictor_dict[macs].\n",
      "[07-10 13:42:59 MainProcess #37389] INFO  search_tactic.py:345 - Training accuracy_top1 predictor.\n",
      "[07-10 13:42:59 MainProcess #37389] INFO  predictor_manager.py:38 - Building dynamic predictor for accuracy_top1\n",
      "[07-10 13:42:59 MainProcess #37389] INFO  encoding.py:246 - Training set length=100\n"
     ]
    },
    {
     "name": "stdout",
     "output_type": "stream",
     "text": [
      "<class 'numpy.ndarray'> [93.07     93.689995 92.93     93.079994 93.369995 93.28     93.229996\n",
      " 93.439995 93.43     93.63     93.659996 93.369995 93.049995 93.09\n",
      " 93.03     93.09     93.159996 93.13     93.299995 93.17     93.53\n",
      " 92.869995 93.119995 92.829994 93.32     93.17     92.85     93.409996\n",
      " 93.81     93.369995 93.42     93.34     93.479996 92.829994 92.92\n",
      " 93.479996 92.95     92.909996 93.619995 93.34     92.97     93.079994\n",
      " 93.5      93.21     93.39     93.06     93.159996 93.159996 93.2\n",
      " 93.06     93.159996 93.43     93.64     93.6      93.509995 93.5\n",
      " 93.11     93.27     93.619995 93.71     93.52     93.649994 93.439995\n",
      " 93.09     93.159996 93.57     93.399994 93.07     93.64     93.57\n",
      " 93.619995 93.479996 93.47     93.46     93.259995 93.18     93.6\n",
      " 93.409996 93.649994 93.61     93.32     93.28     93.45     93.24\n",
      " 93.509995 93.56     93.659996 93.35     93.59     93.57     93.71\n",
      " 93.06     93.54     93.39     93.579994 93.52     93.299995 93.43\n",
      " 93.619995 93.53    ]\n"
     ]
    },
    {
     "name": "stderr",
     "output_type": "stream",
     "text": [
      "[07-10 13:43:00 MainProcess #37389] INFO  search_tactic.py:347 - Updated self.predictor_dict[accuracy_top1].\n",
      "[07-10 13:43:00 MainProcess #37389] INFO  evolutionary.py:100 - Configuring nsga2 algorithm with 2 objectives.\n",
      "[07-10 13:43:00 MainProcess #37389] INFO  evolutionary.py:334 - Running Search ...\n"
     ]
    },
    {
     "name": "stdout",
     "output_type": "stream",
     "text": [
      "...................................................................................................."
     ]
    },
    {
     "name": "stderr",
     "output_type": "stream",
     "text": [
      "[07-10 13:43:04 MainProcess #37389] INFO  evolutionary.py:350 - Success! Search Took 4.163 seconds.\n",
      "[07-10 13:43:04 MainProcess #37389] INFO  search_tactic.py:363 - Starting LINAS loop 3 of 5.\n",
      "[07-10 13:43:04 MainProcess #37389] INFO  search_tactic.py:367 - Evaluating subnetwork 1/50 in loop 3 of 5\n"
     ]
    },
    {
     "name": "stdout",
     "output_type": "stream",
     "text": [
      "Test: [ 0/10]\tTime 0.629 (0.629)\tLoss 0.336 (0.336)\tAcc@1 93.20 (93.20)\tAcc@5 99.30 (99.30)\n",
      " * Acc@1 93.240 Acc@5 99.460\n"
     ]
    },
    {
     "name": "stderr",
     "output_type": "stream",
     "text": [
      "[07-10 13:43:14 MainProcess #37389] INFO  search_tactic.py:367 - Evaluating subnetwork 2/50 in loop 3 of 5\n"
     ]
    },
    {
     "name": "stdout",
     "output_type": "stream",
     "text": [
      "Test: [ 0/10]\tTime 0.584 (0.584)\tLoss 0.335 (0.335)\tAcc@1 93.00 (93.00)\tAcc@5 99.20 (99.20)\n",
      " * Acc@1 93.540 Acc@5 99.500\n"
     ]
    },
    {
     "name": "stderr",
     "output_type": "stream",
     "text": [
      "[07-10 13:43:24 MainProcess #37389] INFO  search_tactic.py:367 - Evaluating subnetwork 3/50 in loop 3 of 5\n"
     ]
    },
    {
     "name": "stdout",
     "output_type": "stream",
     "text": [
      "Test: [ 0/10]\tTime 0.586 (0.586)\tLoss 0.334 (0.334)\tAcc@1 93.00 (93.00)\tAcc@5 99.40 (99.40)\n",
      " * Acc@1 93.640 Acc@5 99.500\n"
     ]
    },
    {
     "name": "stderr",
     "output_type": "stream",
     "text": [
      "[07-10 13:43:33 MainProcess #37389] INFO  search_tactic.py:367 - Evaluating subnetwork 4/50 in loop 3 of 5\n"
     ]
    },
    {
     "name": "stdout",
     "output_type": "stream",
     "text": [
      "Test: [ 0/10]\tTime 0.614 (0.614)\tLoss 0.334 (0.334)\tAcc@1 93.10 (93.10)\tAcc@5 99.20 (99.20)\n",
      " * Acc@1 93.490 Acc@5 99.450\n"
     ]
    },
    {
     "name": "stderr",
     "output_type": "stream",
     "text": [
      "[07-10 13:43:43 MainProcess #37389] INFO  search_tactic.py:367 - Evaluating subnetwork 5/50 in loop 3 of 5\n"
     ]
    },
    {
     "name": "stdout",
     "output_type": "stream",
     "text": [
      "Test: [ 0/10]\tTime 0.625 (0.625)\tLoss 0.334 (0.334)\tAcc@1 93.00 (93.00)\tAcc@5 99.40 (99.40)\n",
      " * Acc@1 93.150 Acc@5 99.430\n"
     ]
    },
    {
     "name": "stderr",
     "output_type": "stream",
     "text": [
      "[07-10 13:43:53 MainProcess #37389] INFO  search_tactic.py:367 - Evaluating subnetwork 6/50 in loop 3 of 5\n"
     ]
    },
    {
     "name": "stdout",
     "output_type": "stream",
     "text": [
      "Test: [ 0/10]\tTime 0.661 (0.661)\tLoss 0.332 (0.332)\tAcc@1 92.80 (92.80)\tAcc@5 99.30 (99.30)\n",
      " * Acc@1 93.500 Acc@5 99.520\n"
     ]
    },
    {
     "name": "stderr",
     "output_type": "stream",
     "text": [
      "[07-10 13:44:03 MainProcess #37389] INFO  search_tactic.py:367 - Evaluating subnetwork 7/50 in loop 3 of 5\n"
     ]
    },
    {
     "name": "stdout",
     "output_type": "stream",
     "text": [
      "Test: [ 0/10]\tTime 0.580 (0.580)\tLoss 0.334 (0.334)\tAcc@1 93.00 (93.00)\tAcc@5 99.50 (99.50)\n",
      " * Acc@1 93.270 Acc@5 99.460\n"
     ]
    },
    {
     "name": "stderr",
     "output_type": "stream",
     "text": [
      "[07-10 13:44:13 MainProcess #37389] INFO  search_tactic.py:367 - Evaluating subnetwork 8/50 in loop 3 of 5\n"
     ]
    },
    {
     "name": "stdout",
     "output_type": "stream",
     "text": [
      "Test: [ 0/10]\tTime 0.592 (0.592)\tLoss 0.329 (0.329)\tAcc@1 92.90 (92.90)\tAcc@5 99.40 (99.40)\n",
      " * Acc@1 93.620 Acc@5 99.550\n"
     ]
    },
    {
     "name": "stderr",
     "output_type": "stream",
     "text": [
      "[07-10 13:44:23 MainProcess #37389] INFO  search_tactic.py:367 - Evaluating subnetwork 9/50 in loop 3 of 5\n"
     ]
    },
    {
     "name": "stdout",
     "output_type": "stream",
     "text": [
      "Test: [ 0/10]\tTime 0.611 (0.611)\tLoss 0.329 (0.329)\tAcc@1 93.00 (93.00)\tAcc@5 99.20 (99.20)\n",
      " * Acc@1 93.450 Acc@5 99.400\n"
     ]
    },
    {
     "name": "stderr",
     "output_type": "stream",
     "text": [
      "[07-10 13:44:33 MainProcess #37389] INFO  search_tactic.py:367 - Evaluating subnetwork 10/50 in loop 3 of 5\n"
     ]
    },
    {
     "name": "stdout",
     "output_type": "stream",
     "text": [
      "Test: [ 0/10]\tTime 0.582 (0.582)\tLoss 0.340 (0.340)\tAcc@1 93.00 (93.00)\tAcc@5 99.40 (99.40)\n",
      " * Acc@1 93.250 Acc@5 99.440\n"
     ]
    },
    {
     "name": "stderr",
     "output_type": "stream",
     "text": [
      "[07-10 13:44:43 MainProcess #37389] INFO  search_tactic.py:367 - Evaluating subnetwork 11/50 in loop 3 of 5\n"
     ]
    },
    {
     "name": "stdout",
     "output_type": "stream",
     "text": [
      "Test: [ 0/10]\tTime 0.652 (0.652)\tLoss 0.328 (0.328)\tAcc@1 92.90 (92.90)\tAcc@5 99.20 (99.20)\n",
      " * Acc@1 93.530 Acc@5 99.480\n"
     ]
    },
    {
     "name": "stderr",
     "output_type": "stream",
     "text": [
      "[07-10 13:44:54 MainProcess #37389] INFO  search_tactic.py:367 - Evaluating subnetwork 12/50 in loop 3 of 5\n"
     ]
    },
    {
     "name": "stdout",
     "output_type": "stream",
     "text": [
      "Test: [ 0/10]\tTime 0.628 (0.628)\tLoss 0.337 (0.337)\tAcc@1 92.90 (92.90)\tAcc@5 99.30 (99.30)\n",
      " * Acc@1 93.220 Acc@5 99.360\n"
     ]
    },
    {
     "name": "stderr",
     "output_type": "stream",
     "text": [
      "[07-10 13:45:04 MainProcess #37389] INFO  search_tactic.py:367 - Evaluating subnetwork 13/50 in loop 3 of 5\n"
     ]
    },
    {
     "name": "stdout",
     "output_type": "stream",
     "text": [
      "Test: [ 0/10]\tTime 0.613 (0.613)\tLoss 0.335 (0.335)\tAcc@1 93.20 (93.20)\tAcc@5 99.50 (99.50)\n",
      " * Acc@1 93.290 Acc@5 99.450\n"
     ]
    },
    {
     "name": "stderr",
     "output_type": "stream",
     "text": [
      "[07-10 13:45:14 MainProcess #37389] INFO  search_tactic.py:367 - Evaluating subnetwork 14/50 in loop 3 of 5\n"
     ]
    },
    {
     "name": "stdout",
     "output_type": "stream",
     "text": [
      "Test: [ 0/10]\tTime 0.623 (0.623)\tLoss 0.329 (0.329)\tAcc@1 92.90 (92.90)\tAcc@5 99.30 (99.30)\n",
      " * Acc@1 93.610 Acc@5 99.520\n"
     ]
    },
    {
     "name": "stderr",
     "output_type": "stream",
     "text": [
      "[07-10 13:45:24 MainProcess #37389] INFO  search_tactic.py:367 - Evaluating subnetwork 15/50 in loop 3 of 5\n"
     ]
    },
    {
     "name": "stdout",
     "output_type": "stream",
     "text": [
      "Test: [ 0/10]\tTime 0.618 (0.618)\tLoss 0.329 (0.329)\tAcc@1 93.00 (93.00)\tAcc@5 99.30 (99.30)\n",
      " * Acc@1 93.660 Acc@5 99.450\n"
     ]
    },
    {
     "name": "stderr",
     "output_type": "stream",
     "text": [
      "[07-10 13:45:34 MainProcess #37389] INFO  search_tactic.py:367 - Evaluating subnetwork 16/50 in loop 3 of 5\n"
     ]
    },
    {
     "name": "stdout",
     "output_type": "stream",
     "text": [
      "Test: [ 0/10]\tTime 0.628 (0.628)\tLoss 0.333 (0.333)\tAcc@1 93.30 (93.30)\tAcc@5 99.20 (99.20)\n",
      " * Acc@1 93.550 Acc@5 99.410\n"
     ]
    },
    {
     "name": "stderr",
     "output_type": "stream",
     "text": [
      "[07-10 13:45:44 MainProcess #37389] INFO  search_tactic.py:367 - Evaluating subnetwork 17/50 in loop 3 of 5\n"
     ]
    },
    {
     "name": "stdout",
     "output_type": "stream",
     "text": [
      "Test: [ 0/10]\tTime 0.591 (0.591)\tLoss 0.331 (0.331)\tAcc@1 93.10 (93.10)\tAcc@5 99.60 (99.60)\n",
      " * Acc@1 93.570 Acc@5 99.520\n"
     ]
    },
    {
     "name": "stderr",
     "output_type": "stream",
     "text": [
      "[07-10 13:45:54 MainProcess #37389] INFO  search_tactic.py:367 - Evaluating subnetwork 18/50 in loop 3 of 5\n"
     ]
    },
    {
     "name": "stdout",
     "output_type": "stream",
     "text": [
      "Test: [ 0/10]\tTime 0.664 (0.664)\tLoss 0.327 (0.327)\tAcc@1 92.90 (92.90)\tAcc@5 99.60 (99.60)\n",
      " * Acc@1 93.470 Acc@5 99.520\n"
     ]
    },
    {
     "name": "stderr",
     "output_type": "stream",
     "text": [
      "[07-10 13:46:04 MainProcess #37389] INFO  search_tactic.py:367 - Evaluating subnetwork 19/50 in loop 3 of 5\n"
     ]
    },
    {
     "name": "stdout",
     "output_type": "stream",
     "text": [
      "Test: [ 0/10]\tTime 0.622 (0.622)\tLoss 0.335 (0.335)\tAcc@1 93.10 (93.10)\tAcc@5 99.30 (99.30)\n",
      " * Acc@1 93.200 Acc@5 99.360\n"
     ]
    },
    {
     "name": "stderr",
     "output_type": "stream",
     "text": [
      "[07-10 13:46:14 MainProcess #37389] INFO  search_tactic.py:367 - Evaluating subnetwork 20/50 in loop 3 of 5\n"
     ]
    },
    {
     "name": "stdout",
     "output_type": "stream",
     "text": [
      "Test: [ 0/10]\tTime 0.694 (0.694)\tLoss 0.341 (0.341)\tAcc@1 92.80 (92.80)\tAcc@5 99.50 (99.50)\n",
      " * Acc@1 93.300 Acc@5 99.440\n"
     ]
    },
    {
     "name": "stderr",
     "output_type": "stream",
     "text": [
      "[07-10 13:46:26 MainProcess #37389] INFO  search_tactic.py:367 - Evaluating subnetwork 21/50 in loop 3 of 5\n"
     ]
    },
    {
     "name": "stdout",
     "output_type": "stream",
     "text": [
      "Test: [ 0/10]\tTime 0.653 (0.653)\tLoss 0.327 (0.327)\tAcc@1 93.50 (93.50)\tAcc@5 99.20 (99.20)\n",
      " * Acc@1 93.610 Acc@5 99.540\n"
     ]
    },
    {
     "name": "stderr",
     "output_type": "stream",
     "text": [
      "[07-10 13:46:36 MainProcess #37389] INFO  search_tactic.py:367 - Evaluating subnetwork 22/50 in loop 3 of 5\n"
     ]
    },
    {
     "name": "stdout",
     "output_type": "stream",
     "text": [
      "Test: [ 0/10]\tTime 0.578 (0.578)\tLoss 0.328 (0.328)\tAcc@1 93.10 (93.10)\tAcc@5 99.20 (99.20)\n",
      " * Acc@1 93.550 Acc@5 99.430\n"
     ]
    },
    {
     "name": "stderr",
     "output_type": "stream",
     "text": [
      "[07-10 13:46:45 MainProcess #37389] INFO  search_tactic.py:367 - Evaluating subnetwork 23/50 in loop 3 of 5\n"
     ]
    },
    {
     "name": "stdout",
     "output_type": "stream",
     "text": [
      "Test: [ 0/10]\tTime 0.582 (0.582)\tLoss 0.332 (0.332)\tAcc@1 93.00 (93.00)\tAcc@5 99.20 (99.20)\n",
      " * Acc@1 93.430 Acc@5 99.560\n"
     ]
    },
    {
     "name": "stderr",
     "output_type": "stream",
     "text": [
      "[07-10 13:46:55 MainProcess #37389] INFO  search_tactic.py:367 - Evaluating subnetwork 24/50 in loop 3 of 5\n"
     ]
    },
    {
     "name": "stdout",
     "output_type": "stream",
     "text": [
      "Test: [ 0/10]\tTime 0.598 (0.598)\tLoss 0.332 (0.332)\tAcc@1 93.20 (93.20)\tAcc@5 99.30 (99.30)\n",
      " * Acc@1 93.380 Acc@5 99.350\n"
     ]
    },
    {
     "name": "stderr",
     "output_type": "stream",
     "text": [
      "[07-10 13:47:05 MainProcess #37389] INFO  search_tactic.py:367 - Evaluating subnetwork 25/50 in loop 3 of 5\n"
     ]
    },
    {
     "name": "stdout",
     "output_type": "stream",
     "text": [
      "Test: [ 0/10]\tTime 0.631 (0.631)\tLoss 0.327 (0.327)\tAcc@1 93.10 (93.10)\tAcc@5 99.20 (99.20)\n",
      " * Acc@1 93.550 Acc@5 99.440\n"
     ]
    },
    {
     "name": "stderr",
     "output_type": "stream",
     "text": [
      "[07-10 13:47:14 MainProcess #37389] INFO  search_tactic.py:367 - Evaluating subnetwork 26/50 in loop 3 of 5\n"
     ]
    },
    {
     "name": "stdout",
     "output_type": "stream",
     "text": [
      "Test: [ 0/10]\tTime 0.594 (0.594)\tLoss 0.334 (0.334)\tAcc@1 93.10 (93.10)\tAcc@5 99.30 (99.30)\n",
      " * Acc@1 93.560 Acc@5 99.440\n"
     ]
    },
    {
     "name": "stderr",
     "output_type": "stream",
     "text": [
      "[07-10 13:47:24 MainProcess #37389] INFO  search_tactic.py:367 - Evaluating subnetwork 27/50 in loop 3 of 5\n"
     ]
    },
    {
     "name": "stdout",
     "output_type": "stream",
     "text": [
      "Test: [ 0/10]\tTime 0.577 (0.577)\tLoss 0.333 (0.333)\tAcc@1 93.20 (93.20)\tAcc@5 99.20 (99.20)\n",
      " * Acc@1 93.580 Acc@5 99.420\n"
     ]
    },
    {
     "name": "stderr",
     "output_type": "stream",
     "text": [
      "[07-10 13:47:33 MainProcess #37389] INFO  search_tactic.py:367 - Evaluating subnetwork 28/50 in loop 3 of 5\n"
     ]
    },
    {
     "name": "stdout",
     "output_type": "stream",
     "text": [
      "Test: [ 0/10]\tTime 0.557 (0.557)\tLoss 0.328 (0.328)\tAcc@1 92.90 (92.90)\tAcc@5 99.50 (99.50)\n",
      " * Acc@1 93.580 Acc@5 99.550\n"
     ]
    },
    {
     "name": "stderr",
     "output_type": "stream",
     "text": [
      "[07-10 13:47:44 MainProcess #37389] INFO  search_tactic.py:367 - Evaluating subnetwork 29/50 in loop 3 of 5\n"
     ]
    },
    {
     "name": "stdout",
     "output_type": "stream",
     "text": [
      "Test: [ 0/10]\tTime 0.590 (0.590)\tLoss 0.328 (0.328)\tAcc@1 92.90 (92.90)\tAcc@5 99.30 (99.30)\n",
      " * Acc@1 93.530 Acc@5 99.460\n"
     ]
    },
    {
     "name": "stderr",
     "output_type": "stream",
     "text": [
      "[07-10 13:47:53 MainProcess #37389] INFO  search_tactic.py:367 - Evaluating subnetwork 30/50 in loop 3 of 5\n"
     ]
    },
    {
     "name": "stdout",
     "output_type": "stream",
     "text": [
      "Test: [ 0/10]\tTime 0.832 (0.832)\tLoss 0.325 (0.325)\tAcc@1 93.30 (93.30)\tAcc@5 99.30 (99.30)\n",
      " * Acc@1 93.570 Acc@5 99.470\n"
     ]
    },
    {
     "name": "stderr",
     "output_type": "stream",
     "text": [
      "[07-10 13:48:04 MainProcess #37389] INFO  search_tactic.py:367 - Evaluating subnetwork 31/50 in loop 3 of 5\n"
     ]
    },
    {
     "name": "stdout",
     "output_type": "stream",
     "text": [
      "Test: [ 0/10]\tTime 0.610 (0.610)\tLoss 0.333 (0.333)\tAcc@1 92.80 (92.80)\tAcc@5 99.40 (99.40)\n",
      " * Acc@1 93.580 Acc@5 99.480\n"
     ]
    },
    {
     "name": "stderr",
     "output_type": "stream",
     "text": [
      "[07-10 13:48:14 MainProcess #37389] INFO  search_tactic.py:367 - Evaluating subnetwork 32/50 in loop 3 of 5\n"
     ]
    },
    {
     "name": "stdout",
     "output_type": "stream",
     "text": [
      "Test: [ 0/10]\tTime 0.590 (0.590)\tLoss 0.337 (0.337)\tAcc@1 92.50 (92.50)\tAcc@5 99.50 (99.50)\n",
      " * Acc@1 93.400 Acc@5 99.470\n"
     ]
    },
    {
     "name": "stderr",
     "output_type": "stream",
     "text": [
      "[07-10 13:48:24 MainProcess #37389] INFO  search_tactic.py:367 - Evaluating subnetwork 33/50 in loop 3 of 5\n"
     ]
    },
    {
     "name": "stdout",
     "output_type": "stream",
     "text": [
      "Test: [ 0/10]\tTime 0.660 (0.660)\tLoss 0.339 (0.339)\tAcc@1 92.60 (92.60)\tAcc@5 99.30 (99.30)\n",
      " * Acc@1 93.480 Acc@5 99.420\n"
     ]
    },
    {
     "name": "stderr",
     "output_type": "stream",
     "text": [
      "[07-10 13:48:34 MainProcess #37389] INFO  search_tactic.py:367 - Evaluating subnetwork 34/50 in loop 3 of 5\n"
     ]
    },
    {
     "name": "stdout",
     "output_type": "stream",
     "text": [
      "Test: [ 0/10]\tTime 0.587 (0.587)\tLoss 0.330 (0.330)\tAcc@1 93.20 (93.20)\tAcc@5 99.20 (99.20)\n",
      " * Acc@1 93.590 Acc@5 99.440\n"
     ]
    },
    {
     "name": "stderr",
     "output_type": "stream",
     "text": [
      "[07-10 13:48:44 MainProcess #37389] INFO  search_tactic.py:367 - Evaluating subnetwork 35/50 in loop 3 of 5\n"
     ]
    },
    {
     "name": "stdout",
     "output_type": "stream",
     "text": [
      "Test: [ 0/10]\tTime 0.636 (0.636)\tLoss 0.339 (0.339)\tAcc@1 93.40 (93.40)\tAcc@5 99.30 (99.30)\n",
      " * Acc@1 93.360 Acc@5 99.490\n"
     ]
    },
    {
     "name": "stderr",
     "output_type": "stream",
     "text": [
      "[07-10 13:48:54 MainProcess #37389] INFO  search_tactic.py:367 - Evaluating subnetwork 36/50 in loop 3 of 5\n"
     ]
    },
    {
     "name": "stdout",
     "output_type": "stream",
     "text": [
      "Test: [ 0/10]\tTime 0.586 (0.586)\tLoss 0.328 (0.328)\tAcc@1 93.30 (93.30)\tAcc@5 99.40 (99.40)\n",
      " * Acc@1 93.620 Acc@5 99.480\n"
     ]
    },
    {
     "name": "stderr",
     "output_type": "stream",
     "text": [
      "[07-10 13:49:04 MainProcess #37389] INFO  search_tactic.py:367 - Evaluating subnetwork 37/50 in loop 3 of 5\n"
     ]
    },
    {
     "name": "stdout",
     "output_type": "stream",
     "text": [
      "Test: [ 0/10]\tTime 0.625 (0.625)\tLoss 0.338 (0.338)\tAcc@1 93.20 (93.20)\tAcc@5 99.40 (99.40)\n",
      " * Acc@1 93.350 Acc@5 99.380\n"
     ]
    },
    {
     "name": "stderr",
     "output_type": "stream",
     "text": [
      "[07-10 13:49:14 MainProcess #37389] INFO  search_tactic.py:367 - Evaluating subnetwork 38/50 in loop 3 of 5\n"
     ]
    },
    {
     "name": "stdout",
     "output_type": "stream",
     "text": [
      "Test: [ 0/10]\tTime 0.611 (0.611)\tLoss 0.334 (0.334)\tAcc@1 93.00 (93.00)\tAcc@5 99.20 (99.20)\n",
      " * Acc@1 93.460 Acc@5 99.480\n"
     ]
    },
    {
     "name": "stderr",
     "output_type": "stream",
     "text": [
      "[07-10 13:49:23 MainProcess #37389] INFO  search_tactic.py:367 - Evaluating subnetwork 39/50 in loop 3 of 5\n"
     ]
    },
    {
     "name": "stdout",
     "output_type": "stream",
     "text": [
      "Test: [ 0/10]\tTime 0.608 (0.608)\tLoss 0.334 (0.334)\tAcc@1 92.90 (92.90)\tAcc@5 99.30 (99.30)\n",
      " * Acc@1 93.310 Acc@5 99.390\n"
     ]
    },
    {
     "name": "stderr",
     "output_type": "stream",
     "text": [
      "[07-10 13:49:33 MainProcess #37389] INFO  search_tactic.py:367 - Evaluating subnetwork 40/50 in loop 3 of 5\n"
     ]
    },
    {
     "name": "stdout",
     "output_type": "stream",
     "text": [
      "Test: [ 0/10]\tTime 0.592 (0.592)\tLoss 0.332 (0.332)\tAcc@1 93.10 (93.10)\tAcc@5 99.50 (99.50)\n",
      " * Acc@1 93.460 Acc@5 99.480\n"
     ]
    },
    {
     "name": "stderr",
     "output_type": "stream",
     "text": [
      "[07-10 13:49:42 MainProcess #37389] INFO  search_tactic.py:367 - Evaluating subnetwork 41/50 in loop 3 of 5\n"
     ]
    },
    {
     "name": "stdout",
     "output_type": "stream",
     "text": [
      "Test: [ 0/10]\tTime 0.601 (0.601)\tLoss 0.334 (0.334)\tAcc@1 93.10 (93.10)\tAcc@5 99.20 (99.20)\n",
      " * Acc@1 93.430 Acc@5 99.360\n"
     ]
    },
    {
     "name": "stderr",
     "output_type": "stream",
     "text": [
      "[07-10 13:49:52 MainProcess #37389] INFO  search_tactic.py:367 - Evaluating subnetwork 42/50 in loop 3 of 5\n"
     ]
    },
    {
     "name": "stdout",
     "output_type": "stream",
     "text": [
      "Test: [ 0/10]\tTime 0.568 (0.568)\tLoss 0.335 (0.335)\tAcc@1 92.80 (92.80)\tAcc@5 99.50 (99.50)\n",
      " * Acc@1 93.160 Acc@5 99.410\n"
     ]
    },
    {
     "name": "stderr",
     "output_type": "stream",
     "text": [
      "[07-10 13:50:02 MainProcess #37389] INFO  search_tactic.py:367 - Evaluating subnetwork 43/50 in loop 3 of 5\n"
     ]
    },
    {
     "name": "stdout",
     "output_type": "stream",
     "text": [
      "Test: [ 0/10]\tTime 0.581 (0.581)\tLoss 0.337 (0.337)\tAcc@1 92.90 (92.90)\tAcc@5 99.40 (99.40)\n",
      " * Acc@1 93.450 Acc@5 99.460\n"
     ]
    },
    {
     "name": "stderr",
     "output_type": "stream",
     "text": [
      "[07-10 13:50:12 MainProcess #37389] INFO  search_tactic.py:367 - Evaluating subnetwork 44/50 in loop 3 of 5\n"
     ]
    },
    {
     "name": "stdout",
     "output_type": "stream",
     "text": [
      "Test: [ 0/10]\tTime 0.592 (0.592)\tLoss 0.333 (0.333)\tAcc@1 93.10 (93.10)\tAcc@5 99.30 (99.30)\n",
      " * Acc@1 93.590 Acc@5 99.440\n"
     ]
    },
    {
     "name": "stderr",
     "output_type": "stream",
     "text": [
      "[07-10 13:50:22 MainProcess #37389] INFO  search_tactic.py:367 - Evaluating subnetwork 45/50 in loop 3 of 5\n"
     ]
    },
    {
     "name": "stdout",
     "output_type": "stream",
     "text": [
      "Test: [ 0/10]\tTime 0.588 (0.588)\tLoss 0.340 (0.340)\tAcc@1 92.60 (92.60)\tAcc@5 99.40 (99.40)\n",
      " * Acc@1 93.390 Acc@5 99.410\n"
     ]
    },
    {
     "name": "stderr",
     "output_type": "stream",
     "text": [
      "[07-10 13:50:32 MainProcess #37389] INFO  search_tactic.py:367 - Evaluating subnetwork 46/50 in loop 3 of 5\n"
     ]
    },
    {
     "name": "stdout",
     "output_type": "stream",
     "text": [
      "Test: [ 0/10]\tTime 0.653 (0.653)\tLoss 0.334 (0.334)\tAcc@1 93.00 (93.00)\tAcc@5 99.40 (99.40)\n",
      " * Acc@1 93.610 Acc@5 99.470\n"
     ]
    },
    {
     "name": "stderr",
     "output_type": "stream",
     "text": [
      "[07-10 13:50:42 MainProcess #37389] INFO  search_tactic.py:367 - Evaluating subnetwork 47/50 in loop 3 of 5\n"
     ]
    },
    {
     "name": "stdout",
     "output_type": "stream",
     "text": [
      "Test: [ 0/10]\tTime 0.652 (0.652)\tLoss 0.332 (0.332)\tAcc@1 92.70 (92.70)\tAcc@5 99.30 (99.30)\n",
      " * Acc@1 93.560 Acc@5 99.400\n"
     ]
    },
    {
     "name": "stderr",
     "output_type": "stream",
     "text": [
      "[07-10 13:50:52 MainProcess #37389] INFO  search_tactic.py:367 - Evaluating subnetwork 48/50 in loop 3 of 5\n"
     ]
    },
    {
     "name": "stdout",
     "output_type": "stream",
     "text": [
      "Test: [ 0/10]\tTime 0.600 (0.600)\tLoss 0.335 (0.335)\tAcc@1 93.00 (93.00)\tAcc@5 99.40 (99.40)\n",
      " * Acc@1 93.470 Acc@5 99.470\n"
     ]
    },
    {
     "name": "stderr",
     "output_type": "stream",
     "text": [
      "[07-10 13:51:02 MainProcess #37389] INFO  search_tactic.py:367 - Evaluating subnetwork 49/50 in loop 3 of 5\n"
     ]
    },
    {
     "name": "stdout",
     "output_type": "stream",
     "text": [
      "Test: [ 0/10]\tTime 0.574 (0.574)\tLoss 0.328 (0.328)\tAcc@1 93.30 (93.30)\tAcc@5 99.20 (99.20)\n",
      " * Acc@1 93.590 Acc@5 99.490\n"
     ]
    },
    {
     "name": "stderr",
     "output_type": "stream",
     "text": [
      "[07-10 13:51:11 MainProcess #37389] INFO  search_tactic.py:367 - Evaluating subnetwork 50/50 in loop 3 of 5\n"
     ]
    },
    {
     "name": "stdout",
     "output_type": "stream",
     "text": [
      "Test: [ 0/10]\tTime 0.568 (0.568)\tLoss 0.325 (0.325)\tAcc@1 93.10 (93.10)\tAcc@5 99.30 (99.30)\n",
      " * Acc@1 93.540 Acc@5 99.510\n"
     ]
    },
    {
     "name": "stderr",
     "output_type": "stream",
     "text": [
      "[07-10 13:51:21 MainProcess #37389] INFO  search_tactic.py:345 - Training macs predictor.\n",
      "[07-10 13:51:21 MainProcess #37389] INFO  predictor_manager.py:38 - Building dynamic predictor for macs\n",
      "[07-10 13:51:21 MainProcess #37389] INFO  encoding.py:246 - Training set length=150\n"
     ]
    },
    {
     "name": "stdout",
     "output_type": "stream",
     "text": [
      "<class 'numpy.ndarray'> [149483360 155416000 146617920 135824440 170094680 132495808 167993472\n",
      " 146776736 136530456 139849024 165578272 148014816 122450336 144706496\n",
      " 155187424 131232440 130957952 121358552 149261024 182971264 135725688\n",
      " 135642400 110506112 136215096 146253056 119942296 127610976 147374048\n",
      " 174712224 162536960 154896704 143585984 177298880 107814784 124325144\n",
      " 136489024 151172384 135475360 165484768 175552864 130767040 123315992\n",
      " 187153504 148161888 128757344 124488448 153922880 136189760 135275136\n",
      "  95862336  97202360 125031040 108278400 108278400 113442432 115430016\n",
      "  99637184  97938360 111048320 113035904 122616448 120673408 125031040\n",
      "  97202360  93218744 110920064 102650816  94924728 115836544 105168760\n",
      " 107081344 108278400 105869952 106788672 102650816  97931200 110302336\n",
      " 105615296 108857728 107827328 106066368 103373120 106788672 105059264\n",
      " 105781568 113035904 103724152 103689472 117824128 123067520 109723008\n",
      "  94924728 111048320 124579968 112289920 105869952  97177848 107391680\n",
      " 107827328 105418880  91014520 112285440 109889280 110562304  91014520\n",
      " 101050104  89142648 101050104 110994680  91735928 107193592  90030840\n",
      "  92310776 108472312 101050104  98641656 100451576  97315064  91736824\n",
      "  90604792 104207608 107939576 109715960  98043128 104207608 104036088\n",
      " 104953592 101050104 104207608 105486328  98647288  92365560  95830264\n",
      "  98641656  95226104 110248696  95226104  97634552  94980344  94071544\n",
      "  93421816  92310776  92823288 104036088  95231736  99245816 101538040\n",
      "  94627576 104207608 107193592]\n"
     ]
    },
    {
     "name": "stderr",
     "output_type": "stream",
     "text": [
      "[07-10 13:51:27 MainProcess #37389] INFO  search_tactic.py:347 - Updated self.predictor_dict[macs].\n",
      "[07-10 13:51:27 MainProcess #37389] INFO  search_tactic.py:345 - Training accuracy_top1 predictor.\n",
      "[07-10 13:51:27 MainProcess #37389] INFO  predictor_manager.py:38 - Building dynamic predictor for accuracy_top1\n",
      "[07-10 13:51:28 MainProcess #37389] INFO  encoding.py:246 - Training set length=150\n"
     ]
    },
    {
     "name": "stdout",
     "output_type": "stream",
     "text": [
      "<class 'numpy.ndarray'> [93.07     93.689995 92.93     93.079994 93.369995 93.28     93.229996\n",
      " 93.439995 93.43     93.63     93.659996 93.369995 93.049995 93.09\n",
      " 93.03     93.09     93.159996 93.13     93.299995 93.17     93.53\n",
      " 92.869995 93.119995 92.829994 93.32     93.17     92.85     93.409996\n",
      " 93.81     93.369995 93.42     93.34     93.479996 92.829994 92.92\n",
      " 93.479996 92.95     92.909996 93.619995 93.34     92.97     93.079994\n",
      " 93.5      93.21     93.39     93.06     93.159996 93.159996 93.2\n",
      " 93.06     93.159996 93.43     93.64     93.6      93.509995 93.5\n",
      " 93.11     93.27     93.619995 93.71     93.52     93.649994 93.439995\n",
      " 93.09     93.159996 93.57     93.399994 93.07     93.64     93.57\n",
      " 93.619995 93.479996 93.47     93.46     93.259995 93.18     93.6\n",
      " 93.409996 93.649994 93.61     93.32     93.28     93.45     93.24\n",
      " 93.509995 93.56     93.659996 93.35     93.59     93.57     93.71\n",
      " 93.06     93.54     93.39     93.579994 93.52     93.299995 93.43\n",
      " 93.619995 93.53     93.24     93.54     93.64     93.49     93.149994\n",
      " 93.5      93.27     93.619995 93.45     93.25     93.53     93.22\n",
      " 93.29     93.61     93.659996 93.549995 93.57     93.47     93.2\n",
      " 93.299995 93.61     93.549995 93.43     93.38     93.549995 93.56\n",
      " 93.579994 93.579994 93.53     93.57     93.579994 93.399994 93.479996\n",
      " 93.59     93.36     93.619995 93.35     93.46     93.31     93.46\n",
      " 93.43     93.159996 93.45     93.59     93.39     93.61     93.56\n",
      " 93.47     93.59     93.54    ]\n"
     ]
    },
    {
     "name": "stderr",
     "output_type": "stream",
     "text": [
      "[07-10 13:51:28 MainProcess #37389] INFO  search_tactic.py:347 - Updated self.predictor_dict[accuracy_top1].\n",
      "[07-10 13:51:28 MainProcess #37389] INFO  evolutionary.py:100 - Configuring nsga2 algorithm with 2 objectives.\n",
      "[07-10 13:51:28 MainProcess #37389] INFO  evolutionary.py:334 - Running Search ...\n"
     ]
    },
    {
     "name": "stdout",
     "output_type": "stream",
     "text": [
      "...................................................................................................."
     ]
    },
    {
     "name": "stderr",
     "output_type": "stream",
     "text": [
      "[07-10 13:51:32 MainProcess #37389] INFO  evolutionary.py:350 - Success! Search Took 3.732 seconds.\n",
      "[07-10 13:51:32 MainProcess #37389] INFO  search_tactic.py:363 - Starting LINAS loop 4 of 5.\n",
      "[07-10 13:51:32 MainProcess #37389] INFO  search_tactic.py:367 - Evaluating subnetwork 1/50 in loop 4 of 5\n"
     ]
    },
    {
     "name": "stdout",
     "output_type": "stream",
     "text": [
      "Test: [ 0/10]\tTime 0.622 (0.622)\tLoss 0.340 (0.340)\tAcc@1 92.70 (92.70)\tAcc@5 99.20 (99.20)\n",
      " * Acc@1 93.460 Acc@5 99.400\n"
     ]
    },
    {
     "name": "stderr",
     "output_type": "stream",
     "text": [
      "[07-10 13:51:42 MainProcess #37389] INFO  search_tactic.py:367 - Evaluating subnetwork 2/50 in loop 4 of 5\n"
     ]
    },
    {
     "name": "stdout",
     "output_type": "stream",
     "text": [
      "Test: [ 0/10]\tTime 0.564 (0.564)\tLoss 0.357 (0.357)\tAcc@1 92.90 (92.90)\tAcc@5 99.10 (99.10)\n",
      " * Acc@1 92.860 Acc@5 99.450\n"
     ]
    },
    {
     "name": "stderr",
     "output_type": "stream",
     "text": [
      "[07-10 13:51:51 MainProcess #37389] INFO  search_tactic.py:367 - Evaluating subnetwork 3/50 in loop 4 of 5\n"
     ]
    },
    {
     "name": "stdout",
     "output_type": "stream",
     "text": [
      "Test: [ 0/10]\tTime 0.590 (0.590)\tLoss 0.342 (0.342)\tAcc@1 92.50 (92.50)\tAcc@5 99.30 (99.30)\n",
      " * Acc@1 93.460 Acc@5 99.310\n"
     ]
    },
    {
     "name": "stderr",
     "output_type": "stream",
     "text": [
      "[07-10 13:52:01 MainProcess #37389] INFO  search_tactic.py:367 - Evaluating subnetwork 4/50 in loop 4 of 5\n"
     ]
    },
    {
     "name": "stdout",
     "output_type": "stream",
     "text": [
      "Test: [ 0/10]\tTime 0.580 (0.580)\tLoss 0.349 (0.349)\tAcc@1 93.10 (93.10)\tAcc@5 99.20 (99.20)\n",
      " * Acc@1 93.070 Acc@5 99.390\n"
     ]
    },
    {
     "name": "stderr",
     "output_type": "stream",
     "text": [
      "[07-10 13:52:10 MainProcess #37389] INFO  search_tactic.py:367 - Evaluating subnetwork 5/50 in loop 4 of 5\n"
     ]
    },
    {
     "name": "stdout",
     "output_type": "stream",
     "text": [
      "Test: [ 0/10]\tTime 0.596 (0.596)\tLoss 0.353 (0.353)\tAcc@1 92.50 (92.50)\tAcc@5 99.10 (99.10)\n",
      " * Acc@1 93.240 Acc@5 99.410\n"
     ]
    },
    {
     "name": "stderr",
     "output_type": "stream",
     "text": [
      "[07-10 13:52:19 MainProcess #37389] INFO  search_tactic.py:367 - Evaluating subnetwork 6/50 in loop 4 of 5\n"
     ]
    },
    {
     "name": "stdout",
     "output_type": "stream",
     "text": [
      "Test: [ 0/10]\tTime 0.600 (0.600)\tLoss 0.352 (0.352)\tAcc@1 92.80 (92.80)\tAcc@5 99.30 (99.30)\n",
      " * Acc@1 93.170 Acc@5 99.450\n"
     ]
    },
    {
     "name": "stderr",
     "output_type": "stream",
     "text": [
      "[07-10 13:52:28 MainProcess #37389] INFO  search_tactic.py:367 - Evaluating subnetwork 7/50 in loop 4 of 5\n"
     ]
    },
    {
     "name": "stdout",
     "output_type": "stream",
     "text": [
      "Test: [ 0/10]\tTime 0.629 (0.629)\tLoss 0.350 (0.350)\tAcc@1 92.50 (92.50)\tAcc@5 99.20 (99.20)\n",
      " * Acc@1 93.320 Acc@5 99.340\n"
     ]
    },
    {
     "name": "stderr",
     "output_type": "stream",
     "text": [
      "[07-10 13:52:38 MainProcess #37389] INFO  search_tactic.py:367 - Evaluating subnetwork 8/50 in loop 4 of 5\n"
     ]
    },
    {
     "name": "stdout",
     "output_type": "stream",
     "text": [
      "Test: [ 0/10]\tTime 0.606 (0.606)\tLoss 0.343 (0.343)\tAcc@1 92.60 (92.60)\tAcc@5 99.30 (99.30)\n",
      " * Acc@1 93.520 Acc@5 99.310\n"
     ]
    },
    {
     "name": "stderr",
     "output_type": "stream",
     "text": [
      "[07-10 13:52:48 MainProcess #37389] INFO  search_tactic.py:367 - Evaluating subnetwork 9/50 in loop 4 of 5\n"
     ]
    },
    {
     "name": "stdout",
     "output_type": "stream",
     "text": [
      "Test: [ 0/10]\tTime 0.607 (0.607)\tLoss 0.351 (0.351)\tAcc@1 92.40 (92.40)\tAcc@5 99.30 (99.30)\n",
      " * Acc@1 93.340 Acc@5 99.310\n"
     ]
    },
    {
     "name": "stderr",
     "output_type": "stream",
     "text": [
      "[07-10 13:52:57 MainProcess #37389] INFO  search_tactic.py:367 - Evaluating subnetwork 10/50 in loop 4 of 5\n"
     ]
    },
    {
     "name": "stdout",
     "output_type": "stream",
     "text": [
      "Test: [ 0/10]\tTime 0.605 (0.605)\tLoss 0.348 (0.348)\tAcc@1 92.50 (92.50)\tAcc@5 99.20 (99.20)\n",
      " * Acc@1 93.380 Acc@5 99.320\n"
     ]
    },
    {
     "name": "stderr",
     "output_type": "stream",
     "text": [
      "[07-10 13:53:06 MainProcess #37389] INFO  search_tactic.py:367 - Evaluating subnetwork 11/50 in loop 4 of 5\n"
     ]
    },
    {
     "name": "stdout",
     "output_type": "stream",
     "text": [
      "Test: [ 0/10]\tTime 0.612 (0.612)\tLoss 0.340 (0.340)\tAcc@1 92.80 (92.80)\tAcc@5 99.30 (99.30)\n",
      " * Acc@1 93.550 Acc@5 99.400\n"
     ]
    },
    {
     "name": "stderr",
     "output_type": "stream",
     "text": [
      "[07-10 13:53:16 MainProcess #37389] INFO  search_tactic.py:367 - Evaluating subnetwork 12/50 in loop 4 of 5\n"
     ]
    },
    {
     "name": "stdout",
     "output_type": "stream",
     "text": [
      "Test: [ 0/10]\tTime 0.597 (0.597)\tLoss 0.348 (0.348)\tAcc@1 93.10 (93.10)\tAcc@5 99.20 (99.20)\n",
      " * Acc@1 92.980 Acc@5 99.420\n"
     ]
    },
    {
     "name": "stderr",
     "output_type": "stream",
     "text": [
      "[07-10 13:53:25 MainProcess #37389] INFO  search_tactic.py:367 - Evaluating subnetwork 13/50 in loop 4 of 5\n"
     ]
    },
    {
     "name": "stdout",
     "output_type": "stream",
     "text": [
      "Test: [ 0/10]\tTime 0.594 (0.594)\tLoss 0.363 (0.363)\tAcc@1 92.40 (92.40)\tAcc@5 99.20 (99.20)\n",
      " * Acc@1 93.310 Acc@5 99.330\n"
     ]
    },
    {
     "name": "stderr",
     "output_type": "stream",
     "text": [
      "[07-10 13:53:35 MainProcess #37389] INFO  search_tactic.py:367 - Evaluating subnetwork 14/50 in loop 4 of 5\n"
     ]
    },
    {
     "name": "stdout",
     "output_type": "stream",
     "text": [
      "Test: [ 0/10]\tTime 0.653 (0.653)\tLoss 0.339 (0.339)\tAcc@1 92.70 (92.70)\tAcc@5 99.30 (99.30)\n",
      " * Acc@1 93.550 Acc@5 99.330\n"
     ]
    },
    {
     "name": "stderr",
     "output_type": "stream",
     "text": [
      "[07-10 13:53:45 MainProcess #37389] INFO  search_tactic.py:367 - Evaluating subnetwork 15/50 in loop 4 of 5\n"
     ]
    },
    {
     "name": "stdout",
     "output_type": "stream",
     "text": [
      "Test: [ 0/10]\tTime 0.583 (0.583)\tLoss 0.358 (0.358)\tAcc@1 92.40 (92.40)\tAcc@5 99.30 (99.30)\n",
      " * Acc@1 93.270 Acc@5 99.400\n"
     ]
    },
    {
     "name": "stderr",
     "output_type": "stream",
     "text": [
      "[07-10 13:53:54 MainProcess #37389] INFO  search_tactic.py:367 - Evaluating subnetwork 16/50 in loop 4 of 5\n"
     ]
    },
    {
     "name": "stdout",
     "output_type": "stream",
     "text": [
      "Test: [ 0/10]\tTime 0.578 (0.578)\tLoss 0.348 (0.348)\tAcc@1 93.10 (93.10)\tAcc@5 99.40 (99.40)\n",
      " * Acc@1 93.030 Acc@5 99.420\n"
     ]
    },
    {
     "name": "stderr",
     "output_type": "stream",
     "text": [
      "[07-10 13:54:03 MainProcess #37389] INFO  search_tactic.py:367 - Evaluating subnetwork 17/50 in loop 4 of 5\n"
     ]
    },
    {
     "name": "stdout",
     "output_type": "stream",
     "text": [
      "Test: [ 0/10]\tTime 0.597 (0.597)\tLoss 0.346 (0.346)\tAcc@1 92.60 (92.60)\tAcc@5 99.20 (99.20)\n",
      " * Acc@1 93.310 Acc@5 99.350\n"
     ]
    },
    {
     "name": "stderr",
     "output_type": "stream",
     "text": [
      "[07-10 13:54:13 MainProcess #37389] INFO  search_tactic.py:367 - Evaluating subnetwork 18/50 in loop 4 of 5\n"
     ]
    },
    {
     "name": "stdout",
     "output_type": "stream",
     "text": [
      "Test: [ 0/10]\tTime 0.587 (0.587)\tLoss 0.355 (0.355)\tAcc@1 92.70 (92.70)\tAcc@5 99.20 (99.20)\n",
      " * Acc@1 93.250 Acc@5 99.380\n"
     ]
    },
    {
     "name": "stderr",
     "output_type": "stream",
     "text": [
      "[07-10 13:54:22 MainProcess #37389] INFO  search_tactic.py:367 - Evaluating subnetwork 19/50 in loop 4 of 5\n"
     ]
    },
    {
     "name": "stdout",
     "output_type": "stream",
     "text": [
      "Test: [ 0/10]\tTime 0.585 (0.585)\tLoss 0.348 (0.348)\tAcc@1 93.10 (93.10)\tAcc@5 99.40 (99.40)\n",
      " * Acc@1 92.980 Acc@5 99.490\n"
     ]
    },
    {
     "name": "stderr",
     "output_type": "stream",
     "text": [
      "[07-10 13:54:31 MainProcess #37389] INFO  search_tactic.py:367 - Evaluating subnetwork 20/50 in loop 4 of 5\n"
     ]
    },
    {
     "name": "stdout",
     "output_type": "stream",
     "text": [
      "Test: [ 0/10]\tTime 0.579 (0.579)\tLoss 0.352 (0.352)\tAcc@1 92.60 (92.60)\tAcc@5 99.30 (99.30)\n",
      " * Acc@1 93.030 Acc@5 99.380\n"
     ]
    },
    {
     "name": "stderr",
     "output_type": "stream",
     "text": [
      "[07-10 13:54:41 MainProcess #37389] INFO  search_tactic.py:367 - Evaluating subnetwork 21/50 in loop 4 of 5\n"
     ]
    },
    {
     "name": "stdout",
     "output_type": "stream",
     "text": [
      "Test: [ 0/10]\tTime 0.579 (0.579)\tLoss 0.358 (0.358)\tAcc@1 92.80 (92.80)\tAcc@5 99.20 (99.20)\n",
      " * Acc@1 92.920 Acc@5 99.400\n"
     ]
    },
    {
     "name": "stderr",
     "output_type": "stream",
     "text": [
      "[07-10 13:54:50 MainProcess #37389] INFO  search_tactic.py:367 - Evaluating subnetwork 22/50 in loop 4 of 5\n"
     ]
    },
    {
     "name": "stdout",
     "output_type": "stream",
     "text": [
      "Test: [ 0/10]\tTime 0.609 (0.609)\tLoss 0.336 (0.336)\tAcc@1 93.00 (93.00)\tAcc@5 99.30 (99.30)\n",
      " * Acc@1 93.620 Acc@5 99.370\n"
     ]
    },
    {
     "name": "stderr",
     "output_type": "stream",
     "text": [
      "[07-10 13:54:59 MainProcess #37389] INFO  search_tactic.py:367 - Evaluating subnetwork 23/50 in loop 4 of 5\n"
     ]
    },
    {
     "name": "stdout",
     "output_type": "stream",
     "text": [
      "Test: [ 0/10]\tTime 0.571 (0.571)\tLoss 0.358 (0.358)\tAcc@1 93.00 (93.00)\tAcc@5 98.80 (98.80)\n",
      " * Acc@1 92.910 Acc@5 99.370\n"
     ]
    },
    {
     "name": "stderr",
     "output_type": "stream",
     "text": [
      "[07-10 13:55:08 MainProcess #37389] INFO  search_tactic.py:367 - Evaluating subnetwork 24/50 in loop 4 of 5\n"
     ]
    },
    {
     "name": "stdout",
     "output_type": "stream",
     "text": [
      "Test: [ 0/10]\tTime 0.588 (0.588)\tLoss 0.352 (0.352)\tAcc@1 92.70 (92.70)\tAcc@5 99.30 (99.30)\n",
      " * Acc@1 93.210 Acc@5 99.420\n"
     ]
    },
    {
     "name": "stderr",
     "output_type": "stream",
     "text": [
      "[07-10 13:55:18 MainProcess #37389] INFO  search_tactic.py:367 - Evaluating subnetwork 25/50 in loop 4 of 5\n"
     ]
    },
    {
     "name": "stdout",
     "output_type": "stream",
     "text": [
      "Test: [ 0/10]\tTime 0.581 (0.581)\tLoss 0.346 (0.346)\tAcc@1 93.10 (93.10)\tAcc@5 99.30 (99.30)\n",
      " * Acc@1 93.000 Acc@5 99.450\n"
     ]
    },
    {
     "name": "stderr",
     "output_type": "stream",
     "text": [
      "[07-10 13:55:27 MainProcess #37389] INFO  search_tactic.py:367 - Evaluating subnetwork 26/50 in loop 4 of 5\n"
     ]
    },
    {
     "name": "stdout",
     "output_type": "stream",
     "text": [
      "Test: [ 0/10]\tTime 0.594 (0.594)\tLoss 0.357 (0.357)\tAcc@1 92.60 (92.60)\tAcc@5 99.20 (99.20)\n",
      " * Acc@1 93.170 Acc@5 99.290\n"
     ]
    },
    {
     "name": "stderr",
     "output_type": "stream",
     "text": [
      "[07-10 13:55:37 MainProcess #37389] INFO  search_tactic.py:367 - Evaluating subnetwork 27/50 in loop 4 of 5\n"
     ]
    },
    {
     "name": "stdout",
     "output_type": "stream",
     "text": [
      "Test: [ 0/10]\tTime 0.601 (0.601)\tLoss 0.358 (0.358)\tAcc@1 92.50 (92.50)\tAcc@5 99.30 (99.30)\n",
      " * Acc@1 93.310 Acc@5 99.370\n"
     ]
    },
    {
     "name": "stderr",
     "output_type": "stream",
     "text": [
      "[07-10 13:55:46 MainProcess #37389] INFO  search_tactic.py:367 - Evaluating subnetwork 28/50 in loop 4 of 5\n"
     ]
    },
    {
     "name": "stdout",
     "output_type": "stream",
     "text": [
      "Test: [ 0/10]\tTime 0.577 (0.577)\tLoss 0.354 (0.354)\tAcc@1 93.10 (93.10)\tAcc@5 99.10 (99.10)\n",
      " * Acc@1 93.040 Acc@5 99.360\n"
     ]
    },
    {
     "name": "stderr",
     "output_type": "stream",
     "text": [
      "[07-10 13:55:55 MainProcess #37389] INFO  search_tactic.py:367 - Evaluating subnetwork 29/50 in loop 4 of 5\n"
     ]
    },
    {
     "name": "stdout",
     "output_type": "stream",
     "text": [
      "Test: [ 0/10]\tTime 0.568 (0.568)\tLoss 0.357 (0.357)\tAcc@1 92.50 (92.50)\tAcc@5 99.10 (99.10)\n",
      " * Acc@1 93.240 Acc@5 99.340\n"
     ]
    },
    {
     "name": "stderr",
     "output_type": "stream",
     "text": [
      "[07-10 13:56:05 MainProcess #37389] INFO  search_tactic.py:367 - Evaluating subnetwork 30/50 in loop 4 of 5\n"
     ]
    },
    {
     "name": "stdout",
     "output_type": "stream",
     "text": [
      "Test: [ 0/10]\tTime 0.620 (0.620)\tLoss 0.338 (0.338)\tAcc@1 92.80 (92.80)\tAcc@5 99.20 (99.20)\n",
      " * Acc@1 93.560 Acc@5 99.370\n"
     ]
    },
    {
     "name": "stderr",
     "output_type": "stream",
     "text": [
      "[07-10 13:56:15 MainProcess #37389] INFO  search_tactic.py:367 - Evaluating subnetwork 31/50 in loop 4 of 5\n"
     ]
    },
    {
     "name": "stdout",
     "output_type": "stream",
     "text": [
      "Test: [ 0/10]\tTime 0.636 (0.636)\tLoss 0.350 (0.350)\tAcc@1 93.10 (93.10)\tAcc@5 99.40 (99.40)\n",
      " * Acc@1 93.110 Acc@5 99.510\n"
     ]
    },
    {
     "name": "stderr",
     "output_type": "stream",
     "text": [
      "[07-10 13:56:25 MainProcess #37389] INFO  search_tactic.py:367 - Evaluating subnetwork 32/50 in loop 4 of 5\n"
     ]
    },
    {
     "name": "stdout",
     "output_type": "stream",
     "text": [
      "Test: [ 0/10]\tTime 0.762 (0.762)\tLoss 0.358 (0.358)\tAcc@1 92.70 (92.70)\tAcc@5 99.10 (99.10)\n",
      " * Acc@1 92.940 Acc@5 99.350\n"
     ]
    },
    {
     "name": "stderr",
     "output_type": "stream",
     "text": [
      "[07-10 13:56:35 MainProcess #37389] INFO  search_tactic.py:367 - Evaluating subnetwork 33/50 in loop 4 of 5\n"
     ]
    },
    {
     "name": "stdout",
     "output_type": "stream",
     "text": [
      "Test: [ 0/10]\tTime 0.626 (0.626)\tLoss 0.354 (0.354)\tAcc@1 92.80 (92.80)\tAcc@5 99.30 (99.30)\n",
      " * Acc@1 93.060 Acc@5 99.390\n"
     ]
    },
    {
     "name": "stderr",
     "output_type": "stream",
     "text": [
      "[07-10 13:56:44 MainProcess #37389] INFO  search_tactic.py:367 - Evaluating subnetwork 34/50 in loop 4 of 5\n"
     ]
    },
    {
     "name": "stdout",
     "output_type": "stream",
     "text": [
      "Test: [ 0/10]\tTime 0.593 (0.593)\tLoss 0.359 (0.359)\tAcc@1 93.00 (93.00)\tAcc@5 99.20 (99.20)\n",
      " * Acc@1 92.930 Acc@5 99.380\n"
     ]
    },
    {
     "name": "stderr",
     "output_type": "stream",
     "text": [
      "[07-10 13:56:54 MainProcess #37389] INFO  search_tactic.py:367 - Evaluating subnetwork 35/50 in loop 4 of 5\n"
     ]
    },
    {
     "name": "stdout",
     "output_type": "stream",
     "text": [
      "Test: [ 0/10]\tTime 0.613 (0.613)\tLoss 0.361 (0.361)\tAcc@1 92.40 (92.40)\tAcc@5 99.30 (99.30)\n",
      " * Acc@1 93.230 Acc@5 99.370\n"
     ]
    },
    {
     "name": "stderr",
     "output_type": "stream",
     "text": [
      "[07-10 13:57:04 MainProcess #37389] INFO  search_tactic.py:367 - Evaluating subnetwork 36/50 in loop 4 of 5\n"
     ]
    },
    {
     "name": "stdout",
     "output_type": "stream",
     "text": [
      "Test: [ 0/10]\tTime 0.633 (0.633)\tLoss 0.340 (0.340)\tAcc@1 92.60 (92.60)\tAcc@5 99.10 (99.10)\n",
      " * Acc@1 93.480 Acc@5 99.330\n"
     ]
    },
    {
     "name": "stderr",
     "output_type": "stream",
     "text": [
      "[07-10 13:57:14 MainProcess #37389] INFO  search_tactic.py:367 - Evaluating subnetwork 37/50 in loop 4 of 5\n"
     ]
    },
    {
     "name": "stdout",
     "output_type": "stream",
     "text": [
      "Test: [ 0/10]\tTime 0.647 (0.647)\tLoss 0.364 (0.364)\tAcc@1 92.30 (92.30)\tAcc@5 99.10 (99.10)\n",
      " * Acc@1 93.300 Acc@5 99.300\n"
     ]
    },
    {
     "name": "stderr",
     "output_type": "stream",
     "text": [
      "[07-10 13:57:23 MainProcess #37389] INFO  search_tactic.py:367 - Evaluating subnetwork 38/50 in loop 4 of 5\n"
     ]
    },
    {
     "name": "stdout",
     "output_type": "stream",
     "text": [
      "Test: [ 0/10]\tTime 0.586 (0.586)\tLoss 0.359 (0.359)\tAcc@1 92.50 (92.50)\tAcc@5 99.30 (99.30)\n",
      " * Acc@1 93.180 Acc@5 99.390\n"
     ]
    },
    {
     "name": "stderr",
     "output_type": "stream",
     "text": [
      "[07-10 13:57:33 MainProcess #37389] INFO  search_tactic.py:367 - Evaluating subnetwork 39/50 in loop 4 of 5\n"
     ]
    },
    {
     "name": "stdout",
     "output_type": "stream",
     "text": [
      "Test: [ 0/10]\tTime 0.587 (0.587)\tLoss 0.360 (0.360)\tAcc@1 92.30 (92.30)\tAcc@5 99.20 (99.20)\n",
      " * Acc@1 93.280 Acc@5 99.380\n"
     ]
    },
    {
     "name": "stderr",
     "output_type": "stream",
     "text": [
      "[07-10 13:57:42 MainProcess #37389] INFO  search_tactic.py:367 - Evaluating subnetwork 40/50 in loop 4 of 5\n"
     ]
    },
    {
     "name": "stdout",
     "output_type": "stream",
     "text": [
      "Test: [ 0/10]\tTime 0.605 (0.605)\tLoss 0.344 (0.344)\tAcc@1 93.20 (93.20)\tAcc@5 99.20 (99.20)\n",
      " * Acc@1 93.110 Acc@5 99.410\n"
     ]
    },
    {
     "name": "stderr",
     "output_type": "stream",
     "text": [
      "[07-10 13:57:52 MainProcess #37389] INFO  search_tactic.py:367 - Evaluating subnetwork 41/50 in loop 4 of 5\n"
     ]
    },
    {
     "name": "stdout",
     "output_type": "stream",
     "text": [
      "Test: [ 0/10]\tTime 0.609 (0.609)\tLoss 0.345 (0.345)\tAcc@1 92.20 (92.20)\tAcc@5 99.10 (99.10)\n",
      " * Acc@1 93.270 Acc@5 99.370\n"
     ]
    },
    {
     "name": "stderr",
     "output_type": "stream",
     "text": [
      "[07-10 13:58:01 MainProcess #37389] INFO  search_tactic.py:367 - Evaluating subnetwork 42/50 in loop 4 of 5\n"
     ]
    },
    {
     "name": "stdout",
     "output_type": "stream",
     "text": [
      "Test: [ 0/10]\tTime 0.601 (0.601)\tLoss 0.351 (0.351)\tAcc@1 92.90 (92.90)\tAcc@5 99.20 (99.20)\n",
      " * Acc@1 93.050 Acc@5 99.380\n"
     ]
    },
    {
     "name": "stderr",
     "output_type": "stream",
     "text": [
      "[07-10 13:58:11 MainProcess #37389] INFO  search_tactic.py:367 - Evaluating subnetwork 43/50 in loop 4 of 5\n"
     ]
    },
    {
     "name": "stdout",
     "output_type": "stream",
     "text": [
      "Test: [ 0/10]\tTime 0.560 (0.560)\tLoss 0.353 (0.353)\tAcc@1 92.60 (92.60)\tAcc@5 99.10 (99.10)\n",
      " * Acc@1 92.930 Acc@5 99.370\n"
     ]
    },
    {
     "name": "stderr",
     "output_type": "stream",
     "text": [
      "[07-10 13:58:20 MainProcess #37389] INFO  search_tactic.py:367 - Evaluating subnetwork 44/50 in loop 4 of 5\n"
     ]
    },
    {
     "name": "stdout",
     "output_type": "stream",
     "text": [
      "Test: [ 0/10]\tTime 0.591 (0.591)\tLoss 0.352 (0.352)\tAcc@1 93.10 (93.10)\tAcc@5 99.30 (99.30)\n",
      " * Acc@1 92.920 Acc@5 99.380\n"
     ]
    },
    {
     "name": "stderr",
     "output_type": "stream",
     "text": [
      "[07-10 13:58:29 MainProcess #37389] INFO  search_tactic.py:367 - Evaluating subnetwork 45/50 in loop 4 of 5\n"
     ]
    },
    {
     "name": "stdout",
     "output_type": "stream",
     "text": [
      "Test: [ 0/10]\tTime 0.547 (0.547)\tLoss 0.360 (0.360)\tAcc@1 92.50 (92.50)\tAcc@5 99.10 (99.10)\n",
      " * Acc@1 93.120 Acc@5 99.370\n"
     ]
    },
    {
     "name": "stderr",
     "output_type": "stream",
     "text": [
      "[07-10 13:58:39 MainProcess #37389] INFO  search_tactic.py:367 - Evaluating subnetwork 46/50 in loop 4 of 5\n"
     ]
    },
    {
     "name": "stdout",
     "output_type": "stream",
     "text": [
      "Test: [ 0/10]\tTime 0.614 (0.614)\tLoss 0.359 (0.359)\tAcc@1 92.50 (92.50)\tAcc@5 99.30 (99.30)\n",
      " * Acc@1 93.350 Acc@5 99.490\n"
     ]
    },
    {
     "name": "stderr",
     "output_type": "stream",
     "text": [
      "[07-10 13:58:48 MainProcess #37389] INFO  search_tactic.py:367 - Evaluating subnetwork 47/50 in loop 4 of 5\n"
     ]
    },
    {
     "name": "stdout",
     "output_type": "stream",
     "text": [
      "Test: [ 0/10]\tTime 0.636 (0.636)\tLoss 0.355 (0.355)\tAcc@1 92.90 (92.90)\tAcc@5 99.20 (99.20)\n",
      " * Acc@1 93.100 Acc@5 99.390\n"
     ]
    },
    {
     "name": "stderr",
     "output_type": "stream",
     "text": [
      "[07-10 13:58:58 MainProcess #37389] INFO  search_tactic.py:367 - Evaluating subnetwork 48/50 in loop 4 of 5\n"
     ]
    },
    {
     "name": "stdout",
     "output_type": "stream",
     "text": [
      "Test: [ 0/10]\tTime 0.642 (0.642)\tLoss 0.348 (0.348)\tAcc@1 92.60 (92.60)\tAcc@5 99.20 (99.20)\n",
      " * Acc@1 93.120 Acc@5 99.430\n"
     ]
    },
    {
     "name": "stderr",
     "output_type": "stream",
     "text": [
      "[07-10 13:59:07 MainProcess #37389] INFO  search_tactic.py:367 - Evaluating subnetwork 49/50 in loop 4 of 5\n"
     ]
    },
    {
     "name": "stdout",
     "output_type": "stream",
     "text": [
      "Test: [ 0/10]\tTime 0.631 (0.631)\tLoss 0.357 (0.357)\tAcc@1 92.40 (92.40)\tAcc@5 99.40 (99.40)\n",
      " * Acc@1 93.230 Acc@5 99.400\n"
     ]
    },
    {
     "name": "stderr",
     "output_type": "stream",
     "text": [
      "[07-10 13:59:18 MainProcess #37389] INFO  search_tactic.py:367 - Evaluating subnetwork 50/50 in loop 4 of 5\n"
     ]
    },
    {
     "name": "stdout",
     "output_type": "stream",
     "text": [
      "Test: [ 0/10]\tTime 0.594 (0.594)\tLoss 0.359 (0.359)\tAcc@1 92.30 (92.30)\tAcc@5 99.30 (99.30)\n",
      " * Acc@1 93.230 Acc@5 99.420\n"
     ]
    },
    {
     "name": "stderr",
     "output_type": "stream",
     "text": [
      "[07-10 13:59:28 MainProcess #37389] INFO  search_tactic.py:345 - Training macs predictor.\n",
      "[07-10 13:59:28 MainProcess #37389] INFO  predictor_manager.py:38 - Building dynamic predictor for macs\n",
      "[07-10 13:59:28 MainProcess #37389] INFO  encoding.py:246 - Training set length=200\n"
     ]
    },
    {
     "name": "stdout",
     "output_type": "stream",
     "text": [
      "<class 'numpy.ndarray'> [149483360 155416000 146617920 135824440 170094680 132495808 167993472\n",
      " 146776736 136530456 139849024 165578272 148014816 122450336 144706496\n",
      " 155187424 131232440 130957952 121358552 149261024 182971264 135725688\n",
      " 135642400 110506112 136215096 146253056 119942296 127610976 147374048\n",
      " 174712224 162536960 154896704 143585984 177298880 107814784 124325144\n",
      " 136489024 151172384 135475360 165484768 175552864 130767040 123315992\n",
      " 187153504 148161888 128757344 124488448 153922880 136189760 135275136\n",
      "  95862336  97202360 125031040 108278400 108278400 113442432 115430016\n",
      "  99637184  97938360 111048320 113035904 122616448 120673408 125031040\n",
      "  97202360  93218744 110920064 102650816  94924728 115836544 105168760\n",
      " 107081344 108278400 105869952 106788672 102650816  97931200 110302336\n",
      " 105615296 108857728 107827328 106066368 103373120 106788672 105059264\n",
      " 105781568 113035904 103724152 103689472 117824128 123067520 109723008\n",
      "  94924728 111048320 124579968 112289920 105869952  97177848 107391680\n",
      " 107827328 105418880  91014520 112285440 109889280 110562304  91014520\n",
      " 101050104  89142648 101050104 110994680  91735928 107193592  90030840\n",
      "  92310776 108472312 101050104  98641656 100451576  97315064  91736824\n",
      "  90604792 104207608 107939576 109715960  98043128 104207608 104036088\n",
      " 104953592 101050104 104207608 105486328  98647288  92365560  95830264\n",
      "  98641656  95226104 110248696  95226104  97634552  94980344  94071544\n",
      "  93421816  92310776  92823288 104036088  95231736  99245816 101538040\n",
      "  94627576 104207608 107193592 128913280  83854208 128913280  87011712\n",
      "  94883712  93604992 115108480 115033856 115108480 115673024 127101184\n",
      "  86514048 104057984 119340288 104057984  89178624 122580224  95736192\n",
      "  87011712  88742272  83854208 127101184  81189632  95771904  86514048\n",
      "  94883712 106189184  86514048  94883712 127101184  87504640  84347136\n",
      "  88742272  83854208  95736192 127936960 104057984  92965632 110802048\n",
      "  89671552 120768128  88742272  86021120  84347136 106189184 105336704\n",
      "  91899776  92655488 107270912 107270912]\n"
     ]
    },
    {
     "name": "stderr",
     "output_type": "stream",
     "text": [
      "[07-10 13:59:34 MainProcess #37389] INFO  search_tactic.py:347 - Updated self.predictor_dict[macs].\n",
      "[07-10 13:59:34 MainProcess #37389] INFO  search_tactic.py:345 - Training accuracy_top1 predictor.\n",
      "[07-10 13:59:34 MainProcess #37389] INFO  predictor_manager.py:38 - Building dynamic predictor for accuracy_top1\n",
      "[07-10 13:59:34 MainProcess #37389] INFO  encoding.py:246 - Training set length=200\n"
     ]
    },
    {
     "name": "stdout",
     "output_type": "stream",
     "text": [
      "<class 'numpy.ndarray'> [93.07     93.689995 92.93     93.079994 93.369995 93.28     93.229996\n",
      " 93.439995 93.43     93.63     93.659996 93.369995 93.049995 93.09\n",
      " 93.03     93.09     93.159996 93.13     93.299995 93.17     93.53\n",
      " 92.869995 93.119995 92.829994 93.32     93.17     92.85     93.409996\n",
      " 93.81     93.369995 93.42     93.34     93.479996 92.829994 92.92\n",
      " 93.479996 92.95     92.909996 93.619995 93.34     92.97     93.079994\n",
      " 93.5      93.21     93.39     93.06     93.159996 93.159996 93.2\n",
      " 93.06     93.159996 93.43     93.64     93.6      93.509995 93.5\n",
      " 93.11     93.27     93.619995 93.71     93.52     93.649994 93.439995\n",
      " 93.09     93.159996 93.57     93.399994 93.07     93.64     93.57\n",
      " 93.619995 93.479996 93.47     93.46     93.259995 93.18     93.6\n",
      " 93.409996 93.649994 93.61     93.32     93.28     93.45     93.24\n",
      " 93.509995 93.56     93.659996 93.35     93.59     93.57     93.71\n",
      " 93.06     93.54     93.39     93.579994 93.52     93.299995 93.43\n",
      " 93.619995 93.53     93.24     93.54     93.64     93.49     93.149994\n",
      " 93.5      93.27     93.619995 93.45     93.25     93.53     93.22\n",
      " 93.29     93.61     93.659996 93.549995 93.57     93.47     93.2\n",
      " 93.299995 93.61     93.549995 93.43     93.38     93.549995 93.56\n",
      " 93.579994 93.579994 93.53     93.57     93.579994 93.399994 93.479996\n",
      " 93.59     93.36     93.619995 93.35     93.46     93.31     93.46\n",
      " 93.43     93.159996 93.45     93.59     93.39     93.61     93.56\n",
      " 93.47     93.59     93.54     93.46     92.86     93.46     93.07\n",
      " 93.24     93.17     93.32     93.52     93.34     93.38     93.549995\n",
      " 92.979996 93.31     93.549995 93.27     93.03     93.31     93.25\n",
      " 92.979996 93.03     92.92     93.619995 92.909996 93.21     93.\n",
      " 93.17     93.31     93.04     93.24     93.56     93.11     92.939995\n",
      " 93.06     92.93     93.229996 93.479996 93.299995 93.18     93.28\n",
      " 93.11     93.27     93.049995 92.93     92.92     93.119995 93.35\n",
      " 93.1      93.119995 93.229996 93.229996]\n"
     ]
    },
    {
     "name": "stderr",
     "output_type": "stream",
     "text": [
      "[07-10 13:59:36 MainProcess #37389] INFO  search_tactic.py:347 - Updated self.predictor_dict[accuracy_top1].\n",
      "[07-10 13:59:36 MainProcess #37389] INFO  evolutionary.py:100 - Configuring nsga2 algorithm with 2 objectives.\n",
      "[07-10 13:59:36 MainProcess #37389] INFO  evolutionary.py:334 - Running Search ...\n"
     ]
    },
    {
     "name": "stdout",
     "output_type": "stream",
     "text": [
      "...................................................................................................."
     ]
    },
    {
     "name": "stderr",
     "output_type": "stream",
     "text": [
      "[07-10 13:59:40 MainProcess #37389] INFO  evolutionary.py:350 - Success! Search Took 4.353 seconds.\n",
      "[07-10 13:59:40 MainProcess #37389] INFO  search_tactic.py:363 - Starting LINAS loop 5 of 5.\n",
      "[07-10 13:59:40 MainProcess #37389] INFO  search_tactic.py:367 - Evaluating subnetwork 1/50 in loop 5 of 5\n"
     ]
    },
    {
     "name": "stdout",
     "output_type": "stream",
     "text": [
      "Test: [ 0/10]\tTime 0.599 (0.599)\tLoss 0.333 (0.333)\tAcc@1 93.10 (93.10)\tAcc@5 99.40 (99.40)\n",
      " * Acc@1 93.410 Acc@5 99.330\n"
     ]
    },
    {
     "name": "stderr",
     "output_type": "stream",
     "text": [
      "[07-10 13:59:50 MainProcess #37389] INFO  search_tactic.py:367 - Evaluating subnetwork 2/50 in loop 5 of 5\n"
     ]
    },
    {
     "name": "stdout",
     "output_type": "stream",
     "text": [
      "Test: [ 0/10]\tTime 0.595 (0.595)\tLoss 0.357 (0.357)\tAcc@1 92.70 (92.70)\tAcc@5 99.30 (99.30)\n",
      " * Acc@1 92.790 Acc@5 99.340\n"
     ]
    },
    {
     "name": "stderr",
     "output_type": "stream",
     "text": [
      "[07-10 13:59:59 MainProcess #37389] INFO  search_tactic.py:367 - Evaluating subnetwork 3/50 in loop 5 of 5\n"
     ]
    },
    {
     "name": "stdout",
     "output_type": "stream",
     "text": [
      "Test: [ 0/10]\tTime 0.560 (0.560)\tLoss 0.337 (0.337)\tAcc@1 93.00 (93.00)\tAcc@5 99.00 (99.00)\n",
      " * Acc@1 93.360 Acc@5 99.240\n"
     ]
    },
    {
     "name": "stderr",
     "output_type": "stream",
     "text": [
      "[07-10 14:00:09 MainProcess #37389] INFO  search_tactic.py:367 - Evaluating subnetwork 4/50 in loop 5 of 5\n"
     ]
    },
    {
     "name": "stdout",
     "output_type": "stream",
     "text": [
      "Test: [ 0/10]\tTime 0.608 (0.608)\tLoss 0.340 (0.340)\tAcc@1 92.70 (92.70)\tAcc@5 99.40 (99.40)\n",
      " * Acc@1 93.350 Acc@5 99.350\n"
     ]
    },
    {
     "name": "stderr",
     "output_type": "stream",
     "text": [
      "[07-10 14:00:18 MainProcess #37389] INFO  search_tactic.py:367 - Evaluating subnetwork 5/50 in loop 5 of 5\n"
     ]
    },
    {
     "name": "stdout",
     "output_type": "stream",
     "text": [
      "Test: [ 0/10]\tTime 0.630 (0.630)\tLoss 0.351 (0.351)\tAcc@1 92.50 (92.50)\tAcc@5 99.40 (99.40)\n",
      " * Acc@1 93.230 Acc@5 99.310\n"
     ]
    },
    {
     "name": "stderr",
     "output_type": "stream",
     "text": [
      "[07-10 14:00:28 MainProcess #37389] INFO  search_tactic.py:367 - Evaluating subnetwork 6/50 in loop 5 of 5\n"
     ]
    },
    {
     "name": "stdout",
     "output_type": "stream",
     "text": [
      "Test: [ 0/10]\tTime 0.573 (0.573)\tLoss 0.360 (0.360)\tAcc@1 92.40 (92.40)\tAcc@5 99.00 (99.00)\n",
      " * Acc@1 93.260 Acc@5 99.220\n"
     ]
    },
    {
     "name": "stderr",
     "output_type": "stream",
     "text": [
      "[07-10 14:00:37 MainProcess #37389] INFO  search_tactic.py:367 - Evaluating subnetwork 7/50 in loop 5 of 5\n"
     ]
    },
    {
     "name": "stdout",
     "output_type": "stream",
     "text": [
      "Test: [ 0/10]\tTime 0.562 (0.562)\tLoss 0.357 (0.357)\tAcc@1 92.40 (92.40)\tAcc@5 99.40 (99.40)\n",
      " * Acc@1 92.700 Acc@5 99.440\n"
     ]
    },
    {
     "name": "stderr",
     "output_type": "stream",
     "text": [
      "[07-10 14:00:46 MainProcess #37389] INFO  search_tactic.py:367 - Evaluating subnetwork 8/50 in loop 5 of 5\n"
     ]
    },
    {
     "name": "stdout",
     "output_type": "stream",
     "text": [
      "Test: [ 0/10]\tTime 0.620 (0.620)\tLoss 0.353 (0.353)\tAcc@1 92.60 (92.60)\tAcc@5 99.10 (99.10)\n",
      " * Acc@1 93.400 Acc@5 99.320\n"
     ]
    },
    {
     "name": "stderr",
     "output_type": "stream",
     "text": [
      "[07-10 14:00:57 MainProcess #37389] INFO  search_tactic.py:367 - Evaluating subnetwork 9/50 in loop 5 of 5\n"
     ]
    },
    {
     "name": "stdout",
     "output_type": "stream",
     "text": [
      "Test: [ 0/10]\tTime 0.672 (0.672)\tLoss 0.350 (0.350)\tAcc@1 92.40 (92.40)\tAcc@5 99.20 (99.20)\n",
      " * Acc@1 93.510 Acc@5 99.330\n"
     ]
    },
    {
     "name": "stderr",
     "output_type": "stream",
     "text": [
      "[07-10 14:01:10 MainProcess #37389] INFO  search_tactic.py:367 - Evaluating subnetwork 10/50 in loop 5 of 5\n"
     ]
    },
    {
     "name": "stdout",
     "output_type": "stream",
     "text": [
      "Test: [ 0/10]\tTime 0.657 (0.657)\tLoss 0.355 (0.355)\tAcc@1 92.20 (92.20)\tAcc@5 99.20 (99.20)\n",
      " * Acc@1 93.140 Acc@5 99.270\n"
     ]
    },
    {
     "name": "stderr",
     "output_type": "stream",
     "text": [
      "[07-10 14:01:24 MainProcess #37389] INFO  search_tactic.py:367 - Evaluating subnetwork 11/50 in loop 5 of 5\n"
     ]
    },
    {
     "name": "stdout",
     "output_type": "stream",
     "text": [
      "Test: [ 0/10]\tTime 0.665 (0.665)\tLoss 0.354 (0.354)\tAcc@1 92.40 (92.40)\tAcc@5 99.20 (99.20)\n",
      " * Acc@1 93.020 Acc@5 99.280\n"
     ]
    },
    {
     "name": "stderr",
     "output_type": "stream",
     "text": [
      "[07-10 14:01:37 MainProcess #37389] INFO  search_tactic.py:367 - Evaluating subnetwork 12/50 in loop 5 of 5\n"
     ]
    },
    {
     "name": "stdout",
     "output_type": "stream",
     "text": [
      "Test: [ 0/10]\tTime 0.597 (0.597)\tLoss 0.356 (0.356)\tAcc@1 92.60 (92.60)\tAcc@5 99.40 (99.40)\n",
      " * Acc@1 93.160 Acc@5 99.310\n"
     ]
    },
    {
     "name": "stderr",
     "output_type": "stream",
     "text": [
      "[07-10 14:01:46 MainProcess #37389] INFO  search_tactic.py:367 - Evaluating subnetwork 13/50 in loop 5 of 5\n"
     ]
    },
    {
     "name": "stdout",
     "output_type": "stream",
     "text": [
      "Test: [ 0/10]\tTime 0.597 (0.597)\tLoss 0.365 (0.365)\tAcc@1 92.40 (92.40)\tAcc@5 99.00 (99.00)\n",
      " * Acc@1 92.900 Acc@5 99.220\n"
     ]
    },
    {
     "name": "stderr",
     "output_type": "stream",
     "text": [
      "[07-10 14:01:56 MainProcess #37389] INFO  search_tactic.py:367 - Evaluating subnetwork 14/50 in loop 5 of 5\n"
     ]
    },
    {
     "name": "stdout",
     "output_type": "stream",
     "text": [
      "Test: [ 0/10]\tTime 0.610 (0.610)\tLoss 0.352 (0.352)\tAcc@1 92.30 (92.30)\tAcc@5 99.20 (99.20)\n",
      " * Acc@1 93.120 Acc@5 99.240\n"
     ]
    },
    {
     "name": "stderr",
     "output_type": "stream",
     "text": [
      "[07-10 14:02:06 MainProcess #37389] INFO  search_tactic.py:367 - Evaluating subnetwork 15/50 in loop 5 of 5\n"
     ]
    },
    {
     "name": "stdout",
     "output_type": "stream",
     "text": [
      "Test: [ 0/10]\tTime 0.642 (0.642)\tLoss 0.371 (0.371)\tAcc@1 92.00 (92.00)\tAcc@5 99.10 (99.10)\n",
      " * Acc@1 92.650 Acc@5 99.270\n"
     ]
    },
    {
     "name": "stderr",
     "output_type": "stream",
     "text": [
      "[07-10 14:02:15 MainProcess #37389] INFO  search_tactic.py:367 - Evaluating subnetwork 16/50 in loop 5 of 5\n"
     ]
    },
    {
     "name": "stdout",
     "output_type": "stream",
     "text": [
      "Test: [ 0/10]\tTime 0.571 (0.571)\tLoss 0.355 (0.355)\tAcc@1 92.40 (92.40)\tAcc@5 99.40 (99.40)\n",
      " * Acc@1 92.890 Acc@5 99.330\n"
     ]
    },
    {
     "name": "stderr",
     "output_type": "stream",
     "text": [
      "[07-10 14:02:25 MainProcess #37389] INFO  search_tactic.py:367 - Evaluating subnetwork 17/50 in loop 5 of 5\n"
     ]
    },
    {
     "name": "stdout",
     "output_type": "stream",
     "text": [
      "Test: [ 0/10]\tTime 0.603 (0.603)\tLoss 0.354 (0.354)\tAcc@1 92.40 (92.40)\tAcc@5 99.60 (99.60)\n",
      " * Acc@1 93.140 Acc@5 99.360\n"
     ]
    },
    {
     "name": "stderr",
     "output_type": "stream",
     "text": [
      "[07-10 14:02:35 MainProcess #37389] INFO  search_tactic.py:367 - Evaluating subnetwork 18/50 in loop 5 of 5\n"
     ]
    },
    {
     "name": "stdout",
     "output_type": "stream",
     "text": [
      "Test: [ 0/10]\tTime 0.580 (0.580)\tLoss 0.357 (0.357)\tAcc@1 92.40 (92.40)\tAcc@5 99.30 (99.30)\n",
      " * Acc@1 93.180 Acc@5 99.270\n"
     ]
    },
    {
     "name": "stderr",
     "output_type": "stream",
     "text": [
      "[07-10 14:02:44 MainProcess #37389] INFO  search_tactic.py:367 - Evaluating subnetwork 19/50 in loop 5 of 5\n"
     ]
    },
    {
     "name": "stdout",
     "output_type": "stream",
     "text": [
      "Test: [ 0/10]\tTime 0.577 (0.577)\tLoss 0.358 (0.358)\tAcc@1 92.30 (92.30)\tAcc@5 99.20 (99.20)\n",
      " * Acc@1 93.240 Acc@5 99.360\n"
     ]
    },
    {
     "name": "stderr",
     "output_type": "stream",
     "text": [
      "[07-10 14:02:54 MainProcess #37389] INFO  search_tactic.py:367 - Evaluating subnetwork 20/50 in loop 5 of 5\n"
     ]
    },
    {
     "name": "stdout",
     "output_type": "stream",
     "text": [
      "Test: [ 0/10]\tTime 0.590 (0.590)\tLoss 0.352 (0.352)\tAcc@1 92.20 (92.20)\tAcc@5 99.10 (99.10)\n",
      " * Acc@1 93.430 Acc@5 99.240\n"
     ]
    },
    {
     "name": "stderr",
     "output_type": "stream",
     "text": [
      "[07-10 14:03:04 MainProcess #37389] INFO  search_tactic.py:367 - Evaluating subnetwork 21/50 in loop 5 of 5\n"
     ]
    },
    {
     "name": "stdout",
     "output_type": "stream",
     "text": [
      "Test: [ 0/10]\tTime 0.606 (0.606)\tLoss 0.340 (0.340)\tAcc@1 92.80 (92.80)\tAcc@5 99.30 (99.30)\n",
      " * Acc@1 93.500 Acc@5 99.260\n"
     ]
    },
    {
     "name": "stderr",
     "output_type": "stream",
     "text": [
      "[07-10 14:03:13 MainProcess #37389] INFO  search_tactic.py:367 - Evaluating subnetwork 22/50 in loop 5 of 5\n"
     ]
    },
    {
     "name": "stdout",
     "output_type": "stream",
     "text": [
      "Test: [ 0/10]\tTime 0.598 (0.598)\tLoss 0.339 (0.339)\tAcc@1 92.60 (92.60)\tAcc@5 99.40 (99.40)\n",
      " * Acc@1 93.410 Acc@5 99.330\n"
     ]
    },
    {
     "name": "stderr",
     "output_type": "stream",
     "text": [
      "[07-10 14:03:23 MainProcess #37389] INFO  search_tactic.py:367 - Evaluating subnetwork 23/50 in loop 5 of 5\n"
     ]
    },
    {
     "name": "stdout",
     "output_type": "stream",
     "text": [
      "Test: [ 0/10]\tTime 0.581 (0.581)\tLoss 0.350 (0.350)\tAcc@1 92.50 (92.50)\tAcc@5 99.50 (99.50)\n",
      " * Acc@1 92.870 Acc@5 99.490\n"
     ]
    },
    {
     "name": "stderr",
     "output_type": "stream",
     "text": [
      "[07-10 14:03:31 MainProcess #37389] INFO  search_tactic.py:367 - Evaluating subnetwork 24/50 in loop 5 of 5\n"
     ]
    },
    {
     "name": "stdout",
     "output_type": "stream",
     "text": [
      "Test: [ 0/10]\tTime 0.580 (0.580)\tLoss 0.351 (0.351)\tAcc@1 92.60 (92.60)\tAcc@5 99.30 (99.30)\n",
      " * Acc@1 93.380 Acc@5 99.270\n"
     ]
    },
    {
     "name": "stderr",
     "output_type": "stream",
     "text": [
      "[07-10 14:03:41 MainProcess #37389] INFO  search_tactic.py:367 - Evaluating subnetwork 25/50 in loop 5 of 5\n"
     ]
    },
    {
     "name": "stdout",
     "output_type": "stream",
     "text": [
      "Test: [ 0/10]\tTime 0.588 (0.588)\tLoss 0.361 (0.361)\tAcc@1 92.40 (92.40)\tAcc@5 99.10 (99.10)\n",
      " * Acc@1 92.780 Acc@5 99.300\n"
     ]
    },
    {
     "name": "stderr",
     "output_type": "stream",
     "text": [
      "[07-10 14:03:51 MainProcess #37389] INFO  search_tactic.py:367 - Evaluating subnetwork 26/50 in loop 5 of 5\n"
     ]
    },
    {
     "name": "stdout",
     "output_type": "stream",
     "text": [
      "Test: [ 0/10]\tTime 0.570 (0.570)\tLoss 0.338 (0.338)\tAcc@1 92.80 (92.80)\tAcc@5 99.30 (99.30)\n",
      " * Acc@1 93.450 Acc@5 99.310\n"
     ]
    },
    {
     "name": "stderr",
     "output_type": "stream",
     "text": [
      "[07-10 14:04:00 MainProcess #37389] INFO  search_tactic.py:367 - Evaluating subnetwork 27/50 in loop 5 of 5\n"
     ]
    },
    {
     "name": "stdout",
     "output_type": "stream",
     "text": [
      "Test: [ 0/10]\tTime 0.596 (0.596)\tLoss 0.353 (0.353)\tAcc@1 92.60 (92.60)\tAcc@5 99.30 (99.30)\n",
      " * Acc@1 93.520 Acc@5 99.350\n"
     ]
    },
    {
     "name": "stderr",
     "output_type": "stream",
     "text": [
      "[07-10 14:04:10 MainProcess #37389] INFO  search_tactic.py:367 - Evaluating subnetwork 28/50 in loop 5 of 5\n"
     ]
    },
    {
     "name": "stdout",
     "output_type": "stream",
     "text": [
      "Test: [ 0/10]\tTime 0.565 (0.565)\tLoss 0.341 (0.341)\tAcc@1 92.90 (92.90)\tAcc@5 99.20 (99.20)\n",
      " * Acc@1 93.470 Acc@5 99.300\n"
     ]
    },
    {
     "name": "stderr",
     "output_type": "stream",
     "text": [
      "[07-10 14:04:19 MainProcess #37389] INFO  search_tactic.py:367 - Evaluating subnetwork 29/50 in loop 5 of 5\n"
     ]
    },
    {
     "name": "stdout",
     "output_type": "stream",
     "text": [
      "Test: [ 0/10]\tTime 0.595 (0.595)\tLoss 0.340 (0.340)\tAcc@1 92.90 (92.90)\tAcc@5 99.20 (99.20)\n",
      " * Acc@1 93.490 Acc@5 99.360\n"
     ]
    },
    {
     "name": "stderr",
     "output_type": "stream",
     "text": [
      "[07-10 14:04:29 MainProcess #37389] INFO  search_tactic.py:367 - Evaluating subnetwork 30/50 in loop 5 of 5\n"
     ]
    },
    {
     "name": "stdout",
     "output_type": "stream",
     "text": [
      "Test: [ 0/10]\tTime 0.707 (0.707)\tLoss 0.342 (0.342)\tAcc@1 93.20 (93.20)\tAcc@5 99.00 (99.00)\n",
      " * Acc@1 93.350 Acc@5 99.240\n"
     ]
    },
    {
     "name": "stderr",
     "output_type": "stream",
     "text": [
      "[07-10 14:04:39 MainProcess #37389] INFO  search_tactic.py:367 - Evaluating subnetwork 31/50 in loop 5 of 5\n"
     ]
    },
    {
     "name": "stdout",
     "output_type": "stream",
     "text": [
      "Test: [ 0/10]\tTime 0.620 (0.620)\tLoss 0.342 (0.342)\tAcc@1 92.80 (92.80)\tAcc@5 99.20 (99.20)\n",
      " * Acc@1 93.350 Acc@5 99.260\n"
     ]
    },
    {
     "name": "stderr",
     "output_type": "stream",
     "text": [
      "[07-10 14:04:49 MainProcess #37389] INFO  search_tactic.py:367 - Evaluating subnetwork 32/50 in loop 5 of 5\n"
     ]
    },
    {
     "name": "stdout",
     "output_type": "stream",
     "text": [
      "Test: [ 0/10]\tTime 0.723 (0.723)\tLoss 0.350 (0.350)\tAcc@1 92.60 (92.60)\tAcc@5 99.20 (99.20)\n",
      " * Acc@1 93.430 Acc@5 99.320\n"
     ]
    },
    {
     "name": "stderr",
     "output_type": "stream",
     "text": [
      "[07-10 14:05:01 MainProcess #37389] INFO  search_tactic.py:367 - Evaluating subnetwork 33/50 in loop 5 of 5\n"
     ]
    },
    {
     "name": "stdout",
     "output_type": "stream",
     "text": [
      "Test: [ 0/10]\tTime 0.583 (0.583)\tLoss 0.355 (0.355)\tAcc@1 92.20 (92.20)\tAcc@5 99.40 (99.40)\n",
      " * Acc@1 93.430 Acc@5 99.370\n"
     ]
    },
    {
     "name": "stderr",
     "output_type": "stream",
     "text": [
      "[07-10 14:05:12 MainProcess #37389] INFO  search_tactic.py:367 - Evaluating subnetwork 34/50 in loop 5 of 5\n"
     ]
    },
    {
     "name": "stdout",
     "output_type": "stream",
     "text": [
      "Test: [ 0/10]\tTime 0.567 (0.567)\tLoss 0.335 (0.335)\tAcc@1 93.00 (93.00)\tAcc@5 99.40 (99.40)\n",
      " * Acc@1 93.460 Acc@5 99.340\n"
     ]
    },
    {
     "name": "stderr",
     "output_type": "stream",
     "text": [
      "[07-10 14:05:21 MainProcess #37389] INFO  search_tactic.py:367 - Evaluating subnetwork 35/50 in loop 5 of 5\n"
     ]
    },
    {
     "name": "stdout",
     "output_type": "stream",
     "text": [
      "Test: [ 0/10]\tTime 0.604 (0.604)\tLoss 0.339 (0.339)\tAcc@1 92.60 (92.60)\tAcc@5 99.20 (99.20)\n",
      " * Acc@1 93.440 Acc@5 99.240\n"
     ]
    },
    {
     "name": "stderr",
     "output_type": "stream",
     "text": [
      "[07-10 14:05:31 MainProcess #37389] INFO  search_tactic.py:367 - Evaluating subnetwork 36/50 in loop 5 of 5\n"
     ]
    },
    {
     "name": "stdout",
     "output_type": "stream",
     "text": [
      "Test: [ 0/10]\tTime 0.596 (0.596)\tLoss 0.354 (0.354)\tAcc@1 92.20 (92.20)\tAcc@5 99.20 (99.20)\n",
      " * Acc@1 93.420 Acc@5 99.280\n"
     ]
    },
    {
     "name": "stderr",
     "output_type": "stream",
     "text": [
      "[07-10 14:05:41 MainProcess #37389] INFO  search_tactic.py:367 - Evaluating subnetwork 37/50 in loop 5 of 5\n"
     ]
    },
    {
     "name": "stdout",
     "output_type": "stream",
     "text": [
      "Test: [ 0/10]\tTime 0.618 (0.618)\tLoss 0.347 (0.347)\tAcc@1 92.70 (92.70)\tAcc@5 99.00 (99.00)\n",
      " * Acc@1 93.390 Acc@5 99.240\n"
     ]
    },
    {
     "name": "stderr",
     "output_type": "stream",
     "text": [
      "[07-10 14:05:51 MainProcess #37389] INFO  search_tactic.py:367 - Evaluating subnetwork 38/50 in loop 5 of 5\n"
     ]
    },
    {
     "name": "stdout",
     "output_type": "stream",
     "text": [
      "Test: [ 0/10]\tTime 0.582 (0.582)\tLoss 0.356 (0.356)\tAcc@1 92.30 (92.30)\tAcc@5 99.00 (99.00)\n",
      " * Acc@1 93.430 Acc@5 99.220\n"
     ]
    },
    {
     "name": "stderr",
     "output_type": "stream",
     "text": [
      "[07-10 14:06:00 MainProcess #37389] INFO  search_tactic.py:367 - Evaluating subnetwork 39/50 in loop 5 of 5\n"
     ]
    },
    {
     "name": "stdout",
     "output_type": "stream",
     "text": [
      "Test: [ 0/10]\tTime 0.632 (0.632)\tLoss 0.342 (0.342)\tAcc@1 92.80 (92.80)\tAcc@5 99.30 (99.30)\n",
      " * Acc@1 93.550 Acc@5 99.310\n"
     ]
    },
    {
     "name": "stderr",
     "output_type": "stream",
     "text": [
      "[07-10 14:06:10 MainProcess #37389] INFO  search_tactic.py:367 - Evaluating subnetwork 40/50 in loop 5 of 5\n"
     ]
    },
    {
     "name": "stdout",
     "output_type": "stream",
     "text": [
      "Test: [ 0/10]\tTime 0.583 (0.583)\tLoss 0.353 (0.353)\tAcc@1 92.60 (92.60)\tAcc@5 99.40 (99.40)\n",
      " * Acc@1 92.800 Acc@5 99.430\n"
     ]
    },
    {
     "name": "stderr",
     "output_type": "stream",
     "text": [
      "[07-10 14:06:19 MainProcess #37389] INFO  search_tactic.py:367 - Evaluating subnetwork 41/50 in loop 5 of 5\n"
     ]
    },
    {
     "name": "stdout",
     "output_type": "stream",
     "text": [
      "Test: [ 0/10]\tTime 0.633 (0.633)\tLoss 0.347 (0.347)\tAcc@1 92.50 (92.50)\tAcc@5 99.30 (99.30)\n",
      " * Acc@1 93.180 Acc@5 99.300\n"
     ]
    },
    {
     "name": "stderr",
     "output_type": "stream",
     "text": [
      "[07-10 14:06:33 MainProcess #37389] INFO  search_tactic.py:367 - Evaluating subnetwork 42/50 in loop 5 of 5\n"
     ]
    },
    {
     "name": "stdout",
     "output_type": "stream",
     "text": [
      "Test: [ 0/10]\tTime 0.560 (0.560)\tLoss 0.356 (0.356)\tAcc@1 92.60 (92.60)\tAcc@5 99.10 (99.10)\n",
      " * Acc@1 92.830 Acc@5 99.270\n"
     ]
    },
    {
     "name": "stderr",
     "output_type": "stream",
     "text": [
      "[07-10 14:06:42 MainProcess #37389] INFO  search_tactic.py:367 - Evaluating subnetwork 43/50 in loop 5 of 5\n"
     ]
    },
    {
     "name": "stdout",
     "output_type": "stream",
     "text": [
      "Test: [ 0/10]\tTime 0.602 (0.602)\tLoss 0.343 (0.343)\tAcc@1 93.00 (93.00)\tAcc@5 99.20 (99.20)\n",
      " * Acc@1 93.470 Acc@5 99.350\n"
     ]
    },
    {
     "name": "stderr",
     "output_type": "stream",
     "text": [
      "[07-10 14:06:52 MainProcess #37389] INFO  search_tactic.py:367 - Evaluating subnetwork 44/50 in loop 5 of 5\n"
     ]
    },
    {
     "name": "stdout",
     "output_type": "stream",
     "text": [
      "Test: [ 0/10]\tTime 0.607 (0.607)\tLoss 0.347 (0.347)\tAcc@1 92.50 (92.50)\tAcc@5 99.10 (99.10)\n",
      " * Acc@1 93.430 Acc@5 99.240\n"
     ]
    },
    {
     "name": "stderr",
     "output_type": "stream",
     "text": [
      "[07-10 14:07:01 MainProcess #37389] INFO  search_tactic.py:367 - Evaluating subnetwork 45/50 in loop 5 of 5\n"
     ]
    },
    {
     "name": "stdout",
     "output_type": "stream",
     "text": [
      "Test: [ 0/10]\tTime 0.582 (0.582)\tLoss 0.344 (0.344)\tAcc@1 92.70 (92.70)\tAcc@5 99.10 (99.10)\n",
      " * Acc@1 93.290 Acc@5 99.140\n"
     ]
    },
    {
     "name": "stderr",
     "output_type": "stream",
     "text": [
      "[07-10 14:07:11 MainProcess #37389] INFO  search_tactic.py:367 - Evaluating subnetwork 46/50 in loop 5 of 5\n"
     ]
    },
    {
     "name": "stdout",
     "output_type": "stream",
     "text": [
      "Test: [ 0/10]\tTime 0.593 (0.593)\tLoss 0.351 (0.351)\tAcc@1 92.30 (92.30)\tAcc@5 99.10 (99.10)\n",
      " * Acc@1 93.410 Acc@5 99.320\n"
     ]
    },
    {
     "name": "stderr",
     "output_type": "stream",
     "text": [
      "[07-10 14:07:21 MainProcess #37389] INFO  search_tactic.py:367 - Evaluating subnetwork 47/50 in loop 5 of 5\n"
     ]
    },
    {
     "name": "stdout",
     "output_type": "stream",
     "text": [
      "Test: [ 0/10]\tTime 0.602 (0.602)\tLoss 0.349 (0.349)\tAcc@1 92.20 (92.20)\tAcc@5 99.20 (99.20)\n",
      " * Acc@1 93.470 Acc@5 99.350\n"
     ]
    },
    {
     "name": "stderr",
     "output_type": "stream",
     "text": [
      "[07-10 14:07:30 MainProcess #37389] INFO  search_tactic.py:367 - Evaluating subnetwork 48/50 in loop 5 of 5\n"
     ]
    },
    {
     "name": "stdout",
     "output_type": "stream",
     "text": [
      "Test: [ 0/10]\tTime 0.635 (0.635)\tLoss 0.348 (0.348)\tAcc@1 92.40 (92.40)\tAcc@5 99.20 (99.20)\n",
      " * Acc@1 93.540 Acc@5 99.350\n"
     ]
    },
    {
     "name": "stderr",
     "output_type": "stream",
     "text": [
      "[07-10 14:07:40 MainProcess #37389] INFO  search_tactic.py:367 - Evaluating subnetwork 49/50 in loop 5 of 5\n"
     ]
    },
    {
     "name": "stdout",
     "output_type": "stream",
     "text": [
      "Test: [ 0/10]\tTime 0.602 (0.602)\tLoss 0.351 (0.351)\tAcc@1 92.40 (92.40)\tAcc@5 99.30 (99.30)\n",
      " * Acc@1 93.410 Acc@5 99.320\n"
     ]
    },
    {
     "name": "stderr",
     "output_type": "stream",
     "text": [
      "[07-10 14:07:49 MainProcess #37389] INFO  search_tactic.py:367 - Evaluating subnetwork 50/50 in loop 5 of 5\n"
     ]
    },
    {
     "name": "stdout",
     "output_type": "stream",
     "text": [
      "Test: [ 0/10]\tTime 0.589 (0.589)\tLoss 0.345 (0.345)\tAcc@1 93.10 (93.10)\tAcc@5 99.20 (99.20)\n",
      " * Acc@1 93.610 Acc@5 99.390\n"
     ]
    },
    {
     "name": "stderr",
     "output_type": "stream",
     "text": [
      "[07-10 14:08:00 MainProcess #37389] INFO  search_tactic.py:345 - Training macs predictor.\n",
      "[07-10 14:08:00 MainProcess #37389] INFO  predictor_manager.py:38 - Building dynamic predictor for macs\n",
      "[07-10 14:08:01 MainProcess #37389] INFO  encoding.py:246 - Training set length=250\n"
     ]
    },
    {
     "name": "stdout",
     "output_type": "stream",
     "text": [
      "<class 'numpy.ndarray'> [149483360 155416000 146617920 135824440 170094680 132495808 167993472\n",
      " 146776736 136530456 139849024 165578272 148014816 122450336 144706496\n",
      " 155187424 131232440 130957952 121358552 149261024 182971264 135725688\n",
      " 135642400 110506112 136215096 146253056 119942296 127610976 147374048\n",
      " 174712224 162536960 154896704 143585984 177298880 107814784 124325144\n",
      " 136489024 151172384 135475360 165484768 175552864 130767040 123315992\n",
      " 187153504 148161888 128757344 124488448 153922880 136189760 135275136\n",
      "  95862336  97202360 125031040 108278400 108278400 113442432 115430016\n",
      "  99637184  97938360 111048320 113035904 122616448 120673408 125031040\n",
      "  97202360  93218744 110920064 102650816  94924728 115836544 105168760\n",
      " 107081344 108278400 105869952 106788672 102650816  97931200 110302336\n",
      " 105615296 108857728 107827328 106066368 103373120 106788672 105059264\n",
      " 105781568 113035904 103724152 103689472 117824128 123067520 109723008\n",
      "  94924728 111048320 124579968 112289920 105869952  97177848 107391680\n",
      " 107827328 105418880  91014520 112285440 109889280 110562304  91014520\n",
      " 101050104  89142648 101050104 110994680  91735928 107193592  90030840\n",
      "  92310776 108472312 101050104  98641656 100451576  97315064  91736824\n",
      "  90604792 104207608 107939576 109715960  98043128 104207608 104036088\n",
      " 104953592 101050104 104207608 105486328  98647288  92365560  95830264\n",
      "  98641656  95226104 110248696  95226104  97634552  94980344  94071544\n",
      "  93421816  92310776  92823288 104036088  95231736  99245816 101538040\n",
      "  94627576 104207608 107193592 128913280  83854208 128913280  87011712\n",
      "  94883712  93604992 115108480 115033856 115108480 115673024 127101184\n",
      "  86514048 104057984 119340288 104057984  89178624 122580224  95736192\n",
      "  87011712  88742272  83854208 127101184  81189632  95771904  86514048\n",
      "  94883712 106189184  86514048  94883712 127101184  87504640  84347136\n",
      "  88742272  83854208  95736192 127936960 104057984  92965632 110802048\n",
      "  89671552 120768128  88742272  86021120  84347136 106189184 105336704\n",
      "  91899776  92655488 107270912 107270912 110376960  72031104  98822400\n",
      "  95841024  87855040  93609920  72243968  97398208 100415424  84611520\n",
      "  90406528  98694784  87163008  83512128  86523648  89767168  98055424\n",
      "  85250880  94249280 100415424 102616064 108600576  73716480 100204480\n",
      "  85424256 100839680  98037568 102616064 100839680  95630080  95841024\n",
      "  99693312 100054848 110376960 108600576 100054848 100204480  98037568\n",
      "  93823744  73339264  82872768  84784896  94545856 102221760  95841024\n",
      " 100204480 102221760  98037568  98037568 100204480]\n"
     ]
    },
    {
     "name": "stderr",
     "output_type": "stream",
     "text": [
      "[07-10 14:08:07 MainProcess #37389] INFO  search_tactic.py:347 - Updated self.predictor_dict[macs].\n",
      "[07-10 14:08:07 MainProcess #37389] INFO  search_tactic.py:345 - Training accuracy_top1 predictor.\n",
      "[07-10 14:08:07 MainProcess #37389] INFO  predictor_manager.py:38 - Building dynamic predictor for accuracy_top1\n",
      "[07-10 14:08:08 MainProcess #37389] INFO  encoding.py:246 - Training set length=250\n"
     ]
    },
    {
     "name": "stdout",
     "output_type": "stream",
     "text": [
      "<class 'numpy.ndarray'> [93.07     93.689995 92.93     93.079994 93.369995 93.28     93.229996\n",
      " 93.439995 93.43     93.63     93.659996 93.369995 93.049995 93.09\n",
      " 93.03     93.09     93.159996 93.13     93.299995 93.17     93.53\n",
      " 92.869995 93.119995 92.829994 93.32     93.17     92.85     93.409996\n",
      " 93.81     93.369995 93.42     93.34     93.479996 92.829994 92.92\n",
      " 93.479996 92.95     92.909996 93.619995 93.34     92.97     93.079994\n",
      " 93.5      93.21     93.39     93.06     93.159996 93.159996 93.2\n",
      " 93.06     93.159996 93.43     93.64     93.6      93.509995 93.5\n",
      " 93.11     93.27     93.619995 93.71     93.52     93.649994 93.439995\n",
      " 93.09     93.159996 93.57     93.399994 93.07     93.64     93.57\n",
      " 93.619995 93.479996 93.47     93.46     93.259995 93.18     93.6\n",
      " 93.409996 93.649994 93.61     93.32     93.28     93.45     93.24\n",
      " 93.509995 93.56     93.659996 93.35     93.59     93.57     93.71\n",
      " 93.06     93.54     93.39     93.579994 93.52     93.299995 93.43\n",
      " 93.619995 93.53     93.24     93.54     93.64     93.49     93.149994\n",
      " 93.5      93.27     93.619995 93.45     93.25     93.53     93.22\n",
      " 93.29     93.61     93.659996 93.549995 93.57     93.47     93.2\n",
      " 93.299995 93.61     93.549995 93.43     93.38     93.549995 93.56\n",
      " 93.579994 93.579994 93.53     93.57     93.579994 93.399994 93.479996\n",
      " 93.59     93.36     93.619995 93.35     93.46     93.31     93.46\n",
      " 93.43     93.159996 93.45     93.59     93.39     93.61     93.56\n",
      " 93.47     93.59     93.54     93.46     92.86     93.46     93.07\n",
      " 93.24     93.17     93.32     93.52     93.34     93.38     93.549995\n",
      " 92.979996 93.31     93.549995 93.27     93.03     93.31     93.25\n",
      " 92.979996 93.03     92.92     93.619995 92.909996 93.21     93.\n",
      " 93.17     93.31     93.04     93.24     93.56     93.11     92.939995\n",
      " 93.06     92.93     93.229996 93.479996 93.299995 93.18     93.28\n",
      " 93.11     93.27     93.049995 92.93     92.92     93.119995 93.35\n",
      " 93.1      93.119995 93.229996 93.229996 93.409996 92.79     93.36\n",
      " 93.35     93.229996 93.259995 92.7      93.399994 93.509995 93.14\n",
      " 93.02     93.159996 92.899994 93.119995 92.649994 92.89     93.14\n",
      " 93.18     93.24     93.43     93.5      93.409996 92.869995 93.38\n",
      " 92.78     93.45     93.52     93.47     93.49     93.35     93.35\n",
      " 93.43     93.43     93.46     93.439995 93.42     93.39     93.43\n",
      " 93.549995 92.799995 93.18     92.829994 93.47     93.43     93.29\n",
      " 93.409996 93.47     93.54     93.409996 93.61    ]\n"
     ]
    },
    {
     "name": "stderr",
     "output_type": "stream",
     "text": [
      "[07-10 14:08:09 MainProcess #37389] INFO  search_tactic.py:347 - Updated self.predictor_dict[accuracy_top1].\n",
      "[07-10 14:08:09 MainProcess #37389] INFO  evolutionary.py:100 - Configuring nsga2 algorithm with 2 objectives.\n",
      "[07-10 14:08:09 MainProcess #37389] INFO  evolutionary.py:334 - Running Search ...\n"
     ]
    },
    {
     "name": "stdout",
     "output_type": "stream",
     "text": [
      "...................................................................................................."
     ]
    },
    {
     "name": "stderr",
     "output_type": "stream",
     "text": [
      "[07-10 14:08:13 MainProcess #37389] INFO  evolutionary.py:350 - Success! Search Took 4.565 seconds.\n",
      "[07-10 14:08:13 MainProcess #37389] INFO  search_tactic.py:526 - Validated model architectures in file: bootstrapnas_resnet50_cifar10_linas_test_nb_1.csv\n"
     ]
    }
   ],
   "source": [
    "# `results` will contain a list of <population> best configurations found during the search;\n",
    "results = dynas.search()"
   ]
  },
  {
   "attachments": {},
   "cell_type": "markdown",
   "metadata": {},
   "source": [
    "<h3 style=\"text-align: center; background-color: rgb(36, 24, 142); color: white; border: 4px solid rgb(36, 24, 142);\n",
    "border-radius: 25px;\">Visualization of DyNAS-T search on the BootstrapNAS supernetwork\n",
    "</h3>\n",
    "\n",
    "<center><img src=\"dynast_bootstrapnas_resnet50_cifar10_example.png\" alt=\"DyNAS-T Search Results\" width=\"1000\"/></center>"
   ]
  },
  {
   "attachments": {},
   "cell_type": "markdown",
   "metadata": {},
   "source": []
  }
 ],
 "metadata": {
  "kernelspec": {
   "display_name": "bnas_new",
   "language": "python",
   "name": "python3"
  },
  "language_info": {
   "codemirror_mode": {
    "name": "ipython",
    "version": 3
   },
   "file_extension": ".py",
   "mimetype": "text/x-python",
   "name": "python",
   "nbconvert_exporter": "python",
   "pygments_lexer": "ipython3",
   "version": "3.9.16"
  }
 },
 "nbformat": 4,
 "nbformat_minor": 1
}
