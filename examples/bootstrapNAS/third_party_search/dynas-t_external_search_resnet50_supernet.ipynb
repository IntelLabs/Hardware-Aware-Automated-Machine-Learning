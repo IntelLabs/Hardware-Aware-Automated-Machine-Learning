{
 "cells": [
  {
   "attachments": {},
   "cell_type": "markdown",
   "metadata": {
    "pycharm": {
     "name": "#%%\n"
    }
   },
   "source": [
    "<h1 style=\"font-size: 22px; line-height: 100%; text-align: center; background-color: rgb(36, 24, 142); color: white; border: 4px solid rgb(36, 24, 142); border-radius: 10px;\">\n",
    "External Sub-network Search with BootstrapNAS and DyNAS-T\n",
    "</h1>\n",
    "\n",
    "This notebook demonstrates how to use an external search solution to find high-performing subnetworks in NNCF's [BootstrapNAS](https://github.com/openvinotoolkit/nncf/tree/develop/examples/experimental/torch/classification). We will use an existing super-network generated from ResNet-50.  "
   ]
  },
  {
   "attachments": {},
   "cell_type": "markdown",
   "metadata": {
    "pycharm": {
     "name": "#%% md\n"
    }
   },
   "source": [
    "<h3 style=\"text-align: center; background-color: rgb(36, 24, 142); color: white; border: 4px solid rgb(36, 24, 142);\n",
    "border-radius: 25px;\">Imports and Settings\n",
    "</h3>"
   ]
  },
  {
   "cell_type": "code",
   "execution_count": 1,
   "metadata": {
    "pycharm": {
     "name": "#%%\n"
    }
   },
   "outputs": [
    {
     "name": "stdout",
     "output_type": "stream",
     "text": [
      "Imported PyTorch and NNCF\n",
      "INFO:nncf:NNCF initialized successfully. Supported frameworks detected: torch\n",
      "Using cuda device\n"
     ]
    }
   ],
   "source": [
    "import sys\n",
    "import os\n",
    "sys.path.append('..')\n",
    "sys.path.append('/localdisk/maciej/code/dynast_bootstrapnas_integration/nncf/')\n",
    "\n",
    "from imports_bnas import * # Import NNCF, PyTorch and other required packages.\n",
    "import os\n",
    "from examples.common.sample_config import SampleConfig\n",
    "from nncf.common.initialization.batchnorm_adaptation import BatchnormAdaptationAlgorithm\n",
    "from nncf.experimental.torch.nas.bootstrapNAS.search.supernet import TrainedSuperNet\n",
    "from nncf.experimental.torch.nas.bootstrapNAS.elasticity.multi_elasticity_handler import SubnetConfig\n",
    "from nncf.experimental.torch.nas.bootstrapNAS.elasticity.elasticity_dim import ElasticityDim\n",
    "\n",
    "torch.manual_seed(0)\n",
    "device = torch.device(\"cuda\" if torch.cuda.is_available() else \"cpu\")\n",
    "print(f\"Using {device} device\")\n",
    "\n",
    "MODEL_DIR = Path(\"../../../models/supernets/cifar10/resnet50\")\n",
    "OUTPUT_DIR = Path(\"output\")\n",
    "DATA_DIR = Path(\"data\")\n",
    "BASE_MODEL_NAME = \"resnet-50\"\n",
    "\n",
    "fp32_pth_path, model_onnx_path, supernet_onnx_path, subnet_onnx_path = create_folders_demo(BASE_MODEL_NAME + '_external_search')\n"
   ]
  },
  {
   "attachments": {},
   "cell_type": "markdown",
   "metadata": {
    "pycharm": {
     "name": "#%% md\n"
    }
   },
   "source": [
    "<h3 style=\"text-align: center; background-color: rgb(36, 24, 142); color: white; border: 4px solid rgb(36, 24, 142);\n",
    "border-radius: 25px;\">Loading an existing super-network\n",
    "</h3>"
   ]
  },
  {
   "cell_type": "code",
   "execution_count": 2,
   "metadata": {
    "pycharm": {
     "name": "#%%\n"
    }
   },
   "outputs": [
    {
     "name": "stdout",
     "output_type": "stream",
     "text": [
      "../../../models/supernets/cifar10/resnet50\n"
     ]
    }
   ],
   "source": [
    "model = resnet50_cifar10()\n",
    "config = SampleConfig.from_json(os.path.join(MODEL_DIR, 'config.json'))\n",
    "config.device = device\n",
    "print(MODEL_DIR)\n",
    "supernet = TrainedSuperNet.from_checkpoint(model, config, os.path.join(MODEL_DIR, 'elasticity.pth'), os.path.join(MODEL_DIR, 'supernet_weights.pth'))"
   ]
  },
  {
   "attachments": {},
   "cell_type": "markdown",
   "metadata": {
    "pycharm": {
     "name": "#%% md\n"
    }
   },
   "source": [
    "<h3 style=\"text-align: center; background-color: rgb(36, 24, 142); color: white; border: 4px solid rgb(36, 24, 142);\n",
    "border-radius: 25px;\">Explore the Search Space\n",
    "</h3>\n",
    "\n"
   ]
  },
  {
   "cell_type": "code",
   "execution_count": 3,
   "metadata": {
    "pycharm": {
     "name": "#%%\n"
    }
   },
   "outputs": [
    {
     "data": {
      "text/plain": [
       "{'width': {0: [256, 200, 152, 128],\n",
       "  1: [512, 408, 304, 256],\n",
       "  2: [1024, 816, 608, 512],\n",
       "  3: [2048, 1632, 1224, 1024],\n",
       "  4: [64, 48, 32],\n",
       "  5: [64, 48, 32],\n",
       "  6: [64, 48, 32],\n",
       "  7: [64, 48, 32],\n",
       "  8: [64, 48, 32],\n",
       "  9: [64, 48, 32],\n",
       "  10: [64, 48, 32],\n",
       "  11: [128, 96, 72, 64],\n",
       "  12: [128, 96, 72, 64],\n",
       "  13: [128, 96, 72, 64],\n",
       "  14: [128, 96, 72, 64],\n",
       "  15: [128, 96, 72, 64],\n",
       "  16: [128, 96, 72, 64],\n",
       "  17: [128, 96, 72, 64],\n",
       "  18: [128, 96, 72, 64],\n",
       "  19: [256, 200, 152, 128],\n",
       "  20: [256, 200, 152, 128],\n",
       "  21: [256, 200, 152, 128],\n",
       "  22: [256, 200, 152, 128],\n",
       "  23: [256, 200, 152, 128],\n",
       "  24: [256, 200, 152, 128],\n",
       "  25: [256, 200, 152, 128],\n",
       "  26: [256, 200, 152, 128],\n",
       "  27: [256, 200, 152, 128],\n",
       "  28: [256, 200, 152, 128],\n",
       "  29: [256, 200, 152, 128],\n",
       "  30: [256, 200, 152, 128],\n",
       "  31: [512, 408, 304, 256],\n",
       "  32: [512, 408, 304, 256],\n",
       "  33: [512, 408, 304, 256],\n",
       "  34: [512, 408, 304, 256],\n",
       "  35: [512, 408, 304, 256],\n",
       "  36: [512, 408, 304, 256]},\n",
       " 'depth': [[0],\n",
       "  [2],\n",
       "  [4],\n",
       "  [5],\n",
       "  [0, 2],\n",
       "  [0, 4],\n",
       "  [0, 5],\n",
       "  [1, 2],\n",
       "  [2, 4],\n",
       "  [2, 5],\n",
       "  [3, 4],\n",
       "  [4, 5],\n",
       "  [0, 1, 2],\n",
       "  [0, 2, 4],\n",
       "  [0, 2, 5],\n",
       "  [0, 3, 4],\n",
       "  [0, 4, 5],\n",
       "  [1, 2, 4],\n",
       "  [1, 2, 5],\n",
       "  [2, 3, 4],\n",
       "  [2, 4, 5],\n",
       "  [3, 4, 5],\n",
       "  [0, 1, 2, 4],\n",
       "  [0, 1, 2, 5],\n",
       "  [0, 2, 3, 4],\n",
       "  [0, 2, 4, 5],\n",
       "  [0, 3, 4, 5],\n",
       "  [1, 2, 3, 4],\n",
       "  [1, 2, 4, 5],\n",
       "  [2, 3, 4, 5],\n",
       "  [0, 1, 2, 3, 4],\n",
       "  [0, 1, 2, 4, 5],\n",
       "  [0, 2, 3, 4, 5],\n",
       "  [1, 2, 3, 4, 5],\n",
       "  [0, 1, 2, 3, 4, 5],\n",
       "  []]}"
      ]
     },
     "execution_count": 3,
     "metadata": {},
     "output_type": "execute_result"
    }
   ],
   "source": [
    "supernet.get_search_space()"
   ]
  },
  {
   "attachments": {},
   "cell_type": "markdown",
   "metadata": {
    "pycharm": {
     "name": "#%% md\n"
    }
   },
   "source": [
    "<h3 style=\"text-align: center; background-color: rgb(36, 24, 142); color: white; border: 4px solid rgb(36, 24, 142);\n",
    "border-radius: 25px;\">Data Loaders for validation and batchnorm adaptation\n",
    "</h3>\n",
    "\n",
    "Note: Number of samples used for Batch Norm Adaptation might greatly influence the top1 evaluation for each subnetwork.\n",
    "`6000` is a good value for ResNet-50 CIFAR10, but it is advised to perform an ablation study for each new architecture to identify the best number of samples."
   ]
  },
  {
   "cell_type": "code",
   "execution_count": 4,
   "metadata": {
    "pycharm": {
     "name": "#%%\n"
    }
   },
   "outputs": [],
   "source": [
    "DATASET_DIR = DATA_DIR / \"cifar10\"\n",
    "\n",
    "batch_size_val = 1000\n",
    "batch_size = 64\n",
    "train_loader, val_loader = create_cifar10_dataloader(DATASET_DIR, batch_size, batch_size_val, device)\n",
    "\n",
    "bn_adapt_args = BNAdaptationInitArgs(data_loader=wrap_dataloader_for_init(train_loader), device=config.device)\n",
    "\n",
    "bn_adapt_algo_kwargs = {\n",
    "    'data_loader': train_loader,\n",
    "    'num_bn_adaptation_samples': 6000,\n",
    "    'device': 'cuda',\n",
    "}\n",
    "bn_adaptation = BatchnormAdaptationAlgorithm(**bn_adapt_algo_kwargs)"
   ]
  },
  {
   "attachments": {},
   "cell_type": "markdown",
   "metadata": {
    "pycharm": {
     "name": "#%% md\n"
    }
   },
   "source": [
    "<h3 style=\"text-align: center; background-color: rgb(36, 24, 142); color: white; border: 4px solid rgb(36, 24, 142);\n",
    "border-radius: 25px;\">Sample sub-networks to implement your own algorithm\n",
    "</h3>\n"
   ]
  },
  {
   "cell_type": "code",
   "execution_count": 5,
   "metadata": {
    "pycharm": {
     "name": "#%%\n"
    }
   },
   "outputs": [
    {
     "name": "stdout",
     "output_type": "stream",
     "text": [
      "Test: [ 0/10]\tTime 0.680 (0.680)\tLoss 0.314 (0.314)\tAcc@1 93.30 (93.30)\tAcc@5 99.00 (99.00)\n",
      " * Acc@1 93.660 Acc@5 98.990\n"
     ]
    },
    {
     "data": {
      "text/plain": [
       "tensor(93.6600, device='cuda:0')"
      ]
     },
     "execution_count": 5,
     "metadata": {},
     "output_type": "execute_result"
    }
   ],
   "source": [
    "# Implement your function to validate \n",
    "\n",
    "def acc_top1(model):\n",
    "    from bootstrapnas_utils import validate\n",
    "\n",
    "    bn_adaptation.run(model)\n",
    "\n",
    "    model.eval()\n",
    "    model.to(device)\n",
    "    model_top1_acc, _, _ = validate(model, val_loader) \n",
    "    return model_top1_acc\n",
    "\n",
    "supernet.activate_maximal_subnet()\n",
    "supernet.eval_active_subnet(acc_top1)"
   ]
  },
  {
   "cell_type": "code",
   "execution_count": 6,
   "metadata": {
    "pycharm": {
     "name": "#%%\n"
    }
   },
   "outputs": [
    {
     "name": "stdout",
     "output_type": "stream",
     "text": [
      "Test: [ 0/10]\tTime 0.567 (0.567)\tLoss 0.313 (0.313)\tAcc@1 93.40 (93.40)\tAcc@5 98.90 (98.90)\n",
      " * Acc@1 93.670 Acc@5 99.030\n"
     ]
    },
    {
     "data": {
      "text/plain": [
       "tensor(93.6700, device='cuda:0')"
      ]
     },
     "execution_count": 6,
     "metadata": {},
     "output_type": "execute_result"
    }
   ],
   "source": [
    "subnet_config = SubnetConfig()\n",
    "subnet_config[ElasticityDim.DEPTH] = [1]\n",
    "\n",
    "supernet.eval_subnet(subnet_config, acc_top1)"
   ]
  },
  {
   "cell_type": "code",
   "execution_count": 7,
   "metadata": {
    "pycharm": {
     "name": "#%%\n"
    }
   },
   "outputs": [
    {
     "data": {
      "text/plain": [
       "325.799936"
      ]
     },
     "execution_count": 7,
     "metadata": {},
     "output_type": "execute_result"
    }
   ],
   "source": [
    "supernet.activate_config(supernet.get_search_space())\n",
    "supernet.get_macs_for_active_config()"
   ]
  },
  {
   "cell_type": "code",
   "execution_count": 8,
   "metadata": {
    "pycharm": {
     "name": "#%%\n"
    }
   },
   "outputs": [
    {
     "data": {
      "text/plain": [
       "325.799936"
      ]
     },
     "execution_count": 8,
     "metadata": {},
     "output_type": "execute_result"
    }
   ],
   "source": [
    "supernet.activate_config(supernet.get_search_space())\n",
    "supernet.get_macs_for_active_config()"
   ]
  },
  {
   "cell_type": "code",
   "execution_count": 9,
   "metadata": {
    "pycharm": {
     "name": "#%%\n"
    }
   },
   "outputs": [
    {
     "data": {
      "text/plain": [
       "272.32256"
      ]
     },
     "execution_count": 9,
     "metadata": {},
     "output_type": "execute_result"
    }
   ],
   "source": [
    "subnet_config[ElasticityDim.DEPTH] = [0]\n",
    "subnet_config[ElasticityDim.WIDTH] = {2: 512}\n",
    "\n",
    "supernet.activate_config(subnet_config)\n",
    "supernet.get_macs_for_active_config()"
   ]
  },
  {
   "cell_type": "code",
   "execution_count": 10,
   "metadata": {
    "pycharm": {
     "name": "#%%\n"
    }
   },
   "outputs": [
    {
     "data": {
      "text/plain": [
       "OrderedDict([(<ElasticityDim.WIDTH: 'width'>,\n",
       "              {0: 256,\n",
       "               1: 512,\n",
       "               2: 512,\n",
       "               3: 2048,\n",
       "               4: 64,\n",
       "               5: 64,\n",
       "               6: 64,\n",
       "               7: 64,\n",
       "               8: 64,\n",
       "               9: 64,\n",
       "               10: 64,\n",
       "               11: 128,\n",
       "               12: 128,\n",
       "               13: 128,\n",
       "               14: 128,\n",
       "               15: 128,\n",
       "               16: 128,\n",
       "               17: 128,\n",
       "               18: 128,\n",
       "               19: 256,\n",
       "               20: 256,\n",
       "               21: 256,\n",
       "               22: 256,\n",
       "               23: 256,\n",
       "               24: 256,\n",
       "               25: 256,\n",
       "               26: 256,\n",
       "               27: 256,\n",
       "               28: 256,\n",
       "               29: 256,\n",
       "               30: 256,\n",
       "               31: 512,\n",
       "               32: 512,\n",
       "               33: 512,\n",
       "               34: 512,\n",
       "               35: 512,\n",
       "               36: 512}),\n",
       "             (<ElasticityDim.DEPTH: 'depth'>, [0])])"
      ]
     },
     "execution_count": 10,
     "metadata": {},
     "output_type": "execute_result"
    }
   ],
   "source": [
    "supernet.get_active_config()"
   ]
  },
  {
   "cell_type": "code",
   "execution_count": 11,
   "metadata": {
    "pycharm": {
     "name": "#%%\n"
    }
   },
   "outputs": [
    {
     "name": "stdout",
     "output_type": "stream",
     "text": [
      "Test: [ 0/10]\tTime 0.562 (0.562)\tLoss 0.329 (0.329)\tAcc@1 92.70 (92.70)\tAcc@5 98.80 (98.80)\n",
      " * Acc@1 93.740 Acc@5 98.950\n"
     ]
    },
    {
     "data": {
      "text/plain": [
       "tensor(93.7400, device='cuda:0')"
      ]
     },
     "execution_count": 11,
     "metadata": {},
     "output_type": "execute_result"
    }
   ],
   "source": [
    "supernet.eval_subnet(subnet_config, acc_top1)"
   ]
  },
  {
   "attachments": {},
   "cell_type": "markdown",
   "metadata": {
    "pycharm": {
     "name": "#%% md\n"
    }
   },
   "source": [
    "<h3 style=\"text-align: center; background-color: rgb(36, 24, 142); color: white; border: 4px solid rgb(36, 24, 142);\n",
    "border-radius: 25px;\">Search using DyNAS-t\n",
    "</h3>\n",
    "\n",
    "![DyNAS-T Logo](https://github.com/IntelLabs/DyNAS-T/blob/main/docs/images/dynast_logo.png?raw=true)\n",
    "\n",
    "DyNAS-T (Dynamic Neural Architecture Search Toolkit) is a super-network neural architecture search NAS optimization package designed for efficiently discovering optimal deep neural network (DNN) architectures for a variety of performance objectives such as accuracy, latency, multiply-and-accumulates, and model size.\n",
    "\n",
    "DyNAS-T is compatible with supernetworks created with the NNCF BootstrapNAS. The search on NNCF BootstrapNAS supernetworks can be performed in just few steps, as shown below."
   ]
  },
  {
   "cell_type": "code",
   "execution_count": 18,
   "metadata": {
    "pycharm": {
     "name": "#%%\n"
    }
   },
   "outputs": [
    {
     "name": "stderr",
     "output_type": "stream",
     "text": [
      "[07-05 11:01:23 MainProcess #63579] INFO  dynast_manager.py:51 - ========================================\n",
      "[07-05 11:01:23 MainProcess #63579] INFO  dynast_manager.py:52 - Starting Dynamic NAS Toolkit (DyNAS-T)\n",
      "[07-05 11:01:23 MainProcess #63579] INFO  dynast_manager.py:53 - ========================================\n",
      "[07-05 11:01:23 MainProcess #63579] INFO  dynast_manager.py:77 - ----------------------------------------\n",
      "[07-05 11:01:23 MainProcess #63579] INFO  dynast_manager.py:78 - DyNAS Parameter Inputs:\n",
      "[07-05 11:01:23 MainProcess #63579] INFO  dynast_manager.py:80 - results_path: bootstrapnas_resnet50_cifar10_linas_test_nb_1.csv\n",
      "[07-05 11:01:23 MainProcess #63579] INFO  dynast_manager.py:80 - num_evals: 1\n",
      "[07-05 11:01:23 MainProcess #63579] INFO  dynast_manager.py:80 - population: 1\n",
      "[07-05 11:01:23 MainProcess #63579] INFO  dynast_manager.py:80 - seed: 42\n",
      "[07-05 11:01:23 MainProcess #63579] INFO  dynast_manager.py:80 - supernet: bootstrapnas_image_classification\n",
      "[07-05 11:01:23 MainProcess #63579] INFO  dynast_manager.py:80 - measurements: ['accuracy_top1', 'macs']\n",
      "[07-05 11:01:23 MainProcess #63579] INFO  dynast_manager.py:80 - batch_size: 64\n",
      "[07-05 11:01:23 MainProcess #63579] INFO  dynast_manager.py:80 - bootstrapnas_supernetwork: <nncf.experimental.torch.nas.bootstrapNAS.search.supernet.TrainedSuperNet object at 0x7f487a26dca0>\n",
      "[07-05 11:01:23 MainProcess #63579] INFO  dynast_manager.py:80 - device: cuda\n",
      "[07-05 11:01:23 MainProcess #63579] INFO  dynast_manager.py:80 - verbose: False\n",
      "[07-05 11:01:23 MainProcess #63579] INFO  dynast_manager.py:80 - optimization_metrics: ['accuracy_top1', 'macs']\n",
      "[07-05 11:01:23 MainProcess #63579] INFO  dynast_manager.py:80 - metric_eval_fns: {'accuracy_top1': <function acc_top1 at 0x7f481cbf8a60>}\n",
      "[07-05 11:01:23 MainProcess #63579] INFO  dynast_manager.py:80 - search_tactic: random\n",
      "[07-05 11:01:23 MainProcess #63579] INFO  dynast_manager.py:81 - ----------------------------------------\n",
      "[07-05 11:01:23 MainProcess #63579] INFO  dynast_manager.py:106 - Initializing DyNAS random search algorithm object.\n",
      "[07-05 11:01:23 MainProcess #63579] INFO  search_tactic.py:176 - Results csv file header ordering will be: ['Sub-network', 'Date', 'Model Parameters', 'Latency (ms)', 'MACs', 'Top-1 Acc (%)']\n"
     ]
    },
    {
     "name": "stdout",
     "output_type": "stream",
     "text": [
      "The autoreload extension is already loaded. To reload it, use:\n",
      "  %reload_ext autoreload\n"
     ]
    }
   ],
   "source": [
    "%load_ext autoreload\n",
    "%autoreload 2\n",
    "\n",
    "from dynast.dynast_manager import DyNAS\n",
    "\n",
    "dynast_config = {\n",
    "    'results_path': 'bootstrapnas_resnet50_cifar10_linas_test_nb_1.csv',\n",
    "    'search_tactic': 'linas',\n",
    "    'num_evals': 250,\n",
    "    'population': 50,\n",
    "    'seed': 42,\n",
    "    'supernet': 'bootstrapnas_image_classification',  # this parameter works in a tangent with `bootstrapnas_supernetwork` and should be set to `bootstrapnas_image_classification` for all CNN BootstrapNAS supernetworks;\n",
    "    'batch_size': config.batch_size,\n",
    "    'bootstrapnas_supernetwork': supernet,  # pass the instance of nncf.experimental.torch.nas.bootstrapNAS.search.supernet.TrainedSuperNet to the search algorithm;\n",
    "    'device': config.device,\n",
    "    'verbose': False,\n",
    "    'optimization_metrics': ['accuracy_top1', 'macs'],  # define optimization metrics that will guide the search progression;\n",
    "    'measurements': ['accuracy_top1', 'macs'],  # define measurements that will be collected during the search; This is a superset of optimization metrics;\n",
    "    'metric_eval_fns': {\n",
    "        'accuracy_top1': acc_top1,  # register custom evaluation function;\n",
    "    }\n",
    "}\n",
    "\n",
    "dynas = DyNAS(**dynast_config)"
   ]
  },
  {
   "cell_type": "code",
   "execution_count": 20,
   "metadata": {},
   "outputs": [
    {
     "name": "stderr",
     "output_type": "stream",
     "text": [
      "[07-05 11:02:41 MainProcess #63579] INFO  evaluation_interface.py:49 - (Re)Formatted results file: bootstrapnas_resnet50_cifar10_linas_test_nb_1.csv\n",
      "[07-05 11:02:41 MainProcess #63579] INFO  evaluation_interface.py:50 - csv file header: ['Sub-network', 'Date', 'Model Parameters', 'Latency (ms)', 'MACs', 'Top-1 Acc (%)']\n",
      "[07-05 11:02:41 MainProcess #63579] INFO  search_tactic.py:728 - Evaluating subnetwork 1/1\n"
     ]
    },
    {
     "name": "stderr",
     "output_type": "stream",
     "text": [
      "[07-05 11:02:42 MainProcess #63579] INFO  bootstrapnas_interface.py:84 - Using custom accuracy_top1 metric evaluation function.\n"
     ]
    },
    {
     "name": "stdout",
     "output_type": "stream",
     "text": [
      "Test: [ 0/10]\tTime 0.550 (0.550)\tLoss 0.329 (0.329)\tAcc@1 93.20 (93.20)\tAcc@5 99.20 (99.20)\n"
     ]
    },
    {
     "name": "stderr",
     "output_type": "stream",
     "text": [
      "[07-05 11:02:50 MainProcess #63579] INFO  bootstrapnas_interface.py:108 - Validation accuracy: 93.72%\n"
     ]
    },
    {
     "name": "stdout",
     "output_type": "stream",
     "text": [
      " * Acc@1 93.720 Acc@5 99.360\n"
     ]
    },
    {
     "name": "stderr",
     "output_type": "stream",
     "text": [
      "[07-05 11:02:51 MainProcess #63579] INFO  __init__.py:76 - > Calling get_macs\n",
      "[07-05 11:02:52 MainProcess #63579] INFO  __init__.py:81 - > Finished get_macs in 1.1748 s\n"
     ]
    },
    {
     "data": {
      "text/plain": [
       "[OrderedDict([(<ElasticityDim.WIDTH: 'width'>,\n",
       "               {0: 152,\n",
       "                1: 512,\n",
       "                2: 512,\n",
       "                3: 2048,\n",
       "                4: 48,\n",
       "                5: 64,\n",
       "                6: 32,\n",
       "                7: 48,\n",
       "                8: 32,\n",
       "                9: 32,\n",
       "                10: 48,\n",
       "                11: 96,\n",
       "                12: 128,\n",
       "                13: 128,\n",
       "                14: 96,\n",
       "                15: 72,\n",
       "                16: 128,\n",
       "                17: 96,\n",
       "                18: 128,\n",
       "                19: 128,\n",
       "                20: 152,\n",
       "                21: 128,\n",
       "                22: 152,\n",
       "                23: 200,\n",
       "                24: 152,\n",
       "                25: 152,\n",
       "                26: 200,\n",
       "                27: 152,\n",
       "                28: 256,\n",
       "                29: 200,\n",
       "                30: 200,\n",
       "                31: 408,\n",
       "                32: 256,\n",
       "                33: 256,\n",
       "                34: 304,\n",
       "                35: 408,\n",
       "                36: 304}),\n",
       "              (<ElasticityDim.DEPTH: 'depth'>, [5])])]"
      ]
     },
     "execution_count": 20,
     "metadata": {},
     "output_type": "execute_result"
    }
   ],
   "source": [
    "\n",
    "dynas.search()"
   ]
  },
  {
   "cell_type": "code",
   "execution_count": null,
   "metadata": {},
   "outputs": [],
   "source": []
  }
 ],
 "metadata": {
  "kernelspec": {
   "display_name": "bnas_new",
   "language": "python",
   "name": "python3"
  },
  "language_info": {
   "codemirror_mode": {
    "name": "ipython",
    "version": 3
   },
   "file_extension": ".py",
   "mimetype": "text/x-python",
   "name": "python",
   "nbconvert_exporter": "python",
   "pygments_lexer": "ipython3",
   "version": "3.9.16"
  }
 },
 "nbformat": 4,
 "nbformat_minor": 1
}
