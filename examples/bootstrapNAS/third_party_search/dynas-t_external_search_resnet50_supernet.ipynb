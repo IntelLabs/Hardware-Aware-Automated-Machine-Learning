{
 "cells": [
  {
   "cell_type": "code",
   "execution_count": null,
   "metadata": {},
   "outputs": [],
   "source": [
    "# Copyright 2023 Intel Corporation\n",
    "# SPDX-License-Identifier: MIT"
   ]
  },
  {
   "cell_type": "markdown",
   "metadata": {
    "pycharm": {
     "name": "#%%\n"
    }
   },
   "source": [
    "<h1 style=\"font-size: 22px; line-height: 100%; text-align: center; background-color: rgb(36, 24, 142); color: white; border: 4px solid rgb(36, 24, 142); border-radius: 10px;\">\n",
    "External Sub-network Search with BootstrapNAS and DyNAS-T\n",
    "</h1>\n",
    "\n",
    "This notebook demonstrates how to use an external search solution to find high-performing subnetworks in NNCF's [BootstrapNAS](https://github.com/openvinotoolkit/nncf/tree/develop/examples/experimental/torch/classification). We will use an existing super-network generated from ResNet-50.  "
   ]
  },
  {
   "cell_type": "markdown",
   "metadata": {
    "pycharm": {
     "name": "#%% md\n"
    }
   },
   "source": [
    "<h3 style=\"text-align: center; background-color: rgb(36, 24, 142); color: white; border: 4px solid rgb(36, 24, 142);\n",
    "border-radius: 25px;\">Imports and Settings\n",
    "</h3>"
   ]
  },
  {
   "cell_type": "code",
   "execution_count": null,
   "metadata": {
    "pycharm": {
     "name": "#%%\n"
    }
   },
   "outputs": [],
   "source": [
    "import sys\n",
    "import os\n",
    "sys.path.append('..')\n",
    "sys.path.append('path-to-nncf')\n",
    "\n",
    "from imports_bnas import * # Import NNCF, PyTorch and other required packages.\n",
    "import os\n",
    "from examples.common.sample_config import SampleConfig\n",
    "from nncf.common.initialization.batchnorm_adaptation import BatchnormAdaptationAlgorithm\n",
    "from nncf.experimental.torch.nas.bootstrapNAS.search.supernet import TrainedSuperNet\n",
    "from nncf.experimental.torch.nas.bootstrapNAS.elasticity.multi_elasticity_handler import SubnetConfig\n",
    "from nncf.experimental.torch.nas.bootstrapNAS.elasticity.elasticity_dim import ElasticityDim\n",
    "\n",
    "torch.manual_seed(0)\n",
    "device = torch.device(\"cuda\" if torch.cuda.is_available() else \"cpu\")\n",
    "print(f\"Using {device} device\")\n",
    "\n",
    "MODEL_DIR = Path(\"../../../models/supernets/cifar10/resnet50\")\n",
    "OUTPUT_DIR = Path(\"output\")\n",
    "DATA_DIR = Path(\"data\")\n",
    "BASE_MODEL_NAME = \"resnet-50\"\n",
    "\n",
    "fp32_pth_path, model_onnx_path, supernet_onnx_path, subnet_onnx_path = create_folders_demo(BASE_MODEL_NAME + '_external_search')\n"
   ]
  },
  {
   "cell_type": "markdown",
   "metadata": {
    "pycharm": {
     "name": "#%% md\n"
    }
   },
   "source": [
    "<h3 style=\"text-align: center; background-color: rgb(36, 24, 142); color: white; border: 4px solid rgb(36, 24, 142);\n",
    "border-radius: 25px;\">Loading an existing super-network\n",
    "</h3>"
   ]
  },
  {
   "cell_type": "code",
   "execution_count": null,
   "metadata": {
    "pycharm": {
     "name": "#%%\n"
    }
   },
   "outputs": [],
   "source": [
    "model = resnet50_cifar10()\n",
    "config = SampleConfig.from_json(os.path.join(MODEL_DIR, 'config.json'))\n",
    "config.device = device\n",
    "print(MODEL_DIR)\n",
    "supernet = TrainedSuperNet.from_checkpoint(model, config, os.path.join(MODEL_DIR, 'elasticity.pth'), os.path.join(MODEL_DIR, 'supernet_weights.pth'))"
   ]
  },
  {
   "cell_type": "markdown",
   "metadata": {
    "pycharm": {
     "name": "#%% md\n"
    }
   },
   "source": [
    "<h3 style=\"text-align: center; background-color: rgb(36, 24, 142); color: white; border: 4px solid rgb(36, 24, 142);\n",
    "border-radius: 25px;\">Explore the Search Space\n",
    "</h3>\n",
    "\n"
   ]
  },
  {
   "cell_type": "code",
   "execution_count": null,
   "metadata": {
    "pycharm": {
     "name": "#%%\n"
    }
   },
   "outputs": [],
   "source": [
    "supernet.get_search_space()"
   ]
  },
  {
   "cell_type": "markdown",
   "metadata": {
    "pycharm": {
     "name": "#%% md\n"
    }
   },
   "source": [
    "<h3 style=\"text-align: center; background-color: rgb(36, 24, 142); color: white; border: 4px solid rgb(36, 24, 142);\n",
    "border-radius: 25px;\">Data Loaders for validation and batchnorm adaptation\n",
    "</h3>\n",
    "\n",
    "Note: Number of samples used for Batch Norm Adaptation might greatly influence the top1 evaluation for each subnetwork.\n",
    "`6000` is a good value for ResNet-50 CIFAR10, but it is advised to perform an ablation study for each new architecture to identify the best number of samples."
   ]
  },
  {
   "cell_type": "code",
   "execution_count": null,
   "metadata": {
    "pycharm": {
     "name": "#%%\n"
    }
   },
   "outputs": [],
   "source": [
    "DATASET_DIR = DATA_DIR / \"cifar10\"\n",
    "\n",
    "batch_size_val = 1000\n",
    "batch_size = 64\n",
    "train_loader, val_loader = create_cifar10_dataloader(DATASET_DIR, batch_size, batch_size_val, device)\n",
    "\n",
    "bn_adapt_args = BNAdaptationInitArgs(data_loader=wrap_dataloader_for_init(train_loader), device=config.device)\n",
    "\n",
    "bn_adapt_algo_kwargs = {\n",
    "    'data_loader': train_loader,\n",
    "    'num_bn_adaptation_samples': 6000,\n",
    "    'device': 'cuda',\n",
    "}\n",
    "bn_adaptation = BatchnormAdaptationAlgorithm(**bn_adapt_algo_kwargs)"
   ]
  },
  {
   "cell_type": "markdown",
   "metadata": {
    "pycharm": {
     "name": "#%% md\n"
    }
   },
   "source": [
    "<h3 style=\"text-align: center; background-color: rgb(36, 24, 142); color: white; border: 4px solid rgb(36, 24, 142);\n",
    "border-radius: 25px;\">Sample sub-networks to implement your own algorithm\n",
    "</h3>\n"
   ]
  },
  {
   "cell_type": "code",
   "execution_count": null,
   "metadata": {
    "pycharm": {
     "name": "#%%\n"
    }
   },
   "outputs": [],
   "source": [
    "# Implement your function to validate \n",
    "\n",
    "def acc_top1(model):\n",
    "    from bootstrapnas_utils import validate\n",
    "\n",
    "    bn_adaptation.run(model)\n",
    "\n",
    "    model.eval()\n",
    "    model.to(device)\n",
    "    model_top1_acc, _, _ = validate(model, val_loader)\n",
    "    return model_top1_acc.detach().cpu().numpy()\n",
    "\n",
    "supernet.activate_maximal_subnet()\n",
    "supernet.eval_active_subnet(acc_top1)"
   ]
  },
  {
   "cell_type": "code",
   "execution_count": null,
   "metadata": {
    "pycharm": {
     "name": "#%%\n"
    }
   },
   "outputs": [],
   "source": [
    "subnet_config = SubnetConfig()\n",
    "subnet_config[ElasticityDim.DEPTH] = [1]\n",
    "\n",
    "supernet.eval_subnet(subnet_config, acc_top1)"
   ]
  },
  {
   "cell_type": "code",
   "execution_count": null,
   "metadata": {
    "pycharm": {
     "name": "#%%\n"
    }
   },
   "outputs": [],
   "source": [
    "supernet.activate_config(supernet.get_search_space())\n",
    "supernet.get_macs_for_active_config()"
   ]
  },
  {
   "cell_type": "code",
   "execution_count": null,
   "metadata": {
    "pycharm": {
     "name": "#%%\n"
    }
   },
   "outputs": [],
   "source": [
    "supernet.activate_config(supernet.get_search_space())\n",
    "supernet.get_macs_for_active_config()"
   ]
  },
  {
   "cell_type": "code",
   "execution_count": null,
   "metadata": {
    "pycharm": {
     "name": "#%%\n"
    }
   },
   "outputs": [],
   "source": [
    "subnet_config[ElasticityDim.DEPTH] = [0]\n",
    "subnet_config[ElasticityDim.WIDTH] = {2: 512}\n",
    "\n",
    "supernet.activate_config(subnet_config)\n",
    "supernet.get_macs_for_active_config()"
   ]
  },
  {
   "cell_type": "code",
   "execution_count": null,
   "metadata": {
    "pycharm": {
     "name": "#%%\n"
    }
   },
   "outputs": [],
   "source": [
    "supernet.get_active_config()"
   ]
  },
  {
   "cell_type": "code",
   "execution_count": null,
   "metadata": {
    "pycharm": {
     "name": "#%%\n"
    }
   },
   "outputs": [],
   "source": [
    "supernet.eval_subnet(subnet_config, acc_top1)"
   ]
  },
  {
   "cell_type": "markdown",
   "metadata": {
    "pycharm": {
     "name": "#%% md\n"
    }
   },
   "source": [
    "<h3 style=\"text-align: center; background-color: rgb(36, 24, 142); color: white; border: 4px solid rgb(36, 24, 142);\n",
    "border-radius: 25px;\">Search using DyNAS-T\n",
    "</h3>\n",
    "\n",
    "![DyNAS-T Logo](https://github.com/IntelLabs/DyNAS-T/blob/main/docs/images/dynast_logo.png?raw=true)\n",
    "\n",
    "DyNAS-T (Dynamic Neural Architecture Search Toolkit) is a super-network neural architecture search NAS optimization package designed for efficiently discovering optimal deep neural network (DNN) architectures for a variety of performance objectives such as accuracy, latency, multiply-and-accumulates, and model size.\n",
    "\n",
    "To install DyNAS-T you can either install it from PyPI or from source:\n",
    "\n",
    "1. PyPI: In your active Python environment install DyNAS-T with:\n",
    "    ```bash\n",
    "    pip install dynast\n",
    "    ```\n",
    "1. Source: Clone DyNAS-T repository with:\n",
    "    ```bash\n",
    "    git clone https://github.com/IntelLabs/DyNAS-T.git\n",
    "    ``` \n",
    "    and from the cloned repository run\n",
    "    ```bash\n",
    "    pip install -e .\n",
    "    ```\n",
    "\n",
    "DyNAS-T is compatible with supernetworks created with the NNCF BootstrapNAS. The search on NNCF BootstrapNAS supernetworks can be performed in just few steps, as shown below."
   ]
  },
  {
   "cell_type": "code",
   "execution_count": null,
   "metadata": {
    "pycharm": {
     "name": "#%%\n"
    }
   },
   "outputs": [],
   "source": [
    "from dynast.dynast_manager import DyNAS\n",
    "\n",
    "dynast_config = {\n",
    "    'results_path': 'bootstrapnas_resnet50_cifar10_linas_test_nb_1.csv',\n",
    "    'num_evals': 250,\n",
    "    'population': 50,\n",
    "    'seed': 42,\n",
    "    'supernet': 'bootstrapnas_image_classification',  # this parameter works in a tangent with `bootstrapnas_supernetwork` and should be set to `bootstrapnas_image_classification` for all CNN BootstrapNAS supernetworks;\n",
    "    'batch_size': config.batch_size,\n",
    "    'bootstrapnas_supernetwork': supernet,  # pass the instance of nncf.experimental.torch.nas.bootstrapNAS.search.supernet.TrainedSuperNet to the search algorithm;\n",
    "    'device': config.device,\n",
    "    'verbose': False,\n",
    "    'optimization_metrics': ['accuracy_top1', 'macs'],  # define optimization metrics that will guide the search progression;\n",
    "    'measurements': ['accuracy_top1', 'macs'],  # define measurements that will be collected during the search; This is a superset of optimization metrics;\n",
    "    'metric_eval_fns': {\n",
    "        'accuracy_top1': acc_top1,  # register custom evaluation function;\n",
    "    }\n",
    "}\n",
    "\n",
    "dynas = DyNAS(**dynast_config)"
   ]
  },
  {
   "cell_type": "code",
   "execution_count": null,
   "metadata": {
    "pycharm": {
     "name": "#%%\n"
    }
   },
   "outputs": [],
   "source": [
    "# `results` will contain a list of <population> best configurations found during the search;\n",
    "results = dynas.search()"
   ]
  },
  {
   "cell_type": "markdown",
   "metadata": {
    "pycharm": {
     "name": "#%% md\n"
    }
   },
   "source": [
    "<h3 style=\"text-align: center; background-color: rgb(36, 24, 142); color: white; border: 4px solid rgb(36, 24, 142);\n",
    "border-radius: 25px;\">Visualization of DyNAS-T search on the BootstrapNAS supernetwork\n",
    "</h3>\n",
    "\n",
    "<center><img src=\"dynast_bootstrapnas_resnet50_cifar10_example.png\" alt=\"DyNAS-T Search Results\" width=\"1000\"/></center>"
   ]
  },
  {
   "cell_type": "markdown",
   "metadata": {
    "pycharm": {
     "name": "#%% md\n"
    }
   },
   "source": []
  },
  {
   "cell_type": "code",
   "execution_count": null,
   "metadata": {},
   "outputs": [],
   "source": [
    "# `results` will contain a list of <population> best configurations found during the search;\n",
    "results = dynas.search()"
   ]
  },
  {
   "cell_type": "markdown",
   "metadata": {},
   "source": [
    "<h3 style=\"text-align: center; background-color: rgb(36, 24, 142); color: white; border: 4px solid rgb(36, 24, 142);\n",
    "border-radius: 25px;\">Visualization of DyNAS-T search on the BootstrapNAS supernetwork\n",
    "</h3>\n",
    "\n",
    "<center><img src=\"dynast_bootstrapnas_resnet50_cifar10_example.png\" alt=\"DyNAS-T Search Results\" width=\"1000\"/></center>"
   ]
  },
  {
   "cell_type": "markdown",
   "metadata": {},
   "source": []
  }
 ],
 "metadata": {
  "kernelspec": {
   "display_name": "Python 3 (ipykernel)",
   "language": "python",
   "name": "python3"
  },
  "language_info": {
   "codemirror_mode": {
    "name": "ipython",
    "version": 3
   },
   "file_extension": ".py",
   "mimetype": "text/x-python",
   "name": "python",
   "nbconvert_exporter": "python",
   "pygments_lexer": "ipython3",
   "version": "3.11.4"
  }
 },
 "nbformat": 4,
 "nbformat_minor": 1
}
